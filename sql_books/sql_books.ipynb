{
 "cells": [
  {
   "cell_type": "markdown",
   "id": "8f3fe212",
   "metadata": {
    "toc": true
   },
   "source": [
    "<h1>Table of Contents<span class=\"tocSkip\"></span></h1>\n",
    "<div class=\"toc\"><ul class=\"toc-item\"><li><span><a href=\"#Задание-1\" data-toc-modified-id=\"Задание-1-1\"><span class=\"toc-item-num\">1&nbsp;&nbsp;</span>Задание 1</a></span></li><li><span><a href=\"#Задание-2\" data-toc-modified-id=\"Задание-2-2\"><span class=\"toc-item-num\">2&nbsp;&nbsp;</span>Задание 2</a></span></li><li><span><a href=\"#Задание-3\" data-toc-modified-id=\"Задание-3-3\"><span class=\"toc-item-num\">3&nbsp;&nbsp;</span>Задание 3</a></span></li><li><span><a href=\"#Задание-4\" data-toc-modified-id=\"Задание-4-4\"><span class=\"toc-item-num\">4&nbsp;&nbsp;</span>Задание 4</a></span></li><li><span><a href=\"#Задание-5\" data-toc-modified-id=\"Задание-5-5\"><span class=\"toc-item-num\">5&nbsp;&nbsp;</span>Задание 5</a></span></li></ul></div>"
   ]
  },
  {
   "cell_type": "markdown",
   "id": "271ad594",
   "metadata": {},
   "source": [
    "# Cервис для чтения книг по подписке"
   ]
  },
  {
   "cell_type": "markdown",
   "id": "042e8edf",
   "metadata": {},
   "source": [
    "**Описание**\n",
    "\n",
    "Компания владеет крупным сервисом для чтения книг по подписке.<br>\n",
    "Имеем информацию о книгах, издательствах, авторах, а также пользовательские обзоры книг.<br>\n",
    "*Таблицы:*\n",
    "- `books` - данные о книгах\n",
    "- `authors` - данные об авторах\n",
    "- `publishers` - данные об издательствах\n",
    "- `ratings` - данные о пользовательских оценках книг\n",
    "- `reviews` - данные о пользовательских обзорах на книги\n"
   ]
  },
  {
   "cell_type": "code",
   "execution_count": 1,
   "id": "6203571c",
   "metadata": {},
   "outputs": [],
   "source": [
    "# импортируем библиотеки\n",
    "import pandas as pd\n",
    "from sqlalchemy import create_engine"
   ]
  },
  {
   "cell_type": "code",
   "execution_count": 2,
   "id": "3c179520",
   "metadata": {},
   "outputs": [],
   "source": [
    "# Здесь в виде словаря db_config были прописаны параметры подключения, \n",
    "# которые не могут быть отображены в открытом доступе\n",
    "# имя пользователя, пароль, host, порт подключения, название базы данных\n",
    "\n",
    "connection_string = 'postgresql://{}:{}@{}:{}/{}'.format(db_config['user'],\n",
    " db_config['pwd'],\n",
    " db_config['host'],\n",
    " db_config['port'],\n",
    " db_config['db'])\n",
    "\n",
    "# сохраняем коннектор\n",
    "engine = create_engine(connection_string, connect_args={'sslmode':'require'})"
   ]
  },
  {
   "cell_type": "code",
   "execution_count": 3,
   "id": "6190b35e",
   "metadata": {},
   "outputs": [],
   "source": [
    "# функция для выполнения запроса и возвращению результата\n",
    "def query_result(query):\n",
    "    return pd.io.sql.read_sql(query, con = engine)"
   ]
  },
  {
   "cell_type": "code",
   "execution_count": 4,
   "id": "051ef2a4",
   "metadata": {},
   "outputs": [
    {
     "data": {
      "text/html": [
       "<div>\n",
       "<style scoped>\n",
       "    .dataframe tbody tr th:only-of-type {\n",
       "        vertical-align: middle;\n",
       "    }\n",
       "\n",
       "    .dataframe tbody tr th {\n",
       "        vertical-align: top;\n",
       "    }\n",
       "\n",
       "    .dataframe thead th {\n",
       "        text-align: right;\n",
       "    }\n",
       "</style>\n",
       "<table border=\"1\" class=\"dataframe\">\n",
       "  <thead>\n",
       "    <tr style=\"text-align: right;\">\n",
       "      <th></th>\n",
       "      <th>book_id</th>\n",
       "      <th>author_id</th>\n",
       "      <th>title</th>\n",
       "      <th>num_pages</th>\n",
       "      <th>publication_date</th>\n",
       "      <th>publisher_id</th>\n",
       "    </tr>\n",
       "  </thead>\n",
       "  <tbody>\n",
       "    <tr>\n",
       "      <th>0</th>\n",
       "      <td>1</td>\n",
       "      <td>546</td>\n",
       "      <td>'Salem's Lot</td>\n",
       "      <td>594</td>\n",
       "      <td>2005-11-01</td>\n",
       "      <td>93</td>\n",
       "    </tr>\n",
       "    <tr>\n",
       "      <th>1</th>\n",
       "      <td>2</td>\n",
       "      <td>465</td>\n",
       "      <td>1 000 Places to See Before You Die</td>\n",
       "      <td>992</td>\n",
       "      <td>2003-05-22</td>\n",
       "      <td>336</td>\n",
       "    </tr>\n",
       "  </tbody>\n",
       "</table>\n",
       "</div>"
      ],
      "text/plain": [
       "   book_id  author_id                               title  num_pages  \\\n",
       "0        1        546                        'Salem's Lot        594   \n",
       "1        2        465  1 000 Places to See Before You Die        992   \n",
       "\n",
       "  publication_date  publisher_id  \n",
       "0       2005-11-01            93  \n",
       "1       2003-05-22           336  "
      ]
     },
     "metadata": {},
     "output_type": "display_data"
    },
    {
     "data": {
      "text/html": [
       "<div>\n",
       "<style scoped>\n",
       "    .dataframe tbody tr th:only-of-type {\n",
       "        vertical-align: middle;\n",
       "    }\n",
       "\n",
       "    .dataframe tbody tr th {\n",
       "        vertical-align: top;\n",
       "    }\n",
       "\n",
       "    .dataframe thead th {\n",
       "        text-align: right;\n",
       "    }\n",
       "</style>\n",
       "<table border=\"1\" class=\"dataframe\">\n",
       "  <thead>\n",
       "    <tr style=\"text-align: right;\">\n",
       "      <th></th>\n",
       "      <th>author_id</th>\n",
       "      <th>author</th>\n",
       "    </tr>\n",
       "  </thead>\n",
       "  <tbody>\n",
       "    <tr>\n",
       "      <th>0</th>\n",
       "      <td>1</td>\n",
       "      <td>A.S. Byatt</td>\n",
       "    </tr>\n",
       "    <tr>\n",
       "      <th>1</th>\n",
       "      <td>2</td>\n",
       "      <td>Aesop/Laura Harris/Laura Gibbs</td>\n",
       "    </tr>\n",
       "  </tbody>\n",
       "</table>\n",
       "</div>"
      ],
      "text/plain": [
       "   author_id                          author\n",
       "0          1                      A.S. Byatt\n",
       "1          2  Aesop/Laura Harris/Laura Gibbs"
      ]
     },
     "metadata": {},
     "output_type": "display_data"
    },
    {
     "data": {
      "text/html": [
       "<div>\n",
       "<style scoped>\n",
       "    .dataframe tbody tr th:only-of-type {\n",
       "        vertical-align: middle;\n",
       "    }\n",
       "\n",
       "    .dataframe tbody tr th {\n",
       "        vertical-align: top;\n",
       "    }\n",
       "\n",
       "    .dataframe thead th {\n",
       "        text-align: right;\n",
       "    }\n",
       "</style>\n",
       "<table border=\"1\" class=\"dataframe\">\n",
       "  <thead>\n",
       "    <tr style=\"text-align: right;\">\n",
       "      <th></th>\n",
       "      <th>publisher_id</th>\n",
       "      <th>publisher</th>\n",
       "    </tr>\n",
       "  </thead>\n",
       "  <tbody>\n",
       "    <tr>\n",
       "      <th>0</th>\n",
       "      <td>1</td>\n",
       "      <td>Ace</td>\n",
       "    </tr>\n",
       "    <tr>\n",
       "      <th>1</th>\n",
       "      <td>2</td>\n",
       "      <td>Ace Book</td>\n",
       "    </tr>\n",
       "  </tbody>\n",
       "</table>\n",
       "</div>"
      ],
      "text/plain": [
       "   publisher_id publisher\n",
       "0             1       Ace\n",
       "1             2  Ace Book"
      ]
     },
     "metadata": {},
     "output_type": "display_data"
    },
    {
     "data": {
      "text/html": [
       "<div>\n",
       "<style scoped>\n",
       "    .dataframe tbody tr th:only-of-type {\n",
       "        vertical-align: middle;\n",
       "    }\n",
       "\n",
       "    .dataframe tbody tr th {\n",
       "        vertical-align: top;\n",
       "    }\n",
       "\n",
       "    .dataframe thead th {\n",
       "        text-align: right;\n",
       "    }\n",
       "</style>\n",
       "<table border=\"1\" class=\"dataframe\">\n",
       "  <thead>\n",
       "    <tr style=\"text-align: right;\">\n",
       "      <th></th>\n",
       "      <th>rating_id</th>\n",
       "      <th>book_id</th>\n",
       "      <th>username</th>\n",
       "      <th>rating</th>\n",
       "    </tr>\n",
       "  </thead>\n",
       "  <tbody>\n",
       "    <tr>\n",
       "      <th>0</th>\n",
       "      <td>1</td>\n",
       "      <td>1</td>\n",
       "      <td>ryanfranco</td>\n",
       "      <td>4</td>\n",
       "    </tr>\n",
       "    <tr>\n",
       "      <th>1</th>\n",
       "      <td>2</td>\n",
       "      <td>1</td>\n",
       "      <td>grantpatricia</td>\n",
       "      <td>2</td>\n",
       "    </tr>\n",
       "  </tbody>\n",
       "</table>\n",
       "</div>"
      ],
      "text/plain": [
       "   rating_id  book_id       username  rating\n",
       "0          1        1     ryanfranco       4\n",
       "1          2        1  grantpatricia       2"
      ]
     },
     "metadata": {},
     "output_type": "display_data"
    },
    {
     "data": {
      "text/html": [
       "<div>\n",
       "<style scoped>\n",
       "    .dataframe tbody tr th:only-of-type {\n",
       "        vertical-align: middle;\n",
       "    }\n",
       "\n",
       "    .dataframe tbody tr th {\n",
       "        vertical-align: top;\n",
       "    }\n",
       "\n",
       "    .dataframe thead th {\n",
       "        text-align: right;\n",
       "    }\n",
       "</style>\n",
       "<table border=\"1\" class=\"dataframe\">\n",
       "  <thead>\n",
       "    <tr style=\"text-align: right;\">\n",
       "      <th></th>\n",
       "      <th>review_id</th>\n",
       "      <th>book_id</th>\n",
       "      <th>username</th>\n",
       "      <th>text</th>\n",
       "    </tr>\n",
       "  </thead>\n",
       "  <tbody>\n",
       "    <tr>\n",
       "      <th>0</th>\n",
       "      <td>1</td>\n",
       "      <td>1</td>\n",
       "      <td>brandtandrea</td>\n",
       "      <td>Mention society tell send professor analysis. ...</td>\n",
       "    </tr>\n",
       "    <tr>\n",
       "      <th>1</th>\n",
       "      <td>2</td>\n",
       "      <td>1</td>\n",
       "      <td>ryanfranco</td>\n",
       "      <td>Foot glass pretty audience hit themselves. Amo...</td>\n",
       "    </tr>\n",
       "  </tbody>\n",
       "</table>\n",
       "</div>"
      ],
      "text/plain": [
       "   review_id  book_id      username  \\\n",
       "0          1        1  brandtandrea   \n",
       "1          2        1    ryanfranco   \n",
       "\n",
       "                                                text  \n",
       "0  Mention society tell send professor analysis. ...  \n",
       "1  Foot glass pretty audience hit themselves. Amo...  "
      ]
     },
     "metadata": {},
     "output_type": "display_data"
    }
   ],
   "source": [
    "# выведем первые строки в таблицах\n",
    "query_1 = ''' SELECT * \n",
    "                FROM books\n",
    "               LIMIT 2\n",
    "          '''\n",
    "query_2 = ''' SELECT * \n",
    "                FROM authors\n",
    "               LIMIT 2\n",
    "          '''\n",
    "query_3 = ''' SELECT * \n",
    "                FROM publishers\n",
    "               LIMIT 2\n",
    "          '''\n",
    "query_4 = ''' SELECT * \n",
    "                FROM ratings\n",
    "               LIMIT 2\n",
    "          '''\n",
    "query_5 = ''' SELECT * \n",
    "                FROM reviews\n",
    "               LIMIT 2\n",
    "          '''\n",
    "\n",
    "for x in [query_1, query_2, query_3, query_4, query_5]:\n",
    "    display(query_result(x))"
   ]
  },
  {
   "cell_type": "markdown",
   "id": "97185e59",
   "metadata": {},
   "source": [
    "### Задание 1"
   ]
  },
  {
   "cell_type": "markdown",
   "id": "bee23e56",
   "metadata": {},
   "source": [
    "Cколько книг вышло после 1 января 2000 года"
   ]
  },
  {
   "cell_type": "code",
   "execution_count": 6,
   "id": "01f75469",
   "metadata": {},
   "outputs": [
    {
     "data": {
      "text/html": [
       "<div>\n",
       "<style scoped>\n",
       "    .dataframe tbody tr th:only-of-type {\n",
       "        vertical-align: middle;\n",
       "    }\n",
       "\n",
       "    .dataframe tbody tr th {\n",
       "        vertical-align: top;\n",
       "    }\n",
       "\n",
       "    .dataframe thead th {\n",
       "        text-align: right;\n",
       "    }\n",
       "</style>\n",
       "<table border=\"1\" class=\"dataframe\">\n",
       "  <thead>\n",
       "    <tr style=\"text-align: right;\">\n",
       "      <th></th>\n",
       "      <th>count</th>\n",
       "    </tr>\n",
       "  </thead>\n",
       "  <tbody>\n",
       "    <tr>\n",
       "      <th>0</th>\n",
       "      <td>819</td>\n",
       "    </tr>\n",
       "  </tbody>\n",
       "</table>\n",
       "</div>"
      ],
      "text/plain": [
       "   count\n",
       "0    819"
      ]
     },
     "execution_count": 6,
     "metadata": {},
     "output_type": "execute_result"
    }
   ],
   "source": [
    "# DATE_TRUNC используем для сравнения даты с желаемой\n",
    "query_1 = ''' SELECT COUNT(book_id)\n",
    "                FROM books\n",
    "               WHERE DATE_TRUNC('day', publication_date) > '2000-01-01';\n",
    "          '''\n",
    "query_result(query_1)"
   ]
  },
  {
   "cell_type": "markdown",
   "id": "c2a97bcb",
   "metadata": {},
   "source": [
    "После 1 января 200 года вышло 819 книг"
   ]
  },
  {
   "cell_type": "markdown",
   "id": "4ad31717",
   "metadata": {},
   "source": [
    "### Задание 2"
   ]
  },
  {
   "cell_type": "markdown",
   "id": "8b269f36",
   "metadata": {},
   "source": [
    "Количество обзоров и средняя оценка для каждой книги "
   ]
  },
  {
   "cell_type": "code",
   "execution_count": 7,
   "id": "2eebb9d2",
   "metadata": {},
   "outputs": [
    {
     "data": {
      "text/html": [
       "<div>\n",
       "<style scoped>\n",
       "    .dataframe tbody tr th:only-of-type {\n",
       "        vertical-align: middle;\n",
       "    }\n",
       "\n",
       "    .dataframe tbody tr th {\n",
       "        vertical-align: top;\n",
       "    }\n",
       "\n",
       "    .dataframe thead th {\n",
       "        text-align: right;\n",
       "    }\n",
       "</style>\n",
       "<table border=\"1\" class=\"dataframe\">\n",
       "  <thead>\n",
       "    <tr style=\"text-align: right;\">\n",
       "      <th></th>\n",
       "      <th>title</th>\n",
       "      <th>count</th>\n",
       "      <th>round</th>\n",
       "    </tr>\n",
       "  </thead>\n",
       "  <tbody>\n",
       "    <tr>\n",
       "      <th>0</th>\n",
       "      <td>'Salem's Lot</td>\n",
       "      <td>2.0</td>\n",
       "      <td>3.67</td>\n",
       "    </tr>\n",
       "    <tr>\n",
       "      <th>1</th>\n",
       "      <td>1 000 Places to See Before You Die</td>\n",
       "      <td>1.0</td>\n",
       "      <td>2.50</td>\n",
       "    </tr>\n",
       "    <tr>\n",
       "      <th>2</th>\n",
       "      <td>13 Little Blue Envelopes (Little Blue Envelope...</td>\n",
       "      <td>3.0</td>\n",
       "      <td>4.67</td>\n",
       "    </tr>\n",
       "    <tr>\n",
       "      <th>3</th>\n",
       "      <td>1491: New Revelations of the Americas Before C...</td>\n",
       "      <td>2.0</td>\n",
       "      <td>4.50</td>\n",
       "    </tr>\n",
       "    <tr>\n",
       "      <th>4</th>\n",
       "      <td>1776</td>\n",
       "      <td>4.0</td>\n",
       "      <td>4.00</td>\n",
       "    </tr>\n",
       "    <tr>\n",
       "      <th>...</th>\n",
       "      <td>...</td>\n",
       "      <td>...</td>\n",
       "      <td>...</td>\n",
       "    </tr>\n",
       "    <tr>\n",
       "      <th>995</th>\n",
       "      <td>Wyrd Sisters (Discworld  #6; Witches #2)</td>\n",
       "      <td>3.0</td>\n",
       "      <td>3.67</td>\n",
       "    </tr>\n",
       "    <tr>\n",
       "      <th>996</th>\n",
       "      <td>Xenocide (Ender's Saga  #3)</td>\n",
       "      <td>3.0</td>\n",
       "      <td>3.40</td>\n",
       "    </tr>\n",
       "    <tr>\n",
       "      <th>997</th>\n",
       "      <td>Year of Wonders</td>\n",
       "      <td>4.0</td>\n",
       "      <td>3.20</td>\n",
       "    </tr>\n",
       "    <tr>\n",
       "      <th>998</th>\n",
       "      <td>You Suck (A Love Story  #2)</td>\n",
       "      <td>2.0</td>\n",
       "      <td>4.50</td>\n",
       "    </tr>\n",
       "    <tr>\n",
       "      <th>999</th>\n",
       "      <td>Zen and the Art of Motorcycle Maintenance: An ...</td>\n",
       "      <td>4.0</td>\n",
       "      <td>3.83</td>\n",
       "    </tr>\n",
       "  </tbody>\n",
       "</table>\n",
       "<p>1000 rows × 3 columns</p>\n",
       "</div>"
      ],
      "text/plain": [
       "                                                 title  count  round\n",
       "0                                         'Salem's Lot    2.0   3.67\n",
       "1                   1 000 Places to See Before You Die    1.0   2.50\n",
       "2    13 Little Blue Envelopes (Little Blue Envelope...    3.0   4.67\n",
       "3    1491: New Revelations of the Americas Before C...    2.0   4.50\n",
       "4                                                 1776    4.0   4.00\n",
       "..                                                 ...    ...    ...\n",
       "995           Wyrd Sisters (Discworld  #6; Witches #2)    3.0   3.67\n",
       "996                        Xenocide (Ender's Saga  #3)    3.0   3.40\n",
       "997                                    Year of Wonders    4.0   3.20\n",
       "998                        You Suck (A Love Story  #2)    2.0   4.50\n",
       "999  Zen and the Art of Motorcycle Maintenance: An ...    4.0   3.83\n",
       "\n",
       "[1000 rows x 3 columns]"
      ]
     },
     "execution_count": 7,
     "metadata": {},
     "output_type": "execute_result"
    }
   ],
   "source": [
    "# С помощью подзапросов в разделе WITH посчитаем отдельно количестов обзоров для каждой книги и среднюю оценку\n",
    "# Объединим эти таблицы по столбцу title и выведем интересующие нас показатели\n",
    "# среднюю оценку округляем для удобства до 2 знаков - ROUND(AVG(rating),2)\n",
    "query_2 = ''' WITH\n",
    "              title_count AS (\n",
    "                  SELECT b.book_id,\n",
    "                         b.title,\n",
    "                         COUNT(review_id)\n",
    "                    FROM reviews AS re\n",
    "                    LEFT JOIN books AS b ON re.book_id = b.book_id\n",
    "                   GROUP BY b.book_id\n",
    "              ),\n",
    "              title_avg AS (\n",
    "                  SELECT b.book_id,\n",
    "                         b.title,\n",
    "                         ROUND(AVG(ra.rating),2)\n",
    "                    FROM ratings AS ra\n",
    "                    LEFT JOIN books AS b ON ra.book_id = b.book_id\n",
    "                   GROUP BY b.book_id\n",
    "              )\n",
    "              \n",
    "              SELECT t_c.title,\n",
    "                     t_c.count,\n",
    "                     t_a.round\n",
    "                FROM title_avg AS t_a\n",
    "                LEFT JOIN title_count AS t_c ON t_a.book_id = t_c.book_id;\n",
    "          '''\n",
    "query_result(query_2)"
   ]
  },
  {
   "cell_type": "markdown",
   "id": "13f1dc0e",
   "metadata": {},
   "source": [
    "Вывели все 1000 книг количеством обзоров и средней оценкой. Для 6 книг отсутвуют обзоры, у таких книг отсутствует количество обзоров, а есть только оценка."
   ]
  },
  {
   "cell_type": "code",
   "execution_count": 8,
   "id": "e1840356",
   "metadata": {},
   "outputs": [
    {
     "data": {
      "text/html": [
       "<div>\n",
       "<style scoped>\n",
       "    .dataframe tbody tr th:only-of-type {\n",
       "        vertical-align: middle;\n",
       "    }\n",
       "\n",
       "    .dataframe tbody tr th {\n",
       "        vertical-align: top;\n",
       "    }\n",
       "\n",
       "    .dataframe thead th {\n",
       "        text-align: right;\n",
       "    }\n",
       "</style>\n",
       "<table border=\"1\" class=\"dataframe\">\n",
       "  <thead>\n",
       "    <tr style=\"text-align: right;\">\n",
       "      <th></th>\n",
       "      <th>book_id</th>\n",
       "      <th>title</th>\n",
       "      <th>count</th>\n",
       "    </tr>\n",
       "  </thead>\n",
       "  <tbody>\n",
       "    <tr>\n",
       "      <th>0</th>\n",
       "      <td>652</td>\n",
       "      <td>The Body in the Library (Miss Marple  #3)</td>\n",
       "      <td>2</td>\n",
       "    </tr>\n",
       "    <tr>\n",
       "      <th>1</th>\n",
       "      <td>273</td>\n",
       "      <td>Galápagos</td>\n",
       "      <td>2</td>\n",
       "    </tr>\n",
       "    <tr>\n",
       "      <th>2</th>\n",
       "      <td>51</td>\n",
       "      <td>A Tree Grows in Brooklyn</td>\n",
       "      <td>5</td>\n",
       "    </tr>\n",
       "    <tr>\n",
       "      <th>3</th>\n",
       "      <td>951</td>\n",
       "      <td>Undaunted Courage: The Pioneering First Missio...</td>\n",
       "      <td>2</td>\n",
       "    </tr>\n",
       "    <tr>\n",
       "      <th>4</th>\n",
       "      <td>839</td>\n",
       "      <td>The Prophet</td>\n",
       "      <td>4</td>\n",
       "    </tr>\n",
       "    <tr>\n",
       "      <th>...</th>\n",
       "      <td>...</td>\n",
       "      <td>...</td>\n",
       "      <td>...</td>\n",
       "    </tr>\n",
       "    <tr>\n",
       "      <th>989</th>\n",
       "      <td>64</td>\n",
       "      <td>Alice in Wonderland</td>\n",
       "      <td>4</td>\n",
       "    </tr>\n",
       "    <tr>\n",
       "      <th>990</th>\n",
       "      <td>55</td>\n",
       "      <td>A Woman of Substance (Emma Harte Saga #1)</td>\n",
       "      <td>2</td>\n",
       "    </tr>\n",
       "    <tr>\n",
       "      <th>991</th>\n",
       "      <td>148</td>\n",
       "      <td>Christine</td>\n",
       "      <td>3</td>\n",
       "    </tr>\n",
       "    <tr>\n",
       "      <th>992</th>\n",
       "      <td>790</td>\n",
       "      <td>The Magicians' Guild (Black Magician Trilogy  #1)</td>\n",
       "      <td>2</td>\n",
       "    </tr>\n",
       "    <tr>\n",
       "      <th>993</th>\n",
       "      <td>828</td>\n",
       "      <td>The Plot Against America</td>\n",
       "      <td>2</td>\n",
       "    </tr>\n",
       "  </tbody>\n",
       "</table>\n",
       "<p>994 rows × 3 columns</p>\n",
       "</div>"
      ],
      "text/plain": [
       "     book_id                                              title  count\n",
       "0        652          The Body in the Library (Miss Marple  #3)      2\n",
       "1        273                                          Galápagos      2\n",
       "2         51                           A Tree Grows in Brooklyn      5\n",
       "3        951  Undaunted Courage: The Pioneering First Missio...      2\n",
       "4        839                                        The Prophet      4\n",
       "..       ...                                                ...    ...\n",
       "989       64                                Alice in Wonderland      4\n",
       "990       55          A Woman of Substance (Emma Harte Saga #1)      2\n",
       "991      148                                          Christine      3\n",
       "992      790  The Magicians' Guild (Black Magician Trilogy  #1)      2\n",
       "993      828                           The Plot Against America      2\n",
       "\n",
       "[994 rows x 3 columns]"
      ]
     },
     "execution_count": 8,
     "metadata": {},
     "output_type": "execute_result"
    }
   ],
   "source": [
    "# проверка подзапроса с количеством обзоров\n",
    "query_2_1 = '''SELECT b.book_id,\n",
    "                      b.title,\n",
    "                      COUNT(review_id)\n",
    "                 FROM reviews AS re\n",
    "                 LEFT JOIN books AS b ON re.book_id = b.book_id\n",
    "                GROUP BY b.book_id;\n",
    "          '''\n",
    "query_result(query_2_1)"
   ]
  },
  {
   "cell_type": "code",
   "execution_count": 9,
   "id": "96a15718",
   "metadata": {
    "scrolled": false
   },
   "outputs": [
    {
     "data": {
      "text/html": [
       "<div>\n",
       "<style scoped>\n",
       "    .dataframe tbody tr th:only-of-type {\n",
       "        vertical-align: middle;\n",
       "    }\n",
       "\n",
       "    .dataframe tbody tr th {\n",
       "        vertical-align: top;\n",
       "    }\n",
       "\n",
       "    .dataframe thead th {\n",
       "        text-align: right;\n",
       "    }\n",
       "</style>\n",
       "<table border=\"1\" class=\"dataframe\">\n",
       "  <thead>\n",
       "    <tr style=\"text-align: right;\">\n",
       "      <th></th>\n",
       "      <th>count</th>\n",
       "    </tr>\n",
       "  </thead>\n",
       "  <tbody>\n",
       "    <tr>\n",
       "      <th>0</th>\n",
       "      <td>2</td>\n",
       "    </tr>\n",
       "    <tr>\n",
       "      <th>1</th>\n",
       "      <td>2</td>\n",
       "    </tr>\n",
       "    <tr>\n",
       "      <th>2</th>\n",
       "      <td>5</td>\n",
       "    </tr>\n",
       "    <tr>\n",
       "      <th>3</th>\n",
       "      <td>2</td>\n",
       "    </tr>\n",
       "    <tr>\n",
       "      <th>4</th>\n",
       "      <td>4</td>\n",
       "    </tr>\n",
       "    <tr>\n",
       "      <th>...</th>\n",
       "      <td>...</td>\n",
       "    </tr>\n",
       "    <tr>\n",
       "      <th>989</th>\n",
       "      <td>4</td>\n",
       "    </tr>\n",
       "    <tr>\n",
       "      <th>990</th>\n",
       "      <td>2</td>\n",
       "    </tr>\n",
       "    <tr>\n",
       "      <th>991</th>\n",
       "      <td>3</td>\n",
       "    </tr>\n",
       "    <tr>\n",
       "      <th>992</th>\n",
       "      <td>2</td>\n",
       "    </tr>\n",
       "    <tr>\n",
       "      <th>993</th>\n",
       "      <td>2</td>\n",
       "    </tr>\n",
       "  </tbody>\n",
       "</table>\n",
       "<p>994 rows × 1 columns</p>\n",
       "</div>"
      ],
      "text/plain": [
       "     count\n",
       "0        2\n",
       "1        2\n",
       "2        5\n",
       "3        2\n",
       "4        4\n",
       "..     ...\n",
       "989      4\n",
       "990      2\n",
       "991      3\n",
       "992      2\n",
       "993      2\n",
       "\n",
       "[994 rows x 1 columns]"
      ]
     },
     "execution_count": 9,
     "metadata": {},
     "output_type": "execute_result"
    }
   ],
   "source": [
    "# вывод всех книг для которых есть обзоры и количество этих обзоров\n",
    "query_2_2 = '''SELECT COUNT(review_id)\n",
    "               FROM reviews\n",
    "               GROUP BY book_id;\n",
    "            '''\n",
    "query_result(query_2_2)"
   ]
  },
  {
   "cell_type": "code",
   "execution_count": 10,
   "id": "eb93299f",
   "metadata": {},
   "outputs": [
    {
     "data": {
      "text/html": [
       "<div>\n",
       "<style scoped>\n",
       "    .dataframe tbody tr th:only-of-type {\n",
       "        vertical-align: middle;\n",
       "    }\n",
       "\n",
       "    .dataframe tbody tr th {\n",
       "        vertical-align: top;\n",
       "    }\n",
       "\n",
       "    .dataframe thead th {\n",
       "        text-align: right;\n",
       "    }\n",
       "</style>\n",
       "<table border=\"1\" class=\"dataframe\">\n",
       "  <thead>\n",
       "    <tr style=\"text-align: right;\">\n",
       "      <th></th>\n",
       "      <th>book_id</th>\n",
       "      <th>title</th>\n",
       "      <th>round</th>\n",
       "    </tr>\n",
       "  </thead>\n",
       "  <tbody>\n",
       "    <tr>\n",
       "      <th>0</th>\n",
       "      <td>652</td>\n",
       "      <td>The Body in the Library (Miss Marple  #3)</td>\n",
       "      <td>4.50</td>\n",
       "    </tr>\n",
       "    <tr>\n",
       "      <th>1</th>\n",
       "      <td>273</td>\n",
       "      <td>Galápagos</td>\n",
       "      <td>4.50</td>\n",
       "    </tr>\n",
       "    <tr>\n",
       "      <th>2</th>\n",
       "      <td>51</td>\n",
       "      <td>A Tree Grows in Brooklyn</td>\n",
       "      <td>4.25</td>\n",
       "    </tr>\n",
       "    <tr>\n",
       "      <th>3</th>\n",
       "      <td>951</td>\n",
       "      <td>Undaunted Courage: The Pioneering First Missio...</td>\n",
       "      <td>4.00</td>\n",
       "    </tr>\n",
       "    <tr>\n",
       "      <th>4</th>\n",
       "      <td>839</td>\n",
       "      <td>The Prophet</td>\n",
       "      <td>4.29</td>\n",
       "    </tr>\n",
       "    <tr>\n",
       "      <th>...</th>\n",
       "      <td>...</td>\n",
       "      <td>...</td>\n",
       "      <td>...</td>\n",
       "    </tr>\n",
       "    <tr>\n",
       "      <th>995</th>\n",
       "      <td>64</td>\n",
       "      <td>Alice in Wonderland</td>\n",
       "      <td>4.23</td>\n",
       "    </tr>\n",
       "    <tr>\n",
       "      <th>996</th>\n",
       "      <td>55</td>\n",
       "      <td>A Woman of Substance (Emma Harte Saga #1)</td>\n",
       "      <td>5.00</td>\n",
       "    </tr>\n",
       "    <tr>\n",
       "      <th>997</th>\n",
       "      <td>148</td>\n",
       "      <td>Christine</td>\n",
       "      <td>3.43</td>\n",
       "    </tr>\n",
       "    <tr>\n",
       "      <th>998</th>\n",
       "      <td>790</td>\n",
       "      <td>The Magicians' Guild (Black Magician Trilogy  #1)</td>\n",
       "      <td>3.50</td>\n",
       "    </tr>\n",
       "    <tr>\n",
       "      <th>999</th>\n",
       "      <td>828</td>\n",
       "      <td>The Plot Against America</td>\n",
       "      <td>3.00</td>\n",
       "    </tr>\n",
       "  </tbody>\n",
       "</table>\n",
       "<p>1000 rows × 3 columns</p>\n",
       "</div>"
      ],
      "text/plain": [
       "     book_id                                              title  round\n",
       "0        652          The Body in the Library (Miss Marple  #3)   4.50\n",
       "1        273                                          Galápagos   4.50\n",
       "2         51                           A Tree Grows in Brooklyn   4.25\n",
       "3        951  Undaunted Courage: The Pioneering First Missio...   4.00\n",
       "4        839                                        The Prophet   4.29\n",
       "..       ...                                                ...    ...\n",
       "995       64                                Alice in Wonderland   4.23\n",
       "996       55          A Woman of Substance (Emma Harte Saga #1)   5.00\n",
       "997      148                                          Christine   3.43\n",
       "998      790  The Magicians' Guild (Black Magician Trilogy  #1)   3.50\n",
       "999      828                           The Plot Against America   3.00\n",
       "\n",
       "[1000 rows x 3 columns]"
      ]
     },
     "execution_count": 10,
     "metadata": {},
     "output_type": "execute_result"
    }
   ],
   "source": [
    "# проверка подзапроса со средней оценкой\n",
    "query_2_3 = ''' SELECT b.book_id,\n",
    "                       b.title,\n",
    "                       ROUND(AVG(ra.rating),2)\n",
    "                  FROM ratings AS ra\n",
    "                  LEFT JOIN books AS b ON ra.book_id = b.book_id\n",
    "                 GROUP BY b.book_id;\n",
    "          '''\n",
    "query_result(query_2_3)"
   ]
  },
  {
   "cell_type": "markdown",
   "id": "96e1e7ab",
   "metadata": {},
   "source": [
    "### Задание 3"
   ]
  },
  {
   "cell_type": "markdown",
   "id": "916a35ea",
   "metadata": {},
   "source": [
    "Определение издательства, которое выпустило наибольшее число книг толще 50 страниц"
   ]
  },
  {
   "cell_type": "code",
   "execution_count": 11,
   "id": "bb6e5c41",
   "metadata": {},
   "outputs": [
    {
     "data": {
      "text/html": [
       "<div>\n",
       "<style scoped>\n",
       "    .dataframe tbody tr th:only-of-type {\n",
       "        vertical-align: middle;\n",
       "    }\n",
       "\n",
       "    .dataframe tbody tr th {\n",
       "        vertical-align: top;\n",
       "    }\n",
       "\n",
       "    .dataframe thead th {\n",
       "        text-align: right;\n",
       "    }\n",
       "</style>\n",
       "<table border=\"1\" class=\"dataframe\">\n",
       "  <thead>\n",
       "    <tr style=\"text-align: right;\">\n",
       "      <th></th>\n",
       "      <th>publisher</th>\n",
       "      <th>count</th>\n",
       "    </tr>\n",
       "  </thead>\n",
       "  <tbody>\n",
       "    <tr>\n",
       "      <th>0</th>\n",
       "      <td>Penguin Books</td>\n",
       "      <td>42</td>\n",
       "    </tr>\n",
       "  </tbody>\n",
       "</table>\n",
       "</div>"
      ],
      "text/plain": [
       "       publisher  count\n",
       "0  Penguin Books     42"
      ]
     },
     "execution_count": 11,
     "metadata": {},
     "output_type": "execute_result"
    }
   ],
   "source": [
    "# Присоеденим к таблице с книгами таблицу с издательствами\n",
    "# b.num_pages > 50 - исключаем книги меньше чем с 50 страницами\n",
    "# Группируем таблицу по издательствам и считаем для каждого количество книг\n",
    "# Сортируем по убыванию количества книг и оставляем только верхнее значение(LIMIT 1)\n",
    "query_3 = ''' SELECT p.publisher,\n",
    "                     COUNT(b.book_id)\n",
    "                FROM books AS b\n",
    "                LEFT JOIN publishers AS p ON b.publisher_id = p.publisher_id\n",
    "               WHERE b.num_pages > 50\n",
    "               GROUP BY p.publisher\n",
    "               ORDER BY count DESC\n",
    "               LIMIT 1;\n",
    "          '''\n",
    "query_result(query_3)"
   ]
  },
  {
   "cell_type": "markdown",
   "id": "d32990a0",
   "metadata": {},
   "source": [
    "Таким издательством является Penguin Books, оно выпустило 42 книги, толще 50 страниц."
   ]
  },
  {
   "cell_type": "markdown",
   "id": "7b0f610d",
   "metadata": {},
   "source": [
    "### Задание 4"
   ]
  },
  {
   "cell_type": "markdown",
   "id": "37de4d83",
   "metadata": {},
   "source": [
    "Определение автора с самой высокой средней оценкой книг — учитываются только книги с 50 и более оценками"
   ]
  },
  {
   "cell_type": "code",
   "execution_count": 12,
   "id": "7c2bda19",
   "metadata": {},
   "outputs": [
    {
     "data": {
      "text/html": [
       "<div>\n",
       "<style scoped>\n",
       "    .dataframe tbody tr th:only-of-type {\n",
       "        vertical-align: middle;\n",
       "    }\n",
       "\n",
       "    .dataframe tbody tr th {\n",
       "        vertical-align: top;\n",
       "    }\n",
       "\n",
       "    .dataframe thead th {\n",
       "        text-align: right;\n",
       "    }\n",
       "</style>\n",
       "<table border=\"1\" class=\"dataframe\">\n",
       "  <thead>\n",
       "    <tr style=\"text-align: right;\">\n",
       "      <th></th>\n",
       "      <th>author</th>\n",
       "      <th>round</th>\n",
       "    </tr>\n",
       "  </thead>\n",
       "  <tbody>\n",
       "    <tr>\n",
       "      <th>0</th>\n",
       "      <td>J.K. Rowling/Mary GrandPré</td>\n",
       "      <td>4.29</td>\n",
       "    </tr>\n",
       "  </tbody>\n",
       "</table>\n",
       "</div>"
      ],
      "text/plain": [
       "                       author  round\n",
       "0  J.K. Rowling/Mary GrandPré   4.29"
      ]
     },
     "execution_count": 12,
     "metadata": {},
     "output_type": "execute_result"
    }
   ],
   "source": [
    "# Объединяем таблицы с авторами, книгами и рейтингами\n",
    "# отфильтруем книги используя подзапрос с 50 и более оценками\n",
    "# сортируем и оставляем верхнее значение\n",
    "query_4_1 = ''' SELECT a.author,\n",
    "                       ROUND(AVG(ra.rating),2)\n",
    "                  FROM authors AS a\n",
    "                  LEFT JOIN books AS b ON a.author_id = b.author_id\n",
    "                  LEFT JOIN ratings AS ra ON b.book_id = ra.book_id\n",
    "                 WHERE b.book_id IN (SELECT book_id\n",
    "                                       FROM ratings\n",
    "                                      GROUP BY book_id\n",
    "                                     HAVING COUNT(rating_id)>50)\n",
    "                 GROUP BY a.author\n",
    "                 ORDER BY round DESC\n",
    "                 LIMIT 1;\n",
    "            '''\n",
    "query_result(query_4_1)"
   ]
  },
  {
   "cell_type": "code",
   "execution_count": 13,
   "id": "1835b0cb",
   "metadata": {},
   "outputs": [
    {
     "data": {
      "text/html": [
       "<div>\n",
       "<style scoped>\n",
       "    .dataframe tbody tr th:only-of-type {\n",
       "        vertical-align: middle;\n",
       "    }\n",
       "\n",
       "    .dataframe tbody tr th {\n",
       "        vertical-align: top;\n",
       "    }\n",
       "\n",
       "    .dataframe thead th {\n",
       "        text-align: right;\n",
       "    }\n",
       "</style>\n",
       "<table border=\"1\" class=\"dataframe\">\n",
       "  <thead>\n",
       "    <tr style=\"text-align: right;\">\n",
       "      <th></th>\n",
       "      <th>book_id</th>\n",
       "    </tr>\n",
       "  </thead>\n",
       "  <tbody>\n",
       "    <tr>\n",
       "      <th>0</th>\n",
       "      <td>75</td>\n",
       "    </tr>\n",
       "    <tr>\n",
       "      <th>1</th>\n",
       "      <td>750</td>\n",
       "    </tr>\n",
       "    <tr>\n",
       "      <th>2</th>\n",
       "      <td>545</td>\n",
       "    </tr>\n",
       "    <tr>\n",
       "      <th>3</th>\n",
       "      <td>948</td>\n",
       "    </tr>\n",
       "    <tr>\n",
       "      <th>4</th>\n",
       "      <td>488</td>\n",
       "    </tr>\n",
       "    <tr>\n",
       "      <th>5</th>\n",
       "      <td>696</td>\n",
       "    </tr>\n",
       "    <tr>\n",
       "      <th>6</th>\n",
       "      <td>722</td>\n",
       "    </tr>\n",
       "    <tr>\n",
       "      <th>7</th>\n",
       "      <td>627</td>\n",
       "    </tr>\n",
       "    <tr>\n",
       "      <th>8</th>\n",
       "      <td>733</td>\n",
       "    </tr>\n",
       "    <tr>\n",
       "      <th>9</th>\n",
       "      <td>779</td>\n",
       "    </tr>\n",
       "    <tr>\n",
       "      <th>10</th>\n",
       "      <td>405</td>\n",
       "    </tr>\n",
       "    <tr>\n",
       "      <th>11</th>\n",
       "      <td>302</td>\n",
       "    </tr>\n",
       "    <tr>\n",
       "      <th>12</th>\n",
       "      <td>673</td>\n",
       "    </tr>\n",
       "    <tr>\n",
       "      <th>13</th>\n",
       "      <td>300</td>\n",
       "    </tr>\n",
       "    <tr>\n",
       "      <th>14</th>\n",
       "      <td>299</td>\n",
       "    </tr>\n",
       "    <tr>\n",
       "      <th>15</th>\n",
       "      <td>301</td>\n",
       "    </tr>\n",
       "    <tr>\n",
       "      <th>16</th>\n",
       "      <td>399</td>\n",
       "    </tr>\n",
       "    <tr>\n",
       "      <th>17</th>\n",
       "      <td>79</td>\n",
       "    </tr>\n",
       "    <tr>\n",
       "      <th>18</th>\n",
       "      <td>656</td>\n",
       "    </tr>\n",
       "  </tbody>\n",
       "</table>\n",
       "</div>"
      ],
      "text/plain": [
       "    book_id\n",
       "0        75\n",
       "1       750\n",
       "2       545\n",
       "3       948\n",
       "4       488\n",
       "5       696\n",
       "6       722\n",
       "7       627\n",
       "8       733\n",
       "9       779\n",
       "10      405\n",
       "11      302\n",
       "12      673\n",
       "13      300\n",
       "14      299\n",
       "15      301\n",
       "16      399\n",
       "17       79\n",
       "18      656"
      ]
     },
     "execution_count": 13,
     "metadata": {},
     "output_type": "execute_result"
    }
   ],
   "source": [
    "# проверка подзапроса\n",
    "query_4_2 = ''' SELECT book_id\n",
    "                  FROM ratings\n",
    "                 GROUP BY book_id\n",
    "                HAVING COUNT(rating_id) > 50;\n",
    "          '''\n",
    "query_result(query_4_2)"
   ]
  },
  {
   "cell_type": "markdown",
   "id": "bbdfd1f0",
   "metadata": {},
   "source": [
    "У нас есть два автора с одинаковой средней оценкой - это J.K. Rowling и Mary GrandPré"
   ]
  },
  {
   "cell_type": "markdown",
   "id": "ad8bb415",
   "metadata": {},
   "source": [
    "### Задание 5"
   ]
  },
  {
   "cell_type": "markdown",
   "id": "34eb5a12",
   "metadata": {},
   "source": [
    "Подсчет среднего количества обзоров от пользователей, которые поставили больше 50 оценок."
   ]
  },
  {
   "cell_type": "code",
   "execution_count": 14,
   "id": "1f209d3c",
   "metadata": {},
   "outputs": [
    {
     "data": {
      "text/html": [
       "<div>\n",
       "<style scoped>\n",
       "    .dataframe tbody tr th:only-of-type {\n",
       "        vertical-align: middle;\n",
       "    }\n",
       "\n",
       "    .dataframe tbody tr th {\n",
       "        vertical-align: top;\n",
       "    }\n",
       "\n",
       "    .dataframe thead th {\n",
       "        text-align: right;\n",
       "    }\n",
       "</style>\n",
       "<table border=\"1\" class=\"dataframe\">\n",
       "  <thead>\n",
       "    <tr style=\"text-align: right;\">\n",
       "      <th></th>\n",
       "      <th>round</th>\n",
       "    </tr>\n",
       "  </thead>\n",
       "  <tbody>\n",
       "    <tr>\n",
       "      <th>0</th>\n",
       "      <td>24.33</td>\n",
       "    </tr>\n",
       "  </tbody>\n",
       "</table>\n",
       "</div>"
      ],
      "text/plain": [
       "   round\n",
       "0  24.33"
      ]
     },
     "execution_count": 14,
     "metadata": {},
     "output_type": "execute_result"
    }
   ],
   "source": [
    "# сначала создадим список из пользователей, которые поставили больше 50 оценок - это будет первый подзапрос\n",
    "# далее для этих пользователей посчитаем количество сделанных обзоров - это будет второй подзапрос\n",
    "# теперь осталось просто посчитать среднее значение количества обзоров\n",
    "query_5 = ''' SELECT ROUND(AVG(count),2)\n",
    "                FROM (SELECT re.username,\n",
    "                             COUNT(re.review_id)\n",
    "                        FROM reviews AS re\n",
    "                       WHERE re.username IN (SELECT ra.username\n",
    "                                               FROM ratings AS ra\n",
    "                                              GROUP BY ra.username\n",
    "                                             HAVING COUNT(ra.rating_id)>50)\n",
    "                       GROUP BY re.username) AS user_count;\n",
    "          '''\n",
    "query_result(query_5)"
   ]
  },
  {
   "cell_type": "markdown",
   "id": "f30bd11a",
   "metadata": {},
   "source": [
    "Пользователи, поставившие больше 50 оценок, в среднем делают порядка 24 обзоров на книги."
   ]
  },
  {
   "cell_type": "code",
   "execution_count": 15,
   "id": "36c8181e",
   "metadata": {},
   "outputs": [
    {
     "data": {
      "text/html": [
       "<div>\n",
       "<style scoped>\n",
       "    .dataframe tbody tr th:only-of-type {\n",
       "        vertical-align: middle;\n",
       "    }\n",
       "\n",
       "    .dataframe tbody tr th {\n",
       "        vertical-align: top;\n",
       "    }\n",
       "\n",
       "    .dataframe thead th {\n",
       "        text-align: right;\n",
       "    }\n",
       "</style>\n",
       "<table border=\"1\" class=\"dataframe\">\n",
       "  <thead>\n",
       "    <tr style=\"text-align: right;\">\n",
       "      <th></th>\n",
       "      <th>username</th>\n",
       "    </tr>\n",
       "  </thead>\n",
       "  <tbody>\n",
       "    <tr>\n",
       "      <th>0</th>\n",
       "      <td>sfitzgerald</td>\n",
       "    </tr>\n",
       "    <tr>\n",
       "      <th>1</th>\n",
       "      <td>jennifermiller</td>\n",
       "    </tr>\n",
       "    <tr>\n",
       "      <th>2</th>\n",
       "      <td>xdavis</td>\n",
       "    </tr>\n",
       "    <tr>\n",
       "      <th>3</th>\n",
       "      <td>paul88</td>\n",
       "    </tr>\n",
       "    <tr>\n",
       "      <th>4</th>\n",
       "      <td>martinadam</td>\n",
       "    </tr>\n",
       "    <tr>\n",
       "      <th>5</th>\n",
       "      <td>richard89</td>\n",
       "    </tr>\n",
       "  </tbody>\n",
       "</table>\n",
       "</div>"
      ],
      "text/plain": [
       "         username\n",
       "0     sfitzgerald\n",
       "1  jennifermiller\n",
       "2          xdavis\n",
       "3          paul88\n",
       "4      martinadam\n",
       "5       richard89"
      ]
     },
     "execution_count": 15,
     "metadata": {},
     "output_type": "execute_result"
    }
   ],
   "source": [
    "# результаты первого подзапроса\n",
    "query_5_1 = \n",
    "''' \n",
    "    SELECT ra.username\n",
    "      FROM ratings AS ra\n",
    "     GROUP BY ra.username\n",
    "    HAVING COUNT(ra.rating_id) > 50;\n",
    "'''\n",
    "query_result(query_5_1)"
   ]
  },
  {
   "cell_type": "code",
   "execution_count": 16,
   "id": "5fc0100c",
   "metadata": {},
   "outputs": [
    {
     "data": {
      "text/html": [
       "<div>\n",
       "<style scoped>\n",
       "    .dataframe tbody tr th:only-of-type {\n",
       "        vertical-align: middle;\n",
       "    }\n",
       "\n",
       "    .dataframe tbody tr th {\n",
       "        vertical-align: top;\n",
       "    }\n",
       "\n",
       "    .dataframe thead th {\n",
       "        text-align: right;\n",
       "    }\n",
       "</style>\n",
       "<table border=\"1\" class=\"dataframe\">\n",
       "  <thead>\n",
       "    <tr style=\"text-align: right;\">\n",
       "      <th></th>\n",
       "      <th>username</th>\n",
       "      <th>count</th>\n",
       "    </tr>\n",
       "  </thead>\n",
       "  <tbody>\n",
       "    <tr>\n",
       "      <th>0</th>\n",
       "      <td>sfitzgerald</td>\n",
       "      <td>28</td>\n",
       "    </tr>\n",
       "    <tr>\n",
       "      <th>1</th>\n",
       "      <td>jennifermiller</td>\n",
       "      <td>25</td>\n",
       "    </tr>\n",
       "    <tr>\n",
       "      <th>2</th>\n",
       "      <td>xdavis</td>\n",
       "      <td>18</td>\n",
       "    </tr>\n",
       "    <tr>\n",
       "      <th>3</th>\n",
       "      <td>paul88</td>\n",
       "      <td>22</td>\n",
       "    </tr>\n",
       "    <tr>\n",
       "      <th>4</th>\n",
       "      <td>martinadam</td>\n",
       "      <td>27</td>\n",
       "    </tr>\n",
       "    <tr>\n",
       "      <th>5</th>\n",
       "      <td>richard89</td>\n",
       "      <td>26</td>\n",
       "    </tr>\n",
       "  </tbody>\n",
       "</table>\n",
       "</div>"
      ],
      "text/plain": [
       "         username  count\n",
       "0     sfitzgerald     28\n",
       "1  jennifermiller     25\n",
       "2          xdavis     18\n",
       "3          paul88     22\n",
       "4      martinadam     27\n",
       "5       richard89     26"
      ]
     },
     "execution_count": 16,
     "metadata": {},
     "output_type": "execute_result"
    }
   ],
   "source": [
    "# результаты второго подзапроса\n",
    "query_5_2 = ''' SELECT re.username,\n",
    "                       COUNT(re.review_id)\n",
    "                  FROM reviews AS re\n",
    "                 WHERE re.username IN (SELECT ra.username\n",
    "                                         FROM ratings AS ra\n",
    "                                        GROUP BY ra.username\n",
    "                                       HAVING COUNT(ra.rating_id)>50)\n",
    "                 GROUP BY re.username;\n",
    "          '''\n",
    "query_result(query_5_2)"
   ]
  }
 ],
 "metadata": {
  "ExecuteTimeLog": [
   {
    "duration": 518,
    "start_time": "2022-08-26T08:37:46.579Z"
   },
   {
    "duration": 8996,
    "start_time": "2022-08-26T08:37:47.098Z"
   },
   {
    "duration": 3,
    "start_time": "2022-08-26T08:37:56.095Z"
   },
   {
    "duration": 537,
    "start_time": "2022-08-26T08:37:56.100Z"
   },
   {
    "duration": 68,
    "start_time": "2022-08-26T08:37:56.638Z"
   },
   {
    "duration": 71,
    "start_time": "2022-08-26T08:37:56.708Z"
   },
   {
    "duration": 97,
    "start_time": "2022-08-26T08:37:56.781Z"
   },
   {
    "duration": 70,
    "start_time": "2022-08-26T08:37:56.879Z"
   },
   {
    "duration": 73,
    "start_time": "2022-08-26T08:37:56.951Z"
   },
   {
    "duration": 71,
    "start_time": "2022-08-26T08:37:57.026Z"
   },
   {
    "duration": 72,
    "start_time": "2022-08-26T08:37:57.098Z"
   },
   {
    "duration": 89,
    "start_time": "2022-08-26T08:37:57.172Z"
   },
   {
    "duration": 76,
    "start_time": "2022-08-26T08:39:40.052Z"
   },
   {
    "duration": 73,
    "start_time": "2022-08-26T08:39:42.319Z"
   },
   {
    "duration": 584,
    "start_time": "2022-08-26T16:12:24.262Z"
   },
   {
    "duration": 13082,
    "start_time": "2022-08-26T16:12:24.849Z"
   },
   {
    "duration": 3,
    "start_time": "2022-08-26T16:12:37.933Z"
   },
   {
    "duration": 133,
    "start_time": "2022-08-26T16:12:37.938Z"
   },
   {
    "duration": 10,
    "start_time": "2022-08-26T16:12:38.073Z"
   },
   {
    "duration": 15,
    "start_time": "2022-08-26T16:12:38.085Z"
   },
   {
    "duration": 27,
    "start_time": "2022-08-26T16:12:38.102Z"
   },
   {
    "duration": 12,
    "start_time": "2022-08-26T16:12:38.130Z"
   },
   {
    "duration": 20,
    "start_time": "2022-08-26T16:12:38.144Z"
   },
   {
    "duration": 12,
    "start_time": "2022-08-26T16:12:38.167Z"
   },
   {
    "duration": 22,
    "start_time": "2022-08-26T16:12:38.181Z"
   },
   {
    "duration": 21,
    "start_time": "2022-08-26T16:12:38.206Z"
   },
   {
    "duration": 14,
    "start_time": "2022-08-26T16:12:38.229Z"
   },
   {
    "duration": 21,
    "start_time": "2022-08-26T16:14:46.376Z"
   },
   {
    "duration": 19,
    "start_time": "2022-08-26T16:14:48.758Z"
   },
   {
    "duration": 508,
    "start_time": "2022-08-26T17:52:06.782Z"
   },
   {
    "duration": 8207,
    "start_time": "2022-08-26T17:52:07.292Z"
   },
   {
    "duration": 2,
    "start_time": "2022-08-26T17:52:15.500Z"
   },
   {
    "duration": 103,
    "start_time": "2022-08-26T17:52:15.504Z"
   },
   {
    "duration": 18,
    "start_time": "2022-08-26T17:52:15.609Z"
   },
   {
    "duration": 9,
    "start_time": "2022-08-26T17:52:15.628Z"
   },
   {
    "duration": 21,
    "start_time": "2022-08-26T17:52:15.639Z"
   },
   {
    "duration": 25,
    "start_time": "2022-08-26T17:52:50.988Z"
   },
   {
    "duration": 24,
    "start_time": "2022-08-26T17:53:04.833Z"
   },
   {
    "duration": 21,
    "start_time": "2022-08-26T17:54:23.709Z"
   },
   {
    "duration": 18,
    "start_time": "2022-08-26T17:54:49.145Z"
   },
   {
    "duration": 156,
    "start_time": "2022-08-26T17:55:51.589Z"
   },
   {
    "duration": 113,
    "start_time": "2022-08-26T17:55:57.006Z"
   },
   {
    "duration": 18,
    "start_time": "2022-08-26T17:56:06.839Z"
   },
   {
    "duration": 19,
    "start_time": "2022-08-26T18:26:23.692Z"
   },
   {
    "duration": 25,
    "start_time": "2022-08-26T18:28:01.000Z"
   },
   {
    "duration": 25,
    "start_time": "2022-08-26T18:29:32.638Z"
   },
   {
    "duration": 24,
    "start_time": "2022-08-26T18:29:47.580Z"
   },
   {
    "duration": 21,
    "start_time": "2022-08-26T18:30:24.327Z"
   },
   {
    "duration": 19,
    "start_time": "2022-08-26T18:31:23.131Z"
   },
   {
    "duration": 12,
    "start_time": "2022-08-26T18:33:11.461Z"
   },
   {
    "duration": 19,
    "start_time": "2022-08-26T18:36:59.980Z"
   },
   {
    "duration": 482,
    "start_time": "2022-08-27T07:03:55.414Z"
   },
   {
    "duration": 9793,
    "start_time": "2022-08-27T07:03:55.897Z"
   },
   {
    "duration": 3,
    "start_time": "2022-08-27T07:04:05.691Z"
   },
   {
    "duration": 581,
    "start_time": "2022-08-27T07:04:05.696Z"
   },
   {
    "duration": 78,
    "start_time": "2022-08-27T07:04:06.279Z"
   },
   {
    "duration": 81,
    "start_time": "2022-08-27T07:04:06.359Z"
   },
   {
    "duration": 143,
    "start_time": "2022-08-27T07:04:06.442Z"
   },
   {
    "duration": 89,
    "start_time": "2022-08-27T07:04:06.587Z"
   },
   {
    "duration": 77,
    "start_time": "2022-08-27T07:04:06.678Z"
   },
   {
    "duration": 83,
    "start_time": "2022-08-27T07:04:06.758Z"
   },
   {
    "duration": 76,
    "start_time": "2022-08-27T07:04:06.843Z"
   },
   {
    "duration": 79,
    "start_time": "2022-08-27T07:04:06.920Z"
   },
   {
    "duration": 76,
    "start_time": "2022-08-27T07:04:07.000Z"
   },
   {
    "duration": 77,
    "start_time": "2022-08-27T07:04:07.077Z"
   },
   {
    "duration": 76,
    "start_time": "2022-08-27T07:04:07.156Z"
   },
   {
    "duration": 77,
    "start_time": "2022-08-27T07:04:07.233Z"
   }
  ],
  "kernelspec": {
   "display_name": "Python 3 (ipykernel)",
   "language": "python",
   "name": "python3"
  },
  "language_info": {
   "codemirror_mode": {
    "name": "ipython",
    "version": 3
   },
   "file_extension": ".py",
   "mimetype": "text/x-python",
   "name": "python",
   "nbconvert_exporter": "python",
   "pygments_lexer": "ipython3",
   "version": "3.9.7"
  },
  "toc": {
   "base_numbering": 1,
   "nav_menu": {},
   "number_sections": true,
   "sideBar": true,
   "skip_h1_title": true,
   "title_cell": "Table of Contents",
   "title_sidebar": "Contents",
   "toc_cell": true,
   "toc_position": {},
   "toc_section_display": true,
   "toc_window_display": false
  }
 },
 "nbformat": 4,
 "nbformat_minor": 5
}
