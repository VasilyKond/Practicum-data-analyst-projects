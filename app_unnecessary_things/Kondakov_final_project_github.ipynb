{
 "cells": [
  {
   "cell_type": "markdown",
   "id": "81e46698",
   "metadata": {
    "toc": true
   },
   "source": [
    "<h1>Table of Contents<span class=\"tocSkip\"></span></h1>\n",
    "<div class=\"toc\"><ul class=\"toc-item\"><li><span><a href=\"#Загрузка-и-обзор-данных\" data-toc-modified-id=\"Загрузка-и-обзор-данных-1\"><span class=\"toc-item-num\">1&nbsp;&nbsp;</span>Загрузка и обзор данных</a></span></li><li><span><a href=\"#Предобработка-данных\" data-toc-modified-id=\"Предобработка-данных-2\"><span class=\"toc-item-num\">2&nbsp;&nbsp;</span>Предобработка данных</a></span></li><li><span><a href=\"#Исследовательский-анализ-данных\" data-toc-modified-id=\"Исследовательский-анализ-данных-3\"><span class=\"toc-item-num\">3&nbsp;&nbsp;</span>Исследовательский анализ данных</a></span><ul class=\"toc-item\"><li><span><a href=\"#Выделение-пользовательских-сессий\" data-toc-modified-id=\"Выделение-пользовательских-сессий-3.1\"><span class=\"toc-item-num\">3.1&nbsp;&nbsp;</span>Выделение пользовательских сессий</a></span></li><li><span><a href=\"#Подсчет-количества-событий-для-пользователя\" data-toc-modified-id=\"Подсчет-количества-событий-для-пользователя-3.2\"><span class=\"toc-item-num\">3.2&nbsp;&nbsp;</span>Подсчет количества событий для пользователя</a></span></li><li><span><a href=\"#События\" data-toc-modified-id=\"События-3.3\"><span class=\"toc-item-num\">3.3&nbsp;&nbsp;</span>События</a></span></li><li><span><a href=\"#Формирование-пользовательского-профиля\" data-toc-modified-id=\"Формирование-пользовательского-профиля-3.4\"><span class=\"toc-item-num\">3.4&nbsp;&nbsp;</span>Формирование пользовательского профиля</a></span></li></ul></li><li><span><a href=\"#Сегментация-пользователей-на-основе-действий\" data-toc-modified-id=\"Сегментация-пользователей-на-основе-действий-4\"><span class=\"toc-item-num\">4&nbsp;&nbsp;</span>Сегментация пользователей на основе действий</a></span><ul class=\"toc-item\"><li><span><a href=\"#Сегментация-пользователей\" data-toc-modified-id=\"Сегментация-пользователей-4.1\"><span class=\"toc-item-num\">4.1&nbsp;&nbsp;</span>Сегментация пользователей</a></span></li><li><span><a href=\"#Расчет-метрик\" data-toc-modified-id=\"Расчет-метрик-4.2\"><span class=\"toc-item-num\">4.2&nbsp;&nbsp;</span>Расчет метрик</a></span></li></ul></li><li><span><a href=\"#Проверка-статистических-гипотез\" data-toc-modified-id=\"Проверка-статистических-гипотез-5\"><span class=\"toc-item-num\">5&nbsp;&nbsp;</span>Проверка статистических гипотез</a></span><ul class=\"toc-item\"><li><span><a href=\"#Пользователи-из-разных-источников\" data-toc-modified-id=\"Пользователи-из-разных-источников-5.1\"><span class=\"toc-item-num\">5.1&nbsp;&nbsp;</span>Пользователи из разных источников</a></span></li><li><span><a href=\"#Пользователи-из-разных-групп\" data-toc-modified-id=\"Пользователи-из-разных-групп-5.2\"><span class=\"toc-item-num\">5.2&nbsp;&nbsp;</span>Пользователи из разных групп</a></span></li></ul></li><li><span><a href=\"#Выводы\" data-toc-modified-id=\"Выводы-6\"><span class=\"toc-item-num\">6&nbsp;&nbsp;</span>Выводы</a></span></li></ul></div>"
   ]
  },
  {
   "cell_type": "markdown",
   "id": "ab14f4b2",
   "metadata": {},
   "source": [
    " # Мобильное приложение \"Ненужные вещи\""
   ]
  },
  {
   "cell_type": "markdown",
   "id": "af47454f",
   "metadata": {},
   "source": [
    "**Шаги исследования**\n",
    "- *Загрузка и обзор данных*\n",
    "- *Предобработка данных*\n",
    "    - Проверка и обработка пропусков\n",
    "    - Изменение типов данных и переименование столцов\n",
    "    - Проверка данных на аномалии и исправления\n",
    "    - Проверка дубликатов\n",
    "    - Объединение разных событий, связанных с поиском, в одно `search`\n",
    "- *Исследовательский анализ данных*\n",
    "    - Выделение сессий пользователя относительно тайм-аута.\n",
    "    - Формирование пользовательского профиля. Подсчет количества событий для каждого пользователя и их распределение.\n",
    "    - Источники привлечения и доля пользователей в них\n",
    "    - Изучить пользователей для каждого события. Построить продуктовую воронку.\n",
    "- *Сегментация пользователей на основе действий*\n",
    "    - Сегментация пользователей по длительности сессии\n",
    "    - Рассчет следующих метрик для выделенных групп: retention rate; время, проведённое в приложении; частота действий; конверсия в целевое действие — просмотр контактов.\n",
    "- *Проверка статистических гипотез*\n",
    "    - Некоторые пользователи установили приложение по ссылке из `yandex`, другие — из `google`. Гипотеза: две эти группы демонстрируют разную конверсию в просмотры контактов.\n",
    "    - Пользователи разделены на `группы` по времени сессии. Гипотеза - конверсии в целевое событие для пользователей из различных групп отличаются.\n",
    "- *Выводы и рекомендации*"
   ]
  },
  {
   "cell_type": "markdown",
   "id": "b147d34b",
   "metadata": {},
   "source": [
    "## Загрузка и обзор данных"
   ]
  },
  {
   "cell_type": "code",
   "execution_count": 26,
   "id": "a72e3d32",
   "metadata": {},
   "outputs": [],
   "source": [
    "# импортируем библиотеки необходимые для работы\n",
    "import pandas as pd\n",
    "import matplotlib.pyplot as plt\n",
    "import seaborn as sns\n",
    "import numpy as np\n",
    "import datetime as dt\n",
    "from datetime import datetime, timedelta\n",
    "import math as mth\n",
    "from sklearn.preprocessing import StandardScaler\n",
    "from scipy import stats as st\n",
    "import warnings\n",
    "warnings.filterwarnings('ignore')"
   ]
  },
  {
   "cell_type": "code",
   "execution_count": 47,
   "id": "72102de0",
   "metadata": {},
   "outputs": [
    {
     "data": {
      "text/html": [
       "<div>\n",
       "<style scoped>\n",
       "    .dataframe tbody tr th:only-of-type {\n",
       "        vertical-align: middle;\n",
       "    }\n",
       "\n",
       "    .dataframe tbody tr th {\n",
       "        vertical-align: top;\n",
       "    }\n",
       "\n",
       "    .dataframe thead th {\n",
       "        text-align: right;\n",
       "    }\n",
       "</style>\n",
       "<table border=\"1\" class=\"dataframe\">\n",
       "  <thead>\n",
       "    <tr style=\"text-align: right;\">\n",
       "      <th></th>\n",
       "      <th>userId</th>\n",
       "      <th>source</th>\n",
       "    </tr>\n",
       "  </thead>\n",
       "  <tbody>\n",
       "    <tr>\n",
       "      <th>0</th>\n",
       "      <td>020292ab-89bc-4156-9acf-68bc2783f894</td>\n",
       "      <td>other</td>\n",
       "    </tr>\n",
       "    <tr>\n",
       "      <th>1</th>\n",
       "      <td>cf7eda61-9349-469f-ac27-e5b6f5ec475c</td>\n",
       "      <td>yandex</td>\n",
       "    </tr>\n",
       "    <tr>\n",
       "      <th>2</th>\n",
       "      <td>8c356c42-3ba9-4cb6-80b8-3f868d0192c3</td>\n",
       "      <td>yandex</td>\n",
       "    </tr>\n",
       "    <tr>\n",
       "      <th>3</th>\n",
       "      <td>d9b06b47-0f36-419b-bbb0-3533e582a6cb</td>\n",
       "      <td>other</td>\n",
       "    </tr>\n",
       "    <tr>\n",
       "      <th>4</th>\n",
       "      <td>f32e1e2a-3027-4693-b793-b7b3ff274439</td>\n",
       "      <td>google</td>\n",
       "    </tr>\n",
       "  </tbody>\n",
       "</table>\n",
       "</div>"
      ],
      "text/plain": [
       "                                 userId  source\n",
       "0  020292ab-89bc-4156-9acf-68bc2783f894   other\n",
       "1  cf7eda61-9349-469f-ac27-e5b6f5ec475c  yandex\n",
       "2  8c356c42-3ba9-4cb6-80b8-3f868d0192c3  yandex\n",
       "3  d9b06b47-0f36-419b-bbb0-3533e582a6cb   other\n",
       "4  f32e1e2a-3027-4693-b793-b7b3ff274439  google"
      ]
     },
     "metadata": {},
     "output_type": "display_data"
    },
    {
     "name": "stdout",
     "output_type": "stream",
     "text": [
      "<class 'pandas.core.frame.DataFrame'>\n",
      "RangeIndex: 4293 entries, 0 to 4292\n",
      "Data columns (total 2 columns):\n",
      " #   Column  Non-Null Count  Dtype \n",
      "---  ------  --------------  ----- \n",
      " 0   userId  4293 non-null   object\n",
      " 1   source  4293 non-null   object\n",
      "dtypes: object(2)\n",
      "memory usage: 67.2+ KB\n",
      "None\n"
     ]
    },
    {
     "data": {
      "text/html": [
       "<div>\n",
       "<style scoped>\n",
       "    .dataframe tbody tr th:only-of-type {\n",
       "        vertical-align: middle;\n",
       "    }\n",
       "\n",
       "    .dataframe tbody tr th {\n",
       "        vertical-align: top;\n",
       "    }\n",
       "\n",
       "    .dataframe thead th {\n",
       "        text-align: right;\n",
       "    }\n",
       "</style>\n",
       "<table border=\"1\" class=\"dataframe\">\n",
       "  <thead>\n",
       "    <tr style=\"text-align: right;\">\n",
       "      <th></th>\n",
       "      <th>event.time</th>\n",
       "      <th>event.name</th>\n",
       "      <th>user.id</th>\n",
       "    </tr>\n",
       "  </thead>\n",
       "  <tbody>\n",
       "    <tr>\n",
       "      <th>0</th>\n",
       "      <td>2019-10-07 00:00:00.431357</td>\n",
       "      <td>advert_open</td>\n",
       "      <td>020292ab-89bc-4156-9acf-68bc2783f894</td>\n",
       "    </tr>\n",
       "    <tr>\n",
       "      <th>1</th>\n",
       "      <td>2019-10-07 00:00:01.236320</td>\n",
       "      <td>tips_show</td>\n",
       "      <td>020292ab-89bc-4156-9acf-68bc2783f894</td>\n",
       "    </tr>\n",
       "    <tr>\n",
       "      <th>2</th>\n",
       "      <td>2019-10-07 00:00:02.245341</td>\n",
       "      <td>tips_show</td>\n",
       "      <td>cf7eda61-9349-469f-ac27-e5b6f5ec475c</td>\n",
       "    </tr>\n",
       "    <tr>\n",
       "      <th>3</th>\n",
       "      <td>2019-10-07 00:00:07.039334</td>\n",
       "      <td>tips_show</td>\n",
       "      <td>020292ab-89bc-4156-9acf-68bc2783f894</td>\n",
       "    </tr>\n",
       "    <tr>\n",
       "      <th>4</th>\n",
       "      <td>2019-10-07 00:00:56.319813</td>\n",
       "      <td>advert_open</td>\n",
       "      <td>cf7eda61-9349-469f-ac27-e5b6f5ec475c</td>\n",
       "    </tr>\n",
       "  </tbody>\n",
       "</table>\n",
       "</div>"
      ],
      "text/plain": [
       "                   event.time   event.name  \\\n",
       "0  2019-10-07 00:00:00.431357  advert_open   \n",
       "1  2019-10-07 00:00:01.236320    tips_show   \n",
       "2  2019-10-07 00:00:02.245341    tips_show   \n",
       "3  2019-10-07 00:00:07.039334    tips_show   \n",
       "4  2019-10-07 00:00:56.319813  advert_open   \n",
       "\n",
       "                                user.id  \n",
       "0  020292ab-89bc-4156-9acf-68bc2783f894  \n",
       "1  020292ab-89bc-4156-9acf-68bc2783f894  \n",
       "2  cf7eda61-9349-469f-ac27-e5b6f5ec475c  \n",
       "3  020292ab-89bc-4156-9acf-68bc2783f894  \n",
       "4  cf7eda61-9349-469f-ac27-e5b6f5ec475c  "
      ]
     },
     "metadata": {},
     "output_type": "display_data"
    },
    {
     "name": "stdout",
     "output_type": "stream",
     "text": [
      "<class 'pandas.core.frame.DataFrame'>\n",
      "RangeIndex: 74197 entries, 0 to 74196\n",
      "Data columns (total 3 columns):\n",
      " #   Column      Non-Null Count  Dtype \n",
      "---  ------      --------------  ----- \n",
      " 0   event.time  74197 non-null  object\n",
      " 1   event.name  74197 non-null  object\n",
      " 2   user.id     74197 non-null  object\n",
      "dtypes: object(3)\n",
      "memory usage: 1.7+ MB\n",
      "None\n"
     ]
    }
   ],
   "source": [
    "# выгрузка данных из файлов, вывод на экран информации о датафреймах и первых 5 строках\n",
    "mobile_sourсes = pd.read_csv('mobile_sourсes.csv')\n",
    "mobile_dataset = pd.read_csv('mobile_dataset.csv')\n",
    "\n",
    "for df in [mobile_sourсes, mobile_dataset]:\n",
    "    display(df.head())\n",
    "    print(df.info())"
   ]
  },
  {
   "cell_type": "markdown",
   "id": "91361938",
   "metadata": {},
   "source": [
    "**Проблемы в данных**\n",
    "\n",
    "- названия столбцов\n",
    "- типы данных"
   ]
  },
  {
   "cell_type": "markdown",
   "id": "2af9b8a3",
   "metadata": {},
   "source": [
    "## Предобработка данных"
   ]
  },
  {
   "cell_type": "markdown",
   "id": "73721adf",
   "metadata": {},
   "source": [
    "**Пропуски**"
   ]
  },
  {
   "cell_type": "code",
   "execution_count": 48,
   "id": "f7765934",
   "metadata": {},
   "outputs": [
    {
     "name": "stdout",
     "output_type": "stream",
     "text": [
      "userId    0\n",
      "source    0\n",
      "dtype: int64 \n",
      "\n",
      "event.time    0\n",
      "event.name    0\n",
      "user.id       0\n",
      "dtype: int64 \n",
      "\n"
     ]
    }
   ],
   "source": [
    "# подсчет пропусков в столбцах\n",
    "for df in [mobile_sourсes, mobile_dataset]:\n",
    "    print(df.isna().sum(),'\\n')"
   ]
  },
  {
   "cell_type": "markdown",
   "id": "5ce09d61",
   "metadata": {},
   "source": [
    "Как видно из проверки, а также из информации о датасетах на предыдущем этапе, пропуски отсутствуют."
   ]
  },
  {
   "cell_type": "markdown",
   "id": "06261644",
   "metadata": {},
   "source": [
    "**Изменение типов данных и переименование столцов**"
   ]
  },
  {
   "cell_type": "code",
   "execution_count": 49,
   "id": "b7322648",
   "metadata": {},
   "outputs": [
    {
     "name": "stdout",
     "output_type": "stream",
     "text": [
      "Index(['userId', 'source'], dtype='object')\n",
      "Index(['event_time', 'event_name', 'user_id'], dtype='object')\n"
     ]
    }
   ],
   "source": [
    "# Приведем все символы в названиях столбцов таблиц к змеиному написанию\n",
    "for df in [mobile_sourсes, mobile_dataset]:\n",
    "    df.columns = df.columns.str.replace('.', '_')\n",
    "    print(df.columns)"
   ]
  },
  {
   "cell_type": "code",
   "execution_count": 50,
   "id": "0416d830",
   "metadata": {},
   "outputs": [
    {
     "data": {
      "text/plain": [
       "Index(['user_id', 'source'], dtype='object')"
      ]
     },
     "execution_count": 50,
     "metadata": {},
     "output_type": "execute_result"
    }
   ],
   "source": [
    "# Переименуем столбцы в mobile_sourсes\n",
    "mobile_sourсes = mobile_sourсes.rename(\n",
    "    columns={'userId': 'user_id'}\n",
    ")\n",
    "mobile_sourсes.columns"
   ]
  },
  {
   "cell_type": "code",
   "execution_count": 51,
   "id": "c170dbfa",
   "metadata": {},
   "outputs": [
    {
     "name": "stdout",
     "output_type": "stream",
     "text": [
      "event_time    datetime64[ns]\n",
      "event_name            object\n",
      "user_id               object\n",
      "dtype: object\n"
     ]
    },
    {
     "data": {
      "text/html": [
       "<div>\n",
       "<style scoped>\n",
       "    .dataframe tbody tr th:only-of-type {\n",
       "        vertical-align: middle;\n",
       "    }\n",
       "\n",
       "    .dataframe tbody tr th {\n",
       "        vertical-align: top;\n",
       "    }\n",
       "\n",
       "    .dataframe thead th {\n",
       "        text-align: right;\n",
       "    }\n",
       "</style>\n",
       "<table border=\"1\" class=\"dataframe\">\n",
       "  <thead>\n",
       "    <tr style=\"text-align: right;\">\n",
       "      <th></th>\n",
       "      <th>event_time</th>\n",
       "      <th>event_name</th>\n",
       "      <th>user_id</th>\n",
       "    </tr>\n",
       "  </thead>\n",
       "  <tbody>\n",
       "    <tr>\n",
       "      <th>0</th>\n",
       "      <td>2019-10-07 00:00:00</td>\n",
       "      <td>advert_open</td>\n",
       "      <td>020292ab-89bc-4156-9acf-68bc2783f894</td>\n",
       "    </tr>\n",
       "    <tr>\n",
       "      <th>1</th>\n",
       "      <td>2019-10-07 00:00:01</td>\n",
       "      <td>tips_show</td>\n",
       "      <td>020292ab-89bc-4156-9acf-68bc2783f894</td>\n",
       "    </tr>\n",
       "    <tr>\n",
       "      <th>2</th>\n",
       "      <td>2019-10-07 00:00:02</td>\n",
       "      <td>tips_show</td>\n",
       "      <td>cf7eda61-9349-469f-ac27-e5b6f5ec475c</td>\n",
       "    </tr>\n",
       "    <tr>\n",
       "      <th>3</th>\n",
       "      <td>2019-10-07 00:00:07</td>\n",
       "      <td>tips_show</td>\n",
       "      <td>020292ab-89bc-4156-9acf-68bc2783f894</td>\n",
       "    </tr>\n",
       "    <tr>\n",
       "      <th>4</th>\n",
       "      <td>2019-10-07 00:00:56</td>\n",
       "      <td>advert_open</td>\n",
       "      <td>cf7eda61-9349-469f-ac27-e5b6f5ec475c</td>\n",
       "    </tr>\n",
       "  </tbody>\n",
       "</table>\n",
       "</div>"
      ],
      "text/plain": [
       "           event_time   event_name                               user_id\n",
       "0 2019-10-07 00:00:00  advert_open  020292ab-89bc-4156-9acf-68bc2783f894\n",
       "1 2019-10-07 00:00:01    tips_show  020292ab-89bc-4156-9acf-68bc2783f894\n",
       "2 2019-10-07 00:00:02    tips_show  cf7eda61-9349-469f-ac27-e5b6f5ec475c\n",
       "3 2019-10-07 00:00:07    tips_show  020292ab-89bc-4156-9acf-68bc2783f894\n",
       "4 2019-10-07 00:00:56  advert_open  cf7eda61-9349-469f-ac27-e5b6f5ec475c"
      ]
     },
     "execution_count": 51,
     "metadata": {},
     "output_type": "execute_result"
    }
   ],
   "source": [
    "# Изменим типы данных в столбце со временем\n",
    "mobile_dataset['event_time'] = pd.to_datetime(mobile_dataset['event_time']).astype('datetime64[s]')\n",
    "print(mobile_dataset.dtypes)\n",
    "mobile_dataset.head()"
   ]
  },
  {
   "cell_type": "code",
   "execution_count": 52,
   "id": "ad5f746d",
   "metadata": {},
   "outputs": [
    {
     "data": {
      "text/plain": [
       "min   2019-10-07 00:00:00\n",
       "max   2019-11-03 23:58:12\n",
       "Name: event_time, dtype: datetime64[ns]"
      ]
     },
     "execution_count": 52,
     "metadata": {},
     "output_type": "execute_result"
    }
   ],
   "source": [
    "# Посмотрим за какой период времени у нас данные\n",
    "mobile_dataset['event_time'].agg(['min','max'])"
   ]
  },
  {
   "cell_type": "markdown",
   "id": "bad3d15b",
   "metadata": {},
   "source": [
    "Данные по событиям представлены за период с 7 октября 2019 года по 3 ноября 2019 года"
   ]
  },
  {
   "cell_type": "markdown",
   "id": "a9def0f0",
   "metadata": {},
   "source": [
    "**Дубликаты**"
   ]
  },
  {
   "cell_type": "code",
   "execution_count": 53,
   "id": "a446ab8d",
   "metadata": {},
   "outputs": [
    {
     "name": "stdout",
     "output_type": "stream",
     "text": [
      "0\n",
      "1143\n"
     ]
    }
   ],
   "source": [
    "# проверка на явные дубликаты\n",
    "for df in [mobile_sourсes, mobile_dataset]:\n",
    "    print(df.duplicated().sum())"
   ]
  },
  {
   "cell_type": "code",
   "execution_count": 54,
   "id": "2673eb0e",
   "metadata": {},
   "outputs": [
    {
     "data": {
      "text/plain": [
       "photos_show      660\n",
       "contacts_show    153\n",
       "tips_show        148\n",
       "map              132\n",
       "advert_open       18\n",
       "search_1          18\n",
       "contacts_call      7\n",
       "favorites_add      3\n",
       "tips_click         3\n",
       "search_3           1\n",
       "Name: event_name, dtype: int64"
      ]
     },
     "execution_count": 54,
     "metadata": {},
     "output_type": "execute_result"
    }
   ],
   "source": [
    "# посмотрим для каких событий есть дубликаты\n",
    "mobile_dataset.loc[mobile_dataset.duplicated(), 'event_name'].value_counts()"
   ]
  },
  {
   "cell_type": "code",
   "execution_count": 55,
   "id": "1151484b",
   "metadata": {},
   "outputs": [
    {
     "data": {
      "text/plain": [
       "tips_show        40055\n",
       "photos_show      10012\n",
       "advert_open       6164\n",
       "contacts_show     4450\n",
       "map               3881\n",
       "search_1          3506\n",
       "favorites_add     1417\n",
       "search_5          1049\n",
       "tips_click         814\n",
       "search_4           701\n",
       "contacts_call      541\n",
       "search_3           522\n",
       "search_6           460\n",
       "search_2           324\n",
       "search_7           222\n",
       "show_contacts       79\n",
       "Name: event_name, dtype: int64"
      ]
     },
     "execution_count": 55,
     "metadata": {},
     "output_type": "execute_result"
    }
   ],
   "source": [
    "mobile_dataset['event_name'].value_counts()"
   ]
  },
  {
   "cell_type": "markdown",
   "id": "5eb399a5",
   "metadata": {},
   "source": [
    "1143 дубликата в датасете mobile_dataset возникли при округлении времени события до секунд. В основном дубликаты возникли для события просмотра фотографий в объявлении. Вероятно пользователь быстро пролистывал фото(меньше одной секунды). Также появилось 153 дубликата в целевое событие.<br>\n",
    "Но так как у нас 74197 строки, а также относительное значение количества дубликатов для разных событий не велико, то можем удалить дубликаты, это не повлияет на результаты исследования."
   ]
  },
  {
   "cell_type": "code",
   "execution_count": 56,
   "id": "358999e5",
   "metadata": {},
   "outputs": [
    {
     "data": {
      "text/plain": [
       "0"
      ]
     },
     "execution_count": 56,
     "metadata": {},
     "output_type": "execute_result"
    }
   ],
   "source": [
    "# удаление дубликатов, ignore_index=True означает, что индексы строк в полученном датасете будут идти по порядку\n",
    "mobile_dataset.drop_duplicates(inplace=True, ignore_index=True)\n",
    "mobile_dataset.duplicated().sum()"
   ]
  },
  {
   "cell_type": "markdown",
   "id": "33fdc9d0",
   "metadata": {},
   "source": [
    "**Проверка данных на аномалии и исправления**"
   ]
  },
  {
   "cell_type": "code",
   "execution_count": 57,
   "id": "8f371cb6",
   "metadata": {},
   "outputs": [
    {
     "data": {
      "text/plain": [
       "tips_show        39907\n",
       "photos_show       9352\n",
       "advert_open       6146\n",
       "contacts_show     4297\n",
       "map               3749\n",
       "search_1          3488\n",
       "favorites_add     1414\n",
       "search_5          1049\n",
       "tips_click         811\n",
       "search_4           701\n",
       "contacts_call      534\n",
       "search_3           521\n",
       "search_6           460\n",
       "search_2           324\n",
       "search_7           222\n",
       "show_contacts       79\n",
       "Name: event_name, dtype: int64"
      ]
     },
     "execution_count": 57,
     "metadata": {},
     "output_type": "execute_result"
    }
   ],
   "source": [
    "# подсчет количества событий\n",
    "mobile_dataset['event_name'].value_counts()"
   ]
  },
  {
   "cell_type": "markdown",
   "id": "b9a7680f",
   "metadata": {},
   "source": [
    "Как видно из списка выше, у нас есть 2 события для целевого действия просмотр номера телефона `contacts_show` и `show_contacts`. Объединим их в одно событие, так как это одно и то же."
   ]
  },
  {
   "cell_type": "code",
   "execution_count": 58,
   "id": "4afefdbb",
   "metadata": {},
   "outputs": [
    {
     "data": {
      "text/plain": [
       "tips_show        39907\n",
       "photos_show       9352\n",
       "advert_open       6146\n",
       "contacts_show     4376\n",
       "map               3749\n",
       "search_1          3488\n",
       "favorites_add     1414\n",
       "search_5          1049\n",
       "tips_click         811\n",
       "search_4           701\n",
       "contacts_call      534\n",
       "search_3           521\n",
       "search_6           460\n",
       "search_2           324\n",
       "search_7           222\n",
       "Name: event_name, dtype: int64"
      ]
     },
     "execution_count": 58,
     "metadata": {},
     "output_type": "execute_result"
    }
   ],
   "source": [
    "# замена события show_contacts на contacts_show\n",
    "mobile_dataset['event_name'].replace('show_contacts', 'contacts_show', inplace=True)\n",
    "mobile_dataset['event_name'].value_counts()"
   ]
  },
  {
   "cell_type": "markdown",
   "id": "3d448498",
   "metadata": {},
   "source": [
    "Теперь объединим все 7 событий поиска `search_1, search_2,..., search_7` в одно событие `search`"
   ]
  },
  {
   "cell_type": "code",
   "execution_count": 59,
   "id": "22c49d95",
   "metadata": {},
   "outputs": [
    {
     "data": {
      "text/plain": [
       "tips_show        39907\n",
       "photos_show       9352\n",
       "search            6765\n",
       "advert_open       6146\n",
       "contacts_show     4376\n",
       "map               3749\n",
       "favorites_add     1414\n",
       "tips_click         811\n",
       "contacts_call      534\n",
       "Name: event_name, dtype: int64"
      ]
     },
     "execution_count": 59,
     "metadata": {},
     "output_type": "execute_result"
    }
   ],
   "source": [
    "# объединение событий поиска через replace() и регулярное выражение в атрибуте regex\n",
    "mobile_dataset['event_name'].replace(regex='search_\\d', value='search', inplace=True)\n",
    "mobile_dataset['event_name'].value_counts()"
   ]
  },
  {
   "cell_type": "markdown",
   "id": "8f95639d",
   "metadata": {},
   "source": [
    "Объединение произведено успешно"
   ]
  },
  {
   "cell_type": "code",
   "execution_count": 60,
   "id": "3ca9eaa7",
   "metadata": {},
   "outputs": [
    {
     "data": {
      "text/plain": [
       "yandex    1934\n",
       "other     1230\n",
       "google    1129\n",
       "Name: source, dtype: int64"
      ]
     },
     "execution_count": 60,
     "metadata": {},
     "output_type": "execute_result"
    }
   ],
   "source": [
    "# посмотрим распределение источников, из которых пользователь установил приложение\n",
    "mobile_sourсes['source'].value_counts()"
   ]
  },
  {
   "cell_type": "markdown",
   "id": "b4edc94f",
   "metadata": {},
   "source": [
    "С Яднекса клиентов привлекается примерно столько же, как и со всех других сервисов вместе взятых"
   ]
  },
  {
   "cell_type": "markdown",
   "id": "159cd29a",
   "metadata": {},
   "source": [
    "**Объединение датасетов**"
   ]
  },
  {
   "cell_type": "code",
   "execution_count": 61,
   "id": "4f134844",
   "metadata": {},
   "outputs": [
    {
     "data": {
      "text/html": [
       "<div>\n",
       "<style scoped>\n",
       "    .dataframe tbody tr th:only-of-type {\n",
       "        vertical-align: middle;\n",
       "    }\n",
       "\n",
       "    .dataframe tbody tr th {\n",
       "        vertical-align: top;\n",
       "    }\n",
       "\n",
       "    .dataframe thead th {\n",
       "        text-align: right;\n",
       "    }\n",
       "</style>\n",
       "<table border=\"1\" class=\"dataframe\">\n",
       "  <thead>\n",
       "    <tr style=\"text-align: right;\">\n",
       "      <th></th>\n",
       "      <th>event_time</th>\n",
       "      <th>event_name</th>\n",
       "      <th>user_id</th>\n",
       "      <th>source</th>\n",
       "    </tr>\n",
       "  </thead>\n",
       "  <tbody>\n",
       "    <tr>\n",
       "      <th>0</th>\n",
       "      <td>2019-10-07 00:00:00</td>\n",
       "      <td>advert_open</td>\n",
       "      <td>020292ab-89bc-4156-9acf-68bc2783f894</td>\n",
       "      <td>other</td>\n",
       "    </tr>\n",
       "    <tr>\n",
       "      <th>1</th>\n",
       "      <td>2019-10-07 00:00:01</td>\n",
       "      <td>tips_show</td>\n",
       "      <td>020292ab-89bc-4156-9acf-68bc2783f894</td>\n",
       "      <td>other</td>\n",
       "    </tr>\n",
       "    <tr>\n",
       "      <th>2</th>\n",
       "      <td>2019-10-07 00:00:02</td>\n",
       "      <td>tips_show</td>\n",
       "      <td>cf7eda61-9349-469f-ac27-e5b6f5ec475c</td>\n",
       "      <td>yandex</td>\n",
       "    </tr>\n",
       "    <tr>\n",
       "      <th>3</th>\n",
       "      <td>2019-10-07 00:00:07</td>\n",
       "      <td>tips_show</td>\n",
       "      <td>020292ab-89bc-4156-9acf-68bc2783f894</td>\n",
       "      <td>other</td>\n",
       "    </tr>\n",
       "    <tr>\n",
       "      <th>4</th>\n",
       "      <td>2019-10-07 00:00:56</td>\n",
       "      <td>advert_open</td>\n",
       "      <td>cf7eda61-9349-469f-ac27-e5b6f5ec475c</td>\n",
       "      <td>yandex</td>\n",
       "    </tr>\n",
       "  </tbody>\n",
       "</table>\n",
       "</div>"
      ],
      "text/plain": [
       "           event_time   event_name                               user_id  \\\n",
       "0 2019-10-07 00:00:00  advert_open  020292ab-89bc-4156-9acf-68bc2783f894   \n",
       "1 2019-10-07 00:00:01    tips_show  020292ab-89bc-4156-9acf-68bc2783f894   \n",
       "2 2019-10-07 00:00:02    tips_show  cf7eda61-9349-469f-ac27-e5b6f5ec475c   \n",
       "3 2019-10-07 00:00:07    tips_show  020292ab-89bc-4156-9acf-68bc2783f894   \n",
       "4 2019-10-07 00:00:56  advert_open  cf7eda61-9349-469f-ac27-e5b6f5ec475c   \n",
       "\n",
       "   source  \n",
       "0   other  \n",
       "1   other  \n",
       "2  yandex  \n",
       "3   other  \n",
       "4  yandex  "
      ]
     },
     "metadata": {},
     "output_type": "display_data"
    },
    {
     "name": "stdout",
     "output_type": "stream",
     "text": [
      "<class 'pandas.core.frame.DataFrame'>\n",
      "Int64Index: 73054 entries, 0 to 73053\n",
      "Data columns (total 4 columns):\n",
      " #   Column      Non-Null Count  Dtype         \n",
      "---  ------      --------------  -----         \n",
      " 0   event_time  73054 non-null  datetime64[ns]\n",
      " 1   event_name  73054 non-null  object        \n",
      " 2   user_id     73054 non-null  object        \n",
      " 3   source      73054 non-null  object        \n",
      "dtypes: datetime64[ns](1), object(3)\n",
      "memory usage: 2.8+ MB\n"
     ]
    }
   ],
   "source": [
    "mobile_dataset = mobile_dataset.merge(\n",
    "        mobile_sourсes[['user_id', 'source']],\n",
    "        on=['user_id'],\n",
    "        how='left',\n",
    "    )\n",
    "display(mobile_dataset.head())\n",
    "mobile_dataset.info()"
   ]
  },
  {
   "cell_type": "markdown",
   "id": "a62f1a05",
   "metadata": {},
   "source": [
    "**Выводы**\n",
    "\n",
    "- Пропусков в датасетах не обнаружено\n",
    "- Названия столбцов приведены к единому типу написания\n",
    "- Тип данных в столбце `event_time` изменен на дату и значения округлены до секунд. При округлении появились дубликаты из-за того, что на некоторые события пользователь тратил меньше секунды.\n",
    "- Дубликаты в основном выявлены для события просмотр фото. Дубликаты удалены из датасета.\n",
    "- Данные по событиям представлены за период `с 7 октября 2019 года по 3 ноября 2019 года`.\n",
    "- События `contacts_show` и `show_contacts`, объединены в одно `contacts_show`. А также все 7 событий поиска `search_1, search_2,..., search_7` объеденины в `search`.\n",
    "- Пользователи устанавливали приложение из 3 источников: `yandex, google, other`\n",
    "- Датасеты объеденины в один `mobile_dataset`"
   ]
  },
  {
   "cell_type": "markdown",
   "id": "e833cc70",
   "metadata": {},
   "source": [
    "## Исследовательский анализ данных"
   ]
  },
  {
   "cell_type": "markdown",
   "id": "22ab43a3",
   "metadata": {},
   "source": [
    "### Выделение пользовательских сессий"
   ]
  },
  {
   "cell_type": "markdown",
   "id": "bfb6ac59",
   "metadata": {},
   "source": [
    "Чтобы понимать и в последствии исследовать(например по количеству событий в сессии), выделим пользовательские сессии на основе тайм-аута. Условия для выделения будут следующие: \n",
    "- события совершает уникальный пользователь\n",
    "- время между событиями не больше 15 минут"
   ]
  },
  {
   "cell_type": "markdown",
   "id": "eb0eef83",
   "metadata": {},
   "source": [
    "Если делать временной промежуток слишком маленьким, то вероятны ошибочные разделения одной сессии. Пользователи могут просто не успеть просмотреть объявление, либо они могут открыть фотографию и на что-то отвлечься. Пятнадцатиминутный промежуток подобран опытным путем. "
   ]
  },
  {
   "cell_type": "code",
   "execution_count": 62,
   "id": "3ab1617f",
   "metadata": {},
   "outputs": [
    {
     "name": "stdout",
     "output_type": "stream",
     "text": [
      "Количество сессий - 11537\n"
     ]
    },
    {
     "data": {
      "text/html": [
       "<div>\n",
       "<style scoped>\n",
       "    .dataframe tbody tr th:only-of-type {\n",
       "        vertical-align: middle;\n",
       "    }\n",
       "\n",
       "    .dataframe tbody tr th {\n",
       "        vertical-align: top;\n",
       "    }\n",
       "\n",
       "    .dataframe thead th {\n",
       "        text-align: right;\n",
       "    }\n",
       "</style>\n",
       "<table border=\"1\" class=\"dataframe\">\n",
       "  <thead>\n",
       "    <tr style=\"text-align: right;\">\n",
       "      <th></th>\n",
       "      <th>event_time</th>\n",
       "      <th>event_name</th>\n",
       "      <th>user_id</th>\n",
       "      <th>source</th>\n",
       "      <th>session_id</th>\n",
       "    </tr>\n",
       "  </thead>\n",
       "  <tbody>\n",
       "    <tr>\n",
       "      <th>0</th>\n",
       "      <td>2019-10-07 00:00:00</td>\n",
       "      <td>advert_open</td>\n",
       "      <td>020292ab-89bc-4156-9acf-68bc2783f894</td>\n",
       "      <td>other</td>\n",
       "      <td>1</td>\n",
       "    </tr>\n",
       "    <tr>\n",
       "      <th>1</th>\n",
       "      <td>2019-10-07 00:00:01</td>\n",
       "      <td>tips_show</td>\n",
       "      <td>020292ab-89bc-4156-9acf-68bc2783f894</td>\n",
       "      <td>other</td>\n",
       "      <td>1</td>\n",
       "    </tr>\n",
       "    <tr>\n",
       "      <th>2</th>\n",
       "      <td>2019-10-07 00:00:02</td>\n",
       "      <td>tips_show</td>\n",
       "      <td>cf7eda61-9349-469f-ac27-e5b6f5ec475c</td>\n",
       "      <td>yandex</td>\n",
       "      <td>2</td>\n",
       "    </tr>\n",
       "    <tr>\n",
       "      <th>3</th>\n",
       "      <td>2019-10-07 00:00:07</td>\n",
       "      <td>tips_show</td>\n",
       "      <td>020292ab-89bc-4156-9acf-68bc2783f894</td>\n",
       "      <td>other</td>\n",
       "      <td>1</td>\n",
       "    </tr>\n",
       "    <tr>\n",
       "      <th>4</th>\n",
       "      <td>2019-10-07 00:00:56</td>\n",
       "      <td>advert_open</td>\n",
       "      <td>cf7eda61-9349-469f-ac27-e5b6f5ec475c</td>\n",
       "      <td>yandex</td>\n",
       "      <td>2</td>\n",
       "    </tr>\n",
       "  </tbody>\n",
       "</table>\n",
       "</div>"
      ],
      "text/plain": [
       "           event_time   event_name                               user_id  \\\n",
       "0 2019-10-07 00:00:00  advert_open  020292ab-89bc-4156-9acf-68bc2783f894   \n",
       "1 2019-10-07 00:00:01    tips_show  020292ab-89bc-4156-9acf-68bc2783f894   \n",
       "2 2019-10-07 00:00:02    tips_show  cf7eda61-9349-469f-ac27-e5b6f5ec475c   \n",
       "3 2019-10-07 00:00:07    tips_show  020292ab-89bc-4156-9acf-68bc2783f894   \n",
       "4 2019-10-07 00:00:56  advert_open  cf7eda61-9349-469f-ac27-e5b6f5ec475c   \n",
       "\n",
       "   source  session_id  \n",
       "0   other           1  \n",
       "1   other           1  \n",
       "2  yandex           2  \n",
       "3   other           1  \n",
       "4  yandex           2  "
      ]
     },
     "execution_count": 62,
     "metadata": {},
     "output_type": "execute_result"
    }
   ],
   "source": [
    "# Cортировка датасета по времени, для корректной разбивки на сессии\n",
    "# Вычисление разницы во времени для события каждого пользователя, относительного его прошлого события. \n",
    "# Сравниваем эту разницу со значением из Timedelta(). Если она больше, то получим значение True(или 1).\n",
    "# Дальше складываем единицы с помощью cumsum(), тем самым выделяя новые сессии.\n",
    "g = (mobile_dataset\n",
    "     .sort_values(['user_id', 'event_time'])\n",
    "     .groupby('user_id')['event_time'].diff() > pd.Timedelta('15Min')).cumsum()\n",
    "\n",
    "# создаем новый столбец с идентифекаторами сессий, чтобы начать нумерацию сессий с единицы - ngroup() + 1\n",
    "mobile_dataset['session_id'] = mobile_dataset.groupby(['user_id', g], sort=False).ngroup() + 1\n",
    "\n",
    "print('Количество сессий - {}'.format(mobile_dataset['session_id'].nunique()))\n",
    "mobile_dataset.head()"
   ]
  },
  {
   "cell_type": "code",
   "execution_count": 63,
   "id": "f550ea38",
   "metadata": {},
   "outputs": [
    {
     "data": {
      "text/html": [
       "<div>\n",
       "<style scoped>\n",
       "    .dataframe tbody tr th:only-of-type {\n",
       "        vertical-align: middle;\n",
       "    }\n",
       "\n",
       "    .dataframe tbody tr th {\n",
       "        vertical-align: top;\n",
       "    }\n",
       "\n",
       "    .dataframe thead th {\n",
       "        text-align: right;\n",
       "    }\n",
       "</style>\n",
       "<table border=\"1\" class=\"dataframe\">\n",
       "  <thead>\n",
       "    <tr style=\"text-align: right;\">\n",
       "      <th></th>\n",
       "      <th>session_id</th>\n",
       "    </tr>\n",
       "    <tr>\n",
       "      <th>user_id</th>\n",
       "      <th></th>\n",
       "    </tr>\n",
       "  </thead>\n",
       "  <tbody>\n",
       "    <tr>\n",
       "      <th>21230dd9-2f7f-4b77-a436-43d4d10388e0</th>\n",
       "      <td>116</td>\n",
       "    </tr>\n",
       "    <tr>\n",
       "      <th>cb36854f-570a-41f4-baa8-36680b396370</th>\n",
       "      <td>79</td>\n",
       "    </tr>\n",
       "    <tr>\n",
       "      <th>1580911b-65db-4f1a-be7e-1ca39becac30</th>\n",
       "      <td>58</td>\n",
       "    </tr>\n",
       "    <tr>\n",
       "      <th>be1449f6-ca45-4f94-93a7-ea4b079b8f0f</th>\n",
       "      <td>55</td>\n",
       "    </tr>\n",
       "    <tr>\n",
       "      <th>6383ff6a-04b8-4562-a98f-bb4f760d3c39</th>\n",
       "      <td>46</td>\n",
       "    </tr>\n",
       "    <tr>\n",
       "      <th>e13f9f32-7ae3-4204-8d60-898db040bcfc</th>\n",
       "      <td>45</td>\n",
       "    </tr>\n",
       "    <tr>\n",
       "      <th>e38cb669-7335-4d56-9de5-c8d5d2f13fd3</th>\n",
       "      <td>40</td>\n",
       "    </tr>\n",
       "    <tr>\n",
       "      <th>d5e14ec3-7ae5-4598-ad36-f626b3ce24e3</th>\n",
       "      <td>38</td>\n",
       "    </tr>\n",
       "    <tr>\n",
       "      <th>70b57b3c-01b5-4635-b0c5-ed14b94e1359</th>\n",
       "      <td>37</td>\n",
       "    </tr>\n",
       "    <tr>\n",
       "      <th>fffb9e79-b927-4dbb-9b48-7fd09b23a62b</th>\n",
       "      <td>37</td>\n",
       "    </tr>\n",
       "  </tbody>\n",
       "</table>\n",
       "</div>"
      ],
      "text/plain": [
       "                                      session_id\n",
       "user_id                                         \n",
       "21230dd9-2f7f-4b77-a436-43d4d10388e0         116\n",
       "cb36854f-570a-41f4-baa8-36680b396370          79\n",
       "1580911b-65db-4f1a-be7e-1ca39becac30          58\n",
       "be1449f6-ca45-4f94-93a7-ea4b079b8f0f          55\n",
       "6383ff6a-04b8-4562-a98f-bb4f760d3c39          46\n",
       "e13f9f32-7ae3-4204-8d60-898db040bcfc          45\n",
       "e38cb669-7335-4d56-9de5-c8d5d2f13fd3          40\n",
       "d5e14ec3-7ae5-4598-ad36-f626b3ce24e3          38\n",
       "70b57b3c-01b5-4635-b0c5-ed14b94e1359          37\n",
       "fffb9e79-b927-4dbb-9b48-7fd09b23a62b          37"
      ]
     },
     "execution_count": 63,
     "metadata": {},
     "output_type": "execute_result"
    }
   ],
   "source": [
    "# посмотрим на пользователей с наибольшим количеством уникальных сессий\n",
    "(\n",
    "    mobile_dataset\n",
    "     .pivot_table(index='user_id', values='session_id', aggfunc='nunique')\n",
    "     .sort_values('session_id', ascending=False)\n",
    "     .head(10)\n",
    ")"
   ]
  },
  {
   "cell_type": "markdown",
   "id": "ad58a0a7",
   "metadata": {},
   "source": [
    "Есть пользователи совершившие порядка 100 сессий в приложении."
   ]
  },
  {
   "cell_type": "code",
   "execution_count": 64,
   "id": "554fa9c6",
   "metadata": {},
   "outputs": [
    {
     "data": {
      "text/html": [
       "<div>\n",
       "<style scoped>\n",
       "    .dataframe tbody tr th:only-of-type {\n",
       "        vertical-align: middle;\n",
       "    }\n",
       "\n",
       "    .dataframe tbody tr th {\n",
       "        vertical-align: top;\n",
       "    }\n",
       "\n",
       "    .dataframe thead th {\n",
       "        text-align: right;\n",
       "    }\n",
       "</style>\n",
       "<table border=\"1\" class=\"dataframe\">\n",
       "  <thead>\n",
       "    <tr style=\"text-align: right;\">\n",
       "      <th></th>\n",
       "      <th>session_id</th>\n",
       "      <th>min</th>\n",
       "      <th>max</th>\n",
       "      <th>session_time_m</th>\n",
       "    </tr>\n",
       "  </thead>\n",
       "  <tbody>\n",
       "    <tr>\n",
       "      <th>0</th>\n",
       "      <td>1</td>\n",
       "      <td>2019-10-07 00:00:00</td>\n",
       "      <td>2019-10-07 00:18:42</td>\n",
       "      <td>18.70</td>\n",
       "    </tr>\n",
       "    <tr>\n",
       "      <th>1</th>\n",
       "      <td>2</td>\n",
       "      <td>2019-10-07 00:00:02</td>\n",
       "      <td>2019-10-07 00:41:40</td>\n",
       "      <td>41.63</td>\n",
       "    </tr>\n",
       "    <tr>\n",
       "      <th>2</th>\n",
       "      <td>3</td>\n",
       "      <td>2019-10-07 00:02:07</td>\n",
       "      <td>2019-10-07 00:30:22</td>\n",
       "      <td>28.25</td>\n",
       "    </tr>\n",
       "    <tr>\n",
       "      <th>3</th>\n",
       "      <td>4</td>\n",
       "      <td>2019-10-07 00:05:20</td>\n",
       "      <td>2019-10-07 00:05:23</td>\n",
       "      <td>0.05</td>\n",
       "    </tr>\n",
       "    <tr>\n",
       "      <th>4</th>\n",
       "      <td>5</td>\n",
       "      <td>2019-10-07 00:09:33</td>\n",
       "      <td>2019-10-07 00:50:22</td>\n",
       "      <td>40.82</td>\n",
       "    </tr>\n",
       "  </tbody>\n",
       "</table>\n",
       "</div>"
      ],
      "text/plain": [
       "   session_id                 min                 max  session_time_m\n",
       "0           1 2019-10-07 00:00:00 2019-10-07 00:18:42           18.70\n",
       "1           2 2019-10-07 00:00:02 2019-10-07 00:41:40           41.63\n",
       "2           3 2019-10-07 00:02:07 2019-10-07 00:30:22           28.25\n",
       "3           4 2019-10-07 00:05:20 2019-10-07 00:05:23            0.05\n",
       "4           5 2019-10-07 00:09:33 2019-10-07 00:50:22           40.82"
      ]
     },
     "metadata": {},
     "output_type": "display_data"
    },
    {
     "name": "stdout",
     "output_type": "stream",
     "text": [
      "средняя продолжительность сессии - 4.32мин\n"
     ]
    }
   ],
   "source": [
    "# вычисление длительности сессии в минутах\n",
    "session_time = mobile_dataset.groupby('session_id')['event_time'].agg(['min','max']).reset_index()\n",
    "session_time['session_time_m'] = (session_time['max'] - session_time['min']).dt.total_seconds().div(60).round(2)\n",
    "\n",
    "display(session_time.head())\n",
    "print('средняя продолжительность сессии - {}мин'.format(session_time['session_time_m'].median()))"
   ]
  },
  {
   "cell_type": "code",
   "execution_count": 65,
   "id": "0e54c95a",
   "metadata": {},
   "outputs": [
    {
     "data": {
      "text/plain": [
       "2682"
      ]
     },
     "execution_count": 65,
     "metadata": {},
     "output_type": "execute_result"
    }
   ],
   "source": [
    "# количество сессий состоящих из 1 события\n",
    "len(session_time.loc[session_time['session_time_m']==0])"
   ]
  },
  {
   "cell_type": "markdown",
   "id": "c1ca9692",
   "metadata": {},
   "source": [
    "Так как в сессии всего одно событие, то время сессии не подсчитывается, т.е. равно 0 минут 0 секунд."
   ]
  },
  {
   "cell_type": "markdown",
   "id": "3c71a17e",
   "metadata": {},
   "source": [
    "Это скажется на общем количестве сессий. Также это будет влиять на распределение пользователей по длительности одной сессии. Для данного исследования это по-сути не пригодится. Но эти сессии не удалены из датасета, просто чтобы помнить о них. А на этапе сегментации, при построении распределения по среднему времени сессии, будут отсечены пользователи с одной такой \"нулевой\" сессией путем фильтрации."
   ]
  },
  {
   "cell_type": "code",
   "execution_count": 66,
   "id": "20a2b7e9",
   "metadata": {},
   "outputs": [
    {
     "data": {
      "text/html": [
       "<div>\n",
       "<style scoped>\n",
       "    .dataframe tbody tr th:only-of-type {\n",
       "        vertical-align: middle;\n",
       "    }\n",
       "\n",
       "    .dataframe tbody tr th {\n",
       "        vertical-align: top;\n",
       "    }\n",
       "\n",
       "    .dataframe thead th {\n",
       "        text-align: right;\n",
       "    }\n",
       "</style>\n",
       "<table border=\"1\" class=\"dataframe\">\n",
       "  <thead>\n",
       "    <tr style=\"text-align: right;\">\n",
       "      <th></th>\n",
       "      <th>event_time</th>\n",
       "      <th>event_name</th>\n",
       "      <th>user_id</th>\n",
       "      <th>source</th>\n",
       "      <th>session_id</th>\n",
       "    </tr>\n",
       "  </thead>\n",
       "  <tbody>\n",
       "    <tr>\n",
       "      <th>0</th>\n",
       "      <td>2019-10-07 00:00:00</td>\n",
       "      <td>advert_open</td>\n",
       "      <td>020292ab-89bc-4156-9acf-68bc2783f894</td>\n",
       "      <td>other</td>\n",
       "      <td>1</td>\n",
       "    </tr>\n",
       "    <tr>\n",
       "      <th>1</th>\n",
       "      <td>2019-10-07 00:00:01</td>\n",
       "      <td>tips_show</td>\n",
       "      <td>020292ab-89bc-4156-9acf-68bc2783f894</td>\n",
       "      <td>other</td>\n",
       "      <td>1</td>\n",
       "    </tr>\n",
       "    <tr>\n",
       "      <th>2</th>\n",
       "      <td>2019-10-07 00:00:02</td>\n",
       "      <td>tips_show</td>\n",
       "      <td>cf7eda61-9349-469f-ac27-e5b6f5ec475c</td>\n",
       "      <td>yandex</td>\n",
       "      <td>2</td>\n",
       "    </tr>\n",
       "    <tr>\n",
       "      <th>3</th>\n",
       "      <td>2019-10-07 00:00:07</td>\n",
       "      <td>tips_show</td>\n",
       "      <td>020292ab-89bc-4156-9acf-68bc2783f894</td>\n",
       "      <td>other</td>\n",
       "      <td>1</td>\n",
       "    </tr>\n",
       "    <tr>\n",
       "      <th>4</th>\n",
       "      <td>2019-10-07 00:00:56</td>\n",
       "      <td>advert_open</td>\n",
       "      <td>cf7eda61-9349-469f-ac27-e5b6f5ec475c</td>\n",
       "      <td>yandex</td>\n",
       "      <td>2</td>\n",
       "    </tr>\n",
       "  </tbody>\n",
       "</table>\n",
       "</div>"
      ],
      "text/plain": [
       "           event_time   event_name                               user_id  \\\n",
       "0 2019-10-07 00:00:00  advert_open  020292ab-89bc-4156-9acf-68bc2783f894   \n",
       "1 2019-10-07 00:00:01    tips_show  020292ab-89bc-4156-9acf-68bc2783f894   \n",
       "2 2019-10-07 00:00:02    tips_show  cf7eda61-9349-469f-ac27-e5b6f5ec475c   \n",
       "3 2019-10-07 00:00:07    tips_show  020292ab-89bc-4156-9acf-68bc2783f894   \n",
       "4 2019-10-07 00:00:56  advert_open  cf7eda61-9349-469f-ac27-e5b6f5ec475c   \n",
       "\n",
       "   source  session_id  \n",
       "0   other           1  \n",
       "1   other           1  \n",
       "2  yandex           2  \n",
       "3   other           1  \n",
       "4  yandex           2  "
      ]
     },
     "execution_count": 66,
     "metadata": {},
     "output_type": "execute_result"
    }
   ],
   "source": [
    "mobile_dataset.head()"
   ]
  },
  {
   "cell_type": "code",
   "execution_count": 67,
   "id": "f331245f",
   "metadata": {},
   "outputs": [
    {
     "data": {
      "text/html": [
       "<div>\n",
       "<style scoped>\n",
       "    .dataframe tbody tr th:only-of-type {\n",
       "        vertical-align: middle;\n",
       "    }\n",
       "\n",
       "    .dataframe tbody tr th {\n",
       "        vertical-align: top;\n",
       "    }\n",
       "\n",
       "    .dataframe thead th {\n",
       "        text-align: right;\n",
       "    }\n",
       "</style>\n",
       "<table border=\"1\" class=\"dataframe\">\n",
       "  <thead>\n",
       "    <tr style=\"text-align: right;\">\n",
       "      <th></th>\n",
       "      <th>user_id</th>\n",
       "      <th>session_id</th>\n",
       "      <th>session_start</th>\n",
       "      <th>source</th>\n",
       "    </tr>\n",
       "  </thead>\n",
       "  <tbody>\n",
       "    <tr>\n",
       "      <th>0</th>\n",
       "      <td>0001b1d5-b74a-4cbf-aeb0-7df5947bf349</td>\n",
       "      <td>92</td>\n",
       "      <td>2019-10-07 13:39:45</td>\n",
       "      <td>other</td>\n",
       "    </tr>\n",
       "    <tr>\n",
       "      <th>1</th>\n",
       "      <td>0001b1d5-b74a-4cbf-aeb0-7df5947bf349</td>\n",
       "      <td>827</td>\n",
       "      <td>2019-10-09 18:33:55</td>\n",
       "      <td>other</td>\n",
       "    </tr>\n",
       "    <tr>\n",
       "      <th>2</th>\n",
       "      <td>0001b1d5-b74a-4cbf-aeb0-7df5947bf349</td>\n",
       "      <td>5477</td>\n",
       "      <td>2019-10-21 19:52:30</td>\n",
       "      <td>other</td>\n",
       "    </tr>\n",
       "    <tr>\n",
       "      <th>3</th>\n",
       "      <td>0001b1d5-b74a-4cbf-aeb0-7df5947bf349</td>\n",
       "      <td>5664</td>\n",
       "      <td>2019-10-22 11:18:14</td>\n",
       "      <td>other</td>\n",
       "    </tr>\n",
       "    <tr>\n",
       "      <th>4</th>\n",
       "      <td>00157779-810c-4498-9e05-a1e9e3cedf93</td>\n",
       "      <td>4644</td>\n",
       "      <td>2019-10-19 21:34:33</td>\n",
       "      <td>yandex</td>\n",
       "    </tr>\n",
       "  </tbody>\n",
       "</table>\n",
       "</div>"
      ],
      "text/plain": [
       "                                user_id  session_id       session_start  \\\n",
       "0  0001b1d5-b74a-4cbf-aeb0-7df5947bf349          92 2019-10-07 13:39:45   \n",
       "1  0001b1d5-b74a-4cbf-aeb0-7df5947bf349         827 2019-10-09 18:33:55   \n",
       "2  0001b1d5-b74a-4cbf-aeb0-7df5947bf349        5477 2019-10-21 19:52:30   \n",
       "3  0001b1d5-b74a-4cbf-aeb0-7df5947bf349        5664 2019-10-22 11:18:14   \n",
       "4  00157779-810c-4498-9e05-a1e9e3cedf93        4644 2019-10-19 21:34:33   \n",
       "\n",
       "   source  \n",
       "0   other  \n",
       "1   other  \n",
       "2   other  \n",
       "3   other  \n",
       "4  yandex  "
      ]
     },
     "execution_count": 67,
     "metadata": {},
     "output_type": "execute_result"
    }
   ],
   "source": [
    "# Группировка датасета по session_id\n",
    "mobile_dataset_session = (\n",
    "        mobile_dataset.sort_values(by=['user_id', 'event_time'])\n",
    "        .groupby(['user_id', 'session_id'])\n",
    "        .agg(\n",
    "            {\n",
    "                'event_time': 'first',\n",
    "                'source': 'first'\n",
    "            }\n",
    "        )\n",
    "        .rename(columns={'event_time': 'session_start'})\n",
    "        .reset_index()\n",
    "    )\n",
    "mobile_dataset_session.head()"
   ]
  },
  {
   "cell_type": "code",
   "execution_count": 69,
   "id": "02343f32",
   "metadata": {},
   "outputs": [
    {
     "data": {
      "text/html": [
       "<div>\n",
       "<style scoped>\n",
       "    .dataframe tbody tr th:only-of-type {\n",
       "        vertical-align: middle;\n",
       "    }\n",
       "\n",
       "    .dataframe tbody tr th {\n",
       "        vertical-align: top;\n",
       "    }\n",
       "\n",
       "    .dataframe thead th {\n",
       "        text-align: right;\n",
       "    }\n",
       "</style>\n",
       "<table border=\"1\" class=\"dataframe\">\n",
       "  <thead>\n",
       "    <tr style=\"text-align: right;\">\n",
       "      <th></th>\n",
       "      <th>user_id</th>\n",
       "      <th>session_id</th>\n",
       "      <th>session_start</th>\n",
       "      <th>source</th>\n",
       "      <th>session_time_m_x</th>\n",
       "      <th>session_time_m_y</th>\n",
       "    </tr>\n",
       "  </thead>\n",
       "  <tbody>\n",
       "    <tr>\n",
       "      <th>0</th>\n",
       "      <td>0001b1d5-b74a-4cbf-aeb0-7df5947bf349</td>\n",
       "      <td>92</td>\n",
       "      <td>2019-10-07 13:39:45</td>\n",
       "      <td>other</td>\n",
       "      <td>9.93</td>\n",
       "      <td>9.93</td>\n",
       "    </tr>\n",
       "    <tr>\n",
       "      <th>1</th>\n",
       "      <td>0001b1d5-b74a-4cbf-aeb0-7df5947bf349</td>\n",
       "      <td>827</td>\n",
       "      <td>2019-10-09 18:33:55</td>\n",
       "      <td>other</td>\n",
       "      <td>8.45</td>\n",
       "      <td>8.45</td>\n",
       "    </tr>\n",
       "    <tr>\n",
       "      <th>2</th>\n",
       "      <td>0001b1d5-b74a-4cbf-aeb0-7df5947bf349</td>\n",
       "      <td>5477</td>\n",
       "      <td>2019-10-21 19:52:30</td>\n",
       "      <td>other</td>\n",
       "      <td>15.00</td>\n",
       "      <td>15.00</td>\n",
       "    </tr>\n",
       "    <tr>\n",
       "      <th>3</th>\n",
       "      <td>0001b1d5-b74a-4cbf-aeb0-7df5947bf349</td>\n",
       "      <td>5664</td>\n",
       "      <td>2019-10-22 11:18:14</td>\n",
       "      <td>other</td>\n",
       "      <td>12.63</td>\n",
       "      <td>12.63</td>\n",
       "    </tr>\n",
       "    <tr>\n",
       "      <th>4</th>\n",
       "      <td>00157779-810c-4498-9e05-a1e9e3cedf93</td>\n",
       "      <td>4644</td>\n",
       "      <td>2019-10-19 21:34:33</td>\n",
       "      <td>yandex</td>\n",
       "      <td>25.35</td>\n",
       "      <td>25.35</td>\n",
       "    </tr>\n",
       "  </tbody>\n",
       "</table>\n",
       "</div>"
      ],
      "text/plain": [
       "                                user_id  session_id       session_start  \\\n",
       "0  0001b1d5-b74a-4cbf-aeb0-7df5947bf349          92 2019-10-07 13:39:45   \n",
       "1  0001b1d5-b74a-4cbf-aeb0-7df5947bf349         827 2019-10-09 18:33:55   \n",
       "2  0001b1d5-b74a-4cbf-aeb0-7df5947bf349        5477 2019-10-21 19:52:30   \n",
       "3  0001b1d5-b74a-4cbf-aeb0-7df5947bf349        5664 2019-10-22 11:18:14   \n",
       "4  00157779-810c-4498-9e05-a1e9e3cedf93        4644 2019-10-19 21:34:33   \n",
       "\n",
       "   source  session_time_m_x  session_time_m_y  \n",
       "0   other              9.93              9.93  \n",
       "1   other              8.45              8.45  \n",
       "2   other             15.00             15.00  \n",
       "3   other             12.63             12.63  \n",
       "4  yandex             25.35             25.35  "
      ]
     },
     "metadata": {},
     "output_type": "display_data"
    },
    {
     "name": "stdout",
     "output_type": "stream",
     "text": [
      "<class 'pandas.core.frame.DataFrame'>\n",
      "Int64Index: 11537 entries, 0 to 11536\n",
      "Data columns (total 6 columns):\n",
      " #   Column            Non-Null Count  Dtype         \n",
      "---  ------            --------------  -----         \n",
      " 0   user_id           11537 non-null  object        \n",
      " 1   session_id        11537 non-null  int64         \n",
      " 2   session_start     11537 non-null  datetime64[ns]\n",
      " 3   source            11537 non-null  object        \n",
      " 4   session_time_m_x  11537 non-null  float64       \n",
      " 5   session_time_m_y  11537 non-null  float64       \n",
      "dtypes: datetime64[ns](1), float64(2), int64(1), object(2)\n",
      "memory usage: 630.9+ KB\n"
     ]
    }
   ],
   "source": [
    "# Добавление столбца session_time_m в датасет путем слияния\n",
    "mobile_dataset_session = mobile_dataset_session.merge(\n",
    "        session_time[['session_id', 'session_time_m']],\n",
    "        on=['session_id'],\n",
    "        how='left',\n",
    "    )\n",
    "display(mobile_dataset_session.head())\n",
    "mobile_dataset_session.info()"
   ]
  },
  {
   "cell_type": "markdown",
   "id": "6377687a",
   "metadata": {},
   "source": [
    "### Подсчет количества событий для пользователя"
   ]
  },
  {
   "cell_type": "code",
   "execution_count": 70,
   "id": "ff8a7957",
   "metadata": {},
   "outputs": [
    {
     "data": {
      "text/html": [
       "<div>\n",
       "<style scoped>\n",
       "    .dataframe tbody tr th:only-of-type {\n",
       "        vertical-align: middle;\n",
       "    }\n",
       "\n",
       "    .dataframe tbody tr th {\n",
       "        vertical-align: top;\n",
       "    }\n",
       "\n",
       "    .dataframe thead th {\n",
       "        text-align: right;\n",
       "    }\n",
       "</style>\n",
       "<table border=\"1\" class=\"dataframe\">\n",
       "  <thead>\n",
       "    <tr style=\"text-align: right;\">\n",
       "      <th></th>\n",
       "      <th>user_id</th>\n",
       "      <th>event_count</th>\n",
       "      <th>sessions_count</th>\n",
       "      <th>source</th>\n",
       "    </tr>\n",
       "  </thead>\n",
       "  <tbody>\n",
       "    <tr>\n",
       "      <th>3397</th>\n",
       "      <td>cb36854f-570a-41f4-baa8-36680b396370</td>\n",
       "      <td>470</td>\n",
       "      <td>79</td>\n",
       "      <td>yandex</td>\n",
       "    </tr>\n",
       "    <tr>\n",
       "      <th>3794</th>\n",
       "      <td>e13f9f32-7ae3-4204-8d60-898db040bcfc</td>\n",
       "      <td>463</td>\n",
       "      <td>45</td>\n",
       "      <td>yandex</td>\n",
       "    </tr>\n",
       "    <tr>\n",
       "      <th>2629</th>\n",
       "      <td>9ce63488-758a-481a-bcb5-a02b467e1d84</td>\n",
       "      <td>406</td>\n",
       "      <td>17</td>\n",
       "      <td>yandex</td>\n",
       "    </tr>\n",
       "    <tr>\n",
       "      <th>615</th>\n",
       "      <td>21230dd9-2f7f-4b77-a436-43d4d10388e0</td>\n",
       "      <td>398</td>\n",
       "      <td>116</td>\n",
       "      <td>yandex</td>\n",
       "    </tr>\n",
       "    <tr>\n",
       "      <th>3162</th>\n",
       "      <td>be1449f6-ca45-4f94-93a7-ea4b079b8f0f</td>\n",
       "      <td>396</td>\n",
       "      <td>55</td>\n",
       "      <td>google</td>\n",
       "    </tr>\n",
       "  </tbody>\n",
       "</table>\n",
       "</div>"
      ],
      "text/plain": [
       "                                   user_id  event_count  sessions_count  \\\n",
       "3397  cb36854f-570a-41f4-baa8-36680b396370          470              79   \n",
       "3794  e13f9f32-7ae3-4204-8d60-898db040bcfc          463              45   \n",
       "2629  9ce63488-758a-481a-bcb5-a02b467e1d84          406              17   \n",
       "615   21230dd9-2f7f-4b77-a436-43d4d10388e0          398             116   \n",
       "3162  be1449f6-ca45-4f94-93a7-ea4b079b8f0f          396              55   \n",
       "\n",
       "      source  \n",
       "3397  yandex  \n",
       "3794  yandex  \n",
       "2629  yandex  \n",
       "615   yandex  \n",
       "3162  google  "
      ]
     },
     "execution_count": 70,
     "metadata": {},
     "output_type": "execute_result"
    }
   ],
   "source": [
    "# подсчет количества событий и количества сессий для каждого пользователя\n",
    "# вывод источника привлечения\n",
    "event_count = (mobile_dataset\n",
    "                .groupby(['user_id'])\n",
    "                .agg(\n",
    "                    {\n",
    "                        'event_name': 'count',\n",
    "                        'session_id': 'nunique',\n",
    "                        'source': 'first'\n",
    "                    }\n",
    "                )\n",
    "                .rename(columns=\n",
    "                    {\n",
    "                        'event_name': 'event_count',\n",
    "                        'session_id': 'sessions_count'\n",
    "                    }\n",
    "                )\n",
    "                .reset_index()\n",
    ")\n",
    "event_count.sort_values('event_count', ascending=False).head()"
   ]
  },
  {
   "cell_type": "code",
   "execution_count": 71,
   "id": "40de2523",
   "metadata": {},
   "outputs": [
    {
     "data": {
      "image/png": "[encoded data removed]",
      "text/plain": [
       "<Figure size 1152x576 with 1 Axes>"
      ]
     },
     "metadata": {
      "needs_background": "light"
     },
     "output_type": "display_data"
    },
    {
     "data": {
      "image/png": "[encoded data removed]",
      "text/plain": [
       "<Figure size 1152x576 with 1 Axes>"
      ]
     },
     "metadata": {
      "needs_background": "light"
     },
     "output_type": "display_data"
    }
   ],
   "source": [
    "# количество событий для пользователей и количество уникальных сессий для каждого источника\n",
    "for x in ['event_count', 'sessions_count']:\n",
    "    plt.figure(figsize=(16,8))\n",
    "    ax1 = sns.boxplot(\n",
    "        data=event_count, x=x, y='source',\n",
    "        palette='YlGnBu',\n",
    "        orient='h'\n",
    "    )\n",
    "    plt.title('Диаграмма размаха количества событий и сессий пользователя для источника')\n",
    "    plt.show()"
   ]
  },
  {
   "cell_type": "code",
   "execution_count": 72,
   "id": "271c2982",
   "metadata": {},
   "outputs": [
    {
     "data": {
      "text/html": [
       "<div>\n",
       "<style scoped>\n",
       "    .dataframe tbody tr th:only-of-type {\n",
       "        vertical-align: middle;\n",
       "    }\n",
       "\n",
       "    .dataframe tbody tr th {\n",
       "        vertical-align: top;\n",
       "    }\n",
       "\n",
       "    .dataframe thead tr th {\n",
       "        text-align: left;\n",
       "    }\n",
       "\n",
       "    .dataframe thead tr:last-of-type th {\n",
       "        text-align: right;\n",
       "    }\n",
       "</style>\n",
       "<table border=\"1\" class=\"dataframe\">\n",
       "  <thead>\n",
       "    <tr>\n",
       "      <th></th>\n",
       "      <th colspan=\"8\" halign=\"left\">event_count</th>\n",
       "      <th colspan=\"8\" halign=\"left\">sessions_count</th>\n",
       "    </tr>\n",
       "    <tr>\n",
       "      <th></th>\n",
       "      <th>count</th>\n",
       "      <th>mean</th>\n",
       "      <th>std</th>\n",
       "      <th>min</th>\n",
       "      <th>25%</th>\n",
       "      <th>50%</th>\n",
       "      <th>75%</th>\n",
       "      <th>max</th>\n",
       "      <th>count</th>\n",
       "      <th>mean</th>\n",
       "      <th>std</th>\n",
       "      <th>min</th>\n",
       "      <th>25%</th>\n",
       "      <th>50%</th>\n",
       "      <th>75%</th>\n",
       "      <th>max</th>\n",
       "    </tr>\n",
       "    <tr>\n",
       "      <th>source</th>\n",
       "      <th></th>\n",
       "      <th></th>\n",
       "      <th></th>\n",
       "      <th></th>\n",
       "      <th></th>\n",
       "      <th></th>\n",
       "      <th></th>\n",
       "      <th></th>\n",
       "      <th></th>\n",
       "      <th></th>\n",
       "      <th></th>\n",
       "      <th></th>\n",
       "      <th></th>\n",
       "      <th></th>\n",
       "      <th></th>\n",
       "      <th></th>\n",
       "    </tr>\n",
       "  </thead>\n",
       "  <tbody>\n",
       "    <tr>\n",
       "      <th>google</th>\n",
       "      <td>1129.0</td>\n",
       "      <td>17.854739</td>\n",
       "      <td>31.491727</td>\n",
       "      <td>1.0</td>\n",
       "      <td>5.0</td>\n",
       "      <td>9.0</td>\n",
       "      <td>18.0</td>\n",
       "      <td>396.0</td>\n",
       "      <td>1129.0</td>\n",
       "      <td>2.816652</td>\n",
       "      <td>4.546553</td>\n",
       "      <td>1.0</td>\n",
       "      <td>1.0</td>\n",
       "      <td>2.0</td>\n",
       "      <td>3.0</td>\n",
       "      <td>58.0</td>\n",
       "    </tr>\n",
       "    <tr>\n",
       "      <th>other</th>\n",
       "      <td>1230.0</td>\n",
       "      <td>15.488618</td>\n",
       "      <td>21.920363</td>\n",
       "      <td>1.0</td>\n",
       "      <td>5.0</td>\n",
       "      <td>9.0</td>\n",
       "      <td>15.0</td>\n",
       "      <td>241.0</td>\n",
       "      <td>1230.0</td>\n",
       "      <td>2.695122</td>\n",
       "      <td>3.463241</td>\n",
       "      <td>1.0</td>\n",
       "      <td>1.0</td>\n",
       "      <td>2.0</td>\n",
       "      <td>3.0</td>\n",
       "      <td>46.0</td>\n",
       "    </tr>\n",
       "    <tr>\n",
       "      <th>yandex</th>\n",
       "      <td>1934.0</td>\n",
       "      <td>17.500000</td>\n",
       "      <td>30.487753</td>\n",
       "      <td>1.0</td>\n",
       "      <td>5.0</td>\n",
       "      <td>9.0</td>\n",
       "      <td>17.0</td>\n",
       "      <td>470.0</td>\n",
       "      <td>1934.0</td>\n",
       "      <td>2.607032</td>\n",
       "      <td>4.356426</td>\n",
       "      <td>1.0</td>\n",
       "      <td>1.0</td>\n",
       "      <td>2.0</td>\n",
       "      <td>3.0</td>\n",
       "      <td>116.0</td>\n",
       "    </tr>\n",
       "  </tbody>\n",
       "</table>\n",
       "</div>"
      ],
      "text/plain": [
       "       event_count                                                    \\\n",
       "             count       mean        std  min  25%  50%   75%    max   \n",
       "source                                                                 \n",
       "google      1129.0  17.854739  31.491727  1.0  5.0  9.0  18.0  396.0   \n",
       "other       1230.0  15.488618  21.920363  1.0  5.0  9.0  15.0  241.0   \n",
       "yandex      1934.0  17.500000  30.487753  1.0  5.0  9.0  17.0  470.0   \n",
       "\n",
       "       sessions_count                                                 \n",
       "                count      mean       std  min  25%  50%  75%    max  \n",
       "source                                                                \n",
       "google         1129.0  2.816652  4.546553  1.0  1.0  2.0  3.0   58.0  \n",
       "other          1230.0  2.695122  3.463241  1.0  1.0  2.0  3.0   46.0  \n",
       "yandex         1934.0  2.607032  4.356426  1.0  1.0  2.0  3.0  116.0  "
      ]
     },
     "execution_count": 72,
     "metadata": {},
     "output_type": "execute_result"
    }
   ],
   "source": [
    "# числовое описание данных количества сессий и событий для пользователя\n",
    "event_count.groupby('source').describe()"
   ]
  },
  {
   "cell_type": "markdown",
   "id": "4b2e11fd",
   "metadata": {},
   "source": [
    "Из диаграмм размаха и числовых описаний количества событий и сессий для каждого пользователя можно сделать выводы:\n",
    "- на диаграммах присутствуют выбросы, значит среднее количество нужно определять по медиане\n",
    "- среднее количество событий для пользователя и среднее количество сессий для разных исчтоников совпадают\n",
    "- для пользователей из Яндекса и Google больше характерны выбросы"
   ]
  },
  {
   "cell_type": "code",
   "execution_count": 73,
   "id": "80d2dc77",
   "metadata": {},
   "outputs": [
    {
     "data": {
      "text/html": [
       "<div>\n",
       "<style scoped>\n",
       "    .dataframe tbody tr th:only-of-type {\n",
       "        vertical-align: middle;\n",
       "    }\n",
       "\n",
       "    .dataframe tbody tr th {\n",
       "        vertical-align: top;\n",
       "    }\n",
       "\n",
       "    .dataframe thead th {\n",
       "        text-align: right;\n",
       "    }\n",
       "</style>\n",
       "<table border=\"1\" class=\"dataframe\">\n",
       "  <thead>\n",
       "    <tr style=\"text-align: right;\">\n",
       "      <th></th>\n",
       "      <th>user_id</th>\n",
       "      <th>session_id</th>\n",
       "      <th>event_count</th>\n",
       "    </tr>\n",
       "  </thead>\n",
       "  <tbody>\n",
       "    <tr>\n",
       "      <th>0</th>\n",
       "      <td>0001b1d5-b74a-4cbf-aeb0-7df5947bf349</td>\n",
       "      <td>92</td>\n",
       "      <td>9</td>\n",
       "    </tr>\n",
       "    <tr>\n",
       "      <th>1</th>\n",
       "      <td>0001b1d5-b74a-4cbf-aeb0-7df5947bf349</td>\n",
       "      <td>827</td>\n",
       "      <td>4</td>\n",
       "    </tr>\n",
       "    <tr>\n",
       "      <th>2</th>\n",
       "      <td>0001b1d5-b74a-4cbf-aeb0-7df5947bf349</td>\n",
       "      <td>5477</td>\n",
       "      <td>14</td>\n",
       "    </tr>\n",
       "    <tr>\n",
       "      <th>3</th>\n",
       "      <td>0001b1d5-b74a-4cbf-aeb0-7df5947bf349</td>\n",
       "      <td>5664</td>\n",
       "      <td>8</td>\n",
       "    </tr>\n",
       "    <tr>\n",
       "      <th>4</th>\n",
       "      <td>00157779-810c-4498-9e05-a1e9e3cedf93</td>\n",
       "      <td>4644</td>\n",
       "      <td>9</td>\n",
       "    </tr>\n",
       "  </tbody>\n",
       "</table>\n",
       "</div>"
      ],
      "text/plain": [
       "                                user_id  session_id  event_count\n",
       "0  0001b1d5-b74a-4cbf-aeb0-7df5947bf349          92            9\n",
       "1  0001b1d5-b74a-4cbf-aeb0-7df5947bf349         827            4\n",
       "2  0001b1d5-b74a-4cbf-aeb0-7df5947bf349        5477           14\n",
       "3  0001b1d5-b74a-4cbf-aeb0-7df5947bf349        5664            8\n",
       "4  00157779-810c-4498-9e05-a1e9e3cedf93        4644            9"
      ]
     },
     "execution_count": 73,
     "metadata": {},
     "output_type": "execute_result"
    }
   ],
   "source": [
    "# вычислим среднее количество событий в сессии\n",
    "event_session_count = (mobile_dataset\n",
    "                .groupby(['user_id', 'session_id'])\n",
    "                .agg(\n",
    "                    {\n",
    "                        'event_name': 'count'\n",
    "                    }\n",
    "                )\n",
    "                .rename(columns=\n",
    "                    {\n",
    "                        'event_name': 'event_count'\n",
    "                    }\n",
    "                )\n",
    "                .reset_index()\n",
    ")\n",
    "event_session_count.head()"
   ]
  },
  {
   "cell_type": "code",
   "execution_count": 74,
   "id": "9774ee2d",
   "metadata": {},
   "outputs": [
    {
     "data": {
      "image/png": "[encoded data removed]",
      "text/plain": [
       "<Figure size 1152x576 with 1 Axes>"
      ]
     },
     "metadata": {
      "needs_background": "light"
     },
     "output_type": "display_data"
    },
    {
     "data": {
      "text/plain": [
       "count    11537.000000\n",
       "mean         6.332149\n",
       "std          8.417438\n",
       "min          1.000000\n",
       "25%          2.000000\n",
       "50%          4.000000\n",
       "75%          8.000000\n",
       "max        138.000000\n",
       "Name: event_count, dtype: float64"
      ]
     },
     "execution_count": 74,
     "metadata": {},
     "output_type": "execute_result"
    }
   ],
   "source": [
    "# количество событий для пользователей и количество уникальных сессий\n",
    "plt.figure(figsize=(16,8))\n",
    "ax1 = sns.boxplot(\n",
    "    data=event_session_count['event_count'],\n",
    "    palette='YlGnBu',\n",
    "    orient='h'\n",
    ")\n",
    "plt.title('Диаграмма размаха количества событий в сессии для пользователя')\n",
    "plt.show()\n",
    "\n",
    "event_session_count['event_count'].describe()"
   ]
  },
  {
   "cell_type": "markdown",
   "id": "d7cf874e",
   "metadata": {},
   "source": [
    "По диаграмме размахе для количества событий в сессии также присутствуют выбросы, значит на среднее значение смотрим по медиане оно равно 4"
   ]
  },
  {
   "cell_type": "code",
   "execution_count": 75,
   "id": "fd0ace1c",
   "metadata": {},
   "outputs": [
    {
     "data": {
      "image/png": "[encoded data removed]",
      "text/plain": [
       "<Figure size 1008x360 with 1 Axes>"
      ]
     },
     "metadata": {
      "needs_background": "light"
     },
     "output_type": "display_data"
    },
    {
     "data": {
      "text/html": [
       "<div>\n",
       "<style scoped>\n",
       "    .dataframe tbody tr th:only-of-type {\n",
       "        vertical-align: middle;\n",
       "    }\n",
       "\n",
       "    .dataframe tbody tr th {\n",
       "        vertical-align: top;\n",
       "    }\n",
       "\n",
       "    .dataframe thead th {\n",
       "        text-align: right;\n",
       "    }\n",
       "</style>\n",
       "<table border=\"1\" class=\"dataframe\">\n",
       "  <thead>\n",
       "    <tr style=\"text-align: right;\">\n",
       "      <th></th>\n",
       "      <th>event_count</th>\n",
       "      <th>sessions_count</th>\n",
       "    </tr>\n",
       "  </thead>\n",
       "  <tbody>\n",
       "    <tr>\n",
       "      <th>event_count</th>\n",
       "      <td>1.000000</td>\n",
       "      <td>0.733203</td>\n",
       "    </tr>\n",
       "    <tr>\n",
       "      <th>sessions_count</th>\n",
       "      <td>0.733203</td>\n",
       "      <td>1.000000</td>\n",
       "    </tr>\n",
       "  </tbody>\n",
       "</table>\n",
       "</div>"
      ],
      "text/plain": [
       "                event_count  sessions_count\n",
       "event_count        1.000000        0.733203\n",
       "sessions_count     0.733203        1.000000"
      ]
     },
     "execution_count": 75,
     "metadata": {},
     "output_type": "execute_result"
    }
   ],
   "source": [
    "# узнаем связаны ли количество сессий с количество событий\n",
    "event_count.plot(x='event_count', y='sessions_count', kind='scatter', grid=True, figsize=(14,5), alpha=0.25)\n",
    "plt.title('Диаграмме рассеяния количества событий и количества сессий')\n",
    "plt.xlabel('Количество событий')\n",
    "plt.ylabel('Количество сессий')\n",
    "plt.show()\n",
    "\n",
    "event_count.corr()"
   ]
  },
  {
   "cell_type": "markdown",
   "id": "e712a8d7",
   "metadata": {},
   "source": [
    "По диаграмме рассеяния и корреляции можно сделать вывод, что между количеством событий и сессий для пользователей есть сильная прямая связь."
   ]
  },
  {
   "cell_type": "markdown",
   "id": "56ecae46",
   "metadata": {},
   "source": [
    "### События"
   ]
  },
  {
   "cell_type": "code",
   "execution_count": 76,
   "id": "bdec4ca9",
   "metadata": {},
   "outputs": [
    {
     "data": {
      "text/plain": [
       "tips_show        39907\n",
       "photos_show       9352\n",
       "search            6765\n",
       "advert_open       6146\n",
       "contacts_show     4376\n",
       "map               3749\n",
       "favorites_add     1414\n",
       "tips_click         811\n",
       "contacts_call      534\n",
       "Name: event_name, dtype: int64"
      ]
     },
     "execution_count": 76,
     "metadata": {},
     "output_type": "execute_result"
    }
   ],
   "source": [
    "# количество событий\n",
    "mobile_dataset['event_name'].value_counts()"
   ]
  },
  {
   "cell_type": "code",
   "execution_count": 77,
   "id": "a15370a0",
   "metadata": {},
   "outputs": [
    {
     "data": {
      "image/png": "[encoded data removed]",
      "text/plain": [
       "<Figure size 1152x432 with 1 Axes>"
      ]
     },
     "metadata": {
      "needs_background": "light"
     },
     "output_type": "display_data"
    }
   ],
   "source": [
    "# гистограмма событий распределенных по времени\n",
    "plt.figure(figsize=(16,6))\n",
    "sns.histplot(x='event_time', data=mobile_dataset, bins=250)\n",
    "plt.show()"
   ]
  },
  {
   "cell_type": "markdown",
   "id": "32e1a3a1",
   "metadata": {},
   "source": [
    "По гистограмме видно, что события распределены равномерно по дням, а ночью идет спад активности пользователей.<br>\n",
    "Посмотрим сколько событий и каких возникало для уникальных пользователей."
   ]
  },
  {
   "cell_type": "code",
   "execution_count": 78,
   "id": "450c2728",
   "metadata": {},
   "outputs": [
    {
     "data": {
      "text/html": [
       "<div>\n",
       "<style scoped>\n",
       "    .dataframe tbody tr th:only-of-type {\n",
       "        vertical-align: middle;\n",
       "    }\n",
       "\n",
       "    .dataframe tbody tr th {\n",
       "        vertical-align: top;\n",
       "    }\n",
       "\n",
       "    .dataframe thead th {\n",
       "        text-align: right;\n",
       "    }\n",
       "</style>\n",
       "<table border=\"1\" class=\"dataframe\">\n",
       "  <thead>\n",
       "    <tr style=\"text-align: right;\">\n",
       "      <th></th>\n",
       "      <th>user_id</th>\n",
       "      <th>percent_of_all_users</th>\n",
       "    </tr>\n",
       "    <tr>\n",
       "      <th>event_name</th>\n",
       "      <th></th>\n",
       "      <th></th>\n",
       "    </tr>\n",
       "  </thead>\n",
       "  <tbody>\n",
       "    <tr>\n",
       "      <th>tips_show</th>\n",
       "      <td>2801</td>\n",
       "      <td>65.25</td>\n",
       "    </tr>\n",
       "    <tr>\n",
       "      <th>search</th>\n",
       "      <td>1666</td>\n",
       "      <td>38.81</td>\n",
       "    </tr>\n",
       "    <tr>\n",
       "      <th>map</th>\n",
       "      <td>1456</td>\n",
       "      <td>33.92</td>\n",
       "    </tr>\n",
       "    <tr>\n",
       "      <th>photos_show</th>\n",
       "      <td>1095</td>\n",
       "      <td>25.51</td>\n",
       "    </tr>\n",
       "    <tr>\n",
       "      <th>contacts_show</th>\n",
       "      <td>981</td>\n",
       "      <td>22.85</td>\n",
       "    </tr>\n",
       "    <tr>\n",
       "      <th>advert_open</th>\n",
       "      <td>751</td>\n",
       "      <td>17.49</td>\n",
       "    </tr>\n",
       "    <tr>\n",
       "      <th>favorites_add</th>\n",
       "      <td>351</td>\n",
       "      <td>8.18</td>\n",
       "    </tr>\n",
       "    <tr>\n",
       "      <th>tips_click</th>\n",
       "      <td>322</td>\n",
       "      <td>7.50</td>\n",
       "    </tr>\n",
       "    <tr>\n",
       "      <th>contacts_call</th>\n",
       "      <td>213</td>\n",
       "      <td>4.96</td>\n",
       "    </tr>\n",
       "  </tbody>\n",
       "</table>\n",
       "</div>"
      ],
      "text/plain": [
       "               user_id  percent_of_all_users\n",
       "event_name                                  \n",
       "tips_show         2801                 65.25\n",
       "search            1666                 38.81\n",
       "map               1456                 33.92\n",
       "photos_show       1095                 25.51\n",
       "contacts_show      981                 22.85\n",
       "advert_open        751                 17.49\n",
       "favorites_add      351                  8.18\n",
       "tips_click         322                  7.50\n",
       "contacts_call      213                  4.96"
      ]
     },
     "execution_count": 78,
     "metadata": {},
     "output_type": "execute_result"
    }
   ],
   "source": [
    "# количество уникальных пользователей для каждого события\n",
    "# percent_of_all_users - процент от общего количества уникальных пользователей \n",
    "users_count = mobile_dataset.groupby('event_name').agg({'user_id':'nunique'}).sort_values('user_id', ascending=False)\n",
    "users_count['percent_of_all_users'] = round(100 * users_count['user_id'] / mobile_dataset['user_id'].nunique(), 2)\n",
    "users_count"
   ]
  },
  {
   "cell_type": "markdown",
   "id": "0f7312ce",
   "metadata": {},
   "source": [
    "Исходя из количества уникальных пользователей для события можно сказать:\n",
    "- меньше 10% пользователей, увидевших рекомендованное объявление, перешли на него\n",
    "- 25% пользователей просмотривает фотографии в объявлениях\n",
    "- довольно много пользователей пользуются картой для отображения объявлений\n",
    "- из пользователей просмотревших контакты продавца, через приложение звонят около 20%"
   ]
  },
  {
   "cell_type": "markdown",
   "id": "0a8bd4e5",
   "metadata": {},
   "source": [
    "Для того чтобы построить продуктовую воронку нужно определить в какой последовательности происходят события.\n",
    "Из условий и документации нельзя точно определить последовательность событий, этот момент нужно уточнять у разработчиков и только тогда можно будет построить правильную воронку."
   ]
  },
  {
   "cell_type": "markdown",
   "id": "e14b6fd0",
   "metadata": {},
   "source": [
    "### Формирование пользовательского профиля"
   ]
  },
  {
   "cell_type": "code",
   "execution_count": 79,
   "id": "fd46b99c",
   "metadata": {},
   "outputs": [],
   "source": [
    "# функция для создания пользовательских профилей\n",
    "\n",
    "def get_profiles(mobile_dataset_session):\n",
    "\n",
    "    # находим параметры первых посещений\n",
    "    profiles = (\n",
    "        mobile_dataset_session.sort_values(by=['user_id', 'session_start'])\n",
    "        .groupby(['user_id','session_id'])\n",
    "        .agg(\n",
    "            {\n",
    "                'session_start': 'first',\n",
    "                'source': 'first'\n",
    "            }\n",
    "        )\n",
    "        .reset_index()\n",
    "    )\n",
    "    \n",
    "    profiles = profiles.merge(\n",
    "        session_time[['session_id', 'session_time_m']],\n",
    "        on=['session_id'],\n",
    "        how='left',\n",
    "    )\n",
    "    \n",
    "    # для когортного анализа определяем дату первого посещения\n",
    "    # и первый, в который это посещение произошло\n",
    "    profiles['dt'] = profiles['session_start'].dt.date\n",
    "\n",
    "    return profiles"
   ]
  },
  {
   "cell_type": "code",
   "execution_count": 80,
   "id": "7066f32d",
   "metadata": {},
   "outputs": [
    {
     "data": {
      "text/html": [
       "<div>\n",
       "<style scoped>\n",
       "    .dataframe tbody tr th:only-of-type {\n",
       "        vertical-align: middle;\n",
       "    }\n",
       "\n",
       "    .dataframe tbody tr th {\n",
       "        vertical-align: top;\n",
       "    }\n",
       "\n",
       "    .dataframe thead th {\n",
       "        text-align: right;\n",
       "    }\n",
       "</style>\n",
       "<table border=\"1\" class=\"dataframe\">\n",
       "  <thead>\n",
       "    <tr style=\"text-align: right;\">\n",
       "      <th></th>\n",
       "      <th>user_id</th>\n",
       "      <th>session_id</th>\n",
       "      <th>session_start</th>\n",
       "      <th>source</th>\n",
       "      <th>session_time_m</th>\n",
       "      <th>dt</th>\n",
       "    </tr>\n",
       "  </thead>\n",
       "  <tbody>\n",
       "    <tr>\n",
       "      <th>0</th>\n",
       "      <td>0001b1d5-b74a-4cbf-aeb0-7df5947bf349</td>\n",
       "      <td>92</td>\n",
       "      <td>2019-10-07 13:39:45</td>\n",
       "      <td>other</td>\n",
       "      <td>9.93</td>\n",
       "      <td>2019-10-07</td>\n",
       "    </tr>\n",
       "    <tr>\n",
       "      <th>1</th>\n",
       "      <td>0001b1d5-b74a-4cbf-aeb0-7df5947bf349</td>\n",
       "      <td>827</td>\n",
       "      <td>2019-10-09 18:33:55</td>\n",
       "      <td>other</td>\n",
       "      <td>8.45</td>\n",
       "      <td>2019-10-09</td>\n",
       "    </tr>\n",
       "    <tr>\n",
       "      <th>2</th>\n",
       "      <td>0001b1d5-b74a-4cbf-aeb0-7df5947bf349</td>\n",
       "      <td>5477</td>\n",
       "      <td>2019-10-21 19:52:30</td>\n",
       "      <td>other</td>\n",
       "      <td>15.00</td>\n",
       "      <td>2019-10-21</td>\n",
       "    </tr>\n",
       "    <tr>\n",
       "      <th>3</th>\n",
       "      <td>0001b1d5-b74a-4cbf-aeb0-7df5947bf349</td>\n",
       "      <td>5664</td>\n",
       "      <td>2019-10-22 11:18:14</td>\n",
       "      <td>other</td>\n",
       "      <td>12.63</td>\n",
       "      <td>2019-10-22</td>\n",
       "    </tr>\n",
       "    <tr>\n",
       "      <th>4</th>\n",
       "      <td>00157779-810c-4498-9e05-a1e9e3cedf93</td>\n",
       "      <td>4644</td>\n",
       "      <td>2019-10-19 21:34:33</td>\n",
       "      <td>yandex</td>\n",
       "      <td>25.35</td>\n",
       "      <td>2019-10-19</td>\n",
       "    </tr>\n",
       "  </tbody>\n",
       "</table>\n",
       "</div>"
      ],
      "text/plain": [
       "                                user_id  session_id       session_start  \\\n",
       "0  0001b1d5-b74a-4cbf-aeb0-7df5947bf349          92 2019-10-07 13:39:45   \n",
       "1  0001b1d5-b74a-4cbf-aeb0-7df5947bf349         827 2019-10-09 18:33:55   \n",
       "2  0001b1d5-b74a-4cbf-aeb0-7df5947bf349        5477 2019-10-21 19:52:30   \n",
       "3  0001b1d5-b74a-4cbf-aeb0-7df5947bf349        5664 2019-10-22 11:18:14   \n",
       "4  00157779-810c-4498-9e05-a1e9e3cedf93        4644 2019-10-19 21:34:33   \n",
       "\n",
       "   source  session_time_m          dt  \n",
       "0   other            9.93  2019-10-07  \n",
       "1   other            8.45  2019-10-09  \n",
       "2   other           15.00  2019-10-21  \n",
       "3   other           12.63  2019-10-22  \n",
       "4  yandex           25.35  2019-10-19  "
      ]
     },
     "metadata": {},
     "output_type": "display_data"
    },
    {
     "name": "stdout",
     "output_type": "stream",
     "text": [
      "<class 'pandas.core.frame.DataFrame'>\n",
      "Int64Index: 11537 entries, 0 to 11536\n",
      "Data columns (total 6 columns):\n",
      " #   Column          Non-Null Count  Dtype         \n",
      "---  ------          --------------  -----         \n",
      " 0   user_id         11537 non-null  object        \n",
      " 1   session_id      11537 non-null  int64         \n",
      " 2   session_start   11537 non-null  datetime64[ns]\n",
      " 3   source          11537 non-null  object        \n",
      " 4   session_time_m  11537 non-null  float64       \n",
      " 5   dt              11537 non-null  object        \n",
      "dtypes: datetime64[ns](1), float64(1), int64(1), object(3)\n",
      "memory usage: 630.9+ KB\n"
     ]
    }
   ],
   "source": [
    "# Формирование пользовательских профилей\n",
    "# Вызываем функцию написанную выше и выводим информацию о датасете\n",
    "\n",
    "profiles = get_profiles(mobile_dataset_session)\n",
    "display(profiles.head())\n",
    "profiles.info()"
   ]
  },
  {
   "cell_type": "markdown",
   "id": "00f727cc",
   "metadata": {},
   "source": [
    "В результате работы функции получили датасет со следующей информацией о пользователе:\n",
    "- идентификатор пользователя\n",
    "- идентификатор сессии\n",
    "- время первого посещения приложения\n",
    "- источник привлечения\n",
    "- дата первого привлечения\n",
    "- неделя первого привлечения"
   ]
  },
  {
   "cell_type": "code",
   "execution_count": 81,
   "id": "a1859d5d",
   "metadata": {},
   "outputs": [
    {
     "data": {
      "image/png": "[encoded data removed]",
      "text/plain": [
       "<Figure size 1080x360 with 1 Axes>"
      ]
     },
     "metadata": {
      "needs_background": "light"
     },
     "output_type": "display_data"
    }
   ],
   "source": [
    "# динамика привлечения новых пользователей по каждому из источников привлечения\n",
    "profiles.pivot_table(\n",
    "    index='dt',  # даты первых посещений\n",
    "    columns='source',  # источники переходов\n",
    "    values='user_id',  # ID пользователей\n",
    "    aggfunc='nunique'  # подсчёт уникальных значений\n",
    ").plot(figsize=(15, 5), grid=True)\n",
    "plt.title('Динамика привлечения новых пользователей из разных источников')\n",
    "plt.xlabel('Дата')\n",
    "plt.ylabel('Количество пользователей')\n",
    "\n",
    "plt.show()"
   ]
  },
  {
   "cell_type": "markdown",
   "id": "dab2f6f9",
   "metadata": {},
   "source": [
    "- В период с 7 по 15 октября наблюдается увеличение числа пользователей, дальше показатели одинаковые\n",
    "- Спады и увеличения числа пользователей по датам совпадают для всех источников.\n",
    "- Чаще всего пользователи приходили из Яндекса, примерно одинаково из Googla и других источников."
   ]
  },
  {
   "cell_type": "markdown",
   "id": "e2e0167f",
   "metadata": {},
   "source": [
    "## Сегментация пользователей на основе действий"
   ]
  },
  {
   "cell_type": "markdown",
   "id": "d803bb43",
   "metadata": {},
   "source": [
    "### Сегментация пользователей"
   ]
  },
  {
   "cell_type": "markdown",
   "id": "691d1e38",
   "metadata": {},
   "source": [
    "Разделим пользователей на группы для дальнейшего расчета метрик для каждой из них. Деление будем осуществлять исходя из длительности сессии пользователя.<br>\n",
    "Чтобы определить группы, построим распределение количества сессий с определенным временем для уникального пользователя."
   ]
  },
  {
   "cell_type": "code",
   "execution_count": 82,
   "id": "771d46c1",
   "metadata": {},
   "outputs": [
    {
     "data": {
      "text/html": [
       "<div>\n",
       "<style scoped>\n",
       "    .dataframe tbody tr th:only-of-type {\n",
       "        vertical-align: middle;\n",
       "    }\n",
       "\n",
       "    .dataframe tbody tr th {\n",
       "        vertical-align: top;\n",
       "    }\n",
       "\n",
       "    .dataframe thead th {\n",
       "        text-align: right;\n",
       "    }\n",
       "</style>\n",
       "<table border=\"1\" class=\"dataframe\">\n",
       "  <thead>\n",
       "    <tr style=\"text-align: right;\">\n",
       "      <th></th>\n",
       "      <th>user_id</th>\n",
       "      <th>session_time_m</th>\n",
       "    </tr>\n",
       "  </thead>\n",
       "  <tbody>\n",
       "    <tr>\n",
       "      <th>0</th>\n",
       "      <td>0001b1d5-b74a-4cbf-aeb0-7df5947bf349</td>\n",
       "      <td>11.28</td>\n",
       "    </tr>\n",
       "    <tr>\n",
       "      <th>1</th>\n",
       "      <td>00157779-810c-4498-9e05-a1e9e3cedf93</td>\n",
       "      <td>11.60</td>\n",
       "    </tr>\n",
       "    <tr>\n",
       "      <th>2</th>\n",
       "      <td>00463033-5717-4bf1-91b4-09183923b9df</td>\n",
       "      <td>24.70</td>\n",
       "    </tr>\n",
       "    <tr>\n",
       "      <th>3</th>\n",
       "      <td>004690c3-5a84-4bb7-a8af-e0c8f8fca64e</td>\n",
       "      <td>4.65</td>\n",
       "    </tr>\n",
       "    <tr>\n",
       "      <th>4</th>\n",
       "      <td>00551e79-152e-4441-9cf7-565d7eb04090</td>\n",
       "      <td>0.05</td>\n",
       "    </tr>\n",
       "  </tbody>\n",
       "</table>\n",
       "</div>"
      ],
      "text/plain": [
       "                                user_id  session_time_m\n",
       "0  0001b1d5-b74a-4cbf-aeb0-7df5947bf349           11.28\n",
       "1  00157779-810c-4498-9e05-a1e9e3cedf93           11.60\n",
       "2  00463033-5717-4bf1-91b4-09183923b9df           24.70\n",
       "3  004690c3-5a84-4bb7-a8af-e0c8f8fca64e            4.65\n",
       "4  00551e79-152e-4441-9cf7-565d7eb04090            0.05"
      ]
     },
     "execution_count": 82,
     "metadata": {},
     "output_type": "execute_result"
    }
   ],
   "source": [
    "user_session_time = (\n",
    "    profiles.sort_values(by=['user_id', 'session_start'])\n",
    "        .groupby(['user_id'])\n",
    "        .agg(\n",
    "            {\n",
    "                'session_time_m':'median'\n",
    "            }\n",
    "        )\n",
    "        .reset_index()\n",
    ")\n",
    "user_session_time.head()"
   ]
  },
  {
   "cell_type": "code",
   "execution_count": 83,
   "id": "51e4ee25",
   "metadata": {},
   "outputs": [
    {
     "data": {
      "text/plain": [
       "count    4293.000000\n",
       "mean       10.295430\n",
       "std        12.119047\n",
       "min         0.000000\n",
       "25%         2.290000\n",
       "50%         6.570000\n",
       "75%        13.730000\n",
       "max       124.170000\n",
       "Name: session_time_m, dtype: float64"
      ]
     },
     "execution_count": 83,
     "metadata": {},
     "output_type": "execute_result"
    }
   ],
   "source": [
    "# числовое описание времени сессий\n",
    "user_session_time['session_time_m'].describe()"
   ]
  },
  {
   "cell_type": "markdown",
   "id": "c7f4055d",
   "metadata": {},
   "source": [
    "Среднее время сессии для пользователя равно примерно 7 минутам"
   ]
  },
  {
   "cell_type": "code",
   "execution_count": 84,
   "id": "65fd325f",
   "metadata": {},
   "outputs": [
    {
     "data": {
      "image/png": "[encoded data removed]",
      "text/plain": [
       "<Figure size 1080x360 with 1 Axes>"
      ]
     },
     "metadata": {
      "needs_background": "light"
     },
     "output_type": "display_data"
    }
   ],
   "source": [
    "# распределение количества сессий по времени\n",
    "sns.displot(user_session_time, x=\"session_time_m\", kde=True, height=5, aspect=3)\n",
    "plt.show()"
   ]
  },
  {
   "cell_type": "markdown",
   "id": "b4cb44b3",
   "metadata": {},
   "source": [
    "Исключим значения 0 и > 50, чтобы остальное распределение было наглядно. Это поможет определить группы."
   ]
  },
  {
   "cell_type": "code",
   "execution_count": 85,
   "id": "2d47f429",
   "metadata": {},
   "outputs": [
    {
     "data": {
      "image/png": "[encoded data removed]",
      "text/plain": [
       "<Figure size 1080x360 with 1 Axes>"
      ]
     },
     "metadata": {
      "needs_background": "light"
     },
     "output_type": "display_data"
    }
   ],
   "source": [
    "# распределение со значениями > 0 и < 50\n",
    "sns.displot(user_session_time.loc[(user_session_time['session_time_m']>0) & \n",
    "                             (user_session_time['session_time_m']<50)], \n",
    "            x='session_time_m', kde=True,\n",
    "            binwidth=1, aspect=3)\n",
    "plt.show()"
   ]
  },
  {
   "cell_type": "markdown",
   "id": "a2df2b3b",
   "metadata": {},
   "source": [
    "Определим группы следующим образом:\n",
    "- группа 1 - длительность сессии от 0 до 4 минут \n",
    "- группа 2 - длительность сессии от 4 до 12 минут\n",
    "- группа 3 - длительность сессии больше 12 минут"
   ]
  },
  {
   "cell_type": "code",
   "execution_count": 86,
   "id": "94d664d7",
   "metadata": {},
   "outputs": [],
   "source": [
    "# напишем функцию, которая будет присваивать группу пользователю\n",
    "def user_category(session_time):\n",
    "\n",
    "    if (session_time >= 0) & (session_time <= 4):\n",
    "        return '1'\n",
    "    if (session_time > 4) & (session_time <= 12):\n",
    "        return '2'\n",
    "    return '3'    "
   ]
  },
  {
   "cell_type": "code",
   "execution_count": 87,
   "id": "beaddfd8",
   "metadata": {},
   "outputs": [
    {
     "data": {
      "text/html": [
       "<div>\n",
       "<style scoped>\n",
       "    .dataframe tbody tr th:only-of-type {\n",
       "        vertical-align: middle;\n",
       "    }\n",
       "\n",
       "    .dataframe tbody tr th {\n",
       "        vertical-align: top;\n",
       "    }\n",
       "\n",
       "    .dataframe thead th {\n",
       "        text-align: right;\n",
       "    }\n",
       "</style>\n",
       "<table border=\"1\" class=\"dataframe\">\n",
       "  <thead>\n",
       "    <tr style=\"text-align: right;\">\n",
       "      <th></th>\n",
       "      <th>user_id</th>\n",
       "      <th>session_time_m</th>\n",
       "      <th>user_category</th>\n",
       "    </tr>\n",
       "  </thead>\n",
       "  <tbody>\n",
       "    <tr>\n",
       "      <th>0</th>\n",
       "      <td>0001b1d5-b74a-4cbf-aeb0-7df5947bf349</td>\n",
       "      <td>11.28</td>\n",
       "      <td>2</td>\n",
       "    </tr>\n",
       "    <tr>\n",
       "      <th>1</th>\n",
       "      <td>00157779-810c-4498-9e05-a1e9e3cedf93</td>\n",
       "      <td>11.60</td>\n",
       "      <td>2</td>\n",
       "    </tr>\n",
       "    <tr>\n",
       "      <th>2</th>\n",
       "      <td>00463033-5717-4bf1-91b4-09183923b9df</td>\n",
       "      <td>24.70</td>\n",
       "      <td>3</td>\n",
       "    </tr>\n",
       "    <tr>\n",
       "      <th>3</th>\n",
       "      <td>004690c3-5a84-4bb7-a8af-e0c8f8fca64e</td>\n",
       "      <td>4.65</td>\n",
       "      <td>2</td>\n",
       "    </tr>\n",
       "    <tr>\n",
       "      <th>4</th>\n",
       "      <td>00551e79-152e-4441-9cf7-565d7eb04090</td>\n",
       "      <td>0.05</td>\n",
       "      <td>1</td>\n",
       "    </tr>\n",
       "  </tbody>\n",
       "</table>\n",
       "</div>"
      ],
      "text/plain": [
       "                                user_id  session_time_m user_category\n",
       "0  0001b1d5-b74a-4cbf-aeb0-7df5947bf349           11.28             2\n",
       "1  00157779-810c-4498-9e05-a1e9e3cedf93           11.60             2\n",
       "2  00463033-5717-4bf1-91b4-09183923b9df           24.70             3\n",
       "3  004690c3-5a84-4bb7-a8af-e0c8f8fca64e            4.65             2\n",
       "4  00551e79-152e-4441-9cf7-565d7eb04090            0.05             1"
      ]
     },
     "metadata": {},
     "output_type": "display_data"
    },
    {
     "name": "stdout",
     "output_type": "stream",
     "text": [
      "<class 'pandas.core.frame.DataFrame'>\n",
      "RangeIndex: 4293 entries, 0 to 4292\n",
      "Data columns (total 3 columns):\n",
      " #   Column          Non-Null Count  Dtype  \n",
      "---  ------          --------------  -----  \n",
      " 0   user_id         4293 non-null   object \n",
      " 1   session_time_m  4293 non-null   float64\n",
      " 2   user_category   4293 non-null   object \n",
      "dtypes: float64(1), object(2)\n",
      "memory usage: 100.7+ KB\n"
     ]
    }
   ],
   "source": [
    "# присвоение группы пользователю и запись ее в профиль\n",
    "user_session_time['user_category'] = user_session_time['session_time_m'].apply(user_category)\n",
    "display(user_session_time.head())\n",
    "user_session_time.info()"
   ]
  },
  {
   "cell_type": "code",
   "execution_count": 88,
   "id": "16e8a49d",
   "metadata": {},
   "outputs": [
    {
     "data": {
      "text/plain": [
       "1    1533\n",
       "2    1501\n",
       "3    1259\n",
       "Name: user_category, dtype: int64"
      ]
     },
     "execution_count": 88,
     "metadata": {},
     "output_type": "execute_result"
    }
   ],
   "source": [
    "#  посмотрим на количество пользователей в группах\n",
    "user_session_time['user_category'].value_counts(dropna=False)"
   ]
  },
  {
   "cell_type": "markdown",
   "id": "09aebb9f",
   "metadata": {},
   "source": [
    "В результате деления на группы, получили 3 категории пользователей с примерно одинаковым количеством в каждой."
   ]
  },
  {
   "cell_type": "code",
   "execution_count": 89,
   "id": "f0fa1148",
   "metadata": {},
   "outputs": [
    {
     "data": {
      "text/html": [
       "<div>\n",
       "<style scoped>\n",
       "    .dataframe tbody tr th:only-of-type {\n",
       "        vertical-align: middle;\n",
       "    }\n",
       "\n",
       "    .dataframe tbody tr th {\n",
       "        vertical-align: top;\n",
       "    }\n",
       "\n",
       "    .dataframe thead th {\n",
       "        text-align: right;\n",
       "    }\n",
       "</style>\n",
       "<table border=\"1\" class=\"dataframe\">\n",
       "  <thead>\n",
       "    <tr style=\"text-align: right;\">\n",
       "      <th></th>\n",
       "      <th>user_id</th>\n",
       "      <th>session_id</th>\n",
       "      <th>session_start</th>\n",
       "      <th>source</th>\n",
       "      <th>session_time_m</th>\n",
       "      <th>dt</th>\n",
       "      <th>user_category</th>\n",
       "    </tr>\n",
       "  </thead>\n",
       "  <tbody>\n",
       "    <tr>\n",
       "      <th>0</th>\n",
       "      <td>0001b1d5-b74a-4cbf-aeb0-7df5947bf349</td>\n",
       "      <td>92</td>\n",
       "      <td>2019-10-07 13:39:45</td>\n",
       "      <td>other</td>\n",
       "      <td>9.93</td>\n",
       "      <td>2019-10-07</td>\n",
       "      <td>2</td>\n",
       "    </tr>\n",
       "    <tr>\n",
       "      <th>1</th>\n",
       "      <td>0001b1d5-b74a-4cbf-aeb0-7df5947bf349</td>\n",
       "      <td>827</td>\n",
       "      <td>2019-10-09 18:33:55</td>\n",
       "      <td>other</td>\n",
       "      <td>8.45</td>\n",
       "      <td>2019-10-09</td>\n",
       "      <td>2</td>\n",
       "    </tr>\n",
       "    <tr>\n",
       "      <th>2</th>\n",
       "      <td>0001b1d5-b74a-4cbf-aeb0-7df5947bf349</td>\n",
       "      <td>5477</td>\n",
       "      <td>2019-10-21 19:52:30</td>\n",
       "      <td>other</td>\n",
       "      <td>15.00</td>\n",
       "      <td>2019-10-21</td>\n",
       "      <td>2</td>\n",
       "    </tr>\n",
       "    <tr>\n",
       "      <th>3</th>\n",
       "      <td>0001b1d5-b74a-4cbf-aeb0-7df5947bf349</td>\n",
       "      <td>5664</td>\n",
       "      <td>2019-10-22 11:18:14</td>\n",
       "      <td>other</td>\n",
       "      <td>12.63</td>\n",
       "      <td>2019-10-22</td>\n",
       "      <td>2</td>\n",
       "    </tr>\n",
       "    <tr>\n",
       "      <th>4</th>\n",
       "      <td>00157779-810c-4498-9e05-a1e9e3cedf93</td>\n",
       "      <td>4644</td>\n",
       "      <td>2019-10-19 21:34:33</td>\n",
       "      <td>yandex</td>\n",
       "      <td>25.35</td>\n",
       "      <td>2019-10-19</td>\n",
       "      <td>2</td>\n",
       "    </tr>\n",
       "  </tbody>\n",
       "</table>\n",
       "</div>"
      ],
      "text/plain": [
       "                                user_id  session_id       session_start  \\\n",
       "0  0001b1d5-b74a-4cbf-aeb0-7df5947bf349          92 2019-10-07 13:39:45   \n",
       "1  0001b1d5-b74a-4cbf-aeb0-7df5947bf349         827 2019-10-09 18:33:55   \n",
       "2  0001b1d5-b74a-4cbf-aeb0-7df5947bf349        5477 2019-10-21 19:52:30   \n",
       "3  0001b1d5-b74a-4cbf-aeb0-7df5947bf349        5664 2019-10-22 11:18:14   \n",
       "4  00157779-810c-4498-9e05-a1e9e3cedf93        4644 2019-10-19 21:34:33   \n",
       "\n",
       "   source  session_time_m          dt user_category  \n",
       "0   other            9.93  2019-10-07             2  \n",
       "1   other            8.45  2019-10-09             2  \n",
       "2   other           15.00  2019-10-21             2  \n",
       "3   other           12.63  2019-10-22             2  \n",
       "4  yandex           25.35  2019-10-19             2  "
      ]
     },
     "execution_count": 89,
     "metadata": {},
     "output_type": "execute_result"
    }
   ],
   "source": [
    "# добавление категорий в профили пользователей\n",
    "profiles = profiles.merge(\n",
    "    user_session_time[['user_id', 'user_category']],\n",
    "    on=['user_id'],\n",
    "    how='left'\n",
    ")\n",
    "profiles.head()"
   ]
  },
  {
   "cell_type": "markdown",
   "id": "e091c79d",
   "metadata": {},
   "source": [
    "### Расчет метрик"
   ]
  },
  {
   "cell_type": "markdown",
   "id": "fe297297",
   "metadata": {},
   "source": [
    "Для каждой из выделенных выше групп расчитаем следующие метрики:\n",
    "- retention rate,\n",
    "- время, проведённое в приложении,\n",
    "- частота действий,\n",
    "- конверсия в целевое действие — просмотр контактов."
   ]
  },
  {
   "cell_type": "markdown",
   "id": "a685b07d",
   "metadata": {},
   "source": [
    "**Retention rate**"
   ]
  },
  {
   "cell_type": "code",
   "execution_count": 90,
   "id": "a8abac0f",
   "metadata": {},
   "outputs": [
    {
     "data": {
      "text/html": [
       "<div>\n",
       "<style scoped>\n",
       "    .dataframe tbody tr th:only-of-type {\n",
       "        vertical-align: middle;\n",
       "    }\n",
       "\n",
       "    .dataframe tbody tr th {\n",
       "        vertical-align: top;\n",
       "    }\n",
       "\n",
       "    .dataframe thead th {\n",
       "        text-align: right;\n",
       "    }\n",
       "</style>\n",
       "<table border=\"1\" class=\"dataframe\">\n",
       "  <thead>\n",
       "    <tr style=\"text-align: right;\">\n",
       "      <th></th>\n",
       "      <th>event_time</th>\n",
       "      <th>event_name</th>\n",
       "      <th>user_id</th>\n",
       "      <th>source</th>\n",
       "      <th>session_id</th>\n",
       "      <th>user_category</th>\n",
       "    </tr>\n",
       "  </thead>\n",
       "  <tbody>\n",
       "    <tr>\n",
       "      <th>0</th>\n",
       "      <td>2019-10-07 00:00:00</td>\n",
       "      <td>advert_open</td>\n",
       "      <td>020292ab-89bc-4156-9acf-68bc2783f894</td>\n",
       "      <td>other</td>\n",
       "      <td>1</td>\n",
       "      <td>3</td>\n",
       "    </tr>\n",
       "    <tr>\n",
       "      <th>1</th>\n",
       "      <td>2019-10-07 00:00:01</td>\n",
       "      <td>tips_show</td>\n",
       "      <td>020292ab-89bc-4156-9acf-68bc2783f894</td>\n",
       "      <td>other</td>\n",
       "      <td>1</td>\n",
       "      <td>3</td>\n",
       "    </tr>\n",
       "    <tr>\n",
       "      <th>2</th>\n",
       "      <td>2019-10-07 00:00:02</td>\n",
       "      <td>tips_show</td>\n",
       "      <td>cf7eda61-9349-469f-ac27-e5b6f5ec475c</td>\n",
       "      <td>yandex</td>\n",
       "      <td>2</td>\n",
       "      <td>3</td>\n",
       "    </tr>\n",
       "    <tr>\n",
       "      <th>3</th>\n",
       "      <td>2019-10-07 00:00:07</td>\n",
       "      <td>tips_show</td>\n",
       "      <td>020292ab-89bc-4156-9acf-68bc2783f894</td>\n",
       "      <td>other</td>\n",
       "      <td>1</td>\n",
       "      <td>3</td>\n",
       "    </tr>\n",
       "    <tr>\n",
       "      <th>4</th>\n",
       "      <td>2019-10-07 00:00:56</td>\n",
       "      <td>advert_open</td>\n",
       "      <td>cf7eda61-9349-469f-ac27-e5b6f5ec475c</td>\n",
       "      <td>yandex</td>\n",
       "      <td>2</td>\n",
       "      <td>3</td>\n",
       "    </tr>\n",
       "  </tbody>\n",
       "</table>\n",
       "</div>"
      ],
      "text/plain": [
       "           event_time   event_name                               user_id  \\\n",
       "0 2019-10-07 00:00:00  advert_open  020292ab-89bc-4156-9acf-68bc2783f894   \n",
       "1 2019-10-07 00:00:01    tips_show  020292ab-89bc-4156-9acf-68bc2783f894   \n",
       "2 2019-10-07 00:00:02    tips_show  cf7eda61-9349-469f-ac27-e5b6f5ec475c   \n",
       "3 2019-10-07 00:00:07    tips_show  020292ab-89bc-4156-9acf-68bc2783f894   \n",
       "4 2019-10-07 00:00:56  advert_open  cf7eda61-9349-469f-ac27-e5b6f5ec475c   \n",
       "\n",
       "   source  session_id user_category  \n",
       "0   other           1             3  \n",
       "1   other           1             3  \n",
       "2  yandex           2             3  \n",
       "3   other           1             3  \n",
       "4  yandex           2             3  "
      ]
     },
     "execution_count": 90,
     "metadata": {},
     "output_type": "execute_result"
    }
   ],
   "source": [
    "# добавление групп пользователей в датасет с событиями\n",
    "mobile_dataset = mobile_dataset.merge(\n",
    "    user_session_time[['user_id', 'user_category']],\n",
    "    on=['user_id'],\n",
    "    how='left'\n",
    ")\n",
    "mobile_dataset.head()"
   ]
  },
  {
   "cell_type": "markdown",
   "id": "bad23b67",
   "metadata": {},
   "source": [
    "Создадим функцию, которая на вход будет принимать датасет с событиями пользователей mobile_dataset. Функция имеет возможность учитывать желаемый момент анализа, горизонт анализа. Также есть возможность разбиения датасета по интересующим признакам(в нашем случае по группам пользователей)."
   ]
  },
  {
   "cell_type": "code",
   "execution_count": 91,
   "id": "b7c0dc25",
   "metadata": {},
   "outputs": [],
   "source": [
    "# создание функции\n",
    "def get_retention(\n",
    "    profiles, # датасет с событиями\n",
    "    observation_date, # момент анализа\n",
    "    horizon_days, # горизонт анализа\n",
    "    dimensions=[], # признак, задающий параметры разбиения датасета\n",
    "    ignore_horizon=False, # возможность игнорировать горизонт анализа, по умолчанию отключено\n",
    "):\n",
    "    # делаем столбец user_category предзаданным в dimensions\n",
    "    dimensions = ['user_category'] + dimensions\n",
    "    \n",
    "    # исключаем пользователей, не «доживших» до горизонта анализа\n",
    "    last_suitable_acquisition_date = observation_date\n",
    "    if not ignore_horizon:\n",
    "        last_suitable_acquisition_date = observation_date - timedelta(\n",
    "            days=horizon_days - 1\n",
    "        )\n",
    "    result_raw = profiles.query('event_time <= @last_suitable_acquisition_date')\n",
    "    \n",
    "    # вычисление времени первого события для уникальных пользователей\n",
    "    first_ts = (profiles.sort_values(by=['user_id', 'event_time'])\n",
    "        .groupby(['user_id'])\n",
    "        .agg(\n",
    "            {\n",
    "                'event_time': 'first',\n",
    "            }\n",
    "        )\n",
    "        .rename(columns={'event_time':'first_ts'})\n",
    "        .reset_index()\n",
    "    )\n",
    "\n",
    "    # присоединение полученного значения времени первой сессии для пользователя к mobile_dataset\n",
    "    result_raw = profiles.merge(\n",
    "        first_ts,\n",
    "        on=['user_id'],\n",
    "        how='left',\n",
    "    )\n",
    "    \n",
    "    # перевод типа данных столбцов со временем в недели\n",
    "    result_raw['event_time'] = result_raw['event_time'].astype('datetime64[W]')\n",
    "    result_raw['first_ts'] = result_raw['first_ts'].astype('datetime64[W]')\n",
    "    \n",
    "    # вычисляем лайфтайм каждой сессии в неделях\n",
    "    result_raw['lifetime'] = (\n",
    "        result_raw['event_time'] - result_raw['first_ts']\n",
    "    ).dt.days / 7\n",
    "\n",
    "    # строим таблицу удержания\n",
    "    result_grouped = result_raw.pivot_table(\n",
    "        index=dimensions, \n",
    "        columns='lifetime',\n",
    "        values='user_id',\n",
    "        aggfunc='nunique',\n",
    "    )\n",
    "    \n",
    "    # вычисляем размеры когорт\n",
    "    cohort_sizes = (\n",
    "        result_raw.groupby(dimensions)\n",
    "        .agg({'user_id': 'nunique'})\n",
    "        .rename(columns={'user_id': 'cohort_size'})\n",
    "    )\n",
    "    \n",
    "    # объединяем размеры когорт и таблицу удержания\n",
    "    result_grouped = cohort_sizes.merge(\n",
    "        result_grouped, on=dimensions, how='left'\n",
    "    ).fillna(0)\n",
    "    \n",
    "    # делим данные таблицы удержания на размеры когорт\n",
    "    result_grouped = result_grouped.div(result_grouped['cohort_size'], axis=0)\n",
    "\n",
    "    # исключаем все лайфтаймы, превышающие горизонт анализа\n",
    "    result_grouped = result_grouped[\n",
    "        ['cohort_size'] + list(range(horizon_days))\n",
    "    ]\n",
    "\n",
    "    # восстанавливаем столбец с размерами когорт\n",
    "    result_grouped['cohort_size'] = cohort_sizes\n",
    "\n",
    "    # возвращаем таблицу удержания и сырые данные\n",
    "    return result_raw, result_grouped"
   ]
  },
  {
   "cell_type": "code",
   "execution_count": 92,
   "id": "c6c95795",
   "metadata": {},
   "outputs": [],
   "source": [
    "# вызываем функцию с разбивкой по группам и датам\n",
    "retention_raw, retention = get_retention(\n",
    "    mobile_dataset, datetime(2019, 10, 3).date(), 5, dimensions=['first_ts']\n",
    ")"
   ]
  },
  {
   "cell_type": "code",
   "execution_count": 93,
   "id": "42902515",
   "metadata": {},
   "outputs": [
    {
     "data": {
      "text/html": [
       "<div>\n",
       "<style scoped>\n",
       "    .dataframe tbody tr th:only-of-type {\n",
       "        vertical-align: middle;\n",
       "    }\n",
       "\n",
       "    .dataframe tbody tr th {\n",
       "        vertical-align: top;\n",
       "    }\n",
       "\n",
       "    .dataframe thead th {\n",
       "        text-align: right;\n",
       "    }\n",
       "</style>\n",
       "<table border=\"1\" class=\"dataframe\">\n",
       "  <thead>\n",
       "    <tr style=\"text-align: right;\">\n",
       "      <th></th>\n",
       "      <th></th>\n",
       "      <th>cohort_size</th>\n",
       "      <th>0.0</th>\n",
       "      <th>1.0</th>\n",
       "      <th>2.0</th>\n",
       "      <th>3.0</th>\n",
       "      <th>4.0</th>\n",
       "    </tr>\n",
       "    <tr>\n",
       "      <th>user_category</th>\n",
       "      <th>first_ts</th>\n",
       "      <th></th>\n",
       "      <th></th>\n",
       "      <th></th>\n",
       "      <th></th>\n",
       "      <th></th>\n",
       "      <th></th>\n",
       "    </tr>\n",
       "  </thead>\n",
       "  <tbody>\n",
       "    <tr>\n",
       "      <th rowspan=\"5\" valign=\"top\">1</th>\n",
       "      <th>2019-10-03</th>\n",
       "      <td>201</td>\n",
       "      <td>1.0</td>\n",
       "      <td>0.368159</td>\n",
       "      <td>0.218905</td>\n",
       "      <td>0.159204</td>\n",
       "      <td>0.084577</td>\n",
       "    </tr>\n",
       "    <tr>\n",
       "      <th>2019-10-10</th>\n",
       "      <td>434</td>\n",
       "      <td>1.0</td>\n",
       "      <td>0.343318</td>\n",
       "      <td>0.246544</td>\n",
       "      <td>0.126728</td>\n",
       "      <td>0.000000</td>\n",
       "    </tr>\n",
       "    <tr>\n",
       "      <th>2019-10-17</th>\n",
       "      <td>394</td>\n",
       "      <td>1.0</td>\n",
       "      <td>0.357868</td>\n",
       "      <td>0.139594</td>\n",
       "      <td>0.000000</td>\n",
       "      <td>0.000000</td>\n",
       "    </tr>\n",
       "    <tr>\n",
       "      <th>2019-10-24</th>\n",
       "      <td>354</td>\n",
       "      <td>1.0</td>\n",
       "      <td>0.248588</td>\n",
       "      <td>0.000000</td>\n",
       "      <td>0.000000</td>\n",
       "      <td>0.000000</td>\n",
       "    </tr>\n",
       "    <tr>\n",
       "      <th>2019-10-31</th>\n",
       "      <td>150</td>\n",
       "      <td>1.0</td>\n",
       "      <td>0.000000</td>\n",
       "      <td>0.000000</td>\n",
       "      <td>0.000000</td>\n",
       "      <td>0.000000</td>\n",
       "    </tr>\n",
       "    <tr>\n",
       "      <th rowspan=\"5\" valign=\"top\">2</th>\n",
       "      <th>2019-10-03</th>\n",
       "      <td>186</td>\n",
       "      <td>1.0</td>\n",
       "      <td>0.258065</td>\n",
       "      <td>0.166667</td>\n",
       "      <td>0.080645</td>\n",
       "      <td>0.096774</td>\n",
       "    </tr>\n",
       "    <tr>\n",
       "      <th>2019-10-10</th>\n",
       "      <td>363</td>\n",
       "      <td>1.0</td>\n",
       "      <td>0.212121</td>\n",
       "      <td>0.132231</td>\n",
       "      <td>0.046832</td>\n",
       "      <td>0.000000</td>\n",
       "    </tr>\n",
       "    <tr>\n",
       "      <th>2019-10-17</th>\n",
       "      <td>413</td>\n",
       "      <td>1.0</td>\n",
       "      <td>0.210654</td>\n",
       "      <td>0.075061</td>\n",
       "      <td>0.000000</td>\n",
       "      <td>0.000000</td>\n",
       "    </tr>\n",
       "    <tr>\n",
       "      <th>2019-10-24</th>\n",
       "      <td>374</td>\n",
       "      <td>1.0</td>\n",
       "      <td>0.165775</td>\n",
       "      <td>0.000000</td>\n",
       "      <td>0.000000</td>\n",
       "      <td>0.000000</td>\n",
       "    </tr>\n",
       "    <tr>\n",
       "      <th>2019-10-31</th>\n",
       "      <td>165</td>\n",
       "      <td>1.0</td>\n",
       "      <td>0.000000</td>\n",
       "      <td>0.000000</td>\n",
       "      <td>0.000000</td>\n",
       "      <td>0.000000</td>\n",
       "    </tr>\n",
       "    <tr>\n",
       "      <th rowspan=\"5\" valign=\"top\">3</th>\n",
       "      <th>2019-10-03</th>\n",
       "      <td>160</td>\n",
       "      <td>1.0</td>\n",
       "      <td>0.162500</td>\n",
       "      <td>0.106250</td>\n",
       "      <td>0.081250</td>\n",
       "      <td>0.025000</td>\n",
       "    </tr>\n",
       "    <tr>\n",
       "      <th>2019-10-10</th>\n",
       "      <td>323</td>\n",
       "      <td>1.0</td>\n",
       "      <td>0.111455</td>\n",
       "      <td>0.055728</td>\n",
       "      <td>0.021672</td>\n",
       "      <td>0.000000</td>\n",
       "    </tr>\n",
       "    <tr>\n",
       "      <th>2019-10-17</th>\n",
       "      <td>329</td>\n",
       "      <td>1.0</td>\n",
       "      <td>0.136778</td>\n",
       "      <td>0.045593</td>\n",
       "      <td>0.000000</td>\n",
       "      <td>0.000000</td>\n",
       "    </tr>\n",
       "    <tr>\n",
       "      <th>2019-10-24</th>\n",
       "      <td>286</td>\n",
       "      <td>1.0</td>\n",
       "      <td>0.090909</td>\n",
       "      <td>0.000000</td>\n",
       "      <td>0.000000</td>\n",
       "      <td>0.000000</td>\n",
       "    </tr>\n",
       "    <tr>\n",
       "      <th>2019-10-31</th>\n",
       "      <td>161</td>\n",
       "      <td>1.0</td>\n",
       "      <td>0.000000</td>\n",
       "      <td>0.000000</td>\n",
       "      <td>0.000000</td>\n",
       "      <td>0.000000</td>\n",
       "    </tr>\n",
       "  </tbody>\n",
       "</table>\n",
       "</div>"
      ],
      "text/plain": [
       "                          cohort_size  0.0       1.0       2.0       3.0  \\\n",
       "user_category first_ts                                                     \n",
       "1             2019-10-03          201  1.0  0.368159  0.218905  0.159204   \n",
       "              2019-10-10          434  1.0  0.343318  0.246544  0.126728   \n",
       "              2019-10-17          394  1.0  0.357868  0.139594  0.000000   \n",
       "              2019-10-24          354  1.0  0.248588  0.000000  0.000000   \n",
       "              2019-10-31          150  1.0  0.000000  0.000000  0.000000   \n",
       "2             2019-10-03          186  1.0  0.258065  0.166667  0.080645   \n",
       "              2019-10-10          363  1.0  0.212121  0.132231  0.046832   \n",
       "              2019-10-17          413  1.0  0.210654  0.075061  0.000000   \n",
       "              2019-10-24          374  1.0  0.165775  0.000000  0.000000   \n",
       "              2019-10-31          165  1.0  0.000000  0.000000  0.000000   \n",
       "3             2019-10-03          160  1.0  0.162500  0.106250  0.081250   \n",
       "              2019-10-10          323  1.0  0.111455  0.055728  0.021672   \n",
       "              2019-10-17          329  1.0  0.136778  0.045593  0.000000   \n",
       "              2019-10-24          286  1.0  0.090909  0.000000  0.000000   \n",
       "              2019-10-31          161  1.0  0.000000  0.000000  0.000000   \n",
       "\n",
       "                               4.0  \n",
       "user_category first_ts              \n",
       "1             2019-10-03  0.084577  \n",
       "              2019-10-10  0.000000  \n",
       "              2019-10-17  0.000000  \n",
       "              2019-10-24  0.000000  \n",
       "              2019-10-31  0.000000  \n",
       "2             2019-10-03  0.096774  \n",
       "              2019-10-10  0.000000  \n",
       "              2019-10-17  0.000000  \n",
       "              2019-10-24  0.000000  \n",
       "              2019-10-31  0.000000  \n",
       "3             2019-10-03  0.025000  \n",
       "              2019-10-10  0.000000  \n",
       "              2019-10-17  0.000000  \n",
       "              2019-10-24  0.000000  \n",
       "              2019-10-31  0.000000  "
      ]
     },
     "execution_count": 93,
     "metadata": {},
     "output_type": "execute_result"
    }
   ],
   "source": [
    "# числовое описание удержания с размером когорт и нулевым лайфтаймом\n",
    "retention"
   ]
  },
  {
   "cell_type": "code",
   "execution_count": 94,
   "id": "deb2f1be",
   "metadata": {},
   "outputs": [
    {
     "data": {
      "image/png": "[encoded data removed]",
      "text/plain": [
       "<Figure size 1440x720 with 6 Axes>"
      ]
     },
     "metadata": {
      "needs_background": "light"
     },
     "output_type": "display_data"
    }
   ],
   "source": [
    "plt.figure(figsize=(20, 10)) # задаём размер сетки для графиков\n",
    "\n",
    "# формируем пары элементов (3 пары в нашем случае) для каждой пары будем строить хитмэп\n",
    "for i, user_category in enumerate(mobile_dataset['user_category'].unique()): \n",
    "    sns.heatmap(\n",
    "        retention.query('user_category == @user_category')\n",
    "        # удаляем user_category из индексов, чтобы не загромождать графики\n",
    "        .droplevel('user_category')\n",
    "        # исключаем размеры когорт и удержание первого дня\n",
    "        .drop(columns=['cohort_size', 0]),\n",
    "        # добавляем подписи значений\n",
    "        annot=True,\n",
    "        # переводим значения в проценты\n",
    "        fmt='.2%',\n",
    "        # строим каждый график в своей ячейке\n",
    "        ax=plt.subplot(3, 1, i + 1),\n",
    "    )\n",
    "    # задаём названия графиков с учётом значения user_category\n",
    "    plt.title('Тепловая карта удержания для user_category = {}'.format(user_category))\n",
    "\n",
    "plt.tight_layout()  # «подгоняем» размер графиков, чтобы уместились подписи\n",
    "plt.show()"
   ]
  },
  {
   "cell_type": "markdown",
   "id": "4ffa7ed0",
   "metadata": {},
   "source": [
    "Сравнение между категориями:\n",
    "   - для всех категорий в первую неделю удержание хуже у привлеченных с 24 по 31 число\n",
    "   - хуже всего удержание у 3-ей категории пользователей\n",
    "   - лучше всего удержание у 1-ой категории"
   ]
  },
  {
   "cell_type": "code",
   "execution_count": 95,
   "id": "86e856ee",
   "metadata": {},
   "outputs": [],
   "source": [
    "# вызываем функцию с разбивкой по группам и источникам\n",
    "retention_raw, retention = get_retention(\n",
    "    mobile_dataset, datetime(2019, 10, 3).date(), 5, dimensions=['source']\n",
    ")"
   ]
  },
  {
   "cell_type": "code",
   "execution_count": 96,
   "id": "f106fe98",
   "metadata": {},
   "outputs": [
    {
     "data": {
      "image/png": "[encoded data removed]",
      "text/plain": [
       "<Figure size 1440x1296 with 3 Axes>"
      ]
     },
     "metadata": {
      "needs_background": "light"
     },
     "output_type": "display_data"
    }
   ],
   "source": [
    "# строим кривые удержания\n",
    "\n",
    "plt.figure(figsize=(20, 18))  # задаём размер сетки\n",
    "\n",
    "# исключаем размеры когорт и удержание первого дня\n",
    "report = retention.drop(columns=['cohort_size', 0])\n",
    "\n",
    "for i, user_category in enumerate(profiles['user_category'].unique()):\n",
    "    report.query('user_category == @user_category').droplevel('user_category').T.plot(\n",
    "        grid=True,  # добавляем сетку\n",
    "        # отметки на оси X — названия колонок\n",
    "        xticks=list(report.columns.values),\n",
    "        ax=plt.subplot(3, 1, i + 1), # задаём расположение графиков\n",
    "    )\n",
    "    plt.xlabel('Лайфтайм')\n",
    "    plt.title('Кривые удержания для user_category = {}'.format(user_category))\n",
    "\n",
    "plt.show()"
   ]
  },
  {
   "cell_type": "markdown",
   "id": "dfec60a4",
   "metadata": {},
   "source": [
    "Выводы по удержанию из источников:\n",
    "- для 1-ой категории незначительно лучше удержание у пользователей с Яндекса, хуже с Google\n",
    "- для 3-ей категории Яндекс чуть впереди Google, с других ресурсов заметно хуже удержание\n",
    "- для 2-ой категории с других источников лучшее удержание, для ЯНдекса и Google примерно одинаковое"
   ]
  },
  {
   "cell_type": "markdown",
   "id": "4513ebaf",
   "metadata": {},
   "source": [
    "**Время, проведённое в приложении**"
   ]
  },
  {
   "cell_type": "code",
   "execution_count": 97,
   "id": "8ad888d0",
   "metadata": {},
   "outputs": [
    {
     "data": {
      "text/html": [
       "<div>\n",
       "<style scoped>\n",
       "    .dataframe tbody tr th:only-of-type {\n",
       "        vertical-align: middle;\n",
       "    }\n",
       "\n",
       "    .dataframe tbody tr th {\n",
       "        vertical-align: top;\n",
       "    }\n",
       "\n",
       "    .dataframe thead th {\n",
       "        text-align: right;\n",
       "    }\n",
       "</style>\n",
       "<table border=\"1\" class=\"dataframe\">\n",
       "  <thead>\n",
       "    <tr style=\"text-align: right;\">\n",
       "      <th></th>\n",
       "      <th>user_id</th>\n",
       "      <th>session_id</th>\n",
       "      <th>event_time_first</th>\n",
       "      <th>event_time_last</th>\n",
       "      <th>session_time</th>\n",
       "    </tr>\n",
       "  </thead>\n",
       "  <tbody>\n",
       "    <tr>\n",
       "      <th>0</th>\n",
       "      <td>0001b1d5-b74a-4cbf-aeb0-7df5947bf349</td>\n",
       "      <td>92</td>\n",
       "      <td>2019-10-07 13:39:45</td>\n",
       "      <td>2019-10-07 13:49:41</td>\n",
       "      <td>0 days 00:09:56</td>\n",
       "    </tr>\n",
       "    <tr>\n",
       "      <th>1</th>\n",
       "      <td>0001b1d5-b74a-4cbf-aeb0-7df5947bf349</td>\n",
       "      <td>827</td>\n",
       "      <td>2019-10-09 18:33:55</td>\n",
       "      <td>2019-10-09 18:42:22</td>\n",
       "      <td>0 days 00:08:27</td>\n",
       "    </tr>\n",
       "    <tr>\n",
       "      <th>2</th>\n",
       "      <td>0001b1d5-b74a-4cbf-aeb0-7df5947bf349</td>\n",
       "      <td>5477</td>\n",
       "      <td>2019-10-21 19:52:30</td>\n",
       "      <td>2019-10-21 20:07:30</td>\n",
       "      <td>0 days 00:15:00</td>\n",
       "    </tr>\n",
       "    <tr>\n",
       "      <th>3</th>\n",
       "      <td>0001b1d5-b74a-4cbf-aeb0-7df5947bf349</td>\n",
       "      <td>5664</td>\n",
       "      <td>2019-10-22 11:18:14</td>\n",
       "      <td>2019-10-22 11:30:52</td>\n",
       "      <td>0 days 00:12:38</td>\n",
       "    </tr>\n",
       "    <tr>\n",
       "      <th>4</th>\n",
       "      <td>00157779-810c-4498-9e05-a1e9e3cedf93</td>\n",
       "      <td>4644</td>\n",
       "      <td>2019-10-19 21:34:33</td>\n",
       "      <td>2019-10-19 21:59:54</td>\n",
       "      <td>0 days 00:25:21</td>\n",
       "    </tr>\n",
       "  </tbody>\n",
       "</table>\n",
       "</div>"
      ],
      "text/plain": [
       "                                user_id  session_id    event_time_first  \\\n",
       "0  0001b1d5-b74a-4cbf-aeb0-7df5947bf349          92 2019-10-07 13:39:45   \n",
       "1  0001b1d5-b74a-4cbf-aeb0-7df5947bf349         827 2019-10-09 18:33:55   \n",
       "2  0001b1d5-b74a-4cbf-aeb0-7df5947bf349        5477 2019-10-21 19:52:30   \n",
       "3  0001b1d5-b74a-4cbf-aeb0-7df5947bf349        5664 2019-10-22 11:18:14   \n",
       "4  00157779-810c-4498-9e05-a1e9e3cedf93        4644 2019-10-19 21:34:33   \n",
       "\n",
       "      event_time_last    session_time  \n",
       "0 2019-10-07 13:49:41 0 days 00:09:56  \n",
       "1 2019-10-09 18:42:22 0 days 00:08:27  \n",
       "2 2019-10-21 20:07:30 0 days 00:15:00  \n",
       "3 2019-10-22 11:30:52 0 days 00:12:38  \n",
       "4 2019-10-19 21:59:54 0 days 00:25:21  "
      ]
     },
     "execution_count": 97,
     "metadata": {},
     "output_type": "execute_result"
    }
   ],
   "source": [
    "# создание двух столбцов со временем первого события в сессии и последнего\n",
    "app_time = (mobile_dataset.sort_values(by=['user_id', 'event_time'])\n",
    "        .groupby(['user_id', 'session_id'])\n",
    "        .agg(\n",
    "            {\n",
    "                'event_time': ['first','last']\n",
    "            }\n",
    "        )\n",
    "        .reset_index()\n",
    ")\n",
    "\n",
    "# переименование столбцов\n",
    "app_time.columns=['user_id', 'session_id', 'event_time_first', 'event_time_last']\n",
    "\n",
    "# вычисление длительности сессии\n",
    "app_time['session_time'] = app_time['event_time_last'] - app_time['event_time_first']\n",
    "\n",
    "app_time.head()"
   ]
  },
  {
   "cell_type": "code",
   "execution_count": 98,
   "id": "57bab10e",
   "metadata": {},
   "outputs": [
    {
     "data": {
      "text/html": [
       "<div>\n",
       "<style scoped>\n",
       "    .dataframe tbody tr th:only-of-type {\n",
       "        vertical-align: middle;\n",
       "    }\n",
       "\n",
       "    .dataframe tbody tr th {\n",
       "        vertical-align: top;\n",
       "    }\n",
       "\n",
       "    .dataframe thead th {\n",
       "        text-align: right;\n",
       "    }\n",
       "</style>\n",
       "<table border=\"1\" class=\"dataframe\">\n",
       "  <thead>\n",
       "    <tr style=\"text-align: right;\">\n",
       "      <th></th>\n",
       "      <th>session_time</th>\n",
       "    </tr>\n",
       "    <tr>\n",
       "      <th>user_id</th>\n",
       "      <th></th>\n",
       "    </tr>\n",
       "  </thead>\n",
       "  <tbody>\n",
       "    <tr>\n",
       "      <th>0001b1d5-b74a-4cbf-aeb0-7df5947bf349</th>\n",
       "      <td>0 days 00:46:01</td>\n",
       "    </tr>\n",
       "    <tr>\n",
       "      <th>00157779-810c-4498-9e05-a1e9e3cedf93</th>\n",
       "      <td>0 days 02:07:52</td>\n",
       "    </tr>\n",
       "    <tr>\n",
       "      <th>00463033-5717-4bf1-91b4-09183923b9df</th>\n",
       "      <td>0 days 00:24:42</td>\n",
       "    </tr>\n",
       "    <tr>\n",
       "      <th>004690c3-5a84-4bb7-a8af-e0c8f8fca64e</th>\n",
       "      <td>0 days 00:48:04</td>\n",
       "    </tr>\n",
       "    <tr>\n",
       "      <th>00551e79-152e-4441-9cf7-565d7eb04090</th>\n",
       "      <td>0 days 00:09:19</td>\n",
       "    </tr>\n",
       "  </tbody>\n",
       "</table>\n",
       "</div>"
      ],
      "text/plain": [
       "                                        session_time\n",
       "user_id                                             \n",
       "0001b1d5-b74a-4cbf-aeb0-7df5947bf349 0 days 00:46:01\n",
       "00157779-810c-4498-9e05-a1e9e3cedf93 0 days 02:07:52\n",
       "00463033-5717-4bf1-91b4-09183923b9df 0 days 00:24:42\n",
       "004690c3-5a84-4bb7-a8af-e0c8f8fca64e 0 days 00:48:04\n",
       "00551e79-152e-4441-9cf7-565d7eb04090 0 days 00:09:19"
      ]
     },
     "execution_count": 98,
     "metadata": {},
     "output_type": "execute_result"
    }
   ],
   "source": [
    "# вычисление общего времени нахождения в приложении для каждого пользователя\n",
    "app_time = app_time.groupby('user_id').agg({'session_time':'sum'})\n",
    "app_time.head()"
   ]
  },
  {
   "cell_type": "code",
   "execution_count": 99,
   "id": "5035914e",
   "metadata": {},
   "outputs": [],
   "source": [
    "# добавим к датасету соо временем в приложении, категорию пользователя\n",
    "app_time = app_time.merge(\n",
    "        mobile_dataset.groupby('user_id').agg({'user_category': 'first'}).reset_index(),\n",
    "        on=['user_id'],\n",
    "        how='left',\n",
    "    )"
   ]
  },
  {
   "cell_type": "code",
   "execution_count": 100,
   "id": "8a7e85e4",
   "metadata": {},
   "outputs": [
    {
     "name": "stdout",
     "output_type": "stream",
     "text": [
      "размер датасета - (4293, 3)\n"
     ]
    },
    {
     "data": {
      "text/html": [
       "<div>\n",
       "<style scoped>\n",
       "    .dataframe tbody tr th:only-of-type {\n",
       "        vertical-align: middle;\n",
       "    }\n",
       "\n",
       "    .dataframe tbody tr th {\n",
       "        vertical-align: top;\n",
       "    }\n",
       "\n",
       "    .dataframe thead th {\n",
       "        text-align: right;\n",
       "    }\n",
       "</style>\n",
       "<table border=\"1\" class=\"dataframe\">\n",
       "  <thead>\n",
       "    <tr style=\"text-align: right;\">\n",
       "      <th></th>\n",
       "      <th>user_id</th>\n",
       "      <th>session_time</th>\n",
       "      <th>user_category</th>\n",
       "    </tr>\n",
       "  </thead>\n",
       "  <tbody>\n",
       "    <tr>\n",
       "      <th>0</th>\n",
       "      <td>0001b1d5-b74a-4cbf-aeb0-7df5947bf349</td>\n",
       "      <td>0 days 00:46:01</td>\n",
       "      <td>2</td>\n",
       "    </tr>\n",
       "    <tr>\n",
       "      <th>1</th>\n",
       "      <td>00157779-810c-4498-9e05-a1e9e3cedf93</td>\n",
       "      <td>0 days 02:07:52</td>\n",
       "      <td>2</td>\n",
       "    </tr>\n",
       "    <tr>\n",
       "      <th>2</th>\n",
       "      <td>00463033-5717-4bf1-91b4-09183923b9df</td>\n",
       "      <td>0 days 00:24:42</td>\n",
       "      <td>3</td>\n",
       "    </tr>\n",
       "    <tr>\n",
       "      <th>3</th>\n",
       "      <td>004690c3-5a84-4bb7-a8af-e0c8f8fca64e</td>\n",
       "      <td>0 days 00:48:04</td>\n",
       "      <td>2</td>\n",
       "    </tr>\n",
       "    <tr>\n",
       "      <th>4</th>\n",
       "      <td>00551e79-152e-4441-9cf7-565d7eb04090</td>\n",
       "      <td>0 days 00:09:19</td>\n",
       "      <td>1</td>\n",
       "    </tr>\n",
       "  </tbody>\n",
       "</table>\n",
       "</div>"
      ],
      "text/plain": [
       "                                user_id    session_time user_category\n",
       "0  0001b1d5-b74a-4cbf-aeb0-7df5947bf349 0 days 00:46:01             2\n",
       "1  00157779-810c-4498-9e05-a1e9e3cedf93 0 days 02:07:52             2\n",
       "2  00463033-5717-4bf1-91b4-09183923b9df 0 days 00:24:42             3\n",
       "3  004690c3-5a84-4bb7-a8af-e0c8f8fca64e 0 days 00:48:04             2\n",
       "4  00551e79-152e-4441-9cf7-565d7eb04090 0 days 00:09:19             1"
      ]
     },
     "execution_count": 100,
     "metadata": {},
     "output_type": "execute_result"
    }
   ],
   "source": [
    "# проверка присоединения столбца\n",
    "print('размер датасета - {}'.format(app_time.shape))\n",
    "app_time.head()"
   ]
  },
  {
   "cell_type": "code",
   "execution_count": 101,
   "id": "ef3a0b8a",
   "metadata": {},
   "outputs": [
    {
     "data": {
      "text/html": [
       "<div>\n",
       "<style scoped>\n",
       "    .dataframe tbody tr th:only-of-type {\n",
       "        vertical-align: middle;\n",
       "    }\n",
       "\n",
       "    .dataframe tbody tr th {\n",
       "        vertical-align: top;\n",
       "    }\n",
       "\n",
       "    .dataframe thead th {\n",
       "        text-align: right;\n",
       "    }\n",
       "</style>\n",
       "<table border=\"1\" class=\"dataframe\">\n",
       "  <thead>\n",
       "    <tr style=\"text-align: right;\">\n",
       "      <th></th>\n",
       "      <th>user_category</th>\n",
       "      <th>session_time</th>\n",
       "    </tr>\n",
       "  </thead>\n",
       "  <tbody>\n",
       "    <tr>\n",
       "      <th>0</th>\n",
       "      <td>1</td>\n",
       "      <td>15 days 08:42:21</td>\n",
       "    </tr>\n",
       "    <tr>\n",
       "      <th>1</th>\n",
       "      <td>2</td>\n",
       "      <td>24 days 00:49:19</td>\n",
       "    </tr>\n",
       "    <tr>\n",
       "      <th>2</th>\n",
       "      <td>3</td>\n",
       "      <td>36 days 05:47:30</td>\n",
       "    </tr>\n",
       "  </tbody>\n",
       "</table>\n",
       "</div>"
      ],
      "text/plain": [
       "  user_category     session_time\n",
       "0             1 15 days 08:42:21\n",
       "1             2 24 days 00:49:19\n",
       "2             3 36 days 05:47:30"
      ]
     },
     "execution_count": 101,
     "metadata": {},
     "output_type": "execute_result"
    }
   ],
   "source": [
    "# вычисление суммарного времени нахождения в приложении для различных категорий пользователей\n",
    "app_time.groupby('user_category').agg({'session_time': 'sum'}).reset_index()"
   ]
  },
  {
   "cell_type": "markdown",
   "id": "01986349",
   "metadata": {},
   "source": [
    "Видим по результатам:\n",
    "- дольше всех в приложении находились пользователи из 3-ей группы, а меньше всех из 1-ой \n",
    "- разница между группами велика, примерно 11 дней"
   ]
  },
  {
   "cell_type": "markdown",
   "id": "08d60bb5",
   "metadata": {},
   "source": [
    "**Частота действий**"
   ]
  },
  {
   "cell_type": "code",
   "execution_count": 102,
   "id": "70ad2dce",
   "metadata": {},
   "outputs": [
    {
     "data": {
      "text/plain": [
       "73054"
      ]
     },
     "execution_count": 102,
     "metadata": {},
     "output_type": "execute_result"
    }
   ],
   "source": [
    "# общее количество всех событий\n",
    "len(mobile_dataset['event_name'])"
   ]
  },
  {
   "cell_type": "code",
   "execution_count": 103,
   "id": "f289b0c4",
   "metadata": {},
   "outputs": [
    {
     "data": {
      "text/plain": [
       "tips_show        39907\n",
       "photos_show       9352\n",
       "search            6765\n",
       "advert_open       6146\n",
       "contacts_show     4376\n",
       "map               3749\n",
       "favorites_add     1414\n",
       "tips_click         811\n",
       "contacts_call      534\n",
       "Name: event_name, dtype: int64"
      ]
     },
     "execution_count": 103,
     "metadata": {},
     "output_type": "execute_result"
    }
   ],
   "source": [
    "# количество событий\n",
    "mobile_dataset['event_name'].value_counts()"
   ]
  },
  {
   "cell_type": "code",
   "execution_count": 104,
   "id": "729b5255",
   "metadata": {},
   "outputs": [
    {
     "data": {
      "text/html": [
       "<div>\n",
       "<style scoped>\n",
       "    .dataframe tbody tr th:only-of-type {\n",
       "        vertical-align: middle;\n",
       "    }\n",
       "\n",
       "    .dataframe tbody tr th {\n",
       "        vertical-align: top;\n",
       "    }\n",
       "\n",
       "    .dataframe thead th {\n",
       "        text-align: right;\n",
       "    }\n",
       "</style>\n",
       "<table border=\"1\" class=\"dataframe\">\n",
       "  <thead>\n",
       "    <tr style=\"text-align: right;\">\n",
       "      <th></th>\n",
       "      <th>user_category</th>\n",
       "      <th>event_name</th>\n",
       "      <th>event_count</th>\n",
       "    </tr>\n",
       "  </thead>\n",
       "  <tbody>\n",
       "    <tr>\n",
       "      <th>0</th>\n",
       "      <td>1</td>\n",
       "      <td>advert_open</td>\n",
       "      <td>1350</td>\n",
       "    </tr>\n",
       "    <tr>\n",
       "      <th>1</th>\n",
       "      <td>1</td>\n",
       "      <td>contacts_call</td>\n",
       "      <td>310</td>\n",
       "    </tr>\n",
       "    <tr>\n",
       "      <th>2</th>\n",
       "      <td>1</td>\n",
       "      <td>contacts_show</td>\n",
       "      <td>1565</td>\n",
       "    </tr>\n",
       "    <tr>\n",
       "      <th>3</th>\n",
       "      <td>1</td>\n",
       "      <td>favorites_add</td>\n",
       "      <td>477</td>\n",
       "    </tr>\n",
       "    <tr>\n",
       "      <th>4</th>\n",
       "      <td>1</td>\n",
       "      <td>map</td>\n",
       "      <td>894</td>\n",
       "    </tr>\n",
       "  </tbody>\n",
       "</table>\n",
       "</div>"
      ],
      "text/plain": [
       "  user_category     event_name  event_count\n",
       "0             1    advert_open         1350\n",
       "1             1  contacts_call          310\n",
       "2             1  contacts_show         1565\n",
       "3             1  favorites_add          477\n",
       "4             1            map          894"
      ]
     },
     "execution_count": 104,
     "metadata": {},
     "output_type": "execute_result"
    }
   ],
   "source": [
    "# подсчет количества различных событий для группы пользователей\n",
    "event_freq = (\n",
    "    mobile_dataset.groupby(['user_category', 'event_name'])\n",
    "        .agg(\n",
    "            {'event_name': 'count',\n",
    "            }\n",
    "        )\n",
    "        .rename(columns={'event_name':'event_count'})\n",
    "        .reset_index()\n",
    ")\n",
    "event_freq.head()"
   ]
  },
  {
   "cell_type": "code",
   "execution_count": 105,
   "id": "2ed81fbd",
   "metadata": {},
   "outputs": [
    {
     "data": {
      "text/html": [
       "<div>\n",
       "<style scoped>\n",
       "    .dataframe tbody tr th:only-of-type {\n",
       "        vertical-align: middle;\n",
       "    }\n",
       "\n",
       "    .dataframe tbody tr th {\n",
       "        vertical-align: top;\n",
       "    }\n",
       "\n",
       "    .dataframe thead th {\n",
       "        text-align: right;\n",
       "    }\n",
       "</style>\n",
       "<table border=\"1\" class=\"dataframe\">\n",
       "  <thead>\n",
       "    <tr style=\"text-align: right;\">\n",
       "      <th></th>\n",
       "      <th>event_count_sum</th>\n",
       "    </tr>\n",
       "    <tr>\n",
       "      <th>user_category</th>\n",
       "      <th></th>\n",
       "    </tr>\n",
       "  </thead>\n",
       "  <tbody>\n",
       "    <tr>\n",
       "      <th>1</th>\n",
       "      <td>19911</td>\n",
       "    </tr>\n",
       "    <tr>\n",
       "      <th>2</th>\n",
       "      <td>23981</td>\n",
       "    </tr>\n",
       "    <tr>\n",
       "      <th>3</th>\n",
       "      <td>29162</td>\n",
       "    </tr>\n",
       "  </tbody>\n",
       "</table>\n",
       "</div>"
      ],
      "text/plain": [
       "               event_count_sum\n",
       "user_category                 \n",
       "1                        19911\n",
       "2                        23981\n",
       "3                        29162"
      ]
     },
     "execution_count": 105,
     "metadata": {},
     "output_type": "execute_result"
    }
   ],
   "source": [
    "# подсчет общего количества событий для группы пользователей\n",
    "freq_event_sum = (\n",
    "    event_freq.groupby('user_category')\n",
    "    .agg(\n",
    "            {'event_count': 'sum'\n",
    "            }\n",
    "        )\n",
    "    .rename(columns={'event_count':'event_count_sum'})\n",
    ")\n",
    "\n",
    "freq_event_sum.head()"
   ]
  },
  {
   "cell_type": "markdown",
   "id": "8ae7f13e",
   "metadata": {},
   "source": [
    "У 3-ей группы больше всего событий, у первой меньше всего"
   ]
  },
  {
   "cell_type": "code",
   "execution_count": 106,
   "id": "9d8ae3fb",
   "metadata": {},
   "outputs": [],
   "source": [
    "# слияние датасетов\n",
    "event_freq = event_freq.merge(\n",
    "    freq_event_sum,\n",
    "    on=['user_category'],\n",
    "    how='left',\n",
    ")"
   ]
  },
  {
   "cell_type": "code",
   "execution_count": 107,
   "id": "643387c2",
   "metadata": {},
   "outputs": [
    {
     "name": "stdout",
     "output_type": "stream",
     "text": [
      "размер датасета - (27, 4)\n"
     ]
    },
    {
     "data": {
      "text/html": [
       "<div>\n",
       "<style scoped>\n",
       "    .dataframe tbody tr th:only-of-type {\n",
       "        vertical-align: middle;\n",
       "    }\n",
       "\n",
       "    .dataframe tbody tr th {\n",
       "        vertical-align: top;\n",
       "    }\n",
       "\n",
       "    .dataframe thead th {\n",
       "        text-align: right;\n",
       "    }\n",
       "</style>\n",
       "<table border=\"1\" class=\"dataframe\">\n",
       "  <thead>\n",
       "    <tr style=\"text-align: right;\">\n",
       "      <th></th>\n",
       "      <th>user_category</th>\n",
       "      <th>event_name</th>\n",
       "      <th>event_count</th>\n",
       "      <th>event_count_sum</th>\n",
       "    </tr>\n",
       "  </thead>\n",
       "  <tbody>\n",
       "    <tr>\n",
       "      <th>0</th>\n",
       "      <td>1</td>\n",
       "      <td>advert_open</td>\n",
       "      <td>1350</td>\n",
       "      <td>19911</td>\n",
       "    </tr>\n",
       "    <tr>\n",
       "      <th>1</th>\n",
       "      <td>1</td>\n",
       "      <td>contacts_call</td>\n",
       "      <td>310</td>\n",
       "      <td>19911</td>\n",
       "    </tr>\n",
       "    <tr>\n",
       "      <th>2</th>\n",
       "      <td>1</td>\n",
       "      <td>contacts_show</td>\n",
       "      <td>1565</td>\n",
       "      <td>19911</td>\n",
       "    </tr>\n",
       "    <tr>\n",
       "      <th>3</th>\n",
       "      <td>1</td>\n",
       "      <td>favorites_add</td>\n",
       "      <td>477</td>\n",
       "      <td>19911</td>\n",
       "    </tr>\n",
       "    <tr>\n",
       "      <th>4</th>\n",
       "      <td>1</td>\n",
       "      <td>map</td>\n",
       "      <td>894</td>\n",
       "      <td>19911</td>\n",
       "    </tr>\n",
       "  </tbody>\n",
       "</table>\n",
       "</div>"
      ],
      "text/plain": [
       "  user_category     event_name  event_count  event_count_sum\n",
       "0             1    advert_open         1350            19911\n",
       "1             1  contacts_call          310            19911\n",
       "2             1  contacts_show         1565            19911\n",
       "3             1  favorites_add          477            19911\n",
       "4             1            map          894            19911"
      ]
     },
     "execution_count": 107,
     "metadata": {},
     "output_type": "execute_result"
    }
   ],
   "source": [
    "# проверка слияния\n",
    "print('размер датасета - {}'.format(event_freq.shape))\n",
    "event_freq.head()"
   ]
  },
  {
   "cell_type": "code",
   "execution_count": 108,
   "id": "a350500e",
   "metadata": {},
   "outputs": [],
   "source": [
    "# вычисление частоты каждого события для группы пользователей\n",
    "event_freq['event_frequancy'] = round(100*event_freq['event_count'] / event_freq['event_count_sum'], 2)"
   ]
  },
  {
   "cell_type": "code",
   "execution_count": 109,
   "id": "986bf8b9",
   "metadata": {},
   "outputs": [
    {
     "name": "stdout",
     "output_type": "stream",
     "text": [
      "размер датасета - (27, 5)\n"
     ]
    },
    {
     "data": {
      "text/html": [
       "<div>\n",
       "<style scoped>\n",
       "    .dataframe tbody tr th:only-of-type {\n",
       "        vertical-align: middle;\n",
       "    }\n",
       "\n",
       "    .dataframe tbody tr th {\n",
       "        vertical-align: top;\n",
       "    }\n",
       "\n",
       "    .dataframe thead th {\n",
       "        text-align: right;\n",
       "    }\n",
       "</style>\n",
       "<table border=\"1\" class=\"dataframe\">\n",
       "  <thead>\n",
       "    <tr style=\"text-align: right;\">\n",
       "      <th></th>\n",
       "      <th>user_category</th>\n",
       "      <th>event_name</th>\n",
       "      <th>event_count</th>\n",
       "      <th>event_count_sum</th>\n",
       "      <th>event_frequancy</th>\n",
       "    </tr>\n",
       "  </thead>\n",
       "  <tbody>\n",
       "    <tr>\n",
       "      <th>0</th>\n",
       "      <td>1</td>\n",
       "      <td>advert_open</td>\n",
       "      <td>1350</td>\n",
       "      <td>19911</td>\n",
       "      <td>6.78</td>\n",
       "    </tr>\n",
       "    <tr>\n",
       "      <th>1</th>\n",
       "      <td>1</td>\n",
       "      <td>contacts_call</td>\n",
       "      <td>310</td>\n",
       "      <td>19911</td>\n",
       "      <td>1.56</td>\n",
       "    </tr>\n",
       "    <tr>\n",
       "      <th>2</th>\n",
       "      <td>1</td>\n",
       "      <td>contacts_show</td>\n",
       "      <td>1565</td>\n",
       "      <td>19911</td>\n",
       "      <td>7.86</td>\n",
       "    </tr>\n",
       "    <tr>\n",
       "      <th>3</th>\n",
       "      <td>1</td>\n",
       "      <td>favorites_add</td>\n",
       "      <td>477</td>\n",
       "      <td>19911</td>\n",
       "      <td>2.40</td>\n",
       "    </tr>\n",
       "    <tr>\n",
       "      <th>4</th>\n",
       "      <td>1</td>\n",
       "      <td>map</td>\n",
       "      <td>894</td>\n",
       "      <td>19911</td>\n",
       "      <td>4.49</td>\n",
       "    </tr>\n",
       "  </tbody>\n",
       "</table>\n",
       "</div>"
      ],
      "text/plain": [
       "  user_category     event_name  event_count  event_count_sum  event_frequancy\n",
       "0             1    advert_open         1350            19911             6.78\n",
       "1             1  contacts_call          310            19911             1.56\n",
       "2             1  contacts_show         1565            19911             7.86\n",
       "3             1  favorites_add          477            19911             2.40\n",
       "4             1            map          894            19911             4.49"
      ]
     },
     "execution_count": 109,
     "metadata": {},
     "output_type": "execute_result"
    }
   ],
   "source": [
    "# проверка вычислений частоты событий для каждой группы\n",
    "event_freq.drop(['event_count', 'event_count_sum'], axis=1)\n",
    "print('размер датасета - {}'.format(event_freq.shape))\n",
    "event_freq.head()"
   ]
  },
  {
   "cell_type": "code",
   "execution_count": 110,
   "id": "a8954230",
   "metadata": {},
   "outputs": [
    {
     "data": {
      "image/png": "[encoded data removed]",
      "text/plain": [
       "<Figure size 978.875x360 with 1 Axes>"
      ]
     },
     "metadata": {
      "needs_background": "light"
     },
     "output_type": "display_data"
    }
   ],
   "source": [
    "# график частоты событий\n",
    "sns.catplot(data=event_freq, x=\"event_name\", y='event_frequancy', \n",
    "            hue=\"user_category\", \n",
    "            kind='bar', \n",
    "            palette=\"pastel\", edgecolor=\".6\",\n",
    "            height=5, aspect=2.5)\n",
    "plt.title('Частота каждого события для групп пользователей')\n",
    "plt.xlabel('Название события')\n",
    "plt.ylabel('Частота события')\n",
    "plt.show()"
   ]
  },
  {
   "cell_type": "markdown",
   "id": "9baab7cb",
   "metadata": {},
   "source": [
    "Из графика можно сделать следующие выводы:\n",
    "- объявления пользователи из разных групп открывают тем чаще тем больше номер группы\n",
    "- фотографии в объявлениях чаще просматривают пользователи из 1-о группы\n",
    "- рекомендованные объявления чаще видят пользователи из более высокой по номеру группе. Это объясняется большим временем нахождения в приложении таких пользователей.\n",
    "- кликают же по рекомендованному объявлению очень мало пользователей, это не зависит от группы\n",
    "- смотрят номер телефона чаще пользователи из 1-ой, 2-ой и 3-ей группы соответственно. Это совпадает с распределением по звонкам из приложения.\n",
    "- открывают карту объявлений чаще пользователи 2-ой группы\n",
    "- поиском пользуются чаще пользователи из 1-ой, 2-ой и 3-ей группы соответственно. Такое же распределение частоты харакерно и для добавления в избранное объявления."
   ]
  },
  {
   "cell_type": "markdown",
   "id": "d482e192",
   "metadata": {},
   "source": [
    "**Конверсия в целевое действие**"
   ]
  },
  {
   "cell_type": "markdown",
   "id": "77856f71",
   "metadata": {},
   "source": [
    "Количество пользователей совершивших целевое действие / Общее количество пользователей в группе"
   ]
  },
  {
   "cell_type": "code",
   "execution_count": 111,
   "id": "81cb7f60",
   "metadata": {},
   "outputs": [
    {
     "data": {
      "text/html": [
       "<div>\n",
       "<style scoped>\n",
       "    .dataframe tbody tr th:only-of-type {\n",
       "        vertical-align: middle;\n",
       "    }\n",
       "\n",
       "    .dataframe tbody tr th {\n",
       "        vertical-align: top;\n",
       "    }\n",
       "\n",
       "    .dataframe thead th {\n",
       "        text-align: right;\n",
       "    }\n",
       "</style>\n",
       "<table border=\"1\" class=\"dataframe\">\n",
       "  <thead>\n",
       "    <tr style=\"text-align: right;\">\n",
       "      <th></th>\n",
       "      <th>user_id_count</th>\n",
       "    </tr>\n",
       "    <tr>\n",
       "      <th>user_category</th>\n",
       "      <th></th>\n",
       "    </tr>\n",
       "  </thead>\n",
       "  <tbody>\n",
       "    <tr>\n",
       "      <th>1</th>\n",
       "      <td>1533</td>\n",
       "    </tr>\n",
       "    <tr>\n",
       "      <th>2</th>\n",
       "      <td>1501</td>\n",
       "    </tr>\n",
       "    <tr>\n",
       "      <th>3</th>\n",
       "      <td>1259</td>\n",
       "    </tr>\n",
       "  </tbody>\n",
       "</table>\n",
       "</div>"
      ],
      "text/plain": [
       "               user_id_count\n",
       "user_category               \n",
       "1                       1533\n",
       "2                       1501\n",
       "3                       1259"
      ]
     },
     "execution_count": 111,
     "metadata": {},
     "output_type": "execute_result"
    }
   ],
   "source": [
    "# количество уникальных пользователей в группах\n",
    "all_users = (\n",
    "    mobile_dataset\n",
    "    .groupby('user_category')\n",
    "    .agg({'user_id': 'nunique'})\n",
    "    .rename(columns={'user_id':'user_id_count'})\n",
    ")\n",
    "all_users"
   ]
  },
  {
   "cell_type": "code",
   "execution_count": 112,
   "id": "48dfc69c",
   "metadata": {},
   "outputs": [
    {
     "name": "stdout",
     "output_type": "stream",
     "text": [
      "список уникальных названий в столбце - ['contacts_show']\n",
      "размер датасета - (4376, 6)\n"
     ]
    },
    {
     "data": {
      "text/html": [
       "<div>\n",
       "<style scoped>\n",
       "    .dataframe tbody tr th:only-of-type {\n",
       "        vertical-align: middle;\n",
       "    }\n",
       "\n",
       "    .dataframe tbody tr th {\n",
       "        vertical-align: top;\n",
       "    }\n",
       "\n",
       "    .dataframe thead th {\n",
       "        text-align: right;\n",
       "    }\n",
       "</style>\n",
       "<table border=\"1\" class=\"dataframe\">\n",
       "  <thead>\n",
       "    <tr style=\"text-align: right;\">\n",
       "      <th></th>\n",
       "      <th>event_time</th>\n",
       "      <th>event_name</th>\n",
       "      <th>user_id</th>\n",
       "      <th>source</th>\n",
       "      <th>session_id</th>\n",
       "      <th>user_category</th>\n",
       "    </tr>\n",
       "  </thead>\n",
       "  <tbody>\n",
       "    <tr>\n",
       "      <th>24</th>\n",
       "      <td>2019-10-07 00:05:16</td>\n",
       "      <td>contacts_show</td>\n",
       "      <td>8c356c42-3ba9-4cb6-80b8-3f868d0192c3</td>\n",
       "      <td>yandex</td>\n",
       "      <td>3</td>\n",
       "      <td>3</td>\n",
       "    </tr>\n",
       "    <tr>\n",
       "      <th>70</th>\n",
       "      <td>2019-10-07 00:18:53</td>\n",
       "      <td>contacts_show</td>\n",
       "      <td>8c356c42-3ba9-4cb6-80b8-3f868d0192c3</td>\n",
       "      <td>yandex</td>\n",
       "      <td>3</td>\n",
       "      <td>3</td>\n",
       "    </tr>\n",
       "    <tr>\n",
       "      <th>195</th>\n",
       "      <td>2019-10-07 08:11:07</td>\n",
       "      <td>contacts_show</td>\n",
       "      <td>48e614d6-fe03-40f7-bf9e-4c4f61c19f64</td>\n",
       "      <td>yandex</td>\n",
       "      <td>11</td>\n",
       "      <td>2</td>\n",
       "    </tr>\n",
       "    <tr>\n",
       "      <th>244</th>\n",
       "      <td>2019-10-07 09:33:19</td>\n",
       "      <td>contacts_show</td>\n",
       "      <td>9dfa242e-8630-480a-806b-5736bcda8f3d</td>\n",
       "      <td>google</td>\n",
       "      <td>22</td>\n",
       "      <td>2</td>\n",
       "    </tr>\n",
       "    <tr>\n",
       "      <th>327</th>\n",
       "      <td>2019-10-07 10:19:49</td>\n",
       "      <td>contacts_show</td>\n",
       "      <td>1a3361d1-2002-4389-a669-ecb06ea7a90a</td>\n",
       "      <td>yandex</td>\n",
       "      <td>36</td>\n",
       "      <td>2</td>\n",
       "    </tr>\n",
       "  </tbody>\n",
       "</table>\n",
       "</div>"
      ],
      "text/plain": [
       "             event_time     event_name                               user_id  \\\n",
       "24  2019-10-07 00:05:16  contacts_show  8c356c42-3ba9-4cb6-80b8-3f868d0192c3   \n",
       "70  2019-10-07 00:18:53  contacts_show  8c356c42-3ba9-4cb6-80b8-3f868d0192c3   \n",
       "195 2019-10-07 08:11:07  contacts_show  48e614d6-fe03-40f7-bf9e-4c4f61c19f64   \n",
       "244 2019-10-07 09:33:19  contacts_show  9dfa242e-8630-480a-806b-5736bcda8f3d   \n",
       "327 2019-10-07 10:19:49  contacts_show  1a3361d1-2002-4389-a669-ecb06ea7a90a   \n",
       "\n",
       "     source  session_id user_category  \n",
       "24   yandex           3             3  \n",
       "70   yandex           3             3  \n",
       "195  yandex          11             2  \n",
       "244  google          22             2  \n",
       "327  yandex          36             2  "
      ]
     },
     "execution_count": 112,
     "metadata": {},
     "output_type": "execute_result"
    }
   ],
   "source": [
    "# фильтрация датасета по пользователям, у которых событием является contacts_show\n",
    "mobile_dataset_contact = mobile_dataset.loc[mobile_dataset['event_name']=='contacts_show']\n",
    "\n",
    "print('список уникальных названий в столбце -', mobile_dataset_contact['event_name'].unique())\n",
    "print('размер датасета - {}'.format(mobile_dataset_contact.shape))\n",
    "mobile_dataset_contact.head()"
   ]
  },
  {
   "cell_type": "code",
   "execution_count": 113,
   "id": "846ea333",
   "metadata": {},
   "outputs": [
    {
     "data": {
      "text/html": [
       "<div>\n",
       "<style scoped>\n",
       "    .dataframe tbody tr th:only-of-type {\n",
       "        vertical-align: middle;\n",
       "    }\n",
       "\n",
       "    .dataframe tbody tr th {\n",
       "        vertical-align: top;\n",
       "    }\n",
       "\n",
       "    .dataframe thead th {\n",
       "        text-align: right;\n",
       "    }\n",
       "</style>\n",
       "<table border=\"1\" class=\"dataframe\">\n",
       "  <thead>\n",
       "    <tr style=\"text-align: right;\">\n",
       "      <th></th>\n",
       "      <th>user_id_count</th>\n",
       "    </tr>\n",
       "    <tr>\n",
       "      <th>user_category</th>\n",
       "      <th></th>\n",
       "    </tr>\n",
       "  </thead>\n",
       "  <tbody>\n",
       "    <tr>\n",
       "      <th>1</th>\n",
       "      <td>408</td>\n",
       "    </tr>\n",
       "    <tr>\n",
       "      <th>2</th>\n",
       "      <td>328</td>\n",
       "    </tr>\n",
       "    <tr>\n",
       "      <th>3</th>\n",
       "      <td>245</td>\n",
       "    </tr>\n",
       "  </tbody>\n",
       "</table>\n",
       "</div>"
      ],
      "text/plain": [
       "               user_id_count\n",
       "user_category               \n",
       "1                        408\n",
       "2                        328\n",
       "3                        245"
      ]
     },
     "execution_count": 113,
     "metadata": {},
     "output_type": "execute_result"
    }
   ],
   "source": [
    "# подсчет количества уникальных пользователей совершивших целецвое действие для 3 групп \n",
    "mobile_dataset_contact_category = (\n",
    "    mobile_dataset_contact\n",
    "    .groupby('user_category')\n",
    "    .agg({'user_id': 'nunique'})\n",
    "    .rename(columns={'user_id':'user_id_count'})\n",
    ")\n",
    "mobile_dataset_contact_category.head()"
   ]
  },
  {
   "cell_type": "code",
   "execution_count": 114,
   "id": "f872a711",
   "metadata": {},
   "outputs": [
    {
     "data": {
      "text/html": [
       "<div>\n",
       "<style scoped>\n",
       "    .dataframe tbody tr th:only-of-type {\n",
       "        vertical-align: middle;\n",
       "    }\n",
       "\n",
       "    .dataframe tbody tr th {\n",
       "        vertical-align: top;\n",
       "    }\n",
       "\n",
       "    .dataframe thead th {\n",
       "        text-align: right;\n",
       "    }\n",
       "</style>\n",
       "<table border=\"1\" class=\"dataframe\">\n",
       "  <thead>\n",
       "    <tr style=\"text-align: right;\">\n",
       "      <th></th>\n",
       "      <th>user_id_count</th>\n",
       "    </tr>\n",
       "    <tr>\n",
       "      <th>user_category</th>\n",
       "      <th></th>\n",
       "    </tr>\n",
       "  </thead>\n",
       "  <tbody>\n",
       "    <tr>\n",
       "      <th>1</th>\n",
       "      <td>26.61</td>\n",
       "    </tr>\n",
       "    <tr>\n",
       "      <th>2</th>\n",
       "      <td>21.85</td>\n",
       "    </tr>\n",
       "    <tr>\n",
       "      <th>3</th>\n",
       "      <td>19.46</td>\n",
       "    </tr>\n",
       "  </tbody>\n",
       "</table>\n",
       "</div>"
      ],
      "text/plain": [
       "               user_id_count\n",
       "user_category               \n",
       "1                      26.61\n",
       "2                      21.85\n",
       "3                      19.46"
      ]
     },
     "execution_count": 114,
     "metadata": {},
     "output_type": "execute_result"
    }
   ],
   "source": [
    "# расчет конверсии в целевое действие для различных групп\n",
    "round(100*(mobile_dataset_contact_category / all_users), 2)"
   ]
  },
  {
   "cell_type": "markdown",
   "id": "b7f2b64f",
   "metadata": {},
   "source": [
    "Для первой группы самая лучшая конверсия."
   ]
  },
  {
   "cell_type": "markdown",
   "id": "0bd7e36e",
   "metadata": {},
   "source": [
    "## Проверка статистических гипотез"
   ]
  },
  {
   "cell_type": "markdown",
   "id": "6a773642",
   "metadata": {},
   "source": [
    "### Пользователи из разных источников"
   ]
  },
  {
   "cell_type": "markdown",
   "id": "91bed614",
   "metadata": {},
   "source": [
    "Сформулируем нулевую гипотезу H0: конверсии пользователей в просмотры контактов из источников `yandex` и `google` не различаются. \n",
    "\n",
    "Гипотеза H1 будет звучать так: конверсии пользователей в просмотры контактов из источников `yandex` и `google` различаются."
   ]
  },
  {
   "cell_type": "markdown",
   "id": "da590afb",
   "metadata": {},
   "source": [
    "Сначала подсчитаем количество пользователей из разных источников и целевые действия для них"
   ]
  },
  {
   "cell_type": "code",
   "execution_count": 115,
   "id": "2f3b9029",
   "metadata": {},
   "outputs": [
    {
     "data": {
      "text/html": [
       "<div>\n",
       "<style scoped>\n",
       "    .dataframe tbody tr th:only-of-type {\n",
       "        vertical-align: middle;\n",
       "    }\n",
       "\n",
       "    .dataframe tbody tr th {\n",
       "        vertical-align: top;\n",
       "    }\n",
       "\n",
       "    .dataframe thead th {\n",
       "        text-align: right;\n",
       "    }\n",
       "</style>\n",
       "<table border=\"1\" class=\"dataframe\">\n",
       "  <thead>\n",
       "    <tr style=\"text-align: right;\">\n",
       "      <th></th>\n",
       "      <th>user_id_count</th>\n",
       "    </tr>\n",
       "    <tr>\n",
       "      <th>source</th>\n",
       "      <th></th>\n",
       "    </tr>\n",
       "  </thead>\n",
       "  <tbody>\n",
       "    <tr>\n",
       "      <th>google</th>\n",
       "      <td>1129</td>\n",
       "    </tr>\n",
       "    <tr>\n",
       "      <th>other</th>\n",
       "      <td>1230</td>\n",
       "    </tr>\n",
       "    <tr>\n",
       "      <th>yandex</th>\n",
       "      <td>1934</td>\n",
       "    </tr>\n",
       "  </tbody>\n",
       "</table>\n",
       "</div>"
      ],
      "text/plain": [
       "        user_id_count\n",
       "source               \n",
       "google           1129\n",
       "other            1230\n",
       "yandex           1934"
      ]
     },
     "execution_count": 115,
     "metadata": {},
     "output_type": "execute_result"
    }
   ],
   "source": [
    "# подсчет количества уникальных пользователей совершивших целецвое действие для разных источников\n",
    "mobile_dataset = (\n",
    "    mobile_dataset\n",
    "    .groupby('source')\n",
    "    .agg({'user_id': 'nunique'})\n",
    "    .rename(columns={'user_id':'user_id_count'})\n",
    ")\n",
    "mobile_dataset.head()"
   ]
  },
  {
   "cell_type": "code",
   "execution_count": 116,
   "id": "396caa5a",
   "metadata": {},
   "outputs": [
    {
     "data": {
      "text/html": [
       "<div>\n",
       "<style scoped>\n",
       "    .dataframe tbody tr th:only-of-type {\n",
       "        vertical-align: middle;\n",
       "    }\n",
       "\n",
       "    .dataframe tbody tr th {\n",
       "        vertical-align: top;\n",
       "    }\n",
       "\n",
       "    .dataframe thead th {\n",
       "        text-align: right;\n",
       "    }\n",
       "</style>\n",
       "<table border=\"1\" class=\"dataframe\">\n",
       "  <thead>\n",
       "    <tr style=\"text-align: right;\">\n",
       "      <th></th>\n",
       "      <th>user_id_count</th>\n",
       "    </tr>\n",
       "    <tr>\n",
       "      <th>source</th>\n",
       "      <th></th>\n",
       "    </tr>\n",
       "  </thead>\n",
       "  <tbody>\n",
       "    <tr>\n",
       "      <th>google</th>\n",
       "      <td>275</td>\n",
       "    </tr>\n",
       "    <tr>\n",
       "      <th>other</th>\n",
       "      <td>228</td>\n",
       "    </tr>\n",
       "    <tr>\n",
       "      <th>yandex</th>\n",
       "      <td>478</td>\n",
       "    </tr>\n",
       "  </tbody>\n",
       "</table>\n",
       "</div>"
      ],
      "text/plain": [
       "        user_id_count\n",
       "source               \n",
       "google            275\n",
       "other             228\n",
       "yandex            478"
      ]
     },
     "execution_count": 116,
     "metadata": {},
     "output_type": "execute_result"
    }
   ],
   "source": [
    "# подсчет количества уникальных пользователей совершивших целецвое действие для разных источников\n",
    "mobile_dataset_contact = (\n",
    "    mobile_dataset_contact\n",
    "    .groupby('source')\n",
    "    .agg({'user_id': 'nunique'})\n",
    "    .rename(columns={'user_id':'user_id_count'})\n",
    ")\n",
    "mobile_dataset_contact.head()"
   ]
  },
  {
   "cell_type": "markdown",
   "id": "57d65ac6",
   "metadata": {},
   "source": [
    "В данной гипотезе нам нужно проверить равенство долей. Применим для этого разницу между пропорциями(z_value)."
   ]
  },
  {
   "cell_type": "code",
   "execution_count": 117,
   "id": "93c7bd17",
   "metadata": {},
   "outputs": [
    {
     "name": "stdout",
     "output_type": "stream",
     "text": [
      "p-значение:  [0.8244316]\n",
      "Не получилось отвергнуть нулевую гипотезу, нет оснований считать доли разными\n"
     ]
    }
   ],
   "source": [
    "alpha = 0.05 # критический уровень статистической значимости\n",
    "\n",
    "successes = np.array([mobile_dataset_contact.loc['yandex'], mobile_dataset_contact.loc['google']])\n",
    "trials = np.array([mobile_dataset.loc['yandex'], mobile_dataset.loc['google']])\n",
    "\n",
    "# пропорция успехов в первой группе:\n",
    "p1 = successes[0]/trials[0]\n",
    "\n",
    "# пропорция успехов во второй группе:\n",
    "p2 = successes[1]/trials[1]\n",
    "\n",
    "# пропорция успехов в комбинированном датасете:\n",
    "p_combined = (successes[0] + successes[1]) / (trials[0] + trials[1])\n",
    "\n",
    "# разница пропорций в датасетах\n",
    "difference = p1 - p2 \n",
    "\n",
    "# считаем статистику в ст.отклонениях стандартного нормального распределения\n",
    "z_value = difference / mth.sqrt(p_combined * (1 - p_combined) * (1/trials[0] + 1/trials[1]))\n",
    "\n",
    "# задаем стандартное нормальное распределение (среднее 0, ст.отклонение 1)\n",
    "distr = st.norm(0, 1)  \n",
    "\n",
    "p_value = (1 - distr.cdf(abs(z_value))) * 2\n",
    "\n",
    "print('p-значение: ', p_value)\n",
    "\n",
    "if p_value < alpha:\n",
    "    print('Отвергаем нулевую гипотезу: между долями есть значимая разница')\n",
    "else:\n",
    "    print(\n",
    "        'Не получилось отвергнуть нулевую гипотезу, нет оснований считать доли разными'\n",
    "    ) "
   ]
  },
  {
   "cell_type": "markdown",
   "id": "a3a85626",
   "metadata": {},
   "source": [
    "Такая разница в пропорциях не достаточна, чтобы говорить о статистически значимом различии."
   ]
  },
  {
   "cell_type": "markdown",
   "id": "8a41ed64",
   "metadata": {},
   "source": [
    "### Пользователи из разных групп"
   ]
  },
  {
   "cell_type": "markdown",
   "id": "92bbb8cb",
   "metadata": {},
   "source": [
    "Сформулируем нулевую гипотезу H0: конверсии в просмотры контактов не отличаются для пользователей из различных групп. То есть для тех, у кого отличается среднее время сессии.\n",
    "\n",
    "Гипотеза H1 будет звучать так: конверсии в просмотры контактов для пользователей из различных групп различаются."
   ]
  },
  {
   "cell_type": "markdown",
   "id": "cc5c410e",
   "metadata": {},
   "source": [
    "Так как у нас 3 группы, то будет 3 проверки гипотезы. Для начала отобразим количество пользователей для разных групп и количество пользователей с целевым событием."
   ]
  },
  {
   "cell_type": "code",
   "execution_count": 118,
   "id": "0684c676",
   "metadata": {},
   "outputs": [
    {
     "data": {
      "text/html": [
       "<div>\n",
       "<style scoped>\n",
       "    .dataframe tbody tr th:only-of-type {\n",
       "        vertical-align: middle;\n",
       "    }\n",
       "\n",
       "    .dataframe tbody tr th {\n",
       "        vertical-align: top;\n",
       "    }\n",
       "\n",
       "    .dataframe thead th {\n",
       "        text-align: right;\n",
       "    }\n",
       "</style>\n",
       "<table border=\"1\" class=\"dataframe\">\n",
       "  <thead>\n",
       "    <tr style=\"text-align: right;\">\n",
       "      <th></th>\n",
       "      <th>user_id_count</th>\n",
       "    </tr>\n",
       "    <tr>\n",
       "      <th>user_category</th>\n",
       "      <th></th>\n",
       "    </tr>\n",
       "  </thead>\n",
       "  <tbody>\n",
       "    <tr>\n",
       "      <th>1</th>\n",
       "      <td>1533</td>\n",
       "    </tr>\n",
       "    <tr>\n",
       "      <th>2</th>\n",
       "      <td>1501</td>\n",
       "    </tr>\n",
       "    <tr>\n",
       "      <th>3</th>\n",
       "      <td>1259</td>\n",
       "    </tr>\n",
       "  </tbody>\n",
       "</table>\n",
       "</div>"
      ],
      "text/plain": [
       "               user_id_count\n",
       "user_category               \n",
       "1                       1533\n",
       "2                       1501\n",
       "3                       1259"
      ]
     },
     "execution_count": 118,
     "metadata": {},
     "output_type": "execute_result"
    }
   ],
   "source": [
    "# количество уникальных пользователей в группах\n",
    "all_users"
   ]
  },
  {
   "cell_type": "code",
   "execution_count": 119,
   "id": "610e5892",
   "metadata": {},
   "outputs": [
    {
     "data": {
      "text/html": [
       "<div>\n",
       "<style scoped>\n",
       "    .dataframe tbody tr th:only-of-type {\n",
       "        vertical-align: middle;\n",
       "    }\n",
       "\n",
       "    .dataframe tbody tr th {\n",
       "        vertical-align: top;\n",
       "    }\n",
       "\n",
       "    .dataframe thead th {\n",
       "        text-align: right;\n",
       "    }\n",
       "</style>\n",
       "<table border=\"1\" class=\"dataframe\">\n",
       "  <thead>\n",
       "    <tr style=\"text-align: right;\">\n",
       "      <th></th>\n",
       "      <th>user_id_count</th>\n",
       "    </tr>\n",
       "    <tr>\n",
       "      <th>user_category</th>\n",
       "      <th></th>\n",
       "    </tr>\n",
       "  </thead>\n",
       "  <tbody>\n",
       "    <tr>\n",
       "      <th>1</th>\n",
       "      <td>408</td>\n",
       "    </tr>\n",
       "    <tr>\n",
       "      <th>2</th>\n",
       "      <td>328</td>\n",
       "    </tr>\n",
       "    <tr>\n",
       "      <th>3</th>\n",
       "      <td>245</td>\n",
       "    </tr>\n",
       "  </tbody>\n",
       "</table>\n",
       "</div>"
      ],
      "text/plain": [
       "               user_id_count\n",
       "user_category               \n",
       "1                        408\n",
       "2                        328\n",
       "3                        245"
      ]
     },
     "execution_count": 119,
     "metadata": {},
     "output_type": "execute_result"
    }
   ],
   "source": [
    "# количество уникальных пользователей совершивших целецвое действие для 3 групп \n",
    "mobile_dataset_contact_category"
   ]
  },
  {
   "cell_type": "markdown",
   "id": "d63b9812",
   "metadata": {},
   "source": [
    "Чтобы не дублировать код для каждой проверки создадим функцию"
   ]
  },
  {
   "cell_type": "code",
   "execution_count": 120,
   "id": "ae72be2e",
   "metadata": {
    "scrolled": true
   },
   "outputs": [],
   "source": [
    "# функция для проверки равенста долей событий, будет ли отличие между группами статистически достоверным\n",
    "def category_equals(successes_value1, successes_value2, trials_value1, trials_value2, alpha):\n",
    "    alpha = alpha # критический уровень статистической значимости\n",
    "\n",
    "    successes = np.array([successes_value1, successes_value2])\n",
    "    trials = np.array([trials_value1, trials_value2])\n",
    "\n",
    "    # пропорция успехов в первой группе:\n",
    "    p1 = successes[0]/trials[0]\n",
    "\n",
    "    # пропорция успехов во второй группе:\n",
    "    p2 = successes[1]/trials[1]\n",
    "\n",
    "    # пропорция успехов в комбинированном датасете:\n",
    "    p_combined = (successes[0] + successes[1]) / (trials[0] + trials[1])\n",
    "\n",
    "    # разница пропорций в датасетах\n",
    "    difference = p1 - p2 \n",
    "\n",
    "    # считаем статистику в ст.отклонениях стандартного нормального распределения\n",
    "    z_value = difference / mth.sqrt(p_combined * (1 - p_combined) * (1/trials[0] + 1/trials[1]))\n",
    "\n",
    "    # задаем стандартное нормальное распределение (среднее 0, ст.отклонение 1)\n",
    "    distr = st.norm(0, 1)  \n",
    "\n",
    "    p_value = (1 - distr.cdf(abs(z_value))) * 2\n",
    "\n",
    "    print('p-значение: ', p_value)\n",
    "\n",
    "    if p_value < alpha:\n",
    "        print('Отвергаем нулевую гипотезу: между долями есть значимая разница')\n",
    "    else:\n",
    "        print(\n",
    "            'Не получилось отвергнуть нулевую гипотезу, нет оснований считать доли разными'\n",
    "        ) "
   ]
  },
  {
   "cell_type": "code",
   "execution_count": 121,
   "id": "bac3b187",
   "metadata": {},
   "outputs": [
    {
     "name": "stdout",
     "output_type": "stream",
     "text": [
      "p-значение:  [8.83414232e-06]\n",
      "Отвергаем нулевую гипотезу: между долями есть значимая разница\n"
     ]
    }
   ],
   "source": [
    "category_equals(mobile_dataset_contact_category.loc['1'], \n",
    "                mobile_dataset_contact_category.loc['3'],\n",
    "                all_users.loc['1'],\n",
    "                all_users.loc['3'],\n",
    "                0.05)"
   ]
  },
  {
   "cell_type": "code",
   "execution_count": 122,
   "id": "f974930b",
   "metadata": {},
   "outputs": [
    {
     "name": "stdout",
     "output_type": "stream",
     "text": [
      "p-значение:  [0.00221555]\n",
      "Отвергаем нулевую гипотезу: между долями есть значимая разница\n"
     ]
    }
   ],
   "source": [
    "category_equals(mobile_dataset_contact_category.loc['1'], \n",
    "                mobile_dataset_contact_category.loc['2'],\n",
    "                all_users.loc['1'],\n",
    "                all_users.loc['2'],\n",
    "                0.05)"
   ]
  },
  {
   "cell_type": "code",
   "execution_count": 123,
   "id": "de449593",
   "metadata": {},
   "outputs": [
    {
     "name": "stdout",
     "output_type": "stream",
     "text": [
      "p-значение:  [0.12275373]\n",
      "Не получилось отвергнуть нулевую гипотезу, нет оснований считать доли разными\n"
     ]
    }
   ],
   "source": [
    "category_equals(mobile_dataset_contact_category.loc['2'], \n",
    "                mobile_dataset_contact_category.loc['3'],\n",
    "                all_users.loc['2'],\n",
    "                all_users.loc['3'],\n",
    "                0.05)"
   ]
  },
  {
   "cell_type": "markdown",
   "id": "b1af200c",
   "metadata": {},
   "source": [
    "По итогам проверки можно сказать:\n",
    "- между конверсиями для 2 и 3 группы нет значимой разницы\n",
    "- между конверсиями для 1 и 3, а также для 1 и 2 группы, есть значимая разница"
   ]
  },
  {
   "cell_type": "markdown",
   "id": "9b229a32",
   "metadata": {},
   "source": [
    "## Выводы"
   ]
  },
  {
   "cell_type": "markdown",
   "id": "217f5210",
   "metadata": {},
   "source": [
    "**Основные выводы**\n",
    "- На этапе предобработки привели типы данных в столбцах к необходимым для  дальнейшего анализа, объеденили два исходных датасета с событиями и данными о источниках пользователей и похожие друг на друга события объеденили в одно.\n",
    "- Исходя из времени событий и таймаута между ними были выделены пользовательские сессии\n",
    "- Для уникальных пользователей посчитаны:\n",
    "    - среднее количество событий - 9\n",
    "    - среднее количество сессий - 2\n",
    "    - среднее количество событий в одной сессии - 4\n",
    "    - источник привлечения пользователя не влияет на эти цифры\n",
    "- Построен график периодичности событий(активность пользователей в приложении). Периодичность имеет суточный характер. К ночи активность снижается, днем она самая высокая.\n",
    "- Исходя из количества уникальных пользователей для события можно сказать:\n",
    "    - меньше 10% пользователей, увидевших рекомендованное объявление, перешли на него\n",
    "    - 25% пользователей просмотривает фотографии в объявлениях\n",
    "    - довольно много пользователей пользуются картой для отображения объявлений\n",
    "    - из пользователей просмотревших контакты продавца, через приложение звонят около 20%\n",
    "- На основе выделенных пользовательских профилей:\n",
    "    - В период с 7 по 15 октября наблюдается увеличение числа пользователей, дальше показатели одинаковые\n",
    "    - Спады и увеличения числа пользователей по датам совпадают для всех источников.\n",
    "    - Чаще всего пользователи приходили из Яндекса, примерно одинаково из Googla и других источников.\n",
    "- Пользователи разбиты на 3 группы исходя из длительности их сессий\n",
    "- Различие групп по метрикам:\n",
    "    - хуже всего удержание у 3-ей группы пользователей, лучше всего у 1-ой\n",
    "    - дольше всех в приложении находились пользователи из 3-ей группы - 36 дней, меньше всех из 1-ой - 15 дней, из 2-ой - 24 дня\n",
    "    - У 3-ей группы больше всего событий - 30 тысяч, у 1-ой меньше всего - 20 тысяч, у 2-ой - 24 тысячи\n",
    "    - у 1-ой группы конверсия значительно выше двух остальных групп, 27% против 22 и 20 соответственно\n",
    "- Конверсии пользователей в просмотры контактов из источников yandex и google не различаются\n",
    "- Конверсии в просмотры контактов для пользователей из 2 и 3 группы не отличаются. Для пользователей из 1 и 3, а также для 1 и 2 группы отличаются."
   ]
  },
  {
   "cell_type": "markdown",
   "id": "b16dfc1f",
   "metadata": {},
   "source": [
    "**Рекомендации**\n",
    "- Чтобы увеличить конверсию в событие `просмотр контактов`, то нужно стремиться уменьшать среднюю длительность сессии пользователя. Исходя из количества пользователей в разных группах, потенциал для увеличения конверсии порядка 75%. Нужно отметить, что разница между конверсиями групп пользователей значимая.\n",
    "- У пользователей пришедших с Яндекса: сильно лучше динамика привлечения; удержание для 1-ой и 3-ей группы не отличается от других источников, для 2-ой группы удержание для Яндекса хуже, чем для двух других источников. <br>Соответственно можно делать упор на платформу Яндекс. Это даст нам прирост пользователей в группу с самой высокой конверсией и удержанием.\n",
    "- Событие \"просмотр фотографий\" характерно для пользователей целевой 1-ой группы. Значит наличие фотографий в объявлении положительно влияет на его привлекательность для интересующих нас пользователей.<br> \n",
    "    - Можно установить обязательные правила при подаче объявления на наличие фотографий или их количество и качество.\n",
    "    - Также можно продвигать на первые места при поиске объявления с фотографиями.\n",
    "    - При выдаче рекомендованных объявлений(событие `tips_show`), нужно отображать объявления с фотографиями."
   ]
  }
 ],
 "metadata": {
  "ExecuteTimeLog": [
   {
    "duration": 2957,
    "start_time": "2022-08-22T11:20:20.887Z"
   },
   {
    "duration": 404,
    "start_time": "2022-08-22T11:20:23.846Z"
   },
   {
    "duration": 14,
    "start_time": "2022-08-22T11:20:24.252Z"
   },
   {
    "duration": 18,
    "start_time": "2022-08-22T11:20:24.268Z"
   },
   {
    "duration": 15,
    "start_time": "2022-08-22T11:20:24.288Z"
   },
   {
    "duration": 33,
    "start_time": "2022-08-22T11:20:24.305Z"
   },
   {
    "duration": 5,
    "start_time": "2022-08-22T11:20:24.340Z"
   },
   {
    "duration": 42,
    "start_time": "2022-08-22T11:20:24.346Z"
   },
   {
    "duration": 28,
    "start_time": "2022-08-22T11:20:24.390Z"
   },
   {
    "duration": 11,
    "start_time": "2022-08-22T11:20:24.421Z"
   },
   {
    "duration": 63,
    "start_time": "2022-08-22T11:20:24.434Z"
   },
   {
    "duration": 11,
    "start_time": "2022-08-22T11:20:24.498Z"
   },
   {
    "duration": 15,
    "start_time": "2022-08-22T11:20:24.511Z"
   },
   {
    "duration": 103,
    "start_time": "2022-08-22T11:20:24.528Z"
   },
   {
    "duration": 5,
    "start_time": "2022-08-22T11:20:24.633Z"
   },
   {
    "duration": 48,
    "start_time": "2022-08-22T11:20:24.639Z"
   },
   {
    "duration": 734,
    "start_time": "2022-08-22T11:20:24.688Z"
   },
   {
    "duration": 26,
    "start_time": "2022-08-22T11:20:25.423Z"
   },
   {
    "duration": 16,
    "start_time": "2022-08-22T11:20:25.450Z"
   },
   {
    "duration": 20,
    "start_time": "2022-08-22T11:20:25.467Z"
   },
   {
    "duration": 65,
    "start_time": "2022-08-22T11:20:25.489Z"
   },
   {
    "duration": 35,
    "start_time": "2022-08-22T11:20:25.555Z"
   },
   {
    "duration": 29,
    "start_time": "2022-08-22T11:20:25.592Z"
   },
   {
    "duration": 342,
    "start_time": "2022-08-22T11:20:25.622Z"
   },
   {
    "duration": 54,
    "start_time": "2022-08-22T11:20:25.966Z"
   },
   {
    "duration": 27,
    "start_time": "2022-08-22T11:20:26.022Z"
   },
   {
    "duration": 165,
    "start_time": "2022-08-22T11:20:26.051Z"
   },
   {
    "duration": 172,
    "start_time": "2022-08-22T11:20:26.219Z"
   },
   {
    "duration": 10,
    "start_time": "2022-08-22T11:20:26.392Z"
   },
   {
    "duration": 649,
    "start_time": "2022-08-22T11:20:26.403Z"
   },
   {
    "duration": 41,
    "start_time": "2022-08-22T11:20:27.054Z"
   },
   {
    "duration": 3,
    "start_time": "2022-08-22T11:20:27.096Z"
   },
   {
    "duration": 7,
    "start_time": "2022-08-22T11:20:27.100Z"
   },
   {
    "duration": 53,
    "start_time": "2022-08-22T11:20:27.108Z"
   },
   {
    "duration": 256,
    "start_time": "2022-08-22T11:20:27.163Z"
   },
   {
    "duration": 10,
    "start_time": "2022-08-22T11:20:27.421Z"
   },
   {
    "duration": 24,
    "start_time": "2022-08-22T11:20:27.432Z"
   },
   {
    "duration": 7,
    "start_time": "2022-08-22T11:20:27.457Z"
   },
   {
    "duration": 505,
    "start_time": "2022-08-22T11:20:27.466Z"
   },
   {
    "duration": 393,
    "start_time": "2022-08-22T11:20:27.972Z"
   },
   {
    "duration": 4,
    "start_time": "2022-08-22T11:20:28.366Z"
   },
   {
    "duration": 31,
    "start_time": "2022-08-22T11:20:28.371Z"
   },
   {
    "duration": 6,
    "start_time": "2022-08-22T11:20:28.403Z"
   },
   {
    "duration": 21,
    "start_time": "2022-08-22T11:20:28.411Z"
   },
   {
    "duration": 23,
    "start_time": "2022-08-22T11:20:28.433Z"
   },
   {
    "duration": 33,
    "start_time": "2022-08-22T11:20:28.458Z"
   },
   {
    "duration": 10,
    "start_time": "2022-08-22T11:20:28.493Z"
   },
   {
    "duration": 17,
    "start_time": "2022-08-22T11:20:28.505Z"
   },
   {
    "duration": 122,
    "start_time": "2022-08-22T11:20:28.524Z"
   },
   {
    "duration": 23,
    "start_time": "2022-08-22T11:20:28.648Z"
   },
   {
    "duration": 30,
    "start_time": "2022-08-22T11:20:28.672Z"
   },
   {
    "duration": 414,
    "start_time": "2022-08-22T11:20:28.704Z"
   },
   {
    "duration": 67,
    "start_time": "2022-08-22T11:20:29.120Z"
   },
   {
    "duration": 439,
    "start_time": "2022-08-22T11:20:29.189Z"
   },
   {
    "duration": 3,
    "start_time": "2022-08-22T11:20:29.630Z"
   },
   {
    "duration": 22,
    "start_time": "2022-08-22T11:20:29.634Z"
   },
   {
    "duration": 32,
    "start_time": "2022-08-22T11:20:29.658Z"
   },
   {
    "duration": 10,
    "start_time": "2022-08-22T11:20:29.692Z"
   },
   {
    "duration": 18,
    "start_time": "2022-08-22T11:20:29.704Z"
   },
   {
    "duration": 10,
    "start_time": "2022-08-22T11:20:29.724Z"
   },
   {
    "duration": 3196,
    "start_time": "2022-08-23T15:11:28.879Z"
   },
   {
    "duration": 632,
    "start_time": "2022-08-23T15:11:32.078Z"
   },
   {
    "duration": 17,
    "start_time": "2022-08-23T15:11:32.712Z"
   },
   {
    "duration": 6,
    "start_time": "2022-08-23T15:11:32.732Z"
   },
   {
    "duration": 9,
    "start_time": "2022-08-23T15:11:32.739Z"
   },
   {
    "duration": 71,
    "start_time": "2022-08-23T15:11:32.750Z"
   },
   {
    "duration": 11,
    "start_time": "2022-08-23T15:11:32.823Z"
   },
   {
    "duration": 59,
    "start_time": "2022-08-23T15:11:32.836Z"
   },
   {
    "duration": 37,
    "start_time": "2022-08-23T15:11:32.897Z"
   },
   {
    "duration": 17,
    "start_time": "2022-08-23T15:11:32.938Z"
   },
   {
    "duration": 79,
    "start_time": "2022-08-23T15:11:32.957Z"
   },
   {
    "duration": 12,
    "start_time": "2022-08-23T15:11:33.037Z"
   },
   {
    "duration": 23,
    "start_time": "2022-08-23T15:11:33.051Z"
   },
   {
    "duration": 101,
    "start_time": "2022-08-23T15:11:33.075Z"
   },
   {
    "duration": 15,
    "start_time": "2022-08-23T15:11:33.178Z"
   },
   {
    "duration": 67,
    "start_time": "2022-08-23T15:11:33.195Z"
   },
   {
    "duration": 924,
    "start_time": "2022-08-23T15:11:33.263Z"
   },
   {
    "duration": 43,
    "start_time": "2022-08-23T15:11:34.193Z"
   },
   {
    "duration": 27,
    "start_time": "2022-08-23T15:11:34.239Z"
   },
   {
    "duration": 29,
    "start_time": "2022-08-23T15:11:34.268Z"
   },
   {
    "duration": 111,
    "start_time": "2022-08-23T15:11:34.299Z"
   },
   {
    "duration": 28,
    "start_time": "2022-08-23T15:11:34.412Z"
   },
   {
    "duration": 39,
    "start_time": "2022-08-23T15:11:34.442Z"
   },
   {
    "duration": 417,
    "start_time": "2022-08-23T15:11:34.494Z"
   },
   {
    "duration": 52,
    "start_time": "2022-08-23T15:11:34.914Z"
   },
   {
    "duration": 60,
    "start_time": "2022-08-23T15:11:34.968Z"
   },
   {
    "duration": 180,
    "start_time": "2022-08-23T15:11:35.030Z"
   },
   {
    "duration": 222,
    "start_time": "2022-08-23T15:11:35.214Z"
   },
   {
    "duration": 12,
    "start_time": "2022-08-23T15:11:35.438Z"
   },
   {
    "duration": 803,
    "start_time": "2022-08-23T15:11:35.452Z"
   },
   {
    "duration": 61,
    "start_time": "2022-08-23T15:11:36.257Z"
   },
   {
    "duration": 3,
    "start_time": "2022-08-23T15:11:36.319Z"
   },
   {
    "duration": 13,
    "start_time": "2022-08-23T15:11:36.324Z"
   },
   {
    "duration": 81,
    "start_time": "2022-08-23T15:11:36.339Z"
   },
   {
    "duration": 299,
    "start_time": "2022-08-23T15:11:36.422Z"
   },
   {
    "duration": 28,
    "start_time": "2022-08-23T15:11:36.723Z"
   },
   {
    "duration": 9,
    "start_time": "2022-08-23T15:11:36.753Z"
   },
   {
    "duration": 608,
    "start_time": "2022-08-23T15:11:36.764Z"
   },
   {
    "duration": 471,
    "start_time": "2022-08-23T15:11:37.374Z"
   },
   {
    "duration": 4,
    "start_time": "2022-08-23T15:11:37.847Z"
   },
   {
    "duration": 53,
    "start_time": "2022-08-23T15:11:37.853Z"
   },
   {
    "duration": 9,
    "start_time": "2022-08-23T15:11:37.911Z"
   },
   {
    "duration": 26,
    "start_time": "2022-08-23T15:11:37.922Z"
   },
   {
    "duration": 55,
    "start_time": "2022-08-23T15:11:37.951Z"
   },
   {
    "duration": 118,
    "start_time": "2022-08-23T15:11:38.009Z"
   },
   {
    "duration": 193,
    "start_time": "2022-08-23T15:11:38.129Z"
   },
   {
    "duration": 22,
    "start_time": "2022-08-23T15:11:38.324Z"
   },
   {
    "duration": 1709,
    "start_time": "2022-08-23T15:11:38.349Z"
   },
   {
    "duration": 217,
    "start_time": "2022-08-23T15:11:40.061Z"
   },
   {
    "duration": 775,
    "start_time": "2022-08-23T15:11:40.281Z"
   },
   {
    "duration": 138,
    "start_time": "2022-08-23T15:11:41.059Z"
   },
   {
    "duration": 975,
    "start_time": "2022-08-23T15:11:41.200Z"
   },
   {
    "duration": 43,
    "start_time": "2022-08-23T15:11:42.177Z"
   },
   {
    "duration": 37,
    "start_time": "2022-08-23T15:11:42.222Z"
   },
   {
    "duration": 22,
    "start_time": "2022-08-23T15:11:42.262Z"
   },
   {
    "duration": 21,
    "start_time": "2022-08-23T15:11:42.287Z"
   },
   {
    "duration": 59,
    "start_time": "2022-08-23T15:11:42.314Z"
   },
   {
    "duration": 105,
    "start_time": "2022-08-23T15:11:42.375Z"
   },
   {
    "duration": 18,
    "start_time": "2022-08-23T15:11:42.482Z"
   },
   {
    "duration": 27,
    "start_time": "2022-08-23T15:11:42.502Z"
   },
   {
    "duration": 17,
    "start_time": "2022-08-23T15:11:42.534Z"
   },
   {
    "duration": 14,
    "start_time": "2022-08-23T15:11:42.553Z"
   },
   {
    "duration": 32,
    "start_time": "2022-08-23T15:11:42.569Z"
   },
   {
    "duration": 684,
    "start_time": "2022-08-23T15:11:42.603Z"
   },
   {
    "duration": 38,
    "start_time": "2022-08-23T15:11:43.289Z"
   },
   {
    "duration": 29,
    "start_time": "2022-08-23T15:11:43.329Z"
   },
   {
    "duration": 38,
    "start_time": "2022-08-23T15:11:43.360Z"
   },
   {
    "duration": 17,
    "start_time": "2022-08-23T15:11:43.399Z"
   },
   {
    "duration": 31,
    "start_time": "2022-08-23T15:11:43.418Z"
   },
   {
    "duration": 50,
    "start_time": "2022-08-23T15:11:43.451Z"
   },
   {
    "duration": 12,
    "start_time": "2022-08-23T15:11:43.513Z"
   },
   {
    "duration": 16,
    "start_time": "2022-08-23T15:11:43.527Z"
   },
   {
    "duration": 11,
    "start_time": "2022-08-23T15:11:43.545Z"
   },
   {
    "duration": 10,
    "start_time": "2022-08-23T15:11:43.559Z"
   },
   {
    "duration": 30,
    "start_time": "2022-08-23T15:11:43.572Z"
   },
   {
    "duration": 10,
    "start_time": "2022-08-23T15:11:43.608Z"
   },
   {
    "duration": 21,
    "start_time": "2022-08-23T15:11:43.619Z"
   }
  ],
  "kernelspec": {
   "display_name": "Python 3 (ipykernel)",
   "language": "python",
   "name": "python3"
  },
  "language_info": {
   "codemirror_mode": {
    "name": "ipython",
    "version": 3
   },
   "file_extension": ".py",
   "mimetype": "text/x-python",
   "name": "python",
   "nbconvert_exporter": "python",
   "pygments_lexer": "ipython3",
   "version": "3.9.7"
  },
  "toc": {
   "base_numbering": 1,
   "nav_menu": {},
   "number_sections": true,
   "sideBar": true,
   "skip_h1_title": true,
   "title_cell": "Table of Contents",
   "title_sidebar": "Contents",
   "toc_cell": true,
   "toc_position": {},
   "toc_section_display": true,
   "toc_window_display": false
  }
 },
 "nbformat": 4,
 "nbformat_minor": 5
}
