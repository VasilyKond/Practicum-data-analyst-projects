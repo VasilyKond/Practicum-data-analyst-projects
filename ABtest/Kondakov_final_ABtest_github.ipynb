{
  {
   "cell_type": "markdown",
   "id": "fa23c0f2",
   "metadata": {},
   "source": [
    "**Шаги исследования**\n",
    "\n",
    "- *Загрузка и обзор данных*\n",
    "- *Предобработка данных*\n",
    "    - Проверка и обработка пропусков\n",
    "    - Изменение типов данных и переименование столцов\n",
    "    - Проверка данных на аномалии и исправления\n",
    "    - Проверка дубликатов\n",
    "- *Корректность проведения теста*\n",
    "    - Соответствие данных требованиям технического задания. Проверить корректность всех пунктов технического задания.\n",
    "    - Время проведения теста. Убедиться, что оно не совпадает с маркетинговыми и другими активностями.\n",
    "    - Аудиторию теста. Удостовериться, что нет пересечений с конкурирующим тестом и нет пользователей, участвующих в двух группах теста одновременно. Проверить равномерность распределения по тестовым группам и правильность их формирования.\n",
    "- *Исследовательский анализ данных*\n",
    "    - Количество событий на пользователя одинаково распределены в выборках?\n",
    "    - Как число событий в выборках распределено по дням?\n",
    "    - Как меняется конверсия в воронке в выборках на разных этапах?\n",
    "    - Какие особенности данных нужно учесть, прежде чем приступать к A/B-тестированию?\n",
    "- *Оценка результатов A/B-тестирования*\n",
    "    - Что можно сказать про результаты A/В-тестирования?\n",
    "    - Проверить статистическую разницу долей z-критерием.\n",
    "- *Выводы*"
   ]
  },
  {
   "cell_type": "markdown",
   "id": "fa6c2599",
   "metadata": {},
   "source": [
    "## Загрузка и обзор данных"
   ]
  },
  {
   "cell_type": "code",
   "execution_count": 82,
   "id": "5a3b9258",
   "metadata": {},
   "outputs": [],
   "source": [
    "# импортируем библиотеки необходимые для работы\n",
    "import pandas as pd\n",
    "import matplotlib.pyplot as plt\n",
    "import seaborn as sns\n",
    "import numpy as np\n",
    "import datetime as dt\n",
    "from datetime import datetime, timedelta\n",
    "import math as mth\n",
    "import plotly.express as px\n",
    "import plotly.graph_objects as go\n",
    "from sklearn.preprocessing import StandardScaler\n",
    "from scipy.cluster.hierarchy import dendrogram, linkage \n",
    "from sklearn.cluster import KMeans\n",
    "from scipy import stats as st\n",
    "import scipy.stats as stats"
   ]
  },
  {
   "cell_type": "code",
   "execution_count": 83,
   "id": "d4760bda",
   "metadata": {},
   "outputs": [
    {
     "data": {
      "text/html": [
       "<div>\n",
       "<style scoped>\n",
       "    .dataframe tbody tr th:only-of-type {\n",
       "        vertical-align: middle;\n",
       "    }\n",
       "\n",
       "    .dataframe tbody tr th {\n",
       "        vertical-align: top;\n",
       "    }\n",
       "\n",
       "    .dataframe thead th {\n",
       "        text-align: right;\n",
       "    }\n",
       "</style>\n",
       "<table border=\"1\" class=\"dataframe\">\n",
       "  <thead>\n",
       "    <tr style=\"text-align: right;\">\n",
       "      <th></th>\n",
       "      <th>name</th>\n",
       "      <th>regions</th>\n",
       "      <th>start_dt</th>\n",
       "      <th>finish_dt</th>\n",
       "    </tr>\n",
       "  </thead>\n",
       "  <tbody>\n",
       "    <tr>\n",
       "      <th>0</th>\n",
       "      <td>Christmas&amp;New Year Promo</td>\n",
       "      <td>EU, N.America</td>\n",
       "      <td>2020-12-25</td>\n",
       "      <td>2021-01-03</td>\n",
       "    </tr>\n",
       "    <tr>\n",
       "      <th>1</th>\n",
       "      <td>St. Valentine's Day Giveaway</td>\n",
       "      <td>EU, CIS, APAC, N.America</td>\n",
       "      <td>2020-02-14</td>\n",
       "      <td>2020-02-16</td>\n",
       "    </tr>\n",
       "    <tr>\n",
       "      <th>2</th>\n",
       "      <td>St. Patric's Day Promo</td>\n",
       "      <td>EU, N.America</td>\n",
       "      <td>2020-03-17</td>\n",
       "      <td>2020-03-19</td>\n",
       "    </tr>\n",
       "    <tr>\n",
       "      <th>3</th>\n",
       "      <td>Easter Promo</td>\n",
       "      <td>EU, CIS, APAC, N.America</td>\n",
       "      <td>2020-04-12</td>\n",
       "      <td>2020-04-19</td>\n",
       "    </tr>\n",
       "    <tr>\n",
       "      <th>4</th>\n",
       "      <td>4th of July Promo</td>\n",
       "      <td>N.America</td>\n",
       "      <td>2020-07-04</td>\n",
       "      <td>2020-07-11</td>\n",
       "    </tr>\n",
       "  </tbody>\n",
       "</table>\n",
       "</div>"
      ],
      "text/plain": [
       "                           name                   regions    start_dt  \\\n",
       "0      Christmas&New Year Promo             EU, N.America  2020-12-25   \n",
       "1  St. Valentine's Day Giveaway  EU, CIS, APAC, N.America  2020-02-14   \n",
       "2        St. Patric's Day Promo             EU, N.America  2020-03-17   \n",
       "3                  Easter Promo  EU, CIS, APAC, N.America  2020-04-12   \n",
       "4             4th of July Promo                 N.America  2020-07-04   \n",
       "\n",
       "    finish_dt  \n",
       "0  2021-01-03  \n",
       "1  2020-02-16  \n",
       "2  2020-03-19  \n",
       "3  2020-04-19  \n",
       "4  2020-07-11  "
      ]
     },
     "metadata": {},
     "output_type": "display_data"
    },
    {
     "name": "stdout",
     "output_type": "stream",
     "text": [
      "<class 'pandas.core.frame.DataFrame'>\n",
      "RangeIndex: 14 entries, 0 to 13\n",
      "Data columns (total 4 columns):\n",
      " #   Column     Non-Null Count  Dtype \n",
      "---  ------     --------------  ----- \n",
      " 0   name       14 non-null     object\n",
      " 1   regions    14 non-null     object\n",
      " 2   start_dt   14 non-null     object\n",
      " 3   finish_dt  14 non-null     object\n",
      "dtypes: object(4)\n",
      "memory usage: 576.0+ bytes\n",
      "None\n"
     ]
    },
    {
     "data": {
      "text/html": [
       "<div>\n",
       "<style scoped>\n",
       "    .dataframe tbody tr th:only-of-type {\n",
       "        vertical-align: middle;\n",
       "    }\n",
       "\n",
       "    .dataframe tbody tr th {\n",
       "        vertical-align: top;\n",
       "    }\n",
       "\n",
       "    .dataframe thead th {\n",
       "        text-align: right;\n",
       "    }\n",
       "</style>\n",
       "<table border=\"1\" class=\"dataframe\">\n",
       "  <thead>\n",
       "    <tr style=\"text-align: right;\">\n",
       "      <th></th>\n",
       "      <th>user_id</th>\n",
       "      <th>first_date</th>\n",
       "      <th>region</th>\n",
       "      <th>device</th>\n",
       "    </tr>\n",
       "  </thead>\n",
       "  <tbody>\n",
       "    <tr>\n",
       "      <th>0</th>\n",
       "      <td>D72A72121175D8BE</td>\n",
       "      <td>2020-12-07</td>\n",
       "      <td>EU</td>\n",
       "      <td>PC</td>\n",
       "    </tr>\n",
       "    <tr>\n",
       "      <th>1</th>\n",
       "      <td>F1C668619DFE6E65</td>\n",
       "      <td>2020-12-07</td>\n",
       "      <td>N.America</td>\n",
       "      <td>Android</td>\n",
       "    </tr>\n",
       "    <tr>\n",
       "      <th>2</th>\n",
       "      <td>2E1BF1D4C37EA01F</td>\n",
       "      <td>2020-12-07</td>\n",
       "      <td>EU</td>\n",
       "      <td>PC</td>\n",
       "    </tr>\n",
       "    <tr>\n",
       "      <th>3</th>\n",
       "      <td>50734A22C0C63768</td>\n",
       "      <td>2020-12-07</td>\n",
       "      <td>EU</td>\n",
       "      <td>iPhone</td>\n",
       "    </tr>\n",
       "    <tr>\n",
       "      <th>4</th>\n",
       "      <td>E1BDDCE0DAFA2679</td>\n",
       "      <td>2020-12-07</td>\n",
       "      <td>N.America</td>\n",
       "      <td>iPhone</td>\n",
       "    </tr>\n",
       "  </tbody>\n",
       "</table>\n",
       "</div>"
      ],
      "text/plain": [
       "            user_id  first_date     region   device\n",
       "0  D72A72121175D8BE  2020-12-07         EU       PC\n",
       "1  F1C668619DFE6E65  2020-12-07  N.America  Android\n",
       "2  2E1BF1D4C37EA01F  2020-12-07         EU       PC\n",
       "3  50734A22C0C63768  2020-12-07         EU   iPhone\n",
       "4  E1BDDCE0DAFA2679  2020-12-07  N.America   iPhone"
      ]
     },
     "metadata": {},
     "output_type": "display_data"
    },
    {
     "name": "stdout",
     "output_type": "stream",
     "text": [
      "<class 'pandas.core.frame.DataFrame'>\n",
      "RangeIndex: 61733 entries, 0 to 61732\n",
      "Data columns (total 4 columns):\n",
      " #   Column      Non-Null Count  Dtype \n",
      "---  ------      --------------  ----- \n",
      " 0   user_id     61733 non-null  object\n",
      " 1   first_date  61733 non-null  object\n",
      " 2   region      61733 non-null  object\n",
      " 3   device      61733 non-null  object\n",
      "dtypes: object(4)\n",
      "memory usage: 1.9+ MB\n",
      "None\n"
     ]
    },
    {
     "data": {
      "text/html": [
       "<div>\n",
       "<style scoped>\n",
       "    .dataframe tbody tr th:only-of-type {\n",
       "        vertical-align: middle;\n",
       "    }\n",
       "\n",
       "    .dataframe tbody tr th {\n",
       "        vertical-align: top;\n",
       "    }\n",
       "\n",
       "    .dataframe thead th {\n",
       "        text-align: right;\n",
       "    }\n",
       "</style>\n",
       "<table border=\"1\" class=\"dataframe\">\n",
       "  <thead>\n",
       "    <tr style=\"text-align: right;\">\n",
       "      <th></th>\n",
       "      <th>user_id</th>\n",
       "      <th>event_dt</th>\n",
       "      <th>event_name</th>\n",
       "      <th>details</th>\n",
       "    </tr>\n",
       "  </thead>\n",
       "  <tbody>\n",
       "    <tr>\n",
       "      <th>0</th>\n",
       "      <td>E1BDDCE0DAFA2679</td>\n",
       "      <td>2020-12-07 20:22:03</td>\n",
       "      <td>purchase</td>\n",
       "      <td>99.99</td>\n",
       "    </tr>\n",
       "    <tr>\n",
       "      <th>1</th>\n",
       "      <td>7B6452F081F49504</td>\n",
       "      <td>2020-12-07 09:22:53</td>\n",
       "      <td>purchase</td>\n",
       "      <td>9.99</td>\n",
       "    </tr>\n",
       "    <tr>\n",
       "      <th>2</th>\n",
       "      <td>9CD9F34546DF254C</td>\n",
       "      <td>2020-12-07 12:59:29</td>\n",
       "      <td>purchase</td>\n",
       "      <td>4.99</td>\n",
       "    </tr>\n",
       "    <tr>\n",
       "      <th>3</th>\n",
       "      <td>96F27A054B191457</td>\n",
       "      <td>2020-12-07 04:02:40</td>\n",
       "      <td>purchase</td>\n",
       "      <td>4.99</td>\n",
       "    </tr>\n",
       "    <tr>\n",
       "      <th>4</th>\n",
       "      <td>1FD7660FDF94CA1F</td>\n",
       "      <td>2020-12-07 10:15:09</td>\n",
       "      <td>purchase</td>\n",
       "      <td>4.99</td>\n",
       "    </tr>\n",
       "  </tbody>\n",
       "</table>\n",
       "</div>"
      ],
      "text/plain": [
       "            user_id             event_dt event_name  details\n",
       "0  E1BDDCE0DAFA2679  2020-12-07 20:22:03   purchase    99.99\n",
       "1  7B6452F081F49504  2020-12-07 09:22:53   purchase     9.99\n",
       "2  9CD9F34546DF254C  2020-12-07 12:59:29   purchase     4.99\n",
       "3  96F27A054B191457  2020-12-07 04:02:40   purchase     4.99\n",
       "4  1FD7660FDF94CA1F  2020-12-07 10:15:09   purchase     4.99"
      ]
     },
     "metadata": {},
     "output_type": "display_data"
    },
    {
     "name": "stdout",
     "output_type": "stream",
     "text": [
      "<class 'pandas.core.frame.DataFrame'>\n",
      "RangeIndex: 440317 entries, 0 to 440316\n",
      "Data columns (total 4 columns):\n",
      " #   Column      Non-Null Count   Dtype  \n",
      "---  ------      --------------   -----  \n",
      " 0   user_id     440317 non-null  object \n",
      " 1   event_dt    440317 non-null  object \n",
      " 2   event_name  440317 non-null  object \n",
      " 3   details     62740 non-null   float64\n",
      "dtypes: float64(1), object(3)\n",
      "memory usage: 13.4+ MB\n",
      "None\n"
     ]
    },
    {
     "data": {
      "text/html": [
       "<div>\n",
       "<style scoped>\n",
       "    .dataframe tbody tr th:only-of-type {\n",
       "        vertical-align: middle;\n",
       "    }\n",
       "\n",
       "    .dataframe tbody tr th {\n",
       "        vertical-align: top;\n",
       "    }\n",
       "\n",
       "    .dataframe thead th {\n",
       "        text-align: right;\n",
       "    }\n",
       "</style>\n",
       "<table border=\"1\" class=\"dataframe\">\n",
       "  <thead>\n",
       "    <tr style=\"text-align: right;\">\n",
       "      <th></th>\n",
       "      <th>user_id</th>\n",
       "      <th>group</th>\n",
       "      <th>ab_test</th>\n",
       "    </tr>\n",
       "  </thead>\n",
       "  <tbody>\n",
       "    <tr>\n",
       "      <th>0</th>\n",
       "      <td>D1ABA3E2887B6A73</td>\n",
       "      <td>A</td>\n",
       "      <td>recommender_system_test</td>\n",
       "    </tr>\n",
       "    <tr>\n",
       "      <th>1</th>\n",
       "      <td>A7A3664BD6242119</td>\n",
       "      <td>A</td>\n",
       "      <td>recommender_system_test</td>\n",
       "    </tr>\n",
       "    <tr>\n",
       "      <th>2</th>\n",
       "      <td>DABC14FDDFADD29E</td>\n",
       "      <td>A</td>\n",
       "      <td>recommender_system_test</td>\n",
       "    </tr>\n",
       "    <tr>\n",
       "      <th>3</th>\n",
       "      <td>04988C5DF189632E</td>\n",
       "      <td>A</td>\n",
       "      <td>recommender_system_test</td>\n",
       "    </tr>\n",
       "    <tr>\n",
       "      <th>4</th>\n",
       "      <td>482F14783456D21B</td>\n",
       "      <td>B</td>\n",
       "      <td>recommender_system_test</td>\n",
       "    </tr>\n",
       "  </tbody>\n",
       "</table>\n",
       "</div>"
      ],
      "text/plain": [
       "            user_id group                  ab_test\n",
       "0  D1ABA3E2887B6A73     A  recommender_system_test\n",
       "1  A7A3664BD6242119     A  recommender_system_test\n",
       "2  DABC14FDDFADD29E     A  recommender_system_test\n",
       "3  04988C5DF189632E     A  recommender_system_test\n",
       "4  482F14783456D21B     B  recommender_system_test"
      ]
     },
     "metadata": {},
     "output_type": "display_data"
    },
    {
     "name": "stdout",
     "output_type": "stream",
     "text": [
      "<class 'pandas.core.frame.DataFrame'>\n",
      "RangeIndex: 18268 entries, 0 to 18267\n",
      "Data columns (total 3 columns):\n",
      " #   Column   Non-Null Count  Dtype \n",
      "---  ------   --------------  ----- \n",
      " 0   user_id  18268 non-null  object\n",
      " 1   group    18268 non-null  object\n",
      " 2   ab_test  18268 non-null  object\n",
      "dtypes: object(3)\n",
      "memory usage: 428.3+ KB\n",
      "None\n"
     ]
    }
   ],
   "source": [
    "# выгрузка данных из файлов, вывод на экран информации о датафреймах и первых 5 строках\n",
    "\n",
    "final_ab_events = pd.read_csv('https://code.s3.yandex.net/datasets/final_ab_events.csv')\n",
    "ab_project_marketing_events = pd.read_csv('https://code.s3.yandex.net/datasets/ab_project_marketing_events.csv') \n",
    "final_ab_new_users = pd.read_csv('https://code.s3.yandex.net/datasets/final_ab_new_users.csv') \n",
    "final_ab_participants = pd.read_csv('https://code.s3.yandex.net/datasets/final_ab_participants.csv') \n",
    "\n",
    "    \n",
    "for df in [ab_project_marketing_events, final_ab_new_users, final_ab_events, final_ab_participants]:\n",
    "    display(df.head())\n",
    "    print(df.info())"
   ]
  },
  {
   "cell_type": "markdown",
   "id": "2bc67672",
   "metadata": {},
   "source": [
    "## Предобработка данных"
   ]
  },
  {
   "cell_type": "markdown",
   "id": "50f8ff0b",
   "metadata": {},
   "source": [
    "**Пропуски**"
   ]
  },
  {
   "cell_type": "markdown",
   "id": "e4421cc7",
   "metadata": {},
   "source": [
    "Пропуски присутствуют только в одном датасете `final_ab_new_users` изучим их подробнее"
   ]
  },
  {
   "cell_type": "code",
   "execution_count": 84,
   "id": "cdc89ee6",
   "metadata": {},
   "outputs": [
    {
     "name": "stdout",
     "output_type": "stream",
     "text": [
      "user_id            0\n",
      "event_dt           0\n",
      "event_name         0\n",
      "details       377577\n",
      "dtype: int64\n"
     ]
    },
    {
     "data": {
      "text/html": [
       "<div>\n",
       "<style scoped>\n",
       "    .dataframe tbody tr th:only-of-type {\n",
       "        vertical-align: middle;\n",
       "    }\n",
       "\n",
       "    .dataframe tbody tr th {\n",
       "        vertical-align: top;\n",
       "    }\n",
       "\n",
       "    .dataframe thead th {\n",
       "        text-align: right;\n",
       "    }\n",
       "</style>\n",
       "<table border=\"1\" class=\"dataframe\">\n",
       "  <thead>\n",
       "    <tr style=\"text-align: right;\">\n",
       "      <th></th>\n",
       "      <th>user_id</th>\n",
       "      <th>event_dt</th>\n",
       "      <th>event_name</th>\n",
       "      <th>details</th>\n",
       "    </tr>\n",
       "  </thead>\n",
       "  <tbody>\n",
       "    <tr>\n",
       "      <th>0</th>\n",
       "      <td>E1BDDCE0DAFA2679</td>\n",
       "      <td>2020-12-07 20:22:03</td>\n",
       "      <td>purchase</td>\n",
       "      <td>99.99</td>\n",
       "    </tr>\n",
       "    <tr>\n",
       "      <th>1</th>\n",
       "      <td>7B6452F081F49504</td>\n",
       "      <td>2020-12-07 09:22:53</td>\n",
       "      <td>purchase</td>\n",
       "      <td>9.99</td>\n",
       "    </tr>\n",
       "    <tr>\n",
       "      <th>2</th>\n",
       "      <td>9CD9F34546DF254C</td>\n",
       "      <td>2020-12-07 12:59:29</td>\n",
       "      <td>purchase</td>\n",
       "      <td>4.99</td>\n",
       "    </tr>\n",
       "    <tr>\n",
       "      <th>3</th>\n",
       "      <td>96F27A054B191457</td>\n",
       "      <td>2020-12-07 04:02:40</td>\n",
       "      <td>purchase</td>\n",
       "      <td>4.99</td>\n",
       "    </tr>\n",
       "    <tr>\n",
       "      <th>4</th>\n",
       "      <td>1FD7660FDF94CA1F</td>\n",
       "      <td>2020-12-07 10:15:09</td>\n",
       "      <td>purchase</td>\n",
       "      <td>4.99</td>\n",
       "    </tr>\n",
       "  </tbody>\n",
       "</table>\n",
       "</div>"
      ],
      "text/plain": [
       "            user_id             event_dt event_name  details\n",
       "0  E1BDDCE0DAFA2679  2020-12-07 20:22:03   purchase    99.99\n",
       "1  7B6452F081F49504  2020-12-07 09:22:53   purchase     9.99\n",
       "2  9CD9F34546DF254C  2020-12-07 12:59:29   purchase     4.99\n",
       "3  96F27A054B191457  2020-12-07 04:02:40   purchase     4.99\n",
       "4  1FD7660FDF94CA1F  2020-12-07 10:15:09   purchase     4.99"
      ]
     },
     "execution_count": 84,
     "metadata": {},
     "output_type": "execute_result"
    }
   ],
   "source": [
    "# подсчет пропусков в столбцах\n",
    "print(final_ab_events.isna().sum())\n",
    "final_ab_events.head()"
   ]
  },
  {
   "cell_type": "markdown",
   "id": "fda44a8b",
   "metadata": {},
   "source": [
    "В описании сказано, что в дополнительных данных о событии, например, для покупок(purchase), в этом поле хранится стоимость покупки в долларах. Проверим для каких событий есть пропуски."
   ]
  },
  {
   "cell_type": "code",
   "execution_count": 85,
   "id": "6735e9d4",
   "metadata": {},
   "outputs": [
    {
     "data": {
      "text/plain": [
       "login           189552\n",
       "product_page    125563\n",
       "purchase         62740\n",
       "product_cart     62462\n",
       "Name: event_name, dtype: int64"
      ]
     },
     "execution_count": 85,
     "metadata": {},
     "output_type": "execute_result"
    }
   ],
   "source": [
    "# количество событий \n",
    "final_ab_events['event_name'].value_counts()"
   ]
  },
  {
   "cell_type": "code",
   "execution_count": 86,
   "id": "95d68fed",
   "metadata": {},
   "outputs": [
    {
     "data": {
      "text/plain": [
       "login           189552\n",
       "product_page    125563\n",
       "product_cart     62462\n",
       "Name: event_name, dtype: int64"
      ]
     },
     "execution_count": 86,
     "metadata": {},
     "output_type": "execute_result"
    }
   ],
   "source": [
    "# количество событий с пропуском в деталях\n",
    "final_ab_events.loc[final_ab_events['details'].isna()]['event_name'].value_counts()"
   ]
  },
  {
   "cell_type": "markdown",
   "id": "e4beb150",
   "metadata": {},
   "source": [
    "Как видим значения в столбце `details` присутстввует только для покупок.<br>\n",
    "Исключить строки с пропусками из анализа мы не можем из-за их большого количества. Оставим пропуски без изменения."
   ]
  },
  {
   "cell_type": "markdown",
   "id": "43d787a0",
   "metadata": {},
   "source": [
    "**Изменение типов данных и переименование столцов**"
   ]
  },
  {
   "cell_type": "code",
   "execution_count": 87,
   "id": "857f15e3",
   "metadata": {},
   "outputs": [
    {
     "name": "stdout",
     "output_type": "stream",
     "text": [
      "name                 object\n",
      "regions              object\n",
      "start_dt     datetime64[ns]\n",
      "finish_dt    datetime64[ns]\n",
      "dtype: object\n",
      "user_id               object\n",
      "first_date    datetime64[ns]\n",
      "region                object\n",
      "device                object\n",
      "dtype: object\n",
      "user_id               object\n",
      "event_dt      datetime64[ns]\n",
      "event_name            object\n",
      "details              float64\n",
      "dtype: object\n"
     ]
    }
   ],
   "source": [
    "# изменение типов данных с object на datetime64 в столбцах с датой\n",
    "ab_project_marketing_events['start_dt'] = pd.to_datetime(ab_project_marketing_events['start_dt']).astype('datetime64[s]')\n",
    "ab_project_marketing_events['finish_dt'] = pd.to_datetime(ab_project_marketing_events['finish_dt']).astype('datetime64[s]')\n",
    "final_ab_new_users['first_date'] = pd.to_datetime(final_ab_new_users['first_date']).astype('datetime64[s]')\n",
    "final_ab_events['event_dt'] = pd.to_datetime(final_ab_events['event_dt']).astype('datetime64[s]')\n",
    "\n",
    "for df in [ab_project_marketing_events, \n",
    "           final_ab_new_users,\n",
    "           final_ab_events]:\n",
    "    print(df.dtypes)"
   ]
  },
  {
   "cell_type": "markdown",
   "id": "c01333ca",
   "metadata": {},
   "source": [
    "**Дубликаты**"
   ]
  },
  {
   "cell_type": "code",
   "execution_count": 88,
   "id": "8ee0bb83",
   "metadata": {},
   "outputs": [
    {
     "name": "stdout",
     "output_type": "stream",
     "text": [
      "Количество строк-дубликатов - 0\n",
      "Количество строк-дубликатов - 0\n",
      "Количество строк-дубликатов - 0\n",
      "Количество строк-дубликатов - 0\n"
     ]
    }
   ],
   "source": [
    "# подсчет дубликатов в датасетах\n",
    "for df in [ab_project_marketing_events, final_ab_new_users, final_ab_events, final_ab_participants]:\n",
    "    print('Количество строк-дубликатов - {}'.format(df.duplicated().sum()))"
   ]
  },
  {
   "cell_type": "markdown",
   "id": "8bde1e24",
   "metadata": {},
   "source": [
    "Явные дубликаты отсутствуют"
   ]
  },
  {
   "cell_type": "code",
   "execution_count": 89,
   "id": "7545d865",
   "metadata": {},
   "outputs": [
    {
     "data": {
      "text/plain": [
       "APAC                        4\n",
       "EU, CIS, APAC, N.America    3\n",
       "EU, N.America               2\n",
       "EU, CIS, APAC               2\n",
       "CIS                         2\n",
       "N.America                   1\n",
       "Name: regions, dtype: int64"
      ]
     },
     "execution_count": 89,
     "metadata": {},
     "output_type": "execute_result"
    }
   ],
   "source": [
    "# регионы рекламных компаний\n",
    "ab_project_marketing_events['regions'].value_counts()"
   ]
  },
  {
   "cell_type": "code",
   "execution_count": 90,
   "id": "587c0c52",
   "metadata": {},
   "outputs": [
    {
     "name": "stdout",
     "output_type": "stream",
     "text": [
      "EU           46270\n",
      "N.America     9155\n",
      "CIS           3155\n",
      "APAC          3153\n",
      "Name: region, dtype: int64 \n",
      "\n",
      "Android    27520\n",
      "PC         15599\n",
      "iPhone     12530\n",
      "Mac         6084\n",
      "Name: device, dtype: int64 \n",
      "\n"
     ]
    }
   ],
   "source": [
    "# количество регионов и устройств\n",
    "for column in ['region', 'device']:\n",
    "    print(final_ab_new_users[column].value_counts(), '\\n')"
   ]
  },
  {
   "cell_type": "code",
   "execution_count": 91,
   "id": "de075d50",
   "metadata": {},
   "outputs": [
    {
     "data": {
      "text/plain": [
       "login           189552\n",
       "product_page    125563\n",
       "purchase         62740\n",
       "product_cart     62462\n",
       "Name: event_name, dtype: int64"
      ]
     },
     "execution_count": 91,
     "metadata": {},
     "output_type": "execute_result"
    }
   ],
   "source": [
    "# количество событий\n",
    "final_ab_events['event_name'].value_counts()"
   ]
  },
  {
   "cell_type": "code",
   "execution_count": 92,
   "id": "46f1df86",
   "metadata": {},
   "outputs": [
    {
     "name": "stdout",
     "output_type": "stream",
     "text": [
      "A    9655\n",
      "B    8613\n",
      "Name: group, dtype: int64 \n",
      "\n",
      "interface_eu_test          11567\n",
      "recommender_system_test     6701\n",
      "Name: ab_test, dtype: int64 \n",
      "\n"
     ]
    }
   ],
   "source": [
    "# группы тестов и названия тестов\n",
    "for column in ['group', 'ab_test']:\n",
    "    print(final_ab_participants[column].value_counts(), '\\n')"
   ]
  },
  {
   "cell_type": "markdown",
   "id": "a6e60e8c",
   "metadata": {},
   "source": [
    "Неявные дубликаты отсутствуют"
   ]
  },
  {
   "cell_type": "markdown",
   "id": "ef0a0124",
   "metadata": {},
   "source": [
    "**Выводы**"
   ]
  },
  {
   "cell_type": "markdown",
   "id": "13017378",
   "metadata": {},
   "source": [
    "На этапе предобработки данных:\n",
    "- выявлены и оставлены без изменений 377577 пропусков в датасете `final_ab_new_users` столбце `details`\n",
    "- изменены типы данных столбцов с датой с `object` на `datetime64`\n",
    "- дубликаты в датасетах отсутствуют\n",
    "- в `final_ab_participants` присутствуют данные пользователи из двух разных тестов"
   ]
  },
  {
   "cell_type": "markdown",
   "id": "fdb706b3",
   "metadata": {},
   "source": [
    "## Корректность проведения теста"
   ]
  },
  {
   "cell_type": "markdown",
   "id": "9bf7f087",
   "metadata": {},
   "source": [
    "### Соответствие данных требованиям ТЗ"
   ]
  },
  {
   "cell_type": "markdown",
   "id": "ad7b587a",
   "metadata": {},
   "source": [
    "**Название теста**"
   ]
  },
  {
   "cell_type": "markdown",
   "id": "027ee5d3",
   "metadata": {},
   "source": [
    "На этапе предобработки было выявлено наличие данных о двух тестах в датасете `final_ab_participants`. Оставим данные только для теста `recommender_system_test`."
   ]
  },
  {
   "cell_type": "code",
   "execution_count": 93,
   "id": "697c736b",
   "metadata": {},
   "outputs": [
    {
     "name": "stdout",
     "output_type": "stream",
     "text": [
      "Размер датасета - (6701, 3)\n"
     ]
    },
    {
     "data": {
      "text/plain": [
       "array(['recommender_system_test'], dtype=object)"
      ]
     },
     "execution_count": 93,
     "metadata": {},
     "output_type": "execute_result"
    }
   ],
   "source": [
    "# фильтрация по названию теста и проверка\n",
    "final_ab_participants_system = final_ab_participants.loc[final_ab_participants['ab_test']=='recommender_system_test']\n",
    "print('Размер датасета - {}'.format(final_ab_participants_system.shape))\n",
    "final_ab_participants_system['ab_test'].unique()"
   ]
  },
  {
   "cell_type": "markdown",
   "id": "69df023d",
   "metadata": {},
   "source": [
    "**Группы**"
   ]
  },
  {
   "cell_type": "code",
   "execution_count": 94,
   "id": "c588ff7f",
   "metadata": {},
   "outputs": [
    {
     "data": {
      "text/plain": [
       "A    3824\n",
       "B    2877\n",
       "Name: group, dtype: int64"
      ]
     },
     "execution_count": 94,
     "metadata": {},
     "output_type": "execute_result"
    }
   ],
   "source": [
    "# количество групп\n",
    "final_ab_participants_system['group'].value_counts()"
   ]
  },
  {
   "cell_type": "markdown",
   "id": "f505e101",
   "metadata": {},
   "source": [
    "Названия групп соответствуют ТЗ"
   ]
  },
  {
   "cell_type": "markdown",
   "id": "f551c5bf",
   "metadata": {},
   "source": [
    "**Даты запуска и остановки теста и дата остановки набора пользователей**"
   ]
  },
  {
   "cell_type": "code",
   "execution_count": 95,
   "id": "250fdd45",
   "metadata": {},
   "outputs": [
    {
     "data": {
      "text/plain": [
       "Timestamp('2020-12-23 00:00:00')"
      ]
     },
     "execution_count": 95,
     "metadata": {},
     "output_type": "execute_result"
    }
   ],
   "source": [
    "# дата остановки набора пользователей новых\n",
    "final_ab_new_users['first_date'].max()"
   ]
  },
  {
   "cell_type": "markdown",
   "id": "2a5a2f78",
   "metadata": {},
   "source": [
    "Дата остановки набора не соответствует ТЗ. Отбросим пользователей после 2020-12-21."
   ]
  },
  {
   "cell_type": "code",
   "execution_count": 96,
   "id": "d1ff2bbd",
   "metadata": {
    "scrolled": true
   },
   "outputs": [
    {
     "name": "stdout",
     "output_type": "stream",
     "text": [
      "количество пользователей до исключения -  61733\n",
      "количество пользователей после исключения -  56470\n"
     ]
    },
    {
     "data": {
      "text/plain": [
       "Timestamp('2020-12-21 00:00:00')"
      ]
     },
     "execution_count": 96,
     "metadata": {},
     "output_type": "execute_result"
    }
   ],
   "source": [
    "# исключение новых пользователей после 2020-12-21\n",
    "print('количество пользователей до исключения - ',len(final_ab_new_users))\n",
    "final_ab_new_users = final_ab_new_users.loc[final_ab_new_users['first_date']<='2020-12-21'].reset_index(drop=True)\n",
    "print('количество пользователей после исключения - ',len(final_ab_new_users))\n",
    "final_ab_new_users['first_date'].max()"
   ]
  },
  {
   "cell_type": "markdown",
   "id": "c97102c9",
   "metadata": {},
   "source": [
    "Избавились от 5000 лишних пользователей"
   ]
  },
  {
   "cell_type": "code",
   "execution_count": 97,
   "id": "6e0a4821",
   "metadata": {},
   "outputs": [
    {
     "data": {
      "text/html": [
       "<div>\n",
       "<style scoped>\n",
       "    .dataframe tbody tr th:only-of-type {\n",
       "        vertical-align: middle;\n",
       "    }\n",
       "\n",
       "    .dataframe tbody tr th {\n",
       "        vertical-align: top;\n",
       "    }\n",
       "\n",
       "    .dataframe thead th {\n",
       "        text-align: right;\n",
       "    }\n",
       "</style>\n",
       "<table border=\"1\" class=\"dataframe\">\n",
       "  <thead>\n",
       "    <tr style=\"text-align: right;\">\n",
       "      <th></th>\n",
       "      <th>event_dt</th>\n",
       "    </tr>\n",
       "  </thead>\n",
       "  <tbody>\n",
       "    <tr>\n",
       "      <th>min</th>\n",
       "      <td>2020-12-07 00:00:33</td>\n",
       "    </tr>\n",
       "    <tr>\n",
       "      <th>max</th>\n",
       "      <td>2020-12-30 23:36:33</td>\n",
       "    </tr>\n",
       "  </tbody>\n",
       "</table>\n",
       "</div>"
      ],
      "text/plain": [
       "               event_dt\n",
       "min 2020-12-07 00:00:33\n",
       "max 2020-12-30 23:36:33"
      ]
     },
     "execution_count": 97,
     "metadata": {},
     "output_type": "execute_result"
    }
   ],
   "source": [
    "# даты первого и последнего события пользователей\n",
    "final_ab_events.agg({'event_dt': ['min', 'max']})"
   ]
  },
  {
   "cell_type": "markdown",
   "id": "f3afdf64",
   "metadata": {},
   "source": [
    "Эти даты отличаются от обозначенных в ТЗ. Получается с 23:36:33 30 декабря и до 4 января событий не происходило. \n",
    "\n",
    "Дата 4 января была выбрана исходя из того, что регистрация пользователй кончалась 21 декабря и планировалось, чтобы у всех был двухнедельный лайфтайм. Но тест закончили на 5 дней раньше. Мы недосчитаемся событий пользователей при проверке улучшения конверсии, в расчеты не попадут события тех кто присоединился позже 16 декабря."
   ]
  },
  {
   "cell_type": "markdown",
   "id": "cd346673",
   "metadata": {},
   "source": [
    "**Аудитория**"
   ]
  },
  {
   "cell_type": "code",
   "execution_count": 98,
   "id": "d7d4f119",
   "metadata": {},
   "outputs": [
    {
     "data": {
      "text/plain": [
       "EU           42340\n",
       "N.America     8347\n",
       "CIS           2900\n",
       "APAC          2883\n",
       "Name: region, dtype: int64"
      ]
     },
     "execution_count": 98,
     "metadata": {},
     "output_type": "execute_result"
    }
   ],
   "source": [
    "# распределение новых пользователей по странам\n",
    "final_ab_new_users['region'].value_counts()"
   ]
  },
  {
   "cell_type": "code",
   "execution_count": 99,
   "id": "75138bcc",
   "metadata": {},
   "outputs": [
    {
     "data": {
      "text/plain": [
       "74.98"
      ]
     },
     "execution_count": 99,
     "metadata": {},
     "output_type": "execute_result"
    }
   ],
   "source": [
    "# процент пользователе из Европы \n",
    "round(100*final_ab_new_users.loc[final_ab_new_users['region']=='EU']['user_id'].nunique() / \n",
    "      final_ab_new_users['user_id'].nunique(), 2)"
   ]
  },
  {
   "cell_type": "code",
   "execution_count": 100,
   "id": "6084ba62",
   "metadata": {},
   "outputs": [
    {
     "data": {
      "text/html": [
       "<div>\n",
       "<style scoped>\n",
       "    .dataframe tbody tr th:only-of-type {\n",
       "        vertical-align: middle;\n",
       "    }\n",
       "\n",
       "    .dataframe tbody tr th {\n",
       "        vertical-align: top;\n",
       "    }\n",
       "\n",
       "    .dataframe thead th {\n",
       "        text-align: right;\n",
       "    }\n",
       "</style>\n",
       "<table border=\"1\" class=\"dataframe\">\n",
       "  <thead>\n",
       "    <tr style=\"text-align: right;\">\n",
       "      <th></th>\n",
       "      <th>user_id</th>\n",
       "      <th>group</th>\n",
       "      <th>ab_test</th>\n",
       "      <th>first_date</th>\n",
       "      <th>region</th>\n",
       "      <th>device</th>\n",
       "    </tr>\n",
       "  </thead>\n",
       "  <tbody>\n",
       "    <tr>\n",
       "      <th>0</th>\n",
       "      <td>D1ABA3E2887B6A73</td>\n",
       "      <td>A</td>\n",
       "      <td>recommender_system_test</td>\n",
       "      <td>2020-12-07</td>\n",
       "      <td>EU</td>\n",
       "      <td>PC</td>\n",
       "    </tr>\n",
       "    <tr>\n",
       "      <th>1</th>\n",
       "      <td>A7A3664BD6242119</td>\n",
       "      <td>A</td>\n",
       "      <td>recommender_system_test</td>\n",
       "      <td>2020-12-20</td>\n",
       "      <td>EU</td>\n",
       "      <td>iPhone</td>\n",
       "    </tr>\n",
       "    <tr>\n",
       "      <th>2</th>\n",
       "      <td>DABC14FDDFADD29E</td>\n",
       "      <td>A</td>\n",
       "      <td>recommender_system_test</td>\n",
       "      <td>2020-12-08</td>\n",
       "      <td>EU</td>\n",
       "      <td>Mac</td>\n",
       "    </tr>\n",
       "    <tr>\n",
       "      <th>3</th>\n",
       "      <td>04988C5DF189632E</td>\n",
       "      <td>A</td>\n",
       "      <td>recommender_system_test</td>\n",
       "      <td>2020-12-14</td>\n",
       "      <td>EU</td>\n",
       "      <td>iPhone</td>\n",
       "    </tr>\n",
       "    <tr>\n",
       "      <th>4</th>\n",
       "      <td>482F14783456D21B</td>\n",
       "      <td>B</td>\n",
       "      <td>recommender_system_test</td>\n",
       "      <td>2020-12-14</td>\n",
       "      <td>EU</td>\n",
       "      <td>PC</td>\n",
       "    </tr>\n",
       "  </tbody>\n",
       "</table>\n",
       "</div>"
      ],
      "text/plain": [
       "            user_id group                  ab_test first_date region  device\n",
       "0  D1ABA3E2887B6A73     A  recommender_system_test 2020-12-07     EU      PC\n",
       "1  A7A3664BD6242119     A  recommender_system_test 2020-12-20     EU  iPhone\n",
       "2  DABC14FDDFADD29E     A  recommender_system_test 2020-12-08     EU     Mac\n",
       "3  04988C5DF189632E     A  recommender_system_test 2020-12-14     EU  iPhone\n",
       "4  482F14783456D21B     B  recommender_system_test 2020-12-14     EU      PC"
      ]
     },
     "metadata": {},
     "output_type": "display_data"
    },
    {
     "name": "stdout",
     "output_type": "stream",
     "text": [
      "<class 'pandas.core.frame.DataFrame'>\n",
      "Int64Index: 6701 entries, 0 to 6700\n",
      "Data columns (total 6 columns):\n",
      " #   Column      Non-Null Count  Dtype         \n",
      "---  ------      --------------  -----         \n",
      " 0   user_id     6701 non-null   object        \n",
      " 1   group       6701 non-null   object        \n",
      " 2   ab_test     6701 non-null   object        \n",
      " 3   first_date  6701 non-null   datetime64[ns]\n",
      " 4   region      6701 non-null   object        \n",
      " 5   device      6701 non-null   object        \n",
      "dtypes: datetime64[ns](1), object(5)\n",
      "memory usage: 366.5+ KB\n"
     ]
    }
   ],
   "source": [
    "# объединение датасетов с новыми пользователями с участниками теста по user_id\n",
    "final_ab_participants_system = final_ab_participants_system.merge(\n",
    "    final_ab_new_users,\n",
    "    on=['user_id'],\n",
    "    how='left',\n",
    ")\n",
    "display(final_ab_participants_system.head())\n",
    "final_ab_participants_system.info()"
   ]
  },
  {
   "cell_type": "code",
   "execution_count": 101,
   "id": "e9362834",
   "metadata": {},
   "outputs": [
    {
     "data": {
      "text/plain": [
       "EU           6351\n",
       "N.America     223\n",
       "APAC           72\n",
       "CIS            55\n",
       "Name: region, dtype: int64"
      ]
     },
     "execution_count": 101,
     "metadata": {},
     "output_type": "execute_result"
    }
   ],
   "source": [
    "# распределение участников по регионам\n",
    "final_ab_participants_system['region'].value_counts()"
   ]
  },
  {
   "cell_type": "markdown",
   "id": "2d93db1e",
   "metadata": {},
   "source": [
    "По ТЗ аудитирия должна быть 15% пользователей из Европы, следовательно оставим в датасете только участников из EU"
   ]
  },
  {
   "cell_type": "code",
   "execution_count": 102,
   "id": "a056c42e",
   "metadata": {},
   "outputs": [
    {
     "data": {
      "text/plain": [
       "EU    6351\n",
       "Name: region, dtype: int64"
      ]
     },
     "execution_count": 102,
     "metadata": {},
     "output_type": "execute_result"
    }
   ],
   "source": [
    "# оставляем только участников из EU\n",
    "final_ab_participants_system = final_ab_participants_system.loc[final_ab_participants_system['region']=='EU']\n",
    "final_ab_participants_system['region'].value_counts()"
   ]
  },
  {
   "cell_type": "code",
   "execution_count": 103,
   "id": "9efa4c8c",
   "metadata": {},
   "outputs": [
    {
     "data": {
      "text/plain": [
       "15.0"
      ]
     },
     "execution_count": 103,
     "metadata": {},
     "output_type": "execute_result"
    }
   ],
   "source": [
    "# процент пользователей из Европы \n",
    "round(100*final_ab_participants_system['user_id'].nunique() / \n",
    "      final_ab_new_users.loc[final_ab_new_users['region']=='EU']['user_id'].nunique(), 2)"
   ]
  },
  {
   "cell_type": "markdown",
   "id": "d5e8e95a",
   "metadata": {},
   "source": [
    "В тесте участвуют ровно 15% от всех пользователей из Европы"
   ]
  },
  {
   "cell_type": "markdown",
   "id": "e9a84a75",
   "metadata": {},
   "source": [
    "**Количество участников теста**"
   ]
  },
  {
   "cell_type": "code",
   "execution_count": 104,
   "id": "0fcc448a",
   "metadata": {},
   "outputs": [
    {
     "data": {
      "text/plain": [
       "6351"
      ]
     },
     "execution_count": 104,
     "metadata": {},
     "output_type": "execute_result"
    }
   ],
   "source": [
    "# подсчет количества участников теста\n",
    "final_ab_participants_system['user_id'].nunique()"
   ]
  },
  {
   "cell_type": "markdown",
   "id": "ac8b5e1c",
   "metadata": {},
   "source": [
    "В ТЗ говорится о 6000 участников, что примерно так и есть"
   ]
  },
  {
   "cell_type": "markdown",
   "id": "ba33529c",
   "metadata": {},
   "source": [
    "**Улучшение метрик**"
   ]
  },
  {
   "cell_type": "code",
   "execution_count": 105,
   "id": "bc6ec79c",
   "metadata": {},
   "outputs": [
    {
     "data": {
      "text/html": [
       "<div>\n",
       "<style scoped>\n",
       "    .dataframe tbody tr th:only-of-type {\n",
       "        vertical-align: middle;\n",
       "    }\n",
       "\n",
       "    .dataframe tbody tr th {\n",
       "        vertical-align: top;\n",
       "    }\n",
       "\n",
       "    .dataframe thead th {\n",
       "        text-align: right;\n",
       "    }\n",
       "</style>\n",
       "<table border=\"1\" class=\"dataframe\">\n",
       "  <thead>\n",
       "    <tr style=\"text-align: right;\">\n",
       "      <th></th>\n",
       "      <th>user_id</th>\n",
       "      <th>event_dt</th>\n",
       "      <th>event_name</th>\n",
       "      <th>details</th>\n",
       "      <th>group</th>\n",
       "      <th>ab_test</th>\n",
       "      <th>first_date</th>\n",
       "      <th>region</th>\n",
       "      <th>device</th>\n",
       "    </tr>\n",
       "  </thead>\n",
       "  <tbody>\n",
       "    <tr>\n",
       "      <th>0</th>\n",
       "      <td>831887FE7F2D6CBA</td>\n",
       "      <td>2020-12-07 06:50:29</td>\n",
       "      <td>purchase</td>\n",
       "      <td>4.99</td>\n",
       "      <td>A</td>\n",
       "      <td>recommender_system_test</td>\n",
       "      <td>2020-12-07</td>\n",
       "      <td>EU</td>\n",
       "      <td>Android</td>\n",
       "    </tr>\n",
       "    <tr>\n",
       "      <th>1</th>\n",
       "      <td>831887FE7F2D6CBA</td>\n",
       "      <td>2020-12-09 02:19:17</td>\n",
       "      <td>purchase</td>\n",
       "      <td>99.99</td>\n",
       "      <td>A</td>\n",
       "      <td>recommender_system_test</td>\n",
       "      <td>2020-12-07</td>\n",
       "      <td>EU</td>\n",
       "      <td>Android</td>\n",
       "    </tr>\n",
       "    <tr>\n",
       "      <th>2</th>\n",
       "      <td>831887FE7F2D6CBA</td>\n",
       "      <td>2020-12-07 06:50:30</td>\n",
       "      <td>product_cart</td>\n",
       "      <td>NaN</td>\n",
       "      <td>A</td>\n",
       "      <td>recommender_system_test</td>\n",
       "      <td>2020-12-07</td>\n",
       "      <td>EU</td>\n",
       "      <td>Android</td>\n",
       "    </tr>\n",
       "    <tr>\n",
       "      <th>3</th>\n",
       "      <td>831887FE7F2D6CBA</td>\n",
       "      <td>2020-12-08 10:52:27</td>\n",
       "      <td>product_cart</td>\n",
       "      <td>NaN</td>\n",
       "      <td>A</td>\n",
       "      <td>recommender_system_test</td>\n",
       "      <td>2020-12-07</td>\n",
       "      <td>EU</td>\n",
       "      <td>Android</td>\n",
       "    </tr>\n",
       "    <tr>\n",
       "      <th>4</th>\n",
       "      <td>831887FE7F2D6CBA</td>\n",
       "      <td>2020-12-09 02:19:17</td>\n",
       "      <td>product_cart</td>\n",
       "      <td>NaN</td>\n",
       "      <td>A</td>\n",
       "      <td>recommender_system_test</td>\n",
       "      <td>2020-12-07</td>\n",
       "      <td>EU</td>\n",
       "      <td>Android</td>\n",
       "    </tr>\n",
       "  </tbody>\n",
       "</table>\n",
       "</div>"
      ],
      "text/plain": [
       "            user_id            event_dt    event_name  details group  \\\n",
       "0  831887FE7F2D6CBA 2020-12-07 06:50:29      purchase     4.99     A   \n",
       "1  831887FE7F2D6CBA 2020-12-09 02:19:17      purchase    99.99     A   \n",
       "2  831887FE7F2D6CBA 2020-12-07 06:50:30  product_cart      NaN     A   \n",
       "3  831887FE7F2D6CBA 2020-12-08 10:52:27  product_cart      NaN     A   \n",
       "4  831887FE7F2D6CBA 2020-12-09 02:19:17  product_cart      NaN     A   \n",
       "\n",
       "                   ab_test first_date region   device  \n",
       "0  recommender_system_test 2020-12-07     EU  Android  \n",
       "1  recommender_system_test 2020-12-07     EU  Android  \n",
       "2  recommender_system_test 2020-12-07     EU  Android  \n",
       "3  recommender_system_test 2020-12-07     EU  Android  \n",
       "4  recommender_system_test 2020-12-07     EU  Android  "
      ]
     },
     "metadata": {},
     "output_type": "display_data"
    },
    {
     "name": "stdout",
     "output_type": "stream",
     "text": [
      "<class 'pandas.core.frame.DataFrame'>\n",
      "Int64Index: 23420 entries, 0 to 23419\n",
      "Data columns (total 9 columns):\n",
      " #   Column      Non-Null Count  Dtype         \n",
      "---  ------      --------------  -----         \n",
      " 0   user_id     23420 non-null  object        \n",
      " 1   event_dt    23420 non-null  datetime64[ns]\n",
      " 2   event_name  23420 non-null  object        \n",
      " 3   details     3196 non-null   float64       \n",
      " 4   group       23420 non-null  object        \n",
      " 5   ab_test     23420 non-null  object        \n",
      " 6   first_date  23420 non-null  datetime64[ns]\n",
      " 7   region      23420 non-null  object        \n",
      " 8   device      23420 non-null  object        \n",
      "dtypes: datetime64[ns](2), float64(1), object(6)\n",
      "memory usage: 1.8+ MB\n"
     ]
    }
   ],
   "source": [
    "# объединение датасета с событиями и датасета с участниками теста по user_id\n",
    "final_df = final_ab_events.merge(\n",
    "    final_ab_participants_system,\n",
    "    on=['user_id'],\n",
    "    how='inner',\n",
    ")\n",
    "display(final_df.head())\n",
    "final_df.info()"
   ]
  },
  {
   "cell_type": "code",
   "execution_count": 106,
   "id": "9065ea47",
   "metadata": {},
   "outputs": [
    {
     "data": {
      "text/plain": [
       "3481"
      ]
     },
     "execution_count": 106,
     "metadata": {},
     "output_type": "execute_result"
    }
   ],
   "source": [
    "# количество уникальных пользователей, данные о событиях которых мы имеем\n",
    "final_df['user_id'].nunique()"
   ]
  },
  {
   "cell_type": "markdown",
   "id": "13f23d36",
   "metadata": {},
   "source": [
    "После объединения зарегестрировавшихся пользователей и пользователей совершивших хотя бы одно событие, отсеилось порядка 3000 человек. То есть существуют 3000 пользователей, которые не совершают никаких действий после регистрации. Посмортим на их распределение по группам теста."
   ]
  },
  {
   "cell_type": "code",
   "execution_count": 107,
   "id": "d593f46e",
   "metadata": {},
   "outputs": [
    {
     "data": {
      "text/plain": [
       "58703"
      ]
     },
     "execution_count": 107,
     "metadata": {},
     "output_type": "execute_result"
    }
   ],
   "source": [
    "# уникальные пользователи из датасеа с событиями\n",
    "users_do_event = final_ab_events['user_id'].unique()\n",
    "len(users_do_event)"
   ]
  },
  {
   "cell_type": "code",
   "execution_count": 108,
   "id": "abf2eacb",
   "metadata": {},
   "outputs": [
    {
     "data": {
      "text/plain": [
       "2870"
      ]
     },
     "execution_count": 108,
     "metadata": {},
     "output_type": "execute_result"
    }
   ],
   "source": [
    "# пользователи не совершившие не одного действия\n",
    "users_without_event = final_ab_participants_system.loc[~final_ab_participants_system['user_id'].isin(users_do_event)]\n",
    "len(users_without_event)"
   ]
  },
  {
   "cell_type": "code",
   "execution_count": 109,
   "id": "ae87e603",
   "metadata": {},
   "outputs": [
    {
     "data": {
      "text/plain": [
       "B    1840\n",
       "A    1030\n",
       "Name: group, dtype: int64"
      ]
     },
     "execution_count": 109,
     "metadata": {},
     "output_type": "execute_result"
    }
   ],
   "source": [
    "# количество пользователей из разных групп\n",
    "users_without_event['group'].value_counts()"
   ]
  },
  {
   "cell_type": "code",
   "execution_count": 110,
   "id": "04a21377",
   "metadata": {},
   "outputs": [
    {
     "data": {
      "image/png": "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\n",
      "text/plain": [
       "<Figure size 1152x432 with 1 Axes>"
      ]
     },
     "metadata": {
      "needs_background": "light"
     },
     "output_type": "display_data"
    }
   ],
   "source": [
    "# распределение количества пользователей не совершавших событий по датам\n",
    "plt.figure(figsize=(16,6))\n",
    "sns.histplot(users_without_event, x=\"first_date\", hue='group', multiple=\"dodge\", palette=\"pastel\", edgecolor=\".6\")\n",
    "plt.show()"
   ]
  },
  {
   "cell_type": "markdown",
   "id": "caf2cfe8",
   "metadata": {},
   "source": [
    "После 13 числа все пользователи попавшие в группу А совершали события, а в группе В так и осталась тенденция к присоединению пользователей без событий, отсюда и разница в 800 человек. Что-то произошло 13 декабря.<br>\n",
    "Посмотри теперь на точно такое же распределение только для пользователей теста которые совершали какие-то события."
   ]
  },
  {
   "cell_type": "code",
   "execution_count": 111,
   "id": "e7a58401",
   "metadata": {},
   "outputs": [
    {
     "data": {
      "image/png": "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\n",
      "text/plain": [
       "<Figure size 1152x432 with 1 Axes>"
      ]
     },
     "metadata": {
      "needs_background": "light"
     },
     "output_type": "display_data"
    }
   ],
   "source": [
    "# распределение количества пользователей совершавших события по датам\n",
    "plt.figure(figsize=(16,6))\n",
    "sns.histplot(final_df, x=\"first_date\", hue='group', multiple=\"dodge\", palette=\"pastel\", edgecolor=\".6\")\n",
    "plt.show()"
   ]
  },
  {
   "cell_type": "markdown",
   "id": "57971c1e",
   "metadata": {},
   "source": [
    "Как видим из графиков:\n",
    "- количество пользователей для группы А резко возрасло в тот день, когда пропали пользователи без событий. Можно сделать вывод, что они все просто начали пользоваться продуктом.\n",
    "- также заметна зависимоть чем меньше пользователей в определенную дату не совершали события тем больше их совершали.\n",
    "- для группы А пофиксили какую-то проблему начиная с 14 числа, а для группы В нет"
   ]
  },
  {
   "cell_type": "markdown",
   "id": "62030e3d",
   "metadata": {},
   "source": [
    "Может проблема не совершения событий решилась и для В группы, но для каких-то устройств, проверим это."
   ]
  },
  {
   "cell_type": "code",
   "execution_count": 112,
   "id": "7a8b5457",
   "metadata": {},
   "outputs": [
    {
     "data": {
      "image/png": "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\n",
      "text/plain": [
       "<Figure size 1152x432 with 1 Axes>"
      ]
     },
     "metadata": {
      "needs_background": "light"
     },
     "output_type": "display_data"
    }
   ],
   "source": [
    "# распределение количества пользователей группы В не совершавших событий по датам разделенных по устройствам\n",
    "plt.figure(figsize=(16,6))\n",
    "sns.histplot(users_without_event.loc[users_without_event['group']=='B'], x=\"first_date\", \n",
    "             hue='device', multiple=\"dodge\", \n",
    "             palette=\"pastel\", edgecolor=\".6\")\n",
    "plt.show()"
   ]
  },
  {
   "cell_type": "markdown",
   "id": "a051f579",
   "metadata": {},
   "source": [
    "Из распределения видно, что нету связи с каким-либо видом устройства, проблема не в этом."
   ]
  },
  {
   "cell_type": "markdown",
   "id": "49eb45bf",
   "metadata": {},
   "source": [
    "Пункт ТЗ об увеличении конверсии проверим, после изучения дат маркетинговых компаний и аудитории."
   ]
  },
  {
   "cell_type": "markdown",
   "id": "36351bfe",
   "metadata": {},
   "source": [
    "### Время проведения теста"
   ]
  },
  {
   "cell_type": "markdown",
   "id": "9fc77e81",
   "metadata": {},
   "source": [
    "Если время проведения рекламных компаний будут совпадать с временем проведения теста, то это может повлиять на поведение пользователей."
   ]
  },
  {
   "cell_type": "code",
   "execution_count": 113,
   "id": "cfa99061",
   "metadata": {},
   "outputs": [
    {
     "data": {
      "text/html": [
       "<div>\n",
       "<style scoped>\n",
       "    .dataframe tbody tr th:only-of-type {\n",
       "        vertical-align: middle;\n",
       "    }\n",
       "\n",
       "    .dataframe tbody tr th {\n",
       "        vertical-align: top;\n",
       "    }\n",
       "\n",
       "    .dataframe thead th {\n",
       "        text-align: right;\n",
       "    }\n",
       "</style>\n",
       "<table border=\"1\" class=\"dataframe\">\n",
       "  <thead>\n",
       "    <tr style=\"text-align: right;\">\n",
       "      <th></th>\n",
       "      <th>name</th>\n",
       "      <th>regions</th>\n",
       "      <th>start_dt</th>\n",
       "      <th>finish_dt</th>\n",
       "    </tr>\n",
       "  </thead>\n",
       "  <tbody>\n",
       "    <tr>\n",
       "      <th>0</th>\n",
       "      <td>Christmas&amp;New Year Promo</td>\n",
       "      <td>EU, N.America</td>\n",
       "      <td>2020-12-25</td>\n",
       "      <td>2021-01-03</td>\n",
       "    </tr>\n",
       "    <tr>\n",
       "      <th>1</th>\n",
       "      <td>St. Valentine's Day Giveaway</td>\n",
       "      <td>EU, CIS, APAC, N.America</td>\n",
       "      <td>2020-02-14</td>\n",
       "      <td>2020-02-16</td>\n",
       "    </tr>\n",
       "    <tr>\n",
       "      <th>2</th>\n",
       "      <td>St. Patric's Day Promo</td>\n",
       "      <td>EU, N.America</td>\n",
       "      <td>2020-03-17</td>\n",
       "      <td>2020-03-19</td>\n",
       "    </tr>\n",
       "    <tr>\n",
       "      <th>3</th>\n",
       "      <td>Easter Promo</td>\n",
       "      <td>EU, CIS, APAC, N.America</td>\n",
       "      <td>2020-04-12</td>\n",
       "      <td>2020-04-19</td>\n",
       "    </tr>\n",
       "    <tr>\n",
       "      <th>4</th>\n",
       "      <td>4th of July Promo</td>\n",
       "      <td>N.America</td>\n",
       "      <td>2020-07-04</td>\n",
       "      <td>2020-07-11</td>\n",
       "    </tr>\n",
       "    <tr>\n",
       "      <th>5</th>\n",
       "      <td>Black Friday Ads Campaign</td>\n",
       "      <td>EU, CIS, APAC, N.America</td>\n",
       "      <td>2020-11-26</td>\n",
       "      <td>2020-12-01</td>\n",
       "    </tr>\n",
       "    <tr>\n",
       "      <th>6</th>\n",
       "      <td>Chinese New Year Promo</td>\n",
       "      <td>APAC</td>\n",
       "      <td>2020-01-25</td>\n",
       "      <td>2020-02-07</td>\n",
       "    </tr>\n",
       "    <tr>\n",
       "      <th>7</th>\n",
       "      <td>Labor day (May 1st) Ads Campaign</td>\n",
       "      <td>EU, CIS, APAC</td>\n",
       "      <td>2020-05-01</td>\n",
       "      <td>2020-05-03</td>\n",
       "    </tr>\n",
       "    <tr>\n",
       "      <th>8</th>\n",
       "      <td>International Women's Day Promo</td>\n",
       "      <td>EU, CIS, APAC</td>\n",
       "      <td>2020-03-08</td>\n",
       "      <td>2020-03-10</td>\n",
       "    </tr>\n",
       "    <tr>\n",
       "      <th>9</th>\n",
       "      <td>Victory Day CIS (May 9th) Event</td>\n",
       "      <td>CIS</td>\n",
       "      <td>2020-05-09</td>\n",
       "      <td>2020-05-11</td>\n",
       "    </tr>\n",
       "    <tr>\n",
       "      <th>10</th>\n",
       "      <td>CIS New Year Gift Lottery</td>\n",
       "      <td>CIS</td>\n",
       "      <td>2020-12-30</td>\n",
       "      <td>2021-01-07</td>\n",
       "    </tr>\n",
       "    <tr>\n",
       "      <th>11</th>\n",
       "      <td>Dragon Boat Festival Giveaway</td>\n",
       "      <td>APAC</td>\n",
       "      <td>2020-06-25</td>\n",
       "      <td>2020-07-01</td>\n",
       "    </tr>\n",
       "    <tr>\n",
       "      <th>12</th>\n",
       "      <td>Single's Day Gift Promo</td>\n",
       "      <td>APAC</td>\n",
       "      <td>2020-11-11</td>\n",
       "      <td>2020-11-12</td>\n",
       "    </tr>\n",
       "    <tr>\n",
       "      <th>13</th>\n",
       "      <td>Chinese Moon Festival</td>\n",
       "      <td>APAC</td>\n",
       "      <td>2020-10-01</td>\n",
       "      <td>2020-10-07</td>\n",
       "    </tr>\n",
       "  </tbody>\n",
       "</table>\n",
       "</div>"
      ],
      "text/plain": [
       "                                name                   regions   start_dt  \\\n",
       "0           Christmas&New Year Promo             EU, N.America 2020-12-25   \n",
       "1       St. Valentine's Day Giveaway  EU, CIS, APAC, N.America 2020-02-14   \n",
       "2             St. Patric's Day Promo             EU, N.America 2020-03-17   \n",
       "3                       Easter Promo  EU, CIS, APAC, N.America 2020-04-12   \n",
       "4                  4th of July Promo                 N.America 2020-07-04   \n",
       "5          Black Friday Ads Campaign  EU, CIS, APAC, N.America 2020-11-26   \n",
       "6             Chinese New Year Promo                      APAC 2020-01-25   \n",
       "7   Labor day (May 1st) Ads Campaign             EU, CIS, APAC 2020-05-01   \n",
       "8    International Women's Day Promo             EU, CIS, APAC 2020-03-08   \n",
       "9    Victory Day CIS (May 9th) Event                       CIS 2020-05-09   \n",
       "10         CIS New Year Gift Lottery                       CIS 2020-12-30   \n",
       "11     Dragon Boat Festival Giveaway                      APAC 2020-06-25   \n",
       "12           Single's Day Gift Promo                      APAC 2020-11-11   \n",
       "13             Chinese Moon Festival                      APAC 2020-10-01   \n",
       "\n",
       "    finish_dt  \n",
       "0  2021-01-03  \n",
       "1  2020-02-16  \n",
       "2  2020-03-19  \n",
       "3  2020-04-19  \n",
       "4  2020-07-11  \n",
       "5  2020-12-01  \n",
       "6  2020-02-07  \n",
       "7  2020-05-03  \n",
       "8  2020-03-10  \n",
       "9  2020-05-11  \n",
       "10 2021-01-07  \n",
       "11 2020-07-01  \n",
       "12 2020-11-12  \n",
       "13 2020-10-07  "
      ]
     },
     "execution_count": 113,
     "metadata": {},
     "output_type": "execute_result"
    }
   ],
   "source": [
    "# проверим время проведения маркетинговых компаний\n",
    "ab_project_marketing_events"
   ]
  },
  {
   "cell_type": "code",
   "execution_count": 114,
   "id": "45870fb0",
   "metadata": {},
   "outputs": [
    {
     "data": {
      "text/html": [
       "<div>\n",
       "<style scoped>\n",
       "    .dataframe tbody tr th:only-of-type {\n",
       "        vertical-align: middle;\n",
       "    }\n",
       "\n",
       "    .dataframe tbody tr th {\n",
       "        vertical-align: top;\n",
       "    }\n",
       "\n",
       "    .dataframe thead th {\n",
       "        text-align: right;\n",
       "    }\n",
       "</style>\n",
       "<table border=\"1\" class=\"dataframe\">\n",
       "  <thead>\n",
       "    <tr style=\"text-align: right;\">\n",
       "      <th></th>\n",
       "      <th>name</th>\n",
       "      <th>regions</th>\n",
       "      <th>start_dt</th>\n",
       "      <th>finish_dt</th>\n",
       "    </tr>\n",
       "  </thead>\n",
       "  <tbody>\n",
       "    <tr>\n",
       "      <th>0</th>\n",
       "      <td>Christmas&amp;New Year Promo</td>\n",
       "      <td>EU, N.America</td>\n",
       "      <td>2020-12-25</td>\n",
       "      <td>2021-01-03</td>\n",
       "    </tr>\n",
       "    <tr>\n",
       "      <th>10</th>\n",
       "      <td>CIS New Year Gift Lottery</td>\n",
       "      <td>CIS</td>\n",
       "      <td>2020-12-30</td>\n",
       "      <td>2021-01-07</td>\n",
       "    </tr>\n",
       "  </tbody>\n",
       "</table>\n",
       "</div>"
      ],
      "text/plain": [
       "                         name        regions   start_dt  finish_dt\n",
       "0    Christmas&New Year Promo  EU, N.America 2020-12-25 2021-01-03\n",
       "10  CIS New Year Gift Lottery            CIS 2020-12-30 2021-01-07"
      ]
     },
     "execution_count": 114,
     "metadata": {},
     "output_type": "execute_result"
    }
   ],
   "source": [
    "# маркетинговые компании, которые могут повлиять на тест\n",
    "ab_project_marketing_events[(ab_project_marketing_events['start_dt']<='2020-01-04') |\n",
    "                           (ab_project_marketing_events['finish_dt']>='2020-12-07')]"
   ]
  },
  {
   "cell_type": "markdown",
   "id": "85935401",
   "metadata": {},
   "source": [
    "Как видим время проведении компании `Christmas&New Year Promo` совпадает с временем проведения нашего теста начиная от 25 декабря. Чтобы не получить ложные результаты, проверим распределение событий в двух группах в эти числа. Если не будет перекоса в какой-либо из групп, значит данная компания одинаковая влияла на обе группы и нет причин исключать эти события из анализа.<br>\n",
    "`CIS New Year Gift Lottery` тоже захватывает дни событий из нашего датасета, но эта компания проводится для региона CIS, а у нас пользователи только из EU, поэтому на их действиях это не скажется."
   ]
  },
  {
   "cell_type": "code",
   "execution_count": 115,
   "id": "9f8904a2",
   "metadata": {},
   "outputs": [
    {
     "data": {
      "text/html": [
       "<div>\n",
       "<style scoped>\n",
       "    .dataframe tbody tr th:only-of-type {\n",
       "        vertical-align: middle;\n",
       "    }\n",
       "\n",
       "    .dataframe tbody tr th {\n",
       "        vertical-align: top;\n",
       "    }\n",
       "\n",
       "    .dataframe thead th {\n",
       "        text-align: right;\n",
       "    }\n",
       "</style>\n",
       "<table border=\"1\" class=\"dataframe\">\n",
       "  <thead>\n",
       "    <tr style=\"text-align: right;\">\n",
       "      <th></th>\n",
       "      <th>group</th>\n",
       "      <th>user_id</th>\n",
       "      <th>event_name</th>\n",
       "      <th>event_dt</th>\n",
       "    </tr>\n",
       "  </thead>\n",
       "  <tbody>\n",
       "    <tr>\n",
       "      <th>0</th>\n",
       "      <td>A</td>\n",
       "      <td>003DF44D7589BBD4</td>\n",
       "      <td>login</td>\n",
       "      <td>1</td>\n",
       "    </tr>\n",
       "    <tr>\n",
       "      <th>1</th>\n",
       "      <td>A</td>\n",
       "      <td>003DF44D7589BBD4</td>\n",
       "      <td>product_cart</td>\n",
       "      <td>1</td>\n",
       "    </tr>\n",
       "    <tr>\n",
       "      <th>2</th>\n",
       "      <td>A</td>\n",
       "      <td>003DF44D7589BBD4</td>\n",
       "      <td>product_page</td>\n",
       "      <td>1</td>\n",
       "    </tr>\n",
       "    <tr>\n",
       "      <th>3</th>\n",
       "      <td>A</td>\n",
       "      <td>00C1F5175586DFCF</td>\n",
       "      <td>login</td>\n",
       "      <td>1</td>\n",
       "    </tr>\n",
       "    <tr>\n",
       "      <th>4</th>\n",
       "      <td>A</td>\n",
       "      <td>00C1F5175586DFCF</td>\n",
       "      <td>product_page</td>\n",
       "      <td>1</td>\n",
       "    </tr>\n",
       "  </tbody>\n",
       "</table>\n",
       "</div>"
      ],
      "text/plain": [
       "  group           user_id    event_name  event_dt\n",
       "0     A  003DF44D7589BBD4         login         1\n",
       "1     A  003DF44D7589BBD4  product_cart         1\n",
       "2     A  003DF44D7589BBD4  product_page         1\n",
       "3     A  00C1F5175586DFCF         login         1\n",
       "4     A  00C1F5175586DFCF  product_page         1"
      ]
     },
     "execution_count": 115,
     "metadata": {},
     "output_type": "execute_result"
    }
   ],
   "source": [
    "# подсчет количества каждого события для пользователя в разных группах после 25 декабря\n",
    "event_count_users = (\n",
    "    final_df.loc[final_df['event_dt']>'2020-12-25']\n",
    "    .pivot_table(index=['group', 'user_id', 'event_name'],\n",
    "                values='event_dt', \n",
    "                aggfunc='count')\n",
    "    .reset_index()\n",
    ")\n",
    "event_count_users.head()"
   ]
  },
  {
   "cell_type": "code",
   "execution_count": 116,
   "id": "980fc64c",
   "metadata": {},
   "outputs": [
    {
     "data": {
      "image/png": "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\n",
      "text/plain": [
       "<Figure size 942.875x360 with 1 Axes>"
      ]
     },
     "metadata": {
      "needs_background": "light"
     },
     "output_type": "display_data"
    }
   ],
   "source": [
    "# количество каждого события для пользователей разных групп после 25 декабря\n",
    "sns.catplot(data=event_count_users, \n",
    "            x=\"event_name\", y='event_dt', \n",
    "            hue=\"group\", \n",
    "            kind='bar', \n",
    "            palette=\"pastel\", edgecolor=\".6\",\n",
    "            height=5, aspect=2.5)\n",
    "plt.title('Частота каждого события для групп пользователей после 25 декабря')\n",
    "plt.xlabel('Название события')\n",
    "plt.ylabel('Частота события')\n",
    "plt.show()"
   ]
  },
  {
   "cell_type": "markdown",
   "id": "fe8ca335",
   "metadata": {},
   "source": [
    "Из распределения частоты событий нельзя заключить, что маркетинговая компания повлияла на какую-то из групп больше, чем на другую. Не будем исключать данные по событиям после 25 декабря из дальнейшего анализа. "
   ]
  },
  {
   "cell_type": "markdown",
   "id": "be6ac0cf",
   "metadata": {},
   "source": [
    "### Аудитория"
   ]
  },
  {
   "cell_type": "markdown",
   "id": "3400d2c9",
   "metadata": {},
   "source": [
    "**Пересекающиеся пользователи теста**"
   ]
  },
  {
   "cell_type": "markdown",
   "id": "897134c4",
   "metadata": {},
   "source": [
    "Если один и тот же пользователей попадет сразу в две группы это может исказить результаты теста."
   ]
  },
  {
   "cell_type": "code",
   "execution_count": 117,
   "id": "fc4b8bf6",
   "metadata": {},
   "outputs": [
    {
     "data": {
      "text/html": [
       "<div>\n",
       "<style scoped>\n",
       "    .dataframe tbody tr th:only-of-type {\n",
       "        vertical-align: middle;\n",
       "    }\n",
       "\n",
       "    .dataframe tbody tr th {\n",
       "        vertical-align: top;\n",
       "    }\n",
       "\n",
       "    .dataframe thead th {\n",
       "        text-align: right;\n",
       "    }\n",
       "</style>\n",
       "<table border=\"1\" class=\"dataframe\">\n",
       "  <thead>\n",
       "    <tr style=\"text-align: right;\">\n",
       "      <th></th>\n",
       "      <th>user_id</th>\n",
       "      <th>event_dt</th>\n",
       "      <th>event_name</th>\n",
       "      <th>details</th>\n",
       "      <th>group</th>\n",
       "      <th>ab_test</th>\n",
       "      <th>first_date</th>\n",
       "      <th>region</th>\n",
       "      <th>device</th>\n",
       "    </tr>\n",
       "  </thead>\n",
       "  <tbody>\n",
       "  </tbody>\n",
       "</table>\n",
       "</div>"
      ],
      "text/plain": [
       "Empty DataFrame\n",
       "Columns: [user_id, event_dt, event_name, details, group, ab_test, first_date, region, device]\n",
       "Index: []"
      ]
     },
     "metadata": {},
     "output_type": "display_data"
    },
    {
     "name": "stdout",
     "output_type": "stream",
     "text": [
      "Количество пересекающихся пользователей - 0\n"
     ]
    }
   ],
   "source": [
    "# найдем пользователей, которые попали в две группы(A и B) сразу \n",
    "group_A_visitor = final_df.loc[final_df['group']=='A', 'user_id']\n",
    "group_B_visitor = final_df.loc[final_df['group']=='B', 'user_id']\n",
    "\n",
    "visitor_AB = final_df.loc[\n",
    "    (final_df['user_id'].isin(group_A_visitor)) & (final_df['user_id'].isin(group_B_visitor))\n",
    "]\n",
    "\n",
    "display(visitor_AB.sort_values('user_id').head(10))\n",
    "print('Количество пересекающихся пользователей -', visitor_AB['user_id'].nunique())"
   ]
  },
  {
   "cell_type": "markdown",
   "id": "feccb298",
   "metadata": {},
   "source": [
    "**Пересечение аудитории с конкурирующим тестом**"
   ]
  },
  {
   "cell_type": "code",
   "execution_count": 118,
   "id": "98eaae4b",
   "metadata": {},
   "outputs": [
    {
     "data": {
      "text/plain": [
       "array(['recommender_system_test', 'interface_eu_test'], dtype=object)"
      ]
     },
     "execution_count": 118,
     "metadata": {},
     "output_type": "execute_result"
    }
   ],
   "source": [
    "# названия тестов\n",
    "final_ab_participants['ab_test'].unique()"
   ]
  },
  {
   "cell_type": "code",
   "execution_count": 119,
   "id": "be965fdf",
   "metadata": {},
   "outputs": [
    {
     "data": {
      "text/html": [
       "<div>\n",
       "<style scoped>\n",
       "    .dataframe tbody tr th:only-of-type {\n",
       "        vertical-align: middle;\n",
       "    }\n",
       "\n",
       "    .dataframe tbody tr th {\n",
       "        vertical-align: top;\n",
       "    }\n",
       "\n",
       "    .dataframe thead th {\n",
       "        text-align: right;\n",
       "    }\n",
       "</style>\n",
       "<table border=\"1\" class=\"dataframe\">\n",
       "  <thead>\n",
       "    <tr style=\"text-align: right;\">\n",
       "      <th></th>\n",
       "      <th>user_id</th>\n",
       "      <th>group</th>\n",
       "      <th>ab_test</th>\n",
       "    </tr>\n",
       "  </thead>\n",
       "  <tbody>\n",
       "    <tr>\n",
       "      <th>17892</th>\n",
       "      <td>001064FEAAB631A1</td>\n",
       "      <td>B</td>\n",
       "      <td>interface_eu_test</td>\n",
       "    </tr>\n",
       "    <tr>\n",
       "      <th>235</th>\n",
       "      <td>001064FEAAB631A1</td>\n",
       "      <td>B</td>\n",
       "      <td>recommender_system_test</td>\n",
       "    </tr>\n",
       "    <tr>\n",
       "      <th>16961</th>\n",
       "      <td>00341D8401F0F665</td>\n",
       "      <td>A</td>\n",
       "      <td>interface_eu_test</td>\n",
       "    </tr>\n",
       "    <tr>\n",
       "      <th>2137</th>\n",
       "      <td>00341D8401F0F665</td>\n",
       "      <td>A</td>\n",
       "      <td>recommender_system_test</td>\n",
       "    </tr>\n",
       "    <tr>\n",
       "      <th>8143</th>\n",
       "      <td>003B6786B4FF5B03</td>\n",
       "      <td>A</td>\n",
       "      <td>interface_eu_test</td>\n",
       "    </tr>\n",
       "    <tr>\n",
       "      <th>3156</th>\n",
       "      <td>003B6786B4FF5B03</td>\n",
       "      <td>A</td>\n",
       "      <td>recommender_system_test</td>\n",
       "    </tr>\n",
       "    <tr>\n",
       "      <th>4768</th>\n",
       "      <td>0082295A41A867B5</td>\n",
       "      <td>A</td>\n",
       "      <td>recommender_system_test</td>\n",
       "    </tr>\n",
       "    <tr>\n",
       "      <th>14161</th>\n",
       "      <td>0082295A41A867B5</td>\n",
       "      <td>B</td>\n",
       "      <td>interface_eu_test</td>\n",
       "    </tr>\n",
       "    <tr>\n",
       "      <th>15562</th>\n",
       "      <td>00E68F103C66C1F7</td>\n",
       "      <td>B</td>\n",
       "      <td>interface_eu_test</td>\n",
       "    </tr>\n",
       "    <tr>\n",
       "      <th>4074</th>\n",
       "      <td>00E68F103C66C1F7</td>\n",
       "      <td>A</td>\n",
       "      <td>recommender_system_test</td>\n",
       "    </tr>\n",
       "  </tbody>\n",
       "</table>\n",
       "</div>"
      ],
      "text/plain": [
       "                user_id group                  ab_test\n",
       "17892  001064FEAAB631A1     B        interface_eu_test\n",
       "235    001064FEAAB631A1     B  recommender_system_test\n",
       "16961  00341D8401F0F665     A        interface_eu_test\n",
       "2137   00341D8401F0F665     A  recommender_system_test\n",
       "8143   003B6786B4FF5B03     A        interface_eu_test\n",
       "3156   003B6786B4FF5B03     A  recommender_system_test\n",
       "4768   0082295A41A867B5     A  recommender_system_test\n",
       "14161  0082295A41A867B5     B        interface_eu_test\n",
       "15562  00E68F103C66C1F7     B        interface_eu_test\n",
       "4074   00E68F103C66C1F7     A  recommender_system_test"
      ]
     },
     "metadata": {},
     "output_type": "display_data"
    },
    {
     "name": "stdout",
     "output_type": "stream",
     "text": [
      "Количество пересекающихся пользователей - 1602\n"
     ]
    }
   ],
   "source": [
    "# подсчет количества пересекающихся между тестами пользователей\n",
    "test_1_visitor = final_ab_participants.loc[final_ab_participants['ab_test']=='recommender_system_test', 'user_id']\n",
    "test_2_visitor = final_ab_participants.loc[final_ab_participants['ab_test']=='interface_eu_test', 'user_id']\n",
    "\n",
    "visitor_12 = final_ab_participants.loc[\n",
    "    (final_ab_participants['user_id'].isin(test_1_visitor)) & (final_ab_participants['user_id'].isin(test_2_visitor))\n",
    "]\n",
    "\n",
    "display(visitor_12.sort_values('user_id').head(10))\n",
    "print('Количество пересекающихся пользователей -', visitor_12['user_id'].nunique())"
   ]
  },
  {
   "cell_type": "markdown",
   "id": "bd054236",
   "metadata": {},
   "source": [
    "1602 пользователя участвовали в двух тестах. Данных и ТЗ о втором тесте у нас нет, поэтому мы не можем знать каким образом пересекающиеся пользователи могли(если могли) повлиять на результаты нашего первого теста.<br>\n",
    "Если пользователи из теста 1 были в группе В теста 2, то это теоретически могло повлиять на результаты теста 1, найдем таких пользователей."
   ]
  },
  {
   "cell_type": "code",
   "execution_count": 120,
   "id": "c5dcba71",
   "metadata": {},
   "outputs": [
    {
     "name": "stdout",
     "output_type": "stream",
     "text": [
      "количество пользователей теста 2 группы В - 681\n"
     ]
    },
    {
     "data": {
      "text/plain": [
       "25    EAFB9027A27D510C\n",
       "29    5D5E6EE92AF6E9E0\n",
       "34    C758C53D624AD1AC\n",
       "35    8C478EE1AE7C98A4\n",
       "53    952D1EEBF552BC95\n",
       "Name: user_id, dtype: object"
      ]
     },
     "execution_count": 120,
     "metadata": {},
     "output_type": "execute_result"
    }
   ],
   "source": [
    "# отфильтруем пользователей из теста 2 группы В\n",
    "users_test2_B = visitor_12.loc[(visitor_12['ab_test']=='recommender_system_test') & \n",
    "               (visitor_12['group']=='B'), 'user_id']\n",
    "print('количество пользователей теста 2 группы В -', users_test2_B.nunique())\n",
    "users_test2_B.head()"
   ]
  },
  {
   "cell_type": "markdown",
   "id": "f0f44e8d",
   "metadata": {},
   "source": [
    "Найден 681 пользователь, удалим тех из них, по которым у нас есть данные в итоговом датасете"
   ]
  },
  {
   "cell_type": "code",
   "execution_count": 121,
   "id": "2c67c783",
   "metadata": {},
   "outputs": [
    {
     "name": "stdout",
     "output_type": "stream",
     "text": [
      "количество событий до удаления - 23420\n",
      "количество пользователей до удаления - 3481\n",
      "количество событий после удаления - 22093\n",
      "количество пользователей после удаления - 3259\n"
     ]
    }
   ],
   "source": [
    "print('количество событий до удаления -',len(final_df))\n",
    "print('количество пользователей до удаления -', final_df['user_id'].nunique())\n",
    "final_df = final_df.drop(final_df.loc[final_df['user_id'].isin(users_test2_B)].index).reset_index(drop=True)\n",
    "print('количество событий после удаления -',len(final_df))\n",
    "print('количество пользователей после удаления -', final_df['user_id'].nunique())"
   ]
  },
  {
   "cell_type": "markdown",
   "id": "a775c520",
   "metadata": {},
   "source": [
    "В итоге мы избавились еще от порядка 200 пользователей"
   ]
  },
  {
   "cell_type": "markdown",
   "id": "3ad29a0b",
   "metadata": {},
   "source": [
    "### Проверка пункта ТЗ про конверсию"
   ]
  },
  {
   "cell_type": "markdown",
   "id": "26236dbb",
   "metadata": {},
   "source": [
    "Помня, что не все пользователи имеют необходимый лайфтайм в 2 недели, проверим частоту событий в зависимости от дня пользвоания приложением"
   ]
  },
  {
   "cell_type": "code",
   "execution_count": 178,
   "id": "1430e858",
   "metadata": {},
   "outputs": [
    {
     "data": {
      "image/png": "iVBORw0KGgoAAAANSUhEUgAABDAAAAFgCAYAAABNIolGAAAAOXRFWHRTb2Z0d2FyZQBNYXRwbG90bGliIHZlcnNpb24zLjQuMywgaHR0cHM6Ly9tYXRwbG90bGliLm9yZy/MnkTPAAAACXBIWXMAAAsTAAALEwEAmpwYAAAe4ElEQVR4nO3df7Bm9V0f8PdH1hDygybUBcnuUjDdRgnT/FqRkNbRoGbVTKCdYDajslNpN6aoidoo1Jl27Aw2Mzoa0xoME5VNjSErJgOmQoIYtZ1gyOYnAUJZQ2TXRdjEpkEzJYKf/nHP1sflslxgn/t8d+/rNXPmnPN5zvfczzNzZvfue8/3nOruAAAAAIzsaxbdAAAAAMBjEWAAAAAAwxNgAAAAAMMTYAAAAADDE2AAAAAAw1u36AbmZevWrX3DDTcsug0AAADg8anlisfsHRhf+MIXFt0CAAAAcIQcswEGAAAAcOwQYAAAAADDE2AAAAAAwxNgAAAAAMMTYAAAAADDE2AAAAAAwxNgAAAAAMMTYAAAAADDE2AAAAAAwxNgAAAAAMMTYAAAAADDE2AAAAAAwxNgAAAAAMMTYAxmw6bTUlVzWTZsOm3RXw8AAACekHWLboC/b/++vXnN2z88l3O/53XnzuW8AAAAMG/uwAAAAACGJ8AAAAAAhifAAAAAAIYnwAAAAACGJ8AAAAAAhifAAAAAAIY3twCjqp5XVZ+cWb5cVW+sqpOq6saqumtaP3tmzGVVtaeq7qyqV8zUX1JVt06fvbWqal59AwAAAOOZW4DR3Xd29wu7+4VJXpLkK0nel+TSJDd19+YkN037qaozk2xL8vwkW5O8raqOm053RZIdSTZPy9Z59Q0AAACMZ7WmkJyX5E+7+8+SnJ9k51TfmeSCafv8JFd394PdfXeSPUnOrqpTk5zY3Td3dyd558wYAAAAYA1YrQBjW5J3T9undPe9STKtT57qG5LsnRmzb6ptmLYPrT9CVe2oqt1VtfvAgQNHsH0AAABgkeYeYFTVU5K8KslvP9ahy9T6MPVHFruv7O4t3b1l/fr1j69RAAAAYFircQfGdyf5eHffN+3fN00LybS+f6rvS7JpZtzGJPun+sZl6gAAAMAasRoBxmvzd9NHkuS6JNun7e1Jrp2pb6uq46vqjCw9rPOWaZrJA1V1zvT2kYtmxgAAAABrwLp5nryqnpbkO5O8bqb85iS7quriJPckuTBJuvu2qtqV5PYkDyW5pLsfnsa8PslVSU5Icv20AAAAAGvEXAOM7v5Kkn94SO2LWXoryXLHX57k8mXqu5OcNY8eAQAAgPGt1ltIAAAAAJ4wAQYAAAAwPAEGAAAAMDwBBgAAADA8AQYAAAAwPAEGAAAAMDwBBgAAADA8AQYAAAAwPAEGAAAAMDwBBgAAADA8AQYAAAAwPAEGAAAAMDwBBgAAADA8AQYAAAAwPAEGAAAAMDwBBgAAADA8AQYAAAAwPAEGAAAAMDwBBgAAADA8AQYAAAAwPAEGAAAAMDwBBgAAADA8AQYAAAAwPAEGAAAAMDwBBgAAADA8AQYAAAAwPAEGAAAAMDwBBgAAADA8AQYAAAAwPAEGAAAAMDwBBgAAADC8uQYYVfWsqrqmqj5bVXdU1Uur6qSqurGq7prWz545/rKq2lNVd1bVK2bqL6mqW6fP3lpVNc++AQAAgLHM+w6MX05yQ3d/Y5IXJLkjyaVJburuzUlumvZTVWcm2Zbk+Um2JnlbVR03neeKJDuSbJ6WrXPuGwAAABjI3AKMqjoxybcm+bUk6e6vdveXkpyfZOd02M4kF0zb5ye5ursf7O67k+xJcnZVnZrkxO6+ubs7yTtnxgAAAABrwDzvwPiGJAeS/EZVfaKq3lFVT09ySnffmyTT+uTp+A1J9s6M3zfVNkzbh9Yfoap2VNXuqtp94MCBI/ttAAAAgIWZZ4CxLsmLk1zR3S9K8teZpos8iuWea9GHqT+y2H1ld2/p7i3r169/vP0CAAAAg5pngLEvyb7u/si0f02WAo37pmkhmdb3zxy/aWb8xiT7p/rGZeoAAADAGjG3AKO7/yLJ3qp63lQ6L8ntSa5Lsn2qbU9y7bR9XZJtVXV8VZ2RpYd13jJNM3mgqs6Z3j5y0cwYAAAAYA1YN+fz/2iSd1XVU5J8Lsm/ylJosquqLk5yT5ILk6S7b6uqXVkKOR5Kckl3Pzyd5/VJrkpyQpLrpwUAAABYI+YaYHT3J5NsWeaj8x7l+MuTXL5MfXeSs45ocwAAAMBRY57PwAAAAAA4IgQYAAAAwPAEGAAAAMDwBBgAAADA8AQYAAAAwPAEGAAAAMDwBBgAAADA8AQYAAAAwPAEGAAAAMDwBBgAAADA8AQYAAAAwPAEGAAAAMDwBBgAAADA8AQYAAAAwPAEGAAAAMDwBBgAAADA8AQYAAAAwPAEGAAAAMDwBBgAAADA8AQYAAAAwPAEGAAAAMDwBBgAAADA8AQYAAAAwPAEGAAAAMDwBBgAAADA8AQYAAAAwPAEGAAAAMDwBBgAAADA8AQYAAAAwPAEGAAAAMDwBBgAAADA8OYaYFTV56vq1qr6ZFXtnmonVdWNVXXXtH72zPGXVdWeqrqzql4xU3/JdJ49VfXWqqp59g0AAACMZTXuwPj27n5hd2+Z9i9NclN3b05y07SfqjozybYkz0+yNcnbquq4acwVSXYk2TwtW1ehbwAAAGAQi5hCcn6SndP2ziQXzNSv7u4Hu/vuJHuSnF1VpyY5sbtv7u5O8s6ZMQAAAMAaMO8Ao5N8sKo+VlU7ptop3X1vkkzrk6f6hiR7Z8bum2obpu1D649QVTuqandV7T5w4MAR/BoAAADAIq2b8/lf1t37q+rkJDdW1WcPc+xyz7Xow9QfWey+MsmVSbJly5ZljwEAAACOPnO9A6O790/r+5O8L8nZSe6bpoVkWt8/Hb4vyaaZ4RuT7J/qG5epAwAAAGvE3AKMqnp6VT3z4HaS70rymSTXJdk+HbY9ybXT9nVJtlXV8VV1RpYe1nnLNM3kgao6Z3r7yEUzYwAAAIA1YJ5TSE5J8r7pjafrkvxWd99QVR9NsquqLk5yT5ILk6S7b6uqXUluT/JQkku6++HpXK9PclWSE5JcPy0AAADAGjG3AKO7P5fkBcvUv5jkvEcZc3mSy5ep705y1pHuEQAAADg6LOI1qgAAAACPiwADAAAAGJ4AAwAAABieAAMAAAAYngADAAAAGJ4AAwAAABieAAMAAAAYngADAAAAGJ4AAwAAABieAAMAAAAYngADAAAAGJ4AAwAAABieAAMAAAAYngADAAAAGJ4AAwAAABieAAMAAAAYngADAAAAGJ4AAwAAABieAAMAAAAYngADAAAAGJ4AAwAAABieAAMAAAAYngADAAAAGJ4AAwAAABieAAMAAAAYngADAAAAGJ4AAwAAABieAAMAAAAYngADAAAAGJ4AAwAAABjeigKMqnrZSmoAAAAA87DSOzD+ywprj1BVx1XVJ6rq/dP+SVV1Y1XdNa2fPXPsZVW1p6rurKpXzNRfUlW3Tp+9tapqhX0DAAAAx4B1h/uwql6a5Nwk66vqJ2Y+OjHJcSv8GW9Icsc0JkkuTXJTd7+5qi6d9n+6qs5Msi3J85M8J8nvV9U/6e6Hk1yRZEeSP0nye0m2Jrl+hT8fAAAAOMo91h0YT0nyjCwFHc+cWb6c5NWPdfKq2pjke5O8Y6Z8fpKd0/bOJBfM1K/u7ge7++4ke5KcXVWnJjmxu2/u7k7yzpkxAAAAwBpw2DswuvuPkvxRVV3V3X/2BM7/liQ/laXQ46BTuvve6fz3VtXJU31Dlu6wOGjfVPubafvQOgAAALBGHDbAmHF8VV2Z5PTZMd398kcbUFWvTHJ/d3+sqr5tBT9jueda9GHqy/3MHVmaapLTTjttBT8SAAAAOBqsNMD47SS/mqWpIA+vcMzLkryqqr4nyVOTnFhVv5nkvqo6dbr74tQk90/H70uyaWb8xiT7p/rGZeqP0N1XJrkySbZs2bJsyAEAAAAcfVb6FpKHuvuK7r6luz92cDncgO6+rLs3dvfpWXo45x909w8kuS7J9umw7UmunbavS7Ktqo6vqjOSbE5yyzTd5IGqOmd6+8hFM2MAAACANWCld2D8blX92yTvS/LgwWJ3/+UT+JlvTrKrqi5Ock+SC6dz3VZVu5LcnuShJJdMbyBJktcnuSrJCVl6+4g3kAAAAMAastIA4+AdE2+aqXWSb1jJ4O7+wyR/OG1/Mcl5j3Lc5UkuX6a+O8lZK+wVAAAAOMasKMDo7jPm3QgAAADAo1lRgFFVFy1X7+53Htl2AAAAAB5ppVNIvnlm+6lZmgLy8SQCDAAAAGDuVjqF5Edn96vqHyT5b3PpCAAAAOAQK32N6qG+kqXXnAIAAADM3UqfgfG7WXrrSJIcl+SbkuyaV1MAAAAAs1b6DIxfmNl+KMmfdfe+OfQDAAAA8AgrmkLS3X+U5LNJnpnk2Um+Os+mAAAAAGatKMCoqu9LckuSC5N8X5KPVNWr59kYAAAAwEErnULyM0m+ubvvT5KqWp/k95NcM6/GAAAAAA5a6VtIvuZgeDH54uMYCwAAAPCkrPQOjBuq6gNJ3j3tvybJ782nJQAAAIC/77ABRlX94ySndPebqupfJvlnSSrJzUnetQr9AQAAADzmNJC3JHkgSbr7vd39E93941m6++It820NAAAAYMljBRind/enDy129+4kp8+lIwAAAIBDPFaA8dTDfHbCkWwEAAAA4NE8VoDx0ar6N4cWq+riJB+bT0sAAAAAf99jvYXkjUneV1Xfn78LLLYkeUqSfzHHvgAAAAD+v8MGGN19X5Jzq+rbk5w1lf97d//B3DsDAAAAmDzWHRhJku7+UJIPzbkXAAAAgGU91jMwYMU2bDotVTWXZcOm0xb99QAAAFigFd2BASuxf9/evObtH57Lud/zunPncl4AAACODu7AAAAAAIYnwAAAAACGJ8AAAAAAhifAAAAAAIYnwAAAAACGJ8AAAAAAhifAAAAAAIYnwAAAAACGJ8AAAAAAhifAAAAAAIY3twCjqp5aVbdU1aeq6raq+tmpflJV3VhVd03rZ8+Muayq9lTVnVX1ipn6S6rq1umzt1ZVzatvAAAAYDzzvAPjwSQv7+4XJHlhkq1VdU6SS5Pc1N2bk9w07aeqzkyyLcnzk2xN8raqOm461xVJdiTZPC1b59g3AAAAMJi5BRi95K+m3a+dlk5yfpKdU31nkgum7fOTXN3dD3b33Un2JDm7qk5NcmJ339zdneSdM2MAAACANWCuz8CoquOq6pNJ7k9yY3d/JMkp3X1vkkzrk6fDNyTZOzN831TbMG0fWl/u5+2oqt1VtfvAgQNH9LsAAAAAizPXAKO7H+7uFybZmKW7Kc46zOHLPdeiD1Nf7udd2d1bunvL+vXrH3e/AAAAwJhW5S0k3f2lJH+YpWdX3DdNC8m0vn86bF+STTPDNibZP9U3LlMHAAAA1oh5voVkfVU9a9o+Icl3JPlskuuSbJ8O257k2mn7uiTbqur4qjojSw/rvGWaZvJAVZ0zvX3kopkxAAAAwBqwbo7nPjXJzulNIl+TZFd3v7+qbk6yq6ouTnJPkguTpLtvq6pdSW5P8lCSS7r74elcr09yVZITklw/LQAAAMAaMbcAo7s/neRFy9S/mOS8RxlzeZLLl6nvTnK452cAAAAAx7BVeQYGAAAAwJMhwAAAAACGJ8AAAAAAhifAAAAAAIYnwAAAAACGJ8AAAAAAhifAAAAAAIYnwAAAAACGJ8AAAAAAhifAAAAAAIYnwAAAAACGJ8AAAAAAhifAAAAAAIYnwAAAAACGJ8AAAAAAhifAAAAAAIYnwAAAAACGJ8AAAAAAhifAAAAAAIYnwAAAAACGJ8AAAAAAhifAgFWwYdNpqaq5LBs2nbborwcAADB36xbdAKwF+/ftzWve/uG5nPs9rzt3LucFAAAYiTswAAAAgOEJMAAAAIDhCTAAAACA4QkwAAAAgOEJMAAAAIDhCTAAAACA4QkwAAAAgOEJMAAAAIDhzS3AqKpNVfWhqrqjqm6rqjdM9ZOq6saqumtaP3tmzGVVtaeq7qyqV8zUX1JVt06fvbWqal59AwAAAOOZ5x0YDyX5ye7+piTnJLmkqs5McmmSm7p7c5Kbpv1Mn21L8vwkW5O8raqOm851RZIdSTZPy9Y59g0AAAAMZm4BRnff290fn7YfSHJHkg1Jzk+yczpsZ5ILpu3zk1zd3Q92991J9iQ5u6pOTXJid9/c3Z3knTNjAAAAgDVgVZ6BUVWnJ3lRko8kOaW7702WQo4kJ0+HbUiyd2bYvqm2Ydo+tL7cz9lRVburaveBAweO6HcAAAAAFmfuAUZVPSPJ7yR5Y3d/+XCHLlPrw9QfWey+sru3dPeW9evXP/5mAQAAgCHNNcCoqq/NUnjxru5+71S+b5oWkml9/1Tfl2TTzPCNSfZP9Y3L1AEAAIA1Yp5vIakkv5bkju7+xZmPrkuyfdrenuTamfq2qjq+qs7I0sM6b5mmmTxQVedM57xoZgwAAACwBqyb47lfluQHk9xaVZ+cav8+yZuT7Kqqi5Pck+TCJOnu26pqV5Lbs/QGk0u6++Fp3OuTXJXkhCTXTwsAAACwRswtwOju/5nln1+RJOc9ypjLk1y+TH13krOOXHcAAADA0WRV3kICAAAA8GQIMAAAAIDhCTAAAACA4QkwAAAAgOEJMAAAAIDhCTAAAACA4QkwAAAAgOEJMAAAAIDhCTAAAACA4QkwgIXZsOm0VNXclg2bTlv0VwQAAI6QdYtuAFi79u/bm9e8/cNzO/97Xnfu3M4NAACsLndgAAAAAMMTYAAAAADDE2AAAAAAwxNgAAAAAMMTYAAAAADDE2AAAAAAwxNgAAAAAMMTYAAAAADDE2AAAAAAwxNgAAAAAMMTYAAMaMOm01JVc1s2bDpt0V8RAAAel3WLbgCAR9q/b29e8/YPz+3873nduXM7NwAAzIM7MAAAAIDhCTAAAACA4QkwAAAAgOEJMAAAAIDhCTAAAACA4QkwAAAAgOEJMAAAAIDhCTAAOKI2bDotVTW3ZcOm0xb9FQEAWIB18zpxVf16klcmub+7z5pqJyV5T5LTk3w+yfd19/+ePrssycVJHk7yY939gan+kiRXJTkhye8leUN397z6BuDJ2b9vb17z9g/P7fzved25czs3AADjmucdGFcl2XpI7dIkN3X35iQ3TfupqjOTbEvy/GnM26rquGnMFUl2JNk8LYeeEwAAADjGzS3A6O4/TvKXh5TPT7Jz2t6Z5IKZ+tXd/WB3351kT5Kzq+rUJCd2983TXRfvnBkDAAAArBGr/QyMU7r73iSZ1idP9Q1J9s4ct2+qbZi2D60DAAAAa8goD/GsZWp9mPryJ6naUVW7q2r3gQMHjlhzAAAAwGKtdoBx3zQtJNP6/qm+L8mmmeM2Jtk/1TcuU19Wd1/Z3Vu6e8v69euPaOMAAADA4qx2gHFdku3T9vYk187Ut1XV8VV1RpYe1nnLNM3kgao6p6oqyUUzYwDgqOIVswAAT9w8X6P67iTfluTrqmpfkv+Y5M1JdlXVxUnuSXJhknT3bVW1K8ntSR5Kckl3Pzyd6vX5u9eoXj8tAHDU8YpZAIAnbm4BRne/9lE+Ou9Rjr88yeXL1HcnOesItgYAAAAcZUZ5iCcAsIbNc3qNqTUAcGyY2x0YAAArNc/pNabWAMCxwR0YAAAAwPAEGAAAAMDwBBgAAADA8AQYAAAAwPAEGAAAAMDwBBgAAAPzilkAWOI1qgAAA/OKWQBY4g4MAAAAYHgCDAAAAGB4AgwAAABgeAIMAAAAYHgCDAAAjjrzfDuLN7QAjMlbSAAAOOrM8+0siTe0AIzIHRgAAADA8AQYAACwyuY5Bcb0F+BYZQoJAACssnlOgTH9BThWuQMDAAAAGJ4AAwAAABieAAMAAAAYngADAAAAGJ4AAwAAYHDzfHONt9dwtPAWEgAAYAgbNp2W/fv2zu38z9m4KX++9565nX+e5vnmmsTbazg6CDAAAIAh+Ec6cDimkAAAAADDE2AAAABw1Jrn80E8G2QsppAAAABw1Jrn1KN5Tzvy3JfHR4ABAAAAC+C5L4+PKSQAAADA8AQYAAAAwPAEGAAAAMDwjpoAo6q2VtWdVbWnqi5ddD8AAADA6jkqAoyqOi7JryT57iRnJnltVZ252K4AAACA1XJUBBhJzk6yp7s/191fTXJ1kvMX3BMAAACwSqq7F93DY6qqVyfZ2t3/etr/wSTf0t0/cshxO5LsmHafl+TOVW30yPi6JF9YdBMMwbXALNcDB7kWOMi1wCzXAwe5Fph1tF4PX+jurYcW1y2ikyeglqk9Innp7iuTXDn/duanqnZ395ZF98HiuRaY5XrgINcCB7kWmOV64CDXArOOtevhaJlCsi/Jppn9jUn2L6gXAAAAYJUdLQHGR5NsrqozquopSbYluW7BPQEAAACr5KiYQtLdD1XVjyT5QJLjkvx6d9+24Lbm5aieAsMR5VpgluuBg1wLHORaYJbrgYNcC8w6pq6Ho+IhngAAAMDadrRMIQEAAADWMAEGAAAAMDwBxiCqamtV3VlVe6rq0kX3w+JU1aaq+lBV3VFVt1XVGxbdE4tVVcdV1Seq6v2L7oXFqqpnVdU1VfXZ6c+Ily66Jxajqn58+jviM1X17qp66qJ7YvVU1a9X1f1V9ZmZ2klVdWNV3TWtn73IHlkdj3It/Pz098Snq+p9VfWsBbbIKlnuWpj57N9VVVfV1y2ityNJgDGAqjouya8k+e4kZyZ5bVWdudiuWKCHkvxkd39TknOSXOJ6WPPekOSORTfBEH45yQ3d/Y1JXhDXxZpUVRuS/FiSLd19VpYecL5tsV2xyq5KsvWQ2qVJburuzUlumvY59l2VR14LNyY5q7v/aZL/leSy1W6Khbgqj7wWUlWbknxnkntWu6F5EGCM4ewke7r7c9391SRXJzl/wT2xIN19b3d/fNp+IEv/QNmw2K5YlKramOR7k7xj0b2wWFV1YpJvTfJrSdLdX+3uLy20KRZpXZITqmpdkqcl2b/gflhF3f3HSf7ykPL5SXZO2zuTXLCaPbEYy10L3f3B7n5o2v2TJBtXvTFW3aP8uZAkv5Tkp5IcE2/vEGCMYUOSvTP7++IfrCSpqtOTvCjJRxbcCovzliz9pfO3C+6DxfuGJAeS/MY0pegdVfX0RTfF6uvuP0/yC1n637R7k/yf7v7gYrtiAKd0973J0n+GJDl5wf0whh9Kcv2im2AxqupVSf68uz+16F6OFAHGGGqZ2jGRkPHEVdUzkvxOkjd295cX3Q+rr6pemeT+7v7YonthCOuSvDjJFd39oiR/HbeIr0nTsw3OT3JGkuckeXpV/cBiuwJGU1U/k6Wpye9adC+svqp6WpKfSfIfFt3LkSTAGMO+JJtm9jfGraBrWlV9bZbCi3d193sX3Q8L87Ikr6qqz2dpatnLq+o3F9sSC7Qvyb7uPnhH1jVZCjRYe74jyd3dfaC7/ybJe5Ocu+CeWLz7qurUJJnW9y+4HxaoqrYneWWS7+9u/zG6Nj03S0H3p6bfJTcm+XhVff1Cu3qSBBhj+GiSzVV1RlU9JUsP4rpuwT2xIFVVWZrjfkd3/+Ki+2Fxuvuy7t7Y3adn6c+FP+hu/8u6RnX3XyTZW1XPm0rnJbl9gS2xOPckOaeqnjb9nXFePNCVpd8dt0/b25Ncu8BeWKCq2prkp5O8qru/suh+WIzuvrW7T+7u06ffJfclefH0+8RRS4AxgOkhOz+S5ANZ+gVkV3ffttiuWKCXJfnBLP1v+yen5XsW3RQwhB9N8q6q+nSSFyb5ucW2wyJMd+Fck+TjSW7N0u9zVy60KVZVVb07yc1JnldV+6rq4iRvTvKdVXVXlt448OZF9sjqeJRr4b8meWaSG6ffI391oU2yKh7lWjjmlDuKAAAAgNG5AwMAAAAYngADAAAAGJ4AAwAAABieAAMAAAAYngADAAAAGJ4AAwBYNVX1V9P6OVV1zUz93VX16ar68cOMvaCqzpzZ/09V9R3z7RgAGIXXqAIAq6aq/qq7n3FI7euTfKS7/9FjjL0qyfu7+5rDHQcAHJvcgQEArLqqOr2qPjPtfjDJyVX1yar651X13Kq6oao+VlX/o6q+sarOTfKqJD8/Hffcqrqqql49ne/zVfVzVXVzVe2uqhdX1Qeq6k+r6odnfu6bquqj090eP7v63xwAeKLWLboBAGDNe1WW7qx4YZJU1U1Jfri776qqb0nytu5+eVVdl5k7MKrq0PPs7e6XVtUvJbkqycuSPDXJbUl+taq+K8nmJGcnqSTXVdW3dvcfz/0bAgBPmgADABhGVT0jyblJfnsmoDh+hcOvm9a3JnlGdz+Q5IGq+r9V9awk3zUtn5iOe0aWAg0BBgAcBQQYAMBIvibJlw7ejfE4PTit/3Zm++D+uizddfGfu/vtT6pDAGAhPAMDABhGd385yd1VdWGS1JIXTB8/kOSZT+L0H0jyQ9NdHqmqDVV18pNqGABYNQIMAGA035/k4qr6VJaeX3H+VL86yZuq6hNV9dzHe9Lu/mCS30pyc1XdmuSaPLlABABYRV6jCgAAAAzPHRgAAADA8AQYAAAAwPAEGAAAAMDwBBgAAADA8AQYAAAAwPAEGAAAAMDwBBgAAADA8P4fTJMI6vKJJCkAAAAASUVORK5CYII=\n",
      "text/plain": [
       "<Figure size 1080x360 with 1 Axes>"
      ]
     },
     "metadata": {
      "needs_background": "light"
     },
     "output_type": "display_data"
    }
   ],
   "source": [
    "# количество событий распределеннных в зависимости от лайфтайма пользователя\n",
    "sns.displot(final_df, x=\"lifetime\", \n",
    "            multiple=\"dodge\",\n",
    "            height=5, aspect=3)\n",
    "plt.show()"
   ]
  },
  {
   "cell_type": "markdown",
   "id": "6d5364b7",
   "metadata": {},
   "source": [
    "Так как в основном все события совершаются в первые дни после регистрации, то не будем удалять пользователей, у которых нет 14 дней участия в тесте, это не повлияет на результаты. Оставим в данных только события пользователей за 14 дней с момента их регистрации."
   ]
  },
  {
   "cell_type": "code",
   "execution_count": 122,
   "id": "a80ddfce",
   "metadata": {},
   "outputs": [
    {
     "name": "stdout",
     "output_type": "stream",
     "text": [
      "размер датасета - (22093, 10)\n"
     ]
    },
    {
     "data": {
      "text/html": [
       "<div>\n",
       "<style scoped>\n",
       "    .dataframe tbody tr th:only-of-type {\n",
       "        vertical-align: middle;\n",
       "    }\n",
       "\n",
       "    .dataframe tbody tr th {\n",
       "        vertical-align: top;\n",
       "    }\n",
       "\n",
       "    .dataframe thead th {\n",
       "        text-align: right;\n",
       "    }\n",
       "</style>\n",
       "<table border=\"1\" class=\"dataframe\">\n",
       "  <thead>\n",
       "    <tr style=\"text-align: right;\">\n",
       "      <th></th>\n",
       "      <th>user_id</th>\n",
       "      <th>event_dt</th>\n",
       "      <th>event_name</th>\n",
       "      <th>details</th>\n",
       "      <th>group</th>\n",
       "      <th>ab_test</th>\n",
       "      <th>first_date</th>\n",
       "      <th>region</th>\n",
       "      <th>device</th>\n",
       "      <th>lifetime</th>\n",
       "    </tr>\n",
       "  </thead>\n",
       "  <tbody>\n",
       "    <tr>\n",
       "      <th>0</th>\n",
       "      <td>831887FE7F2D6CBA</td>\n",
       "      <td>2020-12-07 06:50:29</td>\n",
       "      <td>purchase</td>\n",
       "      <td>4.99</td>\n",
       "      <td>A</td>\n",
       "      <td>recommender_system_test</td>\n",
       "      <td>2020-12-07</td>\n",
       "      <td>EU</td>\n",
       "      <td>Android</td>\n",
       "      <td>0</td>\n",
       "    </tr>\n",
       "    <tr>\n",
       "      <th>1</th>\n",
       "      <td>831887FE7F2D6CBA</td>\n",
       "      <td>2020-12-09 02:19:17</td>\n",
       "      <td>purchase</td>\n",
       "      <td>99.99</td>\n",
       "      <td>A</td>\n",
       "      <td>recommender_system_test</td>\n",
       "      <td>2020-12-07</td>\n",
       "      <td>EU</td>\n",
       "      <td>Android</td>\n",
       "      <td>2</td>\n",
       "    </tr>\n",
       "    <tr>\n",
       "      <th>2</th>\n",
       "      <td>831887FE7F2D6CBA</td>\n",
       "      <td>2020-12-07 06:50:30</td>\n",
       "      <td>product_cart</td>\n",
       "      <td>NaN</td>\n",
       "      <td>A</td>\n",
       "      <td>recommender_system_test</td>\n",
       "      <td>2020-12-07</td>\n",
       "      <td>EU</td>\n",
       "      <td>Android</td>\n",
       "      <td>0</td>\n",
       "    </tr>\n",
       "    <tr>\n",
       "      <th>3</th>\n",
       "      <td>831887FE7F2D6CBA</td>\n",
       "      <td>2020-12-08 10:52:27</td>\n",
       "      <td>product_cart</td>\n",
       "      <td>NaN</td>\n",
       "      <td>A</td>\n",
       "      <td>recommender_system_test</td>\n",
       "      <td>2020-12-07</td>\n",
       "      <td>EU</td>\n",
       "      <td>Android</td>\n",
       "      <td>1</td>\n",
       "    </tr>\n",
       "    <tr>\n",
       "      <th>4</th>\n",
       "      <td>831887FE7F2D6CBA</td>\n",
       "      <td>2020-12-09 02:19:17</td>\n",
       "      <td>product_cart</td>\n",
       "      <td>NaN</td>\n",
       "      <td>A</td>\n",
       "      <td>recommender_system_test</td>\n",
       "      <td>2020-12-07</td>\n",
       "      <td>EU</td>\n",
       "      <td>Android</td>\n",
       "      <td>2</td>\n",
       "    </tr>\n",
       "  </tbody>\n",
       "</table>\n",
       "</div>"
      ],
      "text/plain": [
       "            user_id            event_dt    event_name  details group  \\\n",
       "0  831887FE7F2D6CBA 2020-12-07 06:50:29      purchase     4.99     A   \n",
       "1  831887FE7F2D6CBA 2020-12-09 02:19:17      purchase    99.99     A   \n",
       "2  831887FE7F2D6CBA 2020-12-07 06:50:30  product_cart      NaN     A   \n",
       "3  831887FE7F2D6CBA 2020-12-08 10:52:27  product_cart      NaN     A   \n",
       "4  831887FE7F2D6CBA 2020-12-09 02:19:17  product_cart      NaN     A   \n",
       "\n",
       "                   ab_test first_date region   device  lifetime  \n",
       "0  recommender_system_test 2020-12-07     EU  Android         0  \n",
       "1  recommender_system_test 2020-12-07     EU  Android         2  \n",
       "2  recommender_system_test 2020-12-07     EU  Android         0  \n",
       "3  recommender_system_test 2020-12-07     EU  Android         1  \n",
       "4  recommender_system_test 2020-12-07     EU  Android         2  "
      ]
     },
     "execution_count": 122,
     "metadata": {},
     "output_type": "execute_result"
    }
   ],
   "source": [
    "# создадим столбец с количеством дней с момента первого события\n",
    "final_df['lifetime'] = (final_df['event_dt'] - final_df['first_date']).dt.days\n",
    "print('размер датасета - {}'.format(final_df.shape))\n",
    "final_df.head()"
   ]
  },
  {
   "cell_type": "code",
   "execution_count": 123,
   "id": "500e4fa6",
   "metadata": {},
   "outputs": [
    {
     "name": "stdout",
     "output_type": "stream",
     "text": [
      "размер датасета - (21575, 10)\n",
      "максимальный lifetime - 14\n"
     ]
    }
   ],
   "source": [
    "# отфильтруем датасет по двухнедельному лайфтайму как по ТЗ\n",
    "final_df = final_df.loc[final_df['lifetime']<=14]\n",
    "print('размер датасета - {}'.format(final_df.shape))\n",
    "print('максимальный lifetime - {}'.format(final_df['lifetime'].max()))"
   ]
  },
  {
   "cell_type": "markdown",
   "id": "fc8d0bba",
   "metadata": {},
   "source": [
    "Отсеилось порядка 500 строк с событиями"
   ]
  },
  {
   "cell_type": "code",
   "execution_count": 124,
   "id": "49e395f3",
   "metadata": {},
   "outputs": [
    {
     "data": {
      "text/plain": [
       "group\n",
       "A    2604\n",
       "B     655\n",
       "Name: user_id, dtype: int64"
      ]
     },
     "execution_count": 124,
     "metadata": {},
     "output_type": "execute_result"
    }
   ],
   "source": [
    "# количество уникальных пользователей\n",
    "final_df.groupby('group')['user_id'].nunique()"
   ]
  },
  {
   "cell_type": "code",
   "execution_count": 125,
   "id": "97659b21",
   "metadata": {},
   "outputs": [
    {
     "data": {
      "text/html": [
       "<div>\n",
       "<style scoped>\n",
       "    .dataframe tbody tr th:only-of-type {\n",
       "        vertical-align: middle;\n",
       "    }\n",
       "\n",
       "    .dataframe tbody tr th {\n",
       "        vertical-align: top;\n",
       "    }\n",
       "\n",
       "    .dataframe thead th {\n",
       "        text-align: right;\n",
       "    }\n",
       "</style>\n",
       "<table border=\"1\" class=\"dataframe\">\n",
       "  <thead>\n",
       "    <tr style=\"text-align: right;\">\n",
       "      <th>group</th>\n",
       "      <th>event_name</th>\n",
       "      <th>A</th>\n",
       "      <th>B</th>\n",
       "    </tr>\n",
       "  </thead>\n",
       "  <tbody>\n",
       "    <tr>\n",
       "      <th>0</th>\n",
       "      <td>login</td>\n",
       "      <td>2604</td>\n",
       "      <td>654</td>\n",
       "    </tr>\n",
       "    <tr>\n",
       "      <th>1</th>\n",
       "      <td>product_cart</td>\n",
       "      <td>782</td>\n",
       "      <td>184</td>\n",
       "    </tr>\n",
       "    <tr>\n",
       "      <th>2</th>\n",
       "      <td>product_page</td>\n",
       "      <td>1685</td>\n",
       "      <td>367</td>\n",
       "    </tr>\n",
       "    <tr>\n",
       "      <th>3</th>\n",
       "      <td>purchase</td>\n",
       "      <td>833</td>\n",
       "      <td>191</td>\n",
       "    </tr>\n",
       "  </tbody>\n",
       "</table>\n",
       "</div>"
      ],
      "text/plain": [
       "group    event_name     A    B\n",
       "0             login  2604  654\n",
       "1      product_cart   782  184\n",
       "2      product_page  1685  367\n",
       "3          purchase   833  191"
      ]
     },
     "execution_count": 125,
     "metadata": {},
     "output_type": "execute_result"
    }
   ],
   "source": [
    "# сводная таблица с количеством пользователей для каждого события двух тестовых групп\n",
    "final_pivot_event = (\n",
    "    final_df\n",
    "    .pivot_table(index='event_name',\n",
    "                columns='group',\n",
    "                values='user_id', \n",
    "                aggfunc='nunique')\n",
    "    .reset_index()\n",
    ")\n",
    "\n",
    "final_pivot_event"
   ]
  },
  {
   "cell_type": "code",
   "execution_count": 126,
   "id": "886c29ce",
   "metadata": {},
   "outputs": [
    {
     "data": {
      "text/html": [
       "<div>\n",
       "<style scoped>\n",
       "    .dataframe tbody tr th:only-of-type {\n",
       "        vertical-align: middle;\n",
       "    }\n",
       "\n",
       "    .dataframe tbody tr th {\n",
       "        vertical-align: top;\n",
       "    }\n",
       "\n",
       "    .dataframe thead th {\n",
       "        text-align: right;\n",
       "    }\n",
       "</style>\n",
       "<table border=\"1\" class=\"dataframe\">\n",
       "  <thead>\n",
       "    <tr style=\"text-align: right;\">\n",
       "      <th>group</th>\n",
       "      <th>event_name</th>\n",
       "      <th>A</th>\n",
       "      <th>B</th>\n",
       "      <th>conversion_A</th>\n",
       "      <th>conversion_B</th>\n",
       "      <th>difference</th>\n",
       "    </tr>\n",
       "  </thead>\n",
       "  <tbody>\n",
       "    <tr>\n",
       "      <th>0</th>\n",
       "      <td>login</td>\n",
       "      <td>2604</td>\n",
       "      <td>654</td>\n",
       "      <td>100.00</td>\n",
       "      <td>99.85</td>\n",
       "      <td>-0.15</td>\n",
       "    </tr>\n",
       "    <tr>\n",
       "      <th>1</th>\n",
       "      <td>product_cart</td>\n",
       "      <td>782</td>\n",
       "      <td>184</td>\n",
       "      <td>30.03</td>\n",
       "      <td>28.09</td>\n",
       "      <td>-1.94</td>\n",
       "    </tr>\n",
       "    <tr>\n",
       "      <th>2</th>\n",
       "      <td>product_page</td>\n",
       "      <td>1685</td>\n",
       "      <td>367</td>\n",
       "      <td>64.71</td>\n",
       "      <td>56.03</td>\n",
       "      <td>-8.68</td>\n",
       "    </tr>\n",
       "    <tr>\n",
       "      <th>3</th>\n",
       "      <td>purchase</td>\n",
       "      <td>833</td>\n",
       "      <td>191</td>\n",
       "      <td>31.99</td>\n",
       "      <td>29.16</td>\n",
       "      <td>-2.83</td>\n",
       "    </tr>\n",
       "  </tbody>\n",
       "</table>\n",
       "</div>"
      ],
      "text/plain": [
       "group    event_name     A    B  conversion_A  conversion_B  difference\n",
       "0             login  2604  654        100.00         99.85       -0.15\n",
       "1      product_cart   782  184         30.03         28.09       -1.94\n",
       "2      product_page  1685  367         64.71         56.03       -8.68\n",
       "3          purchase   833  191         31.99         29.16       -2.83"
      ]
     },
     "execution_count": 126,
     "metadata": {},
     "output_type": "execute_result"
    }
   ],
   "source": [
    "# вычисление конверсии для группы А и В и расчет разницы конверсий группы В относительно А\n",
    "final_pivot_event['conversion_A'] = (\n",
    "    round(100 * final_pivot_event['A'] / final_df.loc[final_df['group']=='A']['user_id'].nunique(), 2)\n",
    ")\n",
    "final_pivot_event['conversion_B'] = (\n",
    "    round(100 * final_pivot_event['B'] / final_df.loc[final_df['group']=='B']['user_id'].nunique(), 2)\n",
    ")\n",
    "\n",
    "final_pivot_event['difference'] = final_pivot_event['conversion_B'] - final_pivot_event['conversion_A']\n",
    "\n",
    "final_pivot_event"
   ]
  },
  {
   "cell_type": "code",
   "execution_count": 127,
   "id": "ed6a1674",
   "metadata": {},
   "outputs": [
    {
     "data": {
      "text/html": [
       "<div>\n",
       "<style scoped>\n",
       "    .dataframe tbody tr th:only-of-type {\n",
       "        vertical-align: middle;\n",
       "    }\n",
       "\n",
       "    .dataframe tbody tr th {\n",
       "        vertical-align: top;\n",
       "    }\n",
       "\n",
       "    .dataframe thead th {\n",
       "        text-align: right;\n",
       "    }\n",
       "</style>\n",
       "<table border=\"1\" class=\"dataframe\">\n",
       "  <thead>\n",
       "    <tr style=\"text-align: right;\">\n",
       "      <th>group</th>\n",
       "      <th>event_name</th>\n",
       "      <th>A</th>\n",
       "      <th>B</th>\n",
       "      <th>conversion_A</th>\n",
       "      <th>conversion_B</th>\n",
       "      <th>difference</th>\n",
       "    </tr>\n",
       "  </thead>\n",
       "  <tbody>\n",
       "    <tr>\n",
       "      <th>0</th>\n",
       "      <td>login</td>\n",
       "      <td>2604</td>\n",
       "      <td>654</td>\n",
       "      <td>100.00</td>\n",
       "      <td>99.85</td>\n",
       "      <td>-0.15</td>\n",
       "    </tr>\n",
       "    <tr>\n",
       "      <th>1</th>\n",
       "      <td>product_page</td>\n",
       "      <td>1685</td>\n",
       "      <td>367</td>\n",
       "      <td>64.71</td>\n",
       "      <td>56.03</td>\n",
       "      <td>-8.68</td>\n",
       "    </tr>\n",
       "    <tr>\n",
       "      <th>2</th>\n",
       "      <td>product_cart</td>\n",
       "      <td>782</td>\n",
       "      <td>184</td>\n",
       "      <td>30.03</td>\n",
       "      <td>28.09</td>\n",
       "      <td>-1.94</td>\n",
       "    </tr>\n",
       "    <tr>\n",
       "      <th>3</th>\n",
       "      <td>purchase</td>\n",
       "      <td>833</td>\n",
       "      <td>191</td>\n",
       "      <td>31.99</td>\n",
       "      <td>29.16</td>\n",
       "      <td>-2.83</td>\n",
       "    </tr>\n",
       "  </tbody>\n",
       "</table>\n",
       "</div>"
      ],
      "text/plain": [
       "group    event_name     A    B  conversion_A  conversion_B  difference\n",
       "0             login  2604  654        100.00         99.85       -0.15\n",
       "1      product_page  1685  367         64.71         56.03       -8.68\n",
       "2      product_cart   782  184         30.03         28.09       -1.94\n",
       "3          purchase   833  191         31.99         29.16       -2.83"
      ]
     },
     "execution_count": 127,
     "metadata": {},
     "output_type": "execute_result"
    }
   ],
   "source": [
    "# переставим строки в соответствии с воронкой событий\n",
    "final_pivot_event = final_pivot_event.reindex([0, 2, 1, 3]).reset_index(drop=True)\n",
    "final_pivot_event"
   ]
  },
  {
   "cell_type": "markdown",
   "id": "75e531ba",
   "metadata": {},
   "source": [
    "Отрицательные значения означают, что метрики не только не улучшились на ожидаемые 10%, но и ухудшились."
   ]
  },
  {
   "cell_type": "markdown",
   "id": "d49c2c6c",
   "metadata": {},
   "source": [
    "**Выводы**"
   ]
  },
  {
   "cell_type": "markdown",
   "id": "f2f49aa8",
   "metadata": {},
   "source": [
    "- у нас в распоряжении данные по двум А/В тестам: `interface_eu_test` с 11567 пользователями и `recommender_system_test` с 6701 пользователями. В датасет `final_ab_participants_system` записаны только данные пользователей из теста по ТЗ `recommender_system_test`\n",
    "- после 21 декабря зарегистрировались еще 5000 пользователей, исключили их из датасета\n",
    "- с 23:36:33 30 декабря и до 4 января событий не происходило, по ТЗ тест должен продолжаться до 4 января\n",
    "- из Европы в нашем датасете 6351 пользователь, что составляет 15% от общего числа пользователей\n",
    "- всего уникальных участников 6351, но в нашем распоряжении данные о 3259 пользователе, потому что другие не совершили ни одного события после регистрации. По ТЗ должно быть 6000 участников у нас почти в два раза меньше, нужно понять как это повлияет на конечный результат. Мы можем провести тест, посмотреть на результаты, а после этого оценить мощность теста.\n",
    "- есть пересекающиеся пользователи между тестами\n",
    "- есть порядка 3000 пользователей зарегестрировавшихся, но не совершивших после этого ни одного действия. До 13 числа это было характерно для двух групп, после 13 числа только для группы В. Это характерно для пользователей со всех типов устройств.\n",
    "- конверсия событий для группы В не соответствует заявленному по ТЗ улучшению на 10%. Даже наоборот она стала хуже по сравнению с группой А."
   ]
  },
  {
   "cell_type": "markdown",
   "id": "4b66443a",
   "metadata": {},
   "source": [
    "## Исследовательский анализ данных"
   ]
  },
  {
   "cell_type": "markdown",
   "id": "47a30788",
   "metadata": {},
   "source": [
    "Удалим из датасета столбцы `ab_test` и `region` они не несут никакой информации в себе, а только увеличивают датасет."
   ]
  },
  {
   "cell_type": "code",
   "execution_count": 128,
   "id": "96b2fa23",
   "metadata": {},
   "outputs": [
    {
     "data": {
      "text/html": [
       "<div>\n",
       "<style scoped>\n",
       "    .dataframe tbody tr th:only-of-type {\n",
       "        vertical-align: middle;\n",
       "    }\n",
       "\n",
       "    .dataframe tbody tr th {\n",
       "        vertical-align: top;\n",
       "    }\n",
       "\n",
       "    .dataframe thead th {\n",
       "        text-align: right;\n",
       "    }\n",
       "</style>\n",
       "<table border=\"1\" class=\"dataframe\">\n",
       "  <thead>\n",
       "    <tr style=\"text-align: right;\">\n",
       "      <th></th>\n",
       "      <th>user_id</th>\n",
       "      <th>event_dt</th>\n",
       "      <th>event_name</th>\n",
       "      <th>details</th>\n",
       "      <th>group</th>\n",
       "      <th>first_date</th>\n",
       "      <th>device</th>\n",
       "      <th>lifetime</th>\n",
       "    </tr>\n",
       "  </thead>\n",
       "  <tbody>\n",
       "    <tr>\n",
       "      <th>0</th>\n",
       "      <td>831887FE7F2D6CBA</td>\n",
       "      <td>2020-12-07 06:50:29</td>\n",
       "      <td>purchase</td>\n",
       "      <td>4.99</td>\n",
       "      <td>A</td>\n",
       "      <td>2020-12-07</td>\n",
       "      <td>Android</td>\n",
       "      <td>0</td>\n",
       "    </tr>\n",
       "    <tr>\n",
       "      <th>1</th>\n",
       "      <td>831887FE7F2D6CBA</td>\n",
       "      <td>2020-12-09 02:19:17</td>\n",
       "      <td>purchase</td>\n",
       "      <td>99.99</td>\n",
       "      <td>A</td>\n",
       "      <td>2020-12-07</td>\n",
       "      <td>Android</td>\n",
       "      <td>2</td>\n",
       "    </tr>\n",
       "    <tr>\n",
       "      <th>2</th>\n",
       "      <td>831887FE7F2D6CBA</td>\n",
       "      <td>2020-12-07 06:50:30</td>\n",
       "      <td>product_cart</td>\n",
       "      <td>NaN</td>\n",
       "      <td>A</td>\n",
       "      <td>2020-12-07</td>\n",
       "      <td>Android</td>\n",
       "      <td>0</td>\n",
       "    </tr>\n",
       "    <tr>\n",
       "      <th>3</th>\n",
       "      <td>831887FE7F2D6CBA</td>\n",
       "      <td>2020-12-08 10:52:27</td>\n",
       "      <td>product_cart</td>\n",
       "      <td>NaN</td>\n",
       "      <td>A</td>\n",
       "      <td>2020-12-07</td>\n",
       "      <td>Android</td>\n",
       "      <td>1</td>\n",
       "    </tr>\n",
       "    <tr>\n",
       "      <th>4</th>\n",
       "      <td>831887FE7F2D6CBA</td>\n",
       "      <td>2020-12-09 02:19:17</td>\n",
       "      <td>product_cart</td>\n",
       "      <td>NaN</td>\n",
       "      <td>A</td>\n",
       "      <td>2020-12-07</td>\n",
       "      <td>Android</td>\n",
       "      <td>2</td>\n",
       "    </tr>\n",
       "  </tbody>\n",
       "</table>\n",
       "</div>"
      ],
      "text/plain": [
       "            user_id            event_dt    event_name  details group  \\\n",
       "0  831887FE7F2D6CBA 2020-12-07 06:50:29      purchase     4.99     A   \n",
       "1  831887FE7F2D6CBA 2020-12-09 02:19:17      purchase    99.99     A   \n",
       "2  831887FE7F2D6CBA 2020-12-07 06:50:30  product_cart      NaN     A   \n",
       "3  831887FE7F2D6CBA 2020-12-08 10:52:27  product_cart      NaN     A   \n",
       "4  831887FE7F2D6CBA 2020-12-09 02:19:17  product_cart      NaN     A   \n",
       "\n",
       "  first_date   device  lifetime  \n",
       "0 2020-12-07  Android         0  \n",
       "1 2020-12-07  Android         2  \n",
       "2 2020-12-07  Android         0  \n",
       "3 2020-12-07  Android         1  \n",
       "4 2020-12-07  Android         2  "
      ]
     },
     "execution_count": 128,
     "metadata": {},
     "output_type": "execute_result"
    }
   ],
   "source": [
    "# удаление столбцов\n",
    "final_df = final_df.drop(['ab_test', 'region'], axis=1)\n",
    "final_df.head()"
   ]
  },
  {
   "cell_type": "markdown",
   "id": "8a5ba5a4",
   "metadata": {},
   "source": [
    "### Количество событий"
   ]
  },
  {
   "cell_type": "code",
   "execution_count": 129,
   "id": "3b588540",
   "metadata": {
    "scrolled": true
   },
   "outputs": [
    {
     "data": {
      "text/html": [
       "<div>\n",
       "<style scoped>\n",
       "    .dataframe tbody tr th:only-of-type {\n",
       "        vertical-align: middle;\n",
       "    }\n",
       "\n",
       "    .dataframe tbody tr th {\n",
       "        vertical-align: top;\n",
       "    }\n",
       "\n",
       "    .dataframe thead th {\n",
       "        text-align: right;\n",
       "    }\n",
       "</style>\n",
       "<table border=\"1\" class=\"dataframe\">\n",
       "  <thead>\n",
       "    <tr style=\"text-align: right;\">\n",
       "      <th></th>\n",
       "      <th>group</th>\n",
       "      <th>user_id</th>\n",
       "      <th>event_name</th>\n",
       "      <th>event_dt</th>\n",
       "    </tr>\n",
       "  </thead>\n",
       "  <tbody>\n",
       "    <tr>\n",
       "      <th>0</th>\n",
       "      <td>A</td>\n",
       "      <td>0010A1C096941592</td>\n",
       "      <td>login</td>\n",
       "      <td>4</td>\n",
       "    </tr>\n",
       "    <tr>\n",
       "      <th>1</th>\n",
       "      <td>A</td>\n",
       "      <td>0010A1C096941592</td>\n",
       "      <td>product_page</td>\n",
       "      <td>4</td>\n",
       "    </tr>\n",
       "    <tr>\n",
       "      <th>2</th>\n",
       "      <td>A</td>\n",
       "      <td>0010A1C096941592</td>\n",
       "      <td>purchase</td>\n",
       "      <td>4</td>\n",
       "    </tr>\n",
       "    <tr>\n",
       "      <th>3</th>\n",
       "      <td>A</td>\n",
       "      <td>00341D8401F0F665</td>\n",
       "      <td>login</td>\n",
       "      <td>2</td>\n",
       "    </tr>\n",
       "    <tr>\n",
       "      <th>4</th>\n",
       "      <td>A</td>\n",
       "      <td>003DF44D7589BBD4</td>\n",
       "      <td>login</td>\n",
       "      <td>5</td>\n",
       "    </tr>\n",
       "  </tbody>\n",
       "</table>\n",
       "</div>"
      ],
      "text/plain": [
       "  group           user_id    event_name  event_dt\n",
       "0     A  0010A1C096941592         login         4\n",
       "1     A  0010A1C096941592  product_page         4\n",
       "2     A  0010A1C096941592      purchase         4\n",
       "3     A  00341D8401F0F665         login         2\n",
       "4     A  003DF44D7589BBD4         login         5"
      ]
     },
     "execution_count": 129,
     "metadata": {},
     "output_type": "execute_result"
    }
   ],
   "source": [
    "# подсчет количества каждого события для пользователя в разных группах\n",
    "event_count_users = (\n",
    "    final_df\n",
    "    .pivot_table(index=['group', 'user_id', 'event_name'],\n",
    "                values='event_dt', \n",
    "                aggfunc='count')\n",
    "    .reset_index()\n",
    ")\n",
    "event_count_users.head()"
   ]
  },
  {
   "cell_type": "code",
   "execution_count": 130,
   "id": "082a7697",
   "metadata": {},
   "outputs": [
    {
     "data": {
      "image/png": "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\n",
      "text/plain": [
       "<Figure size 942.875x360 with 1 Axes>"
      ]
     },
     "metadata": {
      "needs_background": "light"
     },
     "output_type": "display_data"
    }
   ],
   "source": [
    "# количество каждого события для пользователей разных групп\n",
    "sns.catplot(data=event_count_users, x=\"event_name\", y='event_dt', \n",
    "            hue=\"group\", \n",
    "            kind='bar', \n",
    "            palette=\"pastel\", edgecolor=\".6\",\n",
    "            height=5, aspect=2.5)\n",
    "plt.title('Частота каждого события для групп пользователей')\n",
    "plt.xlabel('Название события')\n",
    "plt.ylabel('Частота события')\n",
    "plt.show()"
   ]
  },
  {
   "cell_type": "markdown",
   "id": "cbadfcda",
   "metadata": {},
   "source": [
    "Из графика можно сделать вывод, что в группах А и В пользователи совершают одинаковое количество каждого события"
   ]
  },
  {
   "cell_type": "code",
   "execution_count": 132,
   "id": "558000de",
   "metadata": {},
   "outputs": [
    {
     "name": "stdout",
     "output_type": "stream",
     "text": [
      "(3259, 3)\n"
     ]
    },
    {
     "data": {
      "text/html": [
       "<div>\n",
       "<style scoped>\n",
       "    .dataframe tbody tr th:only-of-type {\n",
       "        vertical-align: middle;\n",
       "    }\n",
       "\n",
       "    .dataframe tbody tr th {\n",
       "        vertical-align: top;\n",
       "    }\n",
       "\n",
       "    .dataframe thead th {\n",
       "        text-align: right;\n",
       "    }\n",
       "</style>\n",
       "<table border=\"1\" class=\"dataframe\">\n",
       "  <thead>\n",
       "    <tr style=\"text-align: right;\">\n",
       "      <th></th>\n",
       "      <th>user_id</th>\n",
       "      <th>group</th>\n",
       "      <th>event_dt</th>\n",
       "    </tr>\n",
       "  </thead>\n",
       "  <tbody>\n",
       "    <tr>\n",
       "      <th>0</th>\n",
       "      <td>0010A1C096941592</td>\n",
       "      <td>A</td>\n",
       "      <td>12</td>\n",
       "    </tr>\n",
       "    <tr>\n",
       "      <th>1</th>\n",
       "      <td>00341D8401F0F665</td>\n",
       "      <td>A</td>\n",
       "      <td>2</td>\n",
       "    </tr>\n",
       "    <tr>\n",
       "      <th>2</th>\n",
       "      <td>003DF44D7589BBD4</td>\n",
       "      <td>A</td>\n",
       "      <td>15</td>\n",
       "    </tr>\n",
       "    <tr>\n",
       "      <th>3</th>\n",
       "      <td>00505E15A9D81546</td>\n",
       "      <td>A</td>\n",
       "      <td>5</td>\n",
       "    </tr>\n",
       "    <tr>\n",
       "      <th>4</th>\n",
       "      <td>005E096DBD379BCF</td>\n",
       "      <td>B</td>\n",
       "      <td>4</td>\n",
       "    </tr>\n",
       "  </tbody>\n",
       "</table>\n",
       "</div>"
      ],
      "text/plain": [
       "            user_id group  event_dt\n",
       "0  0010A1C096941592     A        12\n",
       "1  00341D8401F0F665     A         2\n",
       "2  003DF44D7589BBD4     A        15\n",
       "3  00505E15A9D81546     A         5\n",
       "4  005E096DBD379BCF     B         4"
      ]
     },
     "execution_count": 132,
     "metadata": {},
     "output_type": "execute_result"
    }
   ],
   "source": [
    "# сводная таблица количества событий на пользователя из разных групп\n",
    "\n",
    "all_event_count_users = (\n",
    "    final_df\n",
    "    .pivot_table(index=['user_id', 'group'],\n",
    "                values='event_dt', \n",
    "                aggfunc='count')\n",
    "    .reset_index()\n",
    ")\n",
    "\n",
    "print(all_event_count_users.shape)\n",
    "all_event_count_users.head()"
   ]
  },
  {
   "cell_type": "code",
   "execution_count": 146,
   "id": "23ade0e9",
   "metadata": {},
   "outputs": [
    {
     "data": {
      "image/png": "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\n",
      "text/plain": [
       "<Figure size 1122.88x360 with 1 Axes>"
      ]
     },
     "metadata": {
      "needs_background": "light"
     },
     "output_type": "display_data"
    }
   ],
   "source": [
    "# распределение количества всех событий для пользователей разных групп\n",
    "sns.displot(all_event_count_users, x=\"event_dt\", hue='group', \n",
    "            kde=True, multiple=\"dodge\",\n",
    "            height=5, aspect=3)\n",
    "plt.show()"
   ]
  },
  {
   "cell_type": "code",
   "execution_count": 147,
   "id": "5af3b0d7",
   "metadata": {},
   "outputs": [
    {
     "data": {
      "image/png": "iVBORw0KGgoAAAANSUhEUgAAA6gAAAHxCAYAAABgX5E+AAAAOXRFWHRTb2Z0d2FyZQBNYXRwbG90bGliIHZlcnNpb24zLjQuMywgaHR0cHM6Ly9tYXRwbG90bGliLm9yZy/MnkTPAAAACXBIWXMAAAsTAAALEwEAmpwYAAAsBElEQVR4nO3deZxlZ10n/s833ZCwpMkGLWkhyeCCwkw2ggvoIBIVtwZkBBIFHMAFl3FJUCQqagDlNzjqD1tFdkiT6Cg2g8uYKIsKko2ALC4swdANnZ1OgHRC55k/zqnkdqWq+lYn1feprvf79epX1z333HO+95znnDqf+zznVrXWAgAAALN2yKwLAAAAgERABQAAoBMCKgAAAF0QUAEAAOiCgAoAAEAXBFQA1ryqWj/rGgAAARWANaiqTqqqP6uqK6vqc0l+7gCv/xur6jFVda+qel5V3fdArh8AeiWgwgxV1bOrak9V3Tz+u6Wq/mHWdcHBrKoeluRvk7wtyVe11h7QWvvNA1zGdUl+P8nOJI9trX3hAK8fALpkSBPM3ntba49NhsCa5LmzLQcOer+U5OWttdfPqoDW2r8m+S+zWj8A9EoPKszWvZLsWezJsYf1HyYev6CqWlU9YXz86Kp6b1XdWFWfqapXVtW9J+ZvVfX5iR7at4zTX19Vf1BVF1bVTVX1rqo6buJ1v1NVV1XVrqq6rKq+aeK5F4/LffLEtOeP0547UXerqp+ZmOc7x2nnjo+PrKq3V9U1VXXD+POXL7EtrqyqF1bVR8b5X1dVh02zrKo6b5z+uaq6qKo2jdMfN9b0OxPzfu047c0T0/6kqj47vv7dVfWIcfq9q+qKqvrJ8fG6qvrHqvrlafbPvPd3/Lje9RPb9MNVdfT4+NiqeltVXV9VH6uq5y3QViZ741tVfcX43Dsn9s0hVfXPVfXpRdY7//EDquo1Y/3bq+rcqlo3sd7nVdVHx3b0kao6ZXyfk3XMtcG/mqjnlnHa1VX1konlfVdVvX9se1dV1YsXaxPj/JvHfbCrqj5eVd8xxfZ6dJJHVNWnxzbzpqp6wELvf966Pj22mW+YeH+3VdWtE48fWvs+bl88r31tmdxfC6x3cnvdXFVfrKorJ57/mnGeG8c2873zXv/isc6bx30xuX+vnKtrgfUueNyMzz1v3K7Xj9v52InnJvf5x6vqv0089wvjtLn28uSJ/TX3/m6dqPfmGs8/VfXd476+sareU1X/ZV69k9tpr9EoVfUjVfWpyW2w0HveV/3z5rtfDcfSrqq6rqpeNbFdl3Nunr+N7tgnVXX/qto57708ooZz9/Xjc784sZ8XbVc1nPdbVZ08Mc/L57XNQ6vqt6tqx/jvt6vq0In573K8je17bl/dPrbPm6vqwxPrPXdiGX9Zixxj4/MLtueqetrEevZM7OubF1nO62vvY/PmGs5nj6vhWP7Fqrp23N5njq85bdym6yeW831VdcXENr5t3jJbVR2/yDr3ams1cS6eV+u5VfX6hd4HrEUCKszWYUl2TzNjVR2Z5KeS3DgxeU+Sn0lyTJJvSPKtSZ4/76UnttbuP/57xsT0M5P8+vjaK5KcN/HcJUlOSnJUkq1J/qTGMDj6l+zd0/vsJP8+b70fS/KsicfPTfLRiceHJHldkuOSPDTJF5O8Mks7M8m3J3lYkq9Kcs6Uy3ppko1JHpRke5KfnXjumiRPnLgIm19nkvxVkq8cX395xm3VWrs1yQ8k+bWq+pokv5BkXZK5wDXN/rmLqnp6krOSfHtr7bpx8luSfDrJsUmemuSlVfWtEy87JMl75vb1Eot/VpIjJx7fPvH6hbwhyZeSfEWSk5N8W8Z9P15UvzjJM5NsSPK9Sa5rrf3EvDrm2uATJ5b7E+Pzj03yc1X1yHH658flHZHku5L8WFU9aaHCqurRSd6Y5Oxx/m9OcuX49FLb675JvnGc/4Qk98u+294dWmvvnXh/52XojZ07xv5jXo0LHbeTz39lkicu9Nw8k9v0eyZef68k/yfJ32Ronz+Z5Lyq+uqJ1x6S5PzxtY+Y9n1mkeOmqh6f5GVJvj/Jg5N8Ksn581574ri+X8swlHnOx5N8U5IHJPnVJG+uqge31nZMvL+XJrlgYpv+fVWdkuS1SX4kydFJ/jDJ2ybD0/g+f3xcxo9ObKP7JdmS5FnjcydO8d4Xq3/S7iRPz9D2Hp7hGJ/bl1Ofm/exjrOT3DbxXg5PclGSv87Qtr8iw3D1vSzRru44d49t53syDDOf86IkX5/h/H9ihg9zzhnnX/B4a629fGLf/UeS7xkf36WtVdXjssTIgaXac2vtgon1/H32PiYWM3ls3r+19rlx+pdl2DebMpwTXzWu45IMw+9Pn1jGDyR508TjyTqOWGqdma6tAfMIqDBbx2T4ZTiNF2W4QJv7BZvW2mWttX9qrX2ptXZlhou2/zrl8v6itfbu1trucdnfUFUPGZf75tbadeNyX5Hk0CSTF7yXJdlYVV8+fhq/M8mOecvfmeTKGnqbHpQhPF48Uft1rbU/ba19obV2U4ZQt6/aX9lau6q1dv04/zOmWVZr7cNjmKxx0vsnlnlrkr9M8pQaejiemOTPJ1faWntta+2mcVu9OMmJNfa4tdY+lOTcJG/NECp/sLW2Z3xuf/bPdyR5TZInttbmejkfkiHI/Xxr7ZbW2hVJXp3kByded+/xvSxq/JDhlzJ8MDFn5/i6b1tg/o3j9vjp1trnW2tXJ/lfGS7Kk+FC9+WttUva4GOttU/t4/3Ntz7DxfznkqS19s7W2j+31m5vrX0wQ9BcbJs9J8lrW2sXjvNvb639y5Tb67daa59ord2c5IVJnr5Yj87ddJfjdp6XZe/9sVxfn+T+SX6jtXZra+3vkrw947Ex2mfbWMgSx82ZGbb75eMx8cIM54/jF1jM+kyc41prfzKG0dtbaxdk+GDr0VOU87wkf9hae19rbU9r7Q0ZAuLXT8yz2Ps8JMMHMfuzf/eqf9J4XH+4tXZ7hm30+ST/Nj63nGN/wXWMx99zkvzWxOTvTvLZ1torxrZ9U2vtfQssc7F29bYkT6iq+2QIpxcluWXi+TOT/Fpr7erW2jUZPkSYO24WPN4WeU93UVWV5OVJfnmJ2aZpz/eUX2qt7W6tvSvJX2T4wCUZPpT7gbHmozJ8KLp1BdYPLEJAhdk6IUPvw5Kq6qEZfnn+f/Omf1UNw1k/W1W7MvQ8HDPluq+a+2G8SL8+wyfyqaqfq2HY5ueq6sYMvR3zl/v6JD+U4cLx1Yus49UZQsyzM3zyPln7favqD2sYdrcrybuTHFETw0eXqjnDdpurd5/Lqqq3J7kpQy/gZQvU+ZwkT8rQM3HrxOvWVdVv1DCcbVfu7KGb3B5vSHJ8kr9srf37xGv3Z/+8elzH5MXssUmuH8P35PvfNPH4qCQ37GPZ/yPJ/03yr3MTxoDx40n+cNzXH5yY/7gMw9A/Mw63uzHDhfaDxucfkqFHbH/87ri8D2e46L0qSarq66rqHTUMvf1chp6wxbbZYuvf1/banb2Pu09lCAkbJ6ZdW8Pw1o9W1Q8s871lfC8LHrcTz39dhp63N+zP8kfHJrlqDElzlts2/nzcv1fVMORzLpAudtwcm4ntN54/rpu3zstrGHr5exl6COeW98y6c5jujUkemenOWcdl6Gm/ceK1DxlrWfJ9ju3gOUneWFVfyDAKYl8WrH8hYy07M/TYf3acNs2xv691vDjJ/5/h3Dxnn8fcPtrVbRl6KJ+aYZvMP3fvtW8zcZ6dZt378P0Z2snfLTHPNO35nnBDa+3z89Yx9z7fnOR7qur+GWr++9baZ+7Bdf9u3Tn0+7XzRicBEVBh1h6VvXvzFnNuhp6qm+ZN//0MQ7a+srW2Ickv5s7ejn15yNwP4y/io5LsqOF+r5/P8Iv5yNbaERl6f+Yv981JzkjyLRk+fV7IXyV5TIYhVG+a99zPZeiV/bqx9m+eK2eamjMM5Z3rtd3nslpr351hKOdfZAjXmXjuQxmGfZ6Tu16wnZFkc5InZAjqxy9Q55YMn/J/e1U9dmL6/uyfZyR5WpKXzPVoj+/zqHF435yHZhh2OeerMvbeLOKoJD+RoUdkL621V7fWNo37enL43VUZwtwxrbUjxn8b2p1D967KMNx6f/zUuL6jkjy2quZ6SLZm6OV5SGvtAUn+IItvs8XWv6/t9R8ZAs/kc1/K3kMdj2mtHZlhm71+PEaWa7Hjds7Lk/zCXI/7ftqR5CFVNfn7fLlt40njvvjGDD1H3z73xCLHzY5MbL9xCO3R89Z5yjjE8eQkW2q4N/e4JH+UYZsePa7zQ5nunHVVkpdMtMMjWmv3ba3N3Vd/77Gmxd7nWzOEs29JcsoU67tL/YvNONGOj8hwjCfTHftLreOrMuyH3533mmmOuX21q1cneUGGffCBec/ttW+z93n27hzv98rQo/vz+5hvmvZ8TzhybLeT69iRJK217Unem+TJGXqP5//uurvmzn2PTHJqhg9wgQkCKsxIVT0tw4XARfuY9SuSfF2Gnqv5Dk+yK8nNVfXwJD+2jBK+s6oeO17Y/XqS9429WIdnuFi/Jsn6Gr7wZ8P8F7fWbsxw3+crWmtfWmgF4wXSbyZ58zgsd37tX0xy4ziM6lemqPnHx2HFR2W44LtgX8uq4UuBHjH2Ch2SYbjyFxdY9kuTXNRa+/ACde7O8Mn/fcf57lBVP5g7LzJ+KskbJsLM/uyfvx8D8+9m3OfjfnlPkpdV1WE1fDnMczLeC1tVj8nQ+7ttieX+dJLXtNY+O0UNGdf7mQz3gr2iqjaM2/JhVTXXu/vqJGdV1ak1+Iqa+LKtKe1J0pI8cHx8eIbez1tquOftjCVe+5okP1RV3zrWtqmqHr6v7ZVh2PDPVNUJ476au+dxoXZ8Q4ZgMe0HP3OWOm6T5PFJWmvt7ctc7nzvyzC09AU1/E3Vx2UYunn+uE82Z/gg7K+mWNZNGY79Q/Zx3GzNsN1PquEe0JdmOH9cucAy92QYentEhqDbMpxbUlU/lOEifRp/lORHxx72quELir6rqg4fe6B+OcnHWmuLBdTfTPK2RYbDLmWy/r1U1QOr6sHjw/UZQtjcNlrOsb/QOs7JMNR2/rnq7Um+rKp+uoYvNDp87DGds892NQ7L/esMw4Dne0uSc8b3dkyG7Tr3xUsLHm9LvK9JP5jhHvkP7mO+RdvzlOtZjl+t4YvuvinD0Ok/mXjujRlC/H/O8OHGSvh8ht8trsVhHgcFzEAN3xh4foYvSfpU3flNhH+Q4V6uyZC0Mck5rbXbFljUWRku4G/KcAF3wQLzLGZrhiB3fYaAdeY4/f9muJj9twzDnm7J3kNr79CGL8dYbHjv3Dyva60tdCH020nuk+TaJP+U4YJpmpr/Jsknxn9z3wy51LLWZRjq9rkMw+/+cya+QGWizre31n52/vQMFyqfyvAJ/kfG5Se5Ywjnbyd5Zmvt5tba1iSXZrhPM7l7++dlSR5cVXNfNPWMDL23OzJcMP1Ka+3Cqvra8f2dtY+L73VJ/ucy1j/nmRkunj+SIaz97wxfjJPW2p9kuN93a4b3+OcZepKm8cqxzV+ZoafpNeP052f40qmbMlwc//FiC2itXZxhmPn/yrB/35U7e38W3F7jc6/PcNH97iSfzNDGf2Le4q+s4ZuO/zjJDy/RC7qYpY7bZNiGL1jmMu9ivEf0ezPcK3xtht78Z44h5DsyHCNnzg2hXsRbxvf6oQz78K+zxHHTWvvbDPcy/2mSz2ToVXv6vGV+YNy/70zy0tbaB1trH0nyigy9UzvHZf7jlO/z0gy3E7wyQzv8WO7seTonQ+/vUxd67fgBznflzt7Nadyl/gXm+fIk7xrb6ocztKW54dzTHPtLreO6zLstIrljuPLpGULbZzPcw/stE7NM1a5aa2e31hb6QOvcDOewDyb55wzDoc8dX7PU8bYvR2ZoM/uqa6n2fE/6bIZ2tCPDB1c/Om8db83w3t46byjwPeHl4/H2iQzt+HX38PJh1avWFv2mdWCF1PD3Th/XWnv2As8dn+SdrbXjV3D9r0/y6dbaOfuatxc1/FmN57bW9tXjDAALGntl39xaW/TPmo3zfTzJj/idAweeHlQAABhV1fdlGI6+1Bc6AStkJb5SH9i3N2Xvvzs66VPZ+0+6AAAHQFW9M8nXZviTYbfvY3ZgBRjiCwAAQBcM8QUAAKALAioAAABd6Ooe1GOOOaYdf/zxsy4DAACAFXDZZZdd21p74GLPdxVQjz/++Fx66aWzLgMAAIAVUFWfWup5Q3wBAADogoAKAABAFwRUAAAAuiCgAgAA0AUBFQAAgC4IqAAAAHRBQAUAAKALAioAAABdEFABAADogoAKAABAFwRUAAAAuiCgAgAA0AUBFQAAgC4IqAAAAHRBQAUAAKALAioAAABdEFABAADogoAKAABAFwRUAAAAurB+1gXAPW3btm3Zvn37rMvozrXXXpskOeaYY2ZcCfuyadOmbN68edZlAAAccAIqB53t27fnU1dtz32PeNCsS+nKF764O0nSbrptxpWwlC/cePWsSwAAmBkBlYPSfY94UB7xLWfMuoyufPgdW5PEdunc3H4CAFiL3IMKAABAFwRUAAAAuiCgAgAA0AUBFQAAgC4IqAAAAHRBQAUAAKALAioAAABdEFABAADogoAKAABAFwRUAAAAuiCgAgAA0AUBFQAAgC4IqAAAAHRBQAUAAKALAioAAABdEFABAADogoAKAABAFwRUAAAAuiCgAgAA0AUBFQAAgC4IqAAAAHRBQAUAAKALAioAAABdEFABAADogoAKAABAFwRUAAAAuiCgAgAA0AUBFQAAgC4IqAAAAHRBQAUAAKALAioAAABdEFABAADogoAKAABAFwRUAAAAuiCgAgAA0AUBFQAAgC4IqAAAAHRBQAUAAKALAioAAABdEFABAADogoC6DNu2bcu2bdtmXQYAsMq4hgCYzvpZF7CabN++fdYlAACrkGsIgOnoQQUAAKALAioAAABdEFABAADogoAKAABAFwRUAAAAuiCgAgAA0AUBFQAAgC4IqAAAAHRBQAUAAKALAioAAABdEFABAADogoAKAABAFwRUAAAAuiCgAgAA0AUBFQAAgC4IqAAAAHRBQAUAAKALAioAAABdEFABAADogoAKAABAFwRUAAAAuiCgAgAA0AUBFQAAgC4IqAAAAHRBQAUAAKALAioAAABdEFABAADogoAKAABAFwRUAAAAuiCgAgAA0AUBFQAAgC4IqAAAAHRBQAUAAKALAioAAABdEFABAADogoAKAABAFwRUAAAAuiCgAgAA0AUBFQAAgC6saECtqidXVauqh6/kegAAWJ1e8pKX5KyzzsrLXvayWZeSXbt2ZcuWLdm1a9esS8mLXvSinHXWWTnnnHNmXUq2b9+ec845Jzt27Jh1KSzhYNlPK92D+owk/5Dk6Su8HgAAVqEbbrghSXLdddfNuJLkwgsvzCc/+clcdNFFsy4lu3fvTpLccsstM64k2bp1a2655Zacd955sy6FJRws+2nFAmpV3T/JY5I8JwIqAADzvOQlL9nr8Sx7UXft2pVLLrkkrbVccsklM+1FfdGLXrTX41n2om7fvj07d+5MkuzcuXPV984drA6m/bR+BZf9pCR/3Vr7t6q6vqpOaa1dvoLrW3HXXXdddu/enS1btsy6FJawY8eO7KmVbNqwcm65+YbsuOlLzjNwkNmxY0cOPfTQWZfRnbne0zmz7EW98MIL01pLktx+++256KKL8pSnPGUmtcz1ns6ZZS/q1q1b93p83nnn5eyzz55RNSzmYNpPKznE9xlJzh9/Pn98fBdV9cNVdWlVXXrNNdesYDkAALCwyy+/PHv27EmS7NmzJ5dddtmMK+rDXK/cYo/pw8G0n1akm6mqjk7y+CSPrKqWZF2SVlUvaHMfTY1aa69K8qokedSjHtXusrCOHH300UmS5z//+TOuhKVs2bIl19x026zLgP1y2P2PzAMPv5fzDBxkjIro3ymnnJKLL744e/bsybp163LqqafOuqQubNy4ca+ws3HjxhlWw2IOpv20Uj2oT03yxtbaca2141trD0nyySSPXaH1AQCwyhx55JF7PZ7rDJiF008/PVWVJDnkkEPyhCc8YWa1zB8Ofthhh82okuSMM87Y6/GZZ545o0pYysG0n1YqoD4jyVvnTfvTJGcsMC8AAGvQ/C8DeuELXzijSpINGzbktNNOS1XltNNOy4YNG2ZWy/wvjzr33HNnVEmyadOmO3rjNm7cmGOPPXZmtbC4g2k/rUhAba09rrX21/Om/W5r7cdWYn0AAKxOc72os+w9nXP66afnhBNOmGnv6Zy5XtRZ9p7OOeOMM3LYYYet6l65teBg2U++6hQAgJmZ34s6Sxs2bOjmOwDm96LO0qZNm2bai8t0Dpb9tJLf4gsAAABTE1ABAADogoAKAABAFwRUAAAAuiCgAgAA0AUBFQAAgC4IqAAAAHRBQAUAAKALAioAAABdEFABAADogoAKAABAFwRUAAAAuiCgAgAA0AUBFQAAgC4IqAAAAHRBQAUAAKALAioAAABdEFABAADogoAKAABAFwRUAAAAuiCgAgAA0AUBFQAAgC4IqAAAAHRBQAUAAKALAioAAABdEFABAADogoAKAABAFwRUAAAAuiCgAgAA0AUBFQAAgC4IqAAAAHRBQAUAAKALAioAAABdEFABAADogoAKAABAFwRUAAAAuiCgAgAA0IX1sy5gNdm0adOsSwAAViHXEADTEVCXYfPmzbMuAQBYhVxDAEzHEF8AAAC6IKACAADQBQEVAACALgioAAAAdEFABQAAoAsCKgAAAF0QUAEAAOiCgAoAAEAXBFQAAAC6IKACAADQBQEVAACALgioAAAAdEFABQAAoAsCKgAAAF0QUAEAAOiCgAoAAEAXBFQAAAC6IKACAADQBQEVAACALgioAAAAdEFABQAAoAsCKgAAAF0QUAEAAOiCgAoAAEAXBFQAAAC6IKACAADQBQEVAACALgioAAAAdEFABQAAoAsCKgAAAF0QUAEAAOiCgAoAAEAXBFQAAAC6IKACAADQBQEVAACALgioAAAAdEFABQAAoAsCKgAAAF0QUAEAAOiCgAoAAEAXBFQAAAC6sH7WBcBK+MKNV+fD79g66zK68oUbr04S26VzX7jx6uTwTbMuAwBgJgRUDjqbNrm4X8i1uw9Nkhxz+L1mXAlLOnyTNgwArFkCKgedzZs3z7oEAABgP7gHFQAAgC4IqAAAAHRBQAUAAKALAioAAABdEFABAADogoAKAABAFwRUAAAAujD130Gtqi9L8ugkLcklrbXPrlhVAAAArDlT9aBW1XOTXJzkKUmemuSfquq/r2RhAAAArC3T9qCeneTk1tp1SVJVRyd5T5LXrlRhAAAArC3T3oP66SQ3TTy+KclV93w5AAAArFXT9qBuT/K+qtqW4R7UzUkurqqfTZLW2m+tUH0AAACsEdMG1I+P/+ZsG/8//J4tBwAAgLVqqoDaWvvVlS4EAACAtW2qgFpV78gwtHcvrbXH3+MVAQAAsCZNO8T3rImfD0vyfUm+dM+XAwAAwFo17RDfy+ZN+seqetcK1AMAAMAaNe0Q36MmHh6S5NQkX7YiFQEAALAmTTvE97IM96BWhqG9n0zynJUqCgAAgLVn2iG+J6x0IQAAAKxt0w7xvVeSH0vyzeOkdyb5w9babStUFwAAAGvMtEN8fz/JvZJsGR//4DjtuStRFAAAAGvPtAH1tNbaiROP/66qPrASBQEAALA2HTLlfHuq6mFzD6rqPyXZszIlAQAAsBZN24N6VpJ3VNUnMnyT73FJfmjFqgIAAGDN2WdArap1SU5M8pVJvjpDQP2X1truFa4NAACANWSfQ3xba3uSfG9rbXdr7YOttQ8IpwAAANzTph3i+56qemWSC5J8fm5ia+3yFakKAACANWfagPqN4/+/Ov5fSVqSx9/jFQEAALAmTRtQ354hkNb4uCXZVVUntdauWInCAAAAWFum/TMzpyb50SQPTnJskh9O8l+T/FFVvWCFagMAAGANmbYH9egkp7TWbk6SqvqVJP87yTcnuSzJy1emPAAAANaKaXtQH5rk1onHtyU5rrX2xSS+0RcAAIC7bdoe1K1J/qmqto2PvyfJW6rqfkk+siKVAQAAsKZMFVBba79eVX+Z5LEZvijpR1trl45Pn7lSxQEAALB2TNuDmtbaZRnuNwUAAIB73LT3oAIAAMCKElABAADogoAKAABAFwRUAAAAujD1lyTBYrZt25bt27fPuow7XHvttUmSY445ZsaVcCBs2rQpmzdvnnUZAADcAwRU7rbt27dn+398Mhvvf+9Zl5Ik2f35W5MkXzpk94wrYaXtvPnWWZcAAMA9SEDlHrHx/vfOMx/1ZbMuI0nyxks/myTd1MPKmdvXAAAcHNyDCgAAQBcEVAAAALogoAIAANAFARUAAIAuCKgAAAB0QUAFAACgCwIqAAAAXRBQAQAA6IKACgAAQBcEVAAAALogoAIAANAFARUAAIAuCKgAAAB0QUAFAACgCwIqAAAAXRBQAQAA6IKACgAAQBcEVAAAALogoAIAANAFARUAAIAuCKgAAAB0QUAFAACgCwIqAAAAXRBQAQAA6IKACgAAQBcEVAAAALogoAIAANAFARUAAIAuCKgAAAB0QUAFAACgCwIqAAAAXRBQAQAA6IKACgAAQBcEVAAAALogoAIAANAFARUAAIAuCKgAAAB0QUAFAACgCwIqAAAAXRBQAQAA6IKACgAAQBcE1GXYtm1btm3bNusyAKBLfk8CcHetn3UBq8n27dtnXQIAdMvvSQDuLj2oAAAAdEFABQAAoAsCKgAAAF0QUAEAAOiCgAoAAEAXBFQAAAC6IKACAADQBQEVAACALgioAAAAdEFABQAAoAsCKgAAAF0QUAEAAOiCgAoAAEAXBFQAAAC6IKACAADQBQEVAACALgioAAAAdEFABQAAoAsCKgAAAF0QUAEAAOiCgAoAAEAXBFQAAAC6IKACAADQBQEVAACALgioAAAAdEFABQAAoAsCKgAAAF0QUAEAAOiCgAoAAEAXBFQAAAC6IKACAADQBQEVAACALgioAAAAdEFABQAAoAsCKgAAAF0QUAEAAOiCgAoAAEAXBFQAAAC6sGIBtar2VNUVVfWBqrq8qr5xpdYFADDf+9///px11ln5wAc+MOtSsmvXrmzZsiW7du2adSmsEtovy7V9+/acc8452bFjx6xLuVtWsgf1i621k1prJyZ5YZKXreC6AAD2cv755ydJtm7dOuNKkgsvvDCf/OQnc9FFF826FFYJ7Zfl2rp1a2655Zacd955sy7lbjlQQ3w3JLnhAK0LAFjj3v/+92fPnj1Jkj179sy0F2rXrl255JJL0lrLJZdcoheKfdJ+Wa7t27dn586dSZKdO3eu6l7U9Su47PtU1RVJDkvy4CSPX8F1HRDXXXdddu/enS1btsy6lK7s2LEj97r9S7MugzXohi98KbfdssMxCZ3YsWNHDj300FmXkeTO3qc5W7duzYknnjiTWi688MK01pIkt99+ey666KI85SlPmUktrA7aL8s1v6f9vPPOy9lnnz2jau6eAzHE9+FJviPJG6uq5s9UVT9cVZdW1aXXXHPNCpYDAKwVc71Piz0+kC6//PK9esMuu+yymdXC6qD9slxzvaeLPV5NVrIH9Q6ttfdW1TFJHpjk6nnPvSrJq5LkUY96VDsQ9eyvo48+Okny/Oc/f8aV9GXLli350vXbZ10Ga9CR912f9Ucd65iETvQ0mmHdunV7XdSvW7duZrWccsopufjii7Nnz56sW7cup5566sxqYXXQflmujRs37hVKN27cOMNq7p4Dcg9qVT08ybok1x2I9QEAa9vTn/70vR6fccYZM6okOf300zM3iOyQQw7JE57whJnVwuqg/bJc89vImWeeOaNK7r6VDKj3Gf/MzBVJLkjyrNba7MYnAABrxsknn3xHr9O6detmdv9ekmzYsCGnnXZaqiqnnXZaNmzYMLNaWB20X5Zr06ZNd/Sabty4Mccee+yMK9p/KxZQW2vrxntQT2qtndha+4uVWhcAwHxzvVCz7H2ac/rpp+eEE07Q+8TUtF+W64wzzshhhx22qntPkwN0DyoAwIF28skn5+STT551GUmGXij3y7Mc2i/LtWnTppx77rmzLuNuO1B/BxUAAACWJKACAADQBQEVAACALgioAAAAdEFABQAAoAsCKgAAAF0QUAEAAOiCgAoAAEAXBFQAAAC6IKACAADQBQEVAACALgioAAAAdEFABQAAoAsCKgAAAF0QUAEAAOiCgAoAAEAXBFQAAAC6IKACAADQBQEVAACALgioAAAAdEFABQAAoAsCKgAAAF0QUAEAAOiCgAoAAEAXBFQAAAC6IKACAADQBQEVAACALgioAAAAdEFABQAAoAsCKgAAAF0QUAEAAOiCgAoAAEAXBFQAAAC6IKACAADQBQEVAACALgioAAAAdEFABQAAoAsCKgAAAF1YP+sCVpNNmzbNugQA6JbfkwDcXQLqMmzevHnWJQBAt/yeBODuMsQXAACALgioAAAAdEFABQAAoAsCKgAAAF0QUAEAAOiCgAoAAEAXBFQAAAC6IKACAADQBQEVAACALgioAAAAdEFABQAAoAsCKgAAAF0QUAEAAOiCgAoAAEAXBFQAAAC6IKACAADQBQEVAACALgioAAAAdEFABQAAoAsCKgAAAF0QUAEAAOiCgAoAAEAXBFQAAAC6IKACAADQBQEVAACALgioAAAAdEFABQAAoAsCKgAAAF0QUAEAAOiCgAoAAEAXBFQAAAC6IKACAADQBQEVAACALgioAAAAdEFABQAAoAsCKgAAAF0QUAEAAOiCgAoAAEAXBFQAAAC6IKACAADQhfWzLoCDw86bb80bL/3srMtIkuy86dYk6aYeVs7Om2/NpqNmXQUAAPcUAZW7bdOmTbMuYS+H3n5tkmT9UcfMuBJW2qaj+mt/AADsPwGVu23z5s2zLgEAADgIuAcVAACALgioAAAAdEFABQAAoAsCKgAAAF0QUAEAAOiCgAoAAEAXBFQAAAC6IKACAADQBQEVAACALgioAAAAdEFABQAAoAsCKgAAAF0QUAEAAOiCgAoAAEAXBFQAAAC6IKACAADQBQEVAACALgioAAAAdEFABQAAoAsCKgAAAF2o1tqsa7hDVV2T5FPzJh+T5NoZlAP3FG2Y1Uz7ZbXThlnNtF9Wu4Xa8HGttQcu9oKuAupCqurS1tqjZl0H7C9tmNVM+2W104ZZzbRfVrv9acOG+AIAANAFARUAAIAurIaA+qpZFwB3kzbMaqb9stppw6xm2i+r3bLbcPf3oAIAALA2rIYeVAAAANaArgNqVX1HVf1rVX2sqn5h1vXAclTVlVX1z1V1RVVdOut6YF+q6rVVdXVVfWhi2lFVdWFV/fv4/5GzrBEWs0j7fXFVbR/Pw1dU1XfOskZYSlU9pKreUVUfraoPV9X/GKc7D9O9Jdrvss/D3Q7xrap1Sf4tyelJPp3kkiTPaK19ZKaFwZSq6sokj2qt+ftlrApV9c1Jbk7yxtbaI8dpL09yfWvtN8YPCo9srf38LOuEhSzSfl+c5ObW2v+cZW0wjap6cJIHt9Yur6rDk1yW5ElJnh3nYTq3RPv9/izzPNxzD+qjk3ystfaJ1tqtSc5PsnnGNQEctFpr705y/bzJm5O8Yfz5DRl+2UB3Fmm/sGq01j7TWrt8/PmmJB9NsinOw6wCS7TfZes5oG5KctXE409nP98kzEhL8jdVdVlV/fCsi4H9tLG19plk+OWT5EEzrgeW6yeq6oPjEGBDI1kVqur4JCcneV+ch1ll5rXfZJnn4Z4Dai0wrc/xyLCwx7TWTknyxCQ/Pg4/A+DA+f0kD0tyUpLPJHnFTKuBKVTV/ZP8aZKfbq3tmnU9sBwLtN9ln4d7DqifTvKQicdfnmTHjGqBZWut7Rj/vzrJWzMMW4fVZud4X8nc/SVXz7gemFprbWdrbU9r7fYkfxTnYTpXVffKcHF/Xmvtz8bJzsOsCgu13/05D/ccUC9J8pVVdUJV3TvJ05O8bcY1wVSq6n7jDeKpqvsl+bYkH1r6VdCltyV51vjzs5Jsm2EtsCxzF/WjJ8d5mI5VVSV5TZKPttZ+a+Ip52G6t1j73Z/zcLff4psk49cQ/3aSdUle21p7yWwrgulU1X/K0GuaJOuTbNV+6V1VvSXJ45Ick2Rnkl9J8udJ/jjJQ5P8R5L/1lrzRTR0Z5H2+7gMw8pakiuT/MjcvXzQm6p6bJK/T/LPSW4fJ/9ihvv4nIfp2hLt9xlZ5nm464AKAADA2tHzEF8AAADWEAEVAACALgioAAAAdEFABQAAoAsCKgAAAF0QUAEAAOiCgAoAHaiqJ1XV1y5j/uOr6kPjzyeNfzscAFY1ARUA+vCkJFMH1HlOSiKgArDqVWtt1jUAwKpQVT+Q5KeS3DvJ+5J8MMlxrbUXjM8/O8mprbWfXGDe57fW9lTVzUl+J8l3J/liks1JHpbk7Uk+N/77vtbaxxdY/6lJXpvkC0n+IckTk5yS5GNJ7pNke5KXtdYuWJENAAArTA8qAEyhqr4mydOSPKa1dlKSPUluTvKUidmeluSCReY9c5znfkn+qbV2YpJ3J3lea+09Sd6W5OzW2kkLhdPR65L8VGvtG+YmtNZuTfLLSS4YXyucArBqrZ91AQCwSnxrklOTXFJVydBjeXWST1TV1yf59yRfneQfk/z4IvMmya0ZekuT5LIkp0+z8qp6QJIjWmvvGie9KUMPKgAcNARUAJhOJXlDa+2Fe02sek6S70/yL0ne2lprNaTSu8w7uq3deX/Nnkz/u7iSuC8HgIOaIb4AMJ2/TfLUqnpQklTVUVV1XJI/y/AFR89IcsE+5l3KTUkOX+zJ1tqNST5XVY8dJ5058fSSrwWA1UJABYAptNY+kuScJH9TVR9McmGSB7fWbkjykQxflnTxUvPuYxXnJzm7qt5fVQ9bZJ4fSvJ7VfXeDF+wNOcdSb62qq6oqqft51sEgJnzLb4AAAB0QQ8qAAAAXfAlSQDQmar6vSSPmTf5d1prr5tFPQBwoBjiCwAAQBcM8QUAAKALAioAAABdEFABAADogoAKAABAFwRUAAAAuvD/AG6Zv+gNCDLTAAAAAElFTkSuQmCC\n",
      "text/plain": [
       "<Figure size 1152x576 with 1 Axes>"
      ]
     },
     "metadata": {
      "needs_background": "light"
     },
     "output_type": "display_data"
    }
   ],
   "source": [
    "# диаграма размаха всех событий для пользователя\n",
    "plt.figure(figsize=(16,8))\n",
    "ax1 = sns.boxplot(\n",
    "    data=all_event_count_users, x='event_dt', y='group',\n",
    "    palette='pastel',\n",
    "    orient='h'\n",
    ")\n",
    "plt.title('Диаграмма размаха количества событий пользователя в зависимости от группы')\n",
    "plt.show()"
   ]
  },
  {
   "cell_type": "code",
   "execution_count": 148,
   "id": "a13611ff",
   "metadata": {},
   "outputs": [
    {
     "data": {
      "text/html": [
       "<div>\n",
       "<style scoped>\n",
       "    .dataframe tbody tr th:only-of-type {\n",
       "        vertical-align: middle;\n",
       "    }\n",
       "\n",
       "    .dataframe tbody tr th {\n",
       "        vertical-align: top;\n",
       "    }\n",
       "\n",
       "    .dataframe thead tr th {\n",
       "        text-align: left;\n",
       "    }\n",
       "\n",
       "    .dataframe thead tr:last-of-type th {\n",
       "        text-align: right;\n",
       "    }\n",
       "</style>\n",
       "<table border=\"1\" class=\"dataframe\">\n",
       "  <thead>\n",
       "    <tr>\n",
       "      <th></th>\n",
       "      <th colspan=\"8\" halign=\"left\">event_dt</th>\n",
       "    </tr>\n",
       "    <tr>\n",
       "      <th></th>\n",
       "      <th>count</th>\n",
       "      <th>mean</th>\n",
       "      <th>std</th>\n",
       "      <th>min</th>\n",
       "      <th>25%</th>\n",
       "      <th>50%</th>\n",
       "      <th>75%</th>\n",
       "      <th>max</th>\n",
       "    </tr>\n",
       "    <tr>\n",
       "      <th>group</th>\n",
       "      <th></th>\n",
       "      <th></th>\n",
       "      <th></th>\n",
       "      <th></th>\n",
       "      <th></th>\n",
       "      <th></th>\n",
       "      <th></th>\n",
       "      <th></th>\n",
       "    </tr>\n",
       "  </thead>\n",
       "  <tbody>\n",
       "    <tr>\n",
       "      <th>A</th>\n",
       "      <td>2604.0</td>\n",
       "      <td>6.90361</td>\n",
       "      <td>3.84470</td>\n",
       "      <td>1.0</td>\n",
       "      <td>4.0</td>\n",
       "      <td>6.0</td>\n",
       "      <td>9.0</td>\n",
       "      <td>24.0</td>\n",
       "    </tr>\n",
       "    <tr>\n",
       "      <th>B</th>\n",
       "      <td>655.0</td>\n",
       "      <td>5.49313</td>\n",
       "      <td>3.34822</td>\n",
       "      <td>1.0</td>\n",
       "      <td>3.0</td>\n",
       "      <td>4.0</td>\n",
       "      <td>7.5</td>\n",
       "      <td>24.0</td>\n",
       "    </tr>\n",
       "  </tbody>\n",
       "</table>\n",
       "</div>"
      ],
      "text/plain": [
       "      event_dt                                            \n",
       "         count     mean      std  min  25%  50%  75%   max\n",
       "group                                                     \n",
       "A       2604.0  6.90361  3.84470  1.0  4.0  6.0  9.0  24.0\n",
       "B        655.0  5.49313  3.34822  1.0  3.0  4.0  7.5  24.0"
      ]
     },
     "execution_count": 148,
     "metadata": {},
     "output_type": "execute_result"
    }
   ],
   "source": [
    "# числовое описание количества событий для пользователя\n",
    "all_event_count_users.groupby('group').describe()"
   ]
  },
  {
   "cell_type": "markdown",
   "id": "b9cbbc74",
   "metadata": {},
   "source": [
    "Для групп характерно:\n",
    "- распределение количества событий схоже, за исключением пиков для пользователей из группы А\n",
    "- для группы А среднее значение количества событий - 6, для группы В - 4"
   ]
  },
  {
   "cell_type": "markdown",
   "id": "927eedb3",
   "metadata": {},
   "source": [
    "### Распределение событий по дням"
   ]
  },
  {
   "cell_type": "markdown",
   "id": "69287eee",
   "metadata": {},
   "source": [
    "Добавим в датасет столбец с днем совершения события "
   ]
  },
  {
   "cell_type": "code",
   "execution_count": 149,
   "id": "0fd447fc",
   "metadata": {},
   "outputs": [
    {
     "data": {
      "text/html": [
       "<div>\n",
       "<style scoped>\n",
       "    .dataframe tbody tr th:only-of-type {\n",
       "        vertical-align: middle;\n",
       "    }\n",
       "\n",
       "    .dataframe tbody tr th {\n",
       "        vertical-align: top;\n",
       "    }\n",
       "\n",
       "    .dataframe thead th {\n",
       "        text-align: right;\n",
       "    }\n",
       "</style>\n",
       "<table border=\"1\" class=\"dataframe\">\n",
       "  <thead>\n",
       "    <tr style=\"text-align: right;\">\n",
       "      <th></th>\n",
       "      <th>user_id</th>\n",
       "      <th>event_dt</th>\n",
       "      <th>event_name</th>\n",
       "      <th>details</th>\n",
       "      <th>group</th>\n",
       "      <th>first_date</th>\n",
       "      <th>device</th>\n",
       "      <th>lifetime</th>\n",
       "      <th>dt</th>\n",
       "    </tr>\n",
       "  </thead>\n",
       "  <tbody>\n",
       "    <tr>\n",
       "      <th>0</th>\n",
       "      <td>831887FE7F2D6CBA</td>\n",
       "      <td>2020-12-07 06:50:29</td>\n",
       "      <td>purchase</td>\n",
       "      <td>4.99</td>\n",
       "      <td>A</td>\n",
       "      <td>2020-12-07</td>\n",
       "      <td>Android</td>\n",
       "      <td>0</td>\n",
       "      <td>2020-12-07</td>\n",
       "    </tr>\n",
       "    <tr>\n",
       "      <th>1</th>\n",
       "      <td>831887FE7F2D6CBA</td>\n",
       "      <td>2020-12-09 02:19:17</td>\n",
       "      <td>purchase</td>\n",
       "      <td>99.99</td>\n",
       "      <td>A</td>\n",
       "      <td>2020-12-07</td>\n",
       "      <td>Android</td>\n",
       "      <td>2</td>\n",
       "      <td>2020-12-09</td>\n",
       "    </tr>\n",
       "    <tr>\n",
       "      <th>2</th>\n",
       "      <td>831887FE7F2D6CBA</td>\n",
       "      <td>2020-12-07 06:50:30</td>\n",
       "      <td>product_cart</td>\n",
       "      <td>NaN</td>\n",
       "      <td>A</td>\n",
       "      <td>2020-12-07</td>\n",
       "      <td>Android</td>\n",
       "      <td>0</td>\n",
       "      <td>2020-12-07</td>\n",
       "    </tr>\n",
       "    <tr>\n",
       "      <th>3</th>\n",
       "      <td>831887FE7F2D6CBA</td>\n",
       "      <td>2020-12-08 10:52:27</td>\n",
       "      <td>product_cart</td>\n",
       "      <td>NaN</td>\n",
       "      <td>A</td>\n",
       "      <td>2020-12-07</td>\n",
       "      <td>Android</td>\n",
       "      <td>1</td>\n",
       "      <td>2020-12-08</td>\n",
       "    </tr>\n",
       "    <tr>\n",
       "      <th>4</th>\n",
       "      <td>831887FE7F2D6CBA</td>\n",
       "      <td>2020-12-09 02:19:17</td>\n",
       "      <td>product_cart</td>\n",
       "      <td>NaN</td>\n",
       "      <td>A</td>\n",
       "      <td>2020-12-07</td>\n",
       "      <td>Android</td>\n",
       "      <td>2</td>\n",
       "      <td>2020-12-09</td>\n",
       "    </tr>\n",
       "  </tbody>\n",
       "</table>\n",
       "</div>"
      ],
      "text/plain": [
       "            user_id            event_dt    event_name  details group  \\\n",
       "0  831887FE7F2D6CBA 2020-12-07 06:50:29      purchase     4.99     A   \n",
       "1  831887FE7F2D6CBA 2020-12-09 02:19:17      purchase    99.99     A   \n",
       "2  831887FE7F2D6CBA 2020-12-07 06:50:30  product_cart      NaN     A   \n",
       "3  831887FE7F2D6CBA 2020-12-08 10:52:27  product_cart      NaN     A   \n",
       "4  831887FE7F2D6CBA 2020-12-09 02:19:17  product_cart      NaN     A   \n",
       "\n",
       "  first_date   device  lifetime          dt  \n",
       "0 2020-12-07  Android         0  2020-12-07  \n",
       "1 2020-12-07  Android         2  2020-12-09  \n",
       "2 2020-12-07  Android         0  2020-12-07  \n",
       "3 2020-12-07  Android         1  2020-12-08  \n",
       "4 2020-12-07  Android         2  2020-12-09  "
      ]
     },
     "execution_count": 149,
     "metadata": {},
     "output_type": "execute_result"
    }
   ],
   "source": [
    "# добавляем столбец dt\n",
    "final_df['dt'] = final_df['event_dt'].dt.date\n",
    "final_df.head()"
   ]
  },
  {
   "cell_type": "code",
   "execution_count": 150,
   "id": "8b1b948a",
   "metadata": {
    "scrolled": true
   },
   "outputs": [
    {
     "name": "stdout",
     "output_type": "stream",
     "text": [
      "(46, 3)\n"
     ]
    },
    {
     "data": {
      "text/html": [
       "<div>\n",
       "<style scoped>\n",
       "    .dataframe tbody tr th:only-of-type {\n",
       "        vertical-align: middle;\n",
       "    }\n",
       "\n",
       "    .dataframe tbody tr th {\n",
       "        vertical-align: top;\n",
       "    }\n",
       "\n",
       "    .dataframe thead th {\n",
       "        text-align: right;\n",
       "    }\n",
       "</style>\n",
       "<table border=\"1\" class=\"dataframe\">\n",
       "  <thead>\n",
       "    <tr style=\"text-align: right;\">\n",
       "      <th></th>\n",
       "      <th>dt</th>\n",
       "      <th>group</th>\n",
       "      <th>event_name</th>\n",
       "    </tr>\n",
       "  </thead>\n",
       "  <tbody>\n",
       "    <tr>\n",
       "      <th>0</th>\n",
       "      <td>2020-12-07</td>\n",
       "      <td>A</td>\n",
       "      <td>318</td>\n",
       "    </tr>\n",
       "    <tr>\n",
       "      <th>1</th>\n",
       "      <td>2020-12-07</td>\n",
       "      <td>B</td>\n",
       "      <td>268</td>\n",
       "    </tr>\n",
       "    <tr>\n",
       "      <th>2</th>\n",
       "      <td>2020-12-08</td>\n",
       "      <td>A</td>\n",
       "      <td>313</td>\n",
       "    </tr>\n",
       "    <tr>\n",
       "      <th>3</th>\n",
       "      <td>2020-12-08</td>\n",
       "      <td>B</td>\n",
       "      <td>169</td>\n",
       "    </tr>\n",
       "    <tr>\n",
       "      <th>4</th>\n",
       "      <td>2020-12-09</td>\n",
       "      <td>A</td>\n",
       "      <td>371</td>\n",
       "    </tr>\n",
       "  </tbody>\n",
       "</table>\n",
       "</div>"
      ],
      "text/plain": [
       "           dt group  event_name\n",
       "0  2020-12-07     A         318\n",
       "1  2020-12-07     B         268\n",
       "2  2020-12-08     A         313\n",
       "3  2020-12-08     B         169\n",
       "4  2020-12-09     A         371"
      ]
     },
     "execution_count": 150,
     "metadata": {},
     "output_type": "execute_result"
    }
   ],
   "source": [
    "# сводная таблица количества событий на пользователя из разных групп\n",
    "event_count_days = (\n",
    "    final_df\n",
    "    .pivot_table(index=['dt', 'group'],\n",
    "                values='event_name', \n",
    "                aggfunc='count')\n",
    "    .reset_index()\n",
    ")\n",
    "\n",
    "print(event_count_days.shape)\n",
    "event_count_days.head()"
   ]
  },
  {
   "cell_type": "code",
   "execution_count": 151,
   "id": "ca0ca6c9",
   "metadata": {
    "scrolled": false
   },
   "outputs": [
    {
     "data": {
      "image/png": "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\n",
      "text/plain": [
       "<Figure size 1194.88x576 with 1 Axes>"
      ]
     },
     "metadata": {
      "needs_background": "light"
     },
     "output_type": "display_data"
    }
   ],
   "source": [
    "# распределение событий по дням\n",
    "sns.catplot(x=\"dt\", y='event_name', hue='group', \n",
    "            kind=\"bar\", palette=\"pastel\", edgecolor=\".6\", \n",
    "            data=event_count_days, \n",
    "            height=8, aspect=2)\n",
    "plt.xlabel('Дата')\n",
    "plt.ylabel('Количество событий')\n",
    "plt.title('Распределение событий по дням')\n",
    "plt.show()"
   ]
  },
  {
   "cell_type": "markdown",
   "id": "b41a86fb",
   "metadata": {},
   "source": [
    "Из распределения видно: \n",
    "- в первые дни количество событий было одинаковым\n",
    "- до 13 числа разница в числе событий для групп была не так велика, потом для группы А резко увеличилось количество в 4-5 раз. Как ранее отмечалось это произошло из-за прибавления количества пользоватлей совершающих событие в группу А.\n",
    "- для группы А после 14 числа пошел резкий рост числа событий с пиком 21 числа\n",
    "- для группы В события распределены равномерно"
   ]
  },
  {
   "cell_type": "markdown",
   "id": "fb7cde63",
   "metadata": {},
   "source": [
    "Но так как наши группы несбалансированны по количеству участников, посмотрим еще на распределение среднего количества событий в день на пользователя"
   ]
  },
  {
   "cell_type": "code",
   "execution_count": 152,
   "id": "d824d1a7",
   "metadata": {},
   "outputs": [
    {
     "name": "stdout",
     "output_type": "stream",
     "text": [
      "(9706, 4)\n"
     ]
    },
    {
     "data": {
      "text/html": [
       "<div>\n",
       "<style scoped>\n",
       "    .dataframe tbody tr th:only-of-type {\n",
       "        vertical-align: middle;\n",
       "    }\n",
       "\n",
       "    .dataframe tbody tr th {\n",
       "        vertical-align: top;\n",
       "    }\n",
       "\n",
       "    .dataframe thead th {\n",
       "        text-align: right;\n",
       "    }\n",
       "</style>\n",
       "<table border=\"1\" class=\"dataframe\">\n",
       "  <thead>\n",
       "    <tr style=\"text-align: right;\">\n",
       "      <th></th>\n",
       "      <th>dt</th>\n",
       "      <th>group</th>\n",
       "      <th>user_id</th>\n",
       "      <th>event_name</th>\n",
       "    </tr>\n",
       "  </thead>\n",
       "  <tbody>\n",
       "    <tr>\n",
       "      <th>0</th>\n",
       "      <td>2020-12-07</td>\n",
       "      <td>A</td>\n",
       "      <td>021E3EC8A37EE2E3</td>\n",
       "      <td>2</td>\n",
       "    </tr>\n",
       "    <tr>\n",
       "      <th>1</th>\n",
       "      <td>2020-12-07</td>\n",
       "      <td>A</td>\n",
       "      <td>06D2B163CB560FAC</td>\n",
       "      <td>2</td>\n",
       "    </tr>\n",
       "    <tr>\n",
       "      <th>2</th>\n",
       "      <td>2020-12-07</td>\n",
       "      <td>A</td>\n",
       "      <td>08E17E11A2BD8CF9</td>\n",
       "      <td>3</td>\n",
       "    </tr>\n",
       "    <tr>\n",
       "      <th>3</th>\n",
       "      <td>2020-12-07</td>\n",
       "      <td>A</td>\n",
       "      <td>0D8941E6DC625B26</td>\n",
       "      <td>2</td>\n",
       "    </tr>\n",
       "    <tr>\n",
       "      <th>4</th>\n",
       "      <td>2020-12-07</td>\n",
       "      <td>A</td>\n",
       "      <td>0EA9AB1C2A159C77</td>\n",
       "      <td>3</td>\n",
       "    </tr>\n",
       "  </tbody>\n",
       "</table>\n",
       "</div>"
      ],
      "text/plain": [
       "           dt group           user_id  event_name\n",
       "0  2020-12-07     A  021E3EC8A37EE2E3           2\n",
       "1  2020-12-07     A  06D2B163CB560FAC           2\n",
       "2  2020-12-07     A  08E17E11A2BD8CF9           3\n",
       "3  2020-12-07     A  0D8941E6DC625B26           2\n",
       "4  2020-12-07     A  0EA9AB1C2A159C77           3"
      ]
     },
     "execution_count": 152,
     "metadata": {},
     "output_type": "execute_result"
    }
   ],
   "source": [
    "# сводная таблица количества событий на пользователя из разных групп\n",
    "event_count_days = (\n",
    "    final_df\n",
    "    .pivot_table(index=['dt', 'group','user_id'],\n",
    "                values='event_name', \n",
    "                aggfunc='count')\n",
    "    .reset_index()\n",
    ")\n",
    "\n",
    "print(event_count_days.shape)\n",
    "event_count_days.head()"
   ]
  },
  {
   "cell_type": "code",
   "execution_count": 153,
   "id": "29f485f1",
   "metadata": {},
   "outputs": [
    {
     "data": {
      "image/png": "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\n",
      "text/plain": [
       "<Figure size 1425.28x432 with 1 Axes>"
      ]
     },
     "metadata": {
      "needs_background": "light"
     },
     "output_type": "display_data"
    }
   ],
   "source": [
    "# распределение среднего количества событий для пользователя по дням\n",
    "sns.catplot(x=\"dt\", y='event_name', hue='group', \n",
    "            kind=\"bar\", palette=\"pastel\", edgecolor=\".6\", \n",
    "            data=event_count_days, \n",
    "            height=6, aspect=3.2)\n",
    "plt.xlabel('Дата')\n",
    "plt.ylabel('Количество событий')\n",
    "plt.title('Распределение среднего количества событий для пользователя по дням')\n",
    "plt.show()"
   ]
  },
  {
   "cell_type": "markdown",
   "id": "716c31bb",
   "metadata": {},
   "source": [
    "После 13 числа заметна небольшая разница в увеличении событий для пользователя из группы А по сравнению с группой В."
   ]
  },
  {
   "cell_type": "markdown",
   "id": "faa61bb6",
   "metadata": {},
   "source": [
    "### Конверсия в воронке событий"
   ]
  },
  {
   "cell_type": "markdown",
   "id": "8ef6d42d",
   "metadata": {},
   "source": [
    "*События*:\n",
    "- login - вход в приложение,\n",
    "- product_page - просмотр карточек товаров,\n",
    "- product_cart - просмотры корзины,\n",
    "- purchase - покупки"
   ]
  },
  {
   "cell_type": "markdown",
   "id": "7175d370",
   "metadata": {},
   "source": [
    "Построим воронку событий для пользователей из разных групп теста"
   ]
  },
  {
   "cell_type": "code",
   "execution_count": 154,
   "id": "1b21490c",
   "metadata": {},
   "outputs": [
    {
     "data": {
      "application/vnd.plotly.v1+json": {
       "config": {
        "plotlyServerURL": "https://plot.ly"
       },
       "data": [
        {
         "name": "A",
         "textinfo": "value+percent previous",
         "type": "funnel",
         "x": [
          2604,
          1685,
          782,
          833
         ],
         "y": [
          "login",
          "product_page",
          "product_cart",
          "purchase"
         ]
        },
        {
         "name": "B",
         "orientation": "h",
         "textinfo": "value+percent previous",
         "textposition": "inside",
         "type": "funnel",
         "x": [
          654,
          367,
          184,
          191
         ],
         "y": [
          "login",
          "product_page",
          "product_cart",
          "purchase"
         ]
        }
       ],
       "layout": {
        "template": {
         "data": {
          "bar": [
           {
            "error_x": {
             "color": "#2a3f5f"
            },
            "error_y": {
             "color": "#2a3f5f"
            },
            "marker": {
             "line": {
              "color": "#E5ECF6",
              "width": 0.5
             },
             "pattern": {
              "fillmode": "overlay",
              "size": 10,
              "solidity": 0.2
             }
            },
            "type": "bar"
           }
          ],
          "barpolar": [
           {
            "marker": {
             "line": {
              "color": "#E5ECF6",
              "width": 0.5
             },
             "pattern": {
              "fillmode": "overlay",
              "size": 10,
              "solidity": 0.2
             }
            },
            "type": "barpolar"
           }
          ],
          "carpet": [
           {
            "aaxis": {
             "endlinecolor": "#2a3f5f",
             "gridcolor": "white",
             "linecolor": "white",
             "minorgridcolor": "white",
             "startlinecolor": "#2a3f5f"
            },
            "baxis": {
             "endlinecolor": "#2a3f5f",
             "gridcolor": "white",
             "linecolor": "white",
             "minorgridcolor": "white",
             "startlinecolor": "#2a3f5f"
            },
            "type": "carpet"
           }
          ],
          "choropleth": [
           {
            "colorbar": {
             "outlinewidth": 0,
             "ticks": ""
            },
            "type": "choropleth"
           }
          ],
          "contour": [
           {
            "colorbar": {
             "outlinewidth": 0,
             "ticks": ""
            },
            "colorscale": [
             [
              0,
              "#0d0887"
             ],
             [
              0.1111111111111111,
              "#46039f"
             ],
             [
              0.2222222222222222,
              "#7201a8"
             ],
             [
              0.3333333333333333,
              "#9c179e"
             ],
             [
              0.4444444444444444,
              "#bd3786"
             ],
             [
              0.5555555555555556,
              "#d8576b"
             ],
             [
              0.6666666666666666,
              "#ed7953"
             ],
             [
              0.7777777777777778,
              "#fb9f3a"
             ],
             [
              0.8888888888888888,
              "#fdca26"
             ],
             [
              1,
              "#f0f921"
             ]
            ],
            "type": "contour"
           }
          ],
          "contourcarpet": [
           {
            "colorbar": {
             "outlinewidth": 0,
             "ticks": ""
            },
            "type": "contourcarpet"
           }
          ],
          "heatmap": [
           {
            "colorbar": {
             "outlinewidth": 0,
             "ticks": ""
            },
            "colorscale": [
             [
              0,
              "#0d0887"
             ],
             [
              0.1111111111111111,
              "#46039f"
             ],
             [
              0.2222222222222222,
              "#7201a8"
             ],
             [
              0.3333333333333333,
              "#9c179e"
             ],
             [
              0.4444444444444444,
              "#bd3786"
             ],
             [
              0.5555555555555556,
              "#d8576b"
             ],
             [
              0.6666666666666666,
              "#ed7953"
             ],
             [
              0.7777777777777778,
              "#fb9f3a"
             ],
             [
              0.8888888888888888,
              "#fdca26"
             ],
             [
              1,
              "#f0f921"
             ]
            ],
            "type": "heatmap"
           }
          ],
          "heatmapgl": [
           {
            "colorbar": {
             "outlinewidth": 0,
             "ticks": ""
            },
            "colorscale": [
             [
              0,
              "#0d0887"
             ],
             [
              0.1111111111111111,
              "#46039f"
             ],
             [
              0.2222222222222222,
              "#7201a8"
             ],
             [
              0.3333333333333333,
              "#9c179e"
             ],
             [
              0.4444444444444444,
              "#bd3786"
             ],
             [
              0.5555555555555556,
              "#d8576b"
             ],
             [
              0.6666666666666666,
              "#ed7953"
             ],
             [
              0.7777777777777778,
              "#fb9f3a"
             ],
             [
              0.8888888888888888,
              "#fdca26"
             ],
             [
              1,
              "#f0f921"
             ]
            ],
            "type": "heatmapgl"
           }
          ],
          "histogram": [
           {
            "marker": {
             "pattern": {
              "fillmode": "overlay",
              "size": 10,
              "solidity": 0.2
             }
            },
            "type": "histogram"
           }
          ],
          "histogram2d": [
           {
            "colorbar": {
             "outlinewidth": 0,
             "ticks": ""
            },
            "colorscale": [
             [
              0,
              "#0d0887"
             ],
             [
              0.1111111111111111,
              "#46039f"
             ],
             [
              0.2222222222222222,
              "#7201a8"
             ],
             [
              0.3333333333333333,
              "#9c179e"
             ],
             [
              0.4444444444444444,
              "#bd3786"
             ],
             [
              0.5555555555555556,
              "#d8576b"
             ],
             [
              0.6666666666666666,
              "#ed7953"
             ],
             [
              0.7777777777777778,
              "#fb9f3a"
             ],
             [
              0.8888888888888888,
              "#fdca26"
             ],
             [
              1,
              "#f0f921"
             ]
            ],
            "type": "histogram2d"
           }
          ],
          "histogram2dcontour": [
           {
            "colorbar": {
             "outlinewidth": 0,
             "ticks": ""
            },
            "colorscale": [
             [
              0,
              "#0d0887"
             ],
             [
              0.1111111111111111,
              "#46039f"
             ],
             [
              0.2222222222222222,
              "#7201a8"
             ],
             [
              0.3333333333333333,
              "#9c179e"
             ],
             [
              0.4444444444444444,
              "#bd3786"
             ],
             [
              0.5555555555555556,
              "#d8576b"
             ],
             [
              0.6666666666666666,
              "#ed7953"
             ],
             [
              0.7777777777777778,
              "#fb9f3a"
             ],
             [
              0.8888888888888888,
              "#fdca26"
             ],
             [
              1,
              "#f0f921"
             ]
            ],
            "type": "histogram2dcontour"
           }
          ],
          "mesh3d": [
           {
            "colorbar": {
             "outlinewidth": 0,
             "ticks": ""
            },
            "type": "mesh3d"
           }
          ],
          "parcoords": [
           {
            "line": {
             "colorbar": {
              "outlinewidth": 0,
              "ticks": ""
             }
            },
            "type": "parcoords"
           }
          ],
          "pie": [
           {
            "automargin": true,
            "type": "pie"
           }
          ],
          "scatter": [
           {
            "fillpattern": {
             "fillmode": "overlay",
             "size": 10,
             "solidity": 0.2
            },
            "type": "scatter"
           }
          ],
          "scatter3d": [
           {
            "line": {
             "colorbar": {
              "outlinewidth": 0,
              "ticks": ""
             }
            },
            "marker": {
             "colorbar": {
              "outlinewidth": 0,
              "ticks": ""
             }
            },
            "type": "scatter3d"
           }
          ],
          "scattercarpet": [
           {
            "marker": {
             "colorbar": {
              "outlinewidth": 0,
              "ticks": ""
             }
            },
            "type": "scattercarpet"
           }
          ],
          "scattergeo": [
           {
            "marker": {
             "colorbar": {
              "outlinewidth": 0,
              "ticks": ""
             }
            },
            "type": "scattergeo"
           }
          ],
          "scattergl": [
           {
            "marker": {
             "colorbar": {
              "outlinewidth": 0,
              "ticks": ""
             }
            },
            "type": "scattergl"
           }
          ],
          "scattermapbox": [
           {
            "marker": {
             "colorbar": {
              "outlinewidth": 0,
              "ticks": ""
             }
            },
            "type": "scattermapbox"
           }
          ],
          "scatterpolar": [
           {
            "marker": {
             "colorbar": {
              "outlinewidth": 0,
              "ticks": ""
             }
            },
            "type": "scatterpolar"
           }
          ],
          "scatterpolargl": [
           {
            "marker": {
             "colorbar": {
              "outlinewidth": 0,
              "ticks": ""
             }
            },
            "type": "scatterpolargl"
           }
          ],
          "scatterternary": [
           {
            "marker": {
             "colorbar": {
              "outlinewidth": 0,
              "ticks": ""
             }
            },
            "type": "scatterternary"
           }
          ],
          "surface": [
           {
            "colorbar": {
             "outlinewidth": 0,
             "ticks": ""
            },
            "colorscale": [
             [
              0,
              "#0d0887"
             ],
             [
              0.1111111111111111,
              "#46039f"
             ],
             [
              0.2222222222222222,
              "#7201a8"
             ],
             [
              0.3333333333333333,
              "#9c179e"
             ],
             [
              0.4444444444444444,
              "#bd3786"
             ],
             [
              0.5555555555555556,
              "#d8576b"
             ],
             [
              0.6666666666666666,
              "#ed7953"
             ],
             [
              0.7777777777777778,
              "#fb9f3a"
             ],
             [
              0.8888888888888888,
              "#fdca26"
             ],
             [
              1,
              "#f0f921"
             ]
            ],
            "type": "surface"
           }
          ],
          "table": [
           {
            "cells": {
             "fill": {
              "color": "#EBF0F8"
             },
             "line": {
              "color": "white"
             }
            },
            "header": {
             "fill": {
              "color": "#C8D4E3"
             },
             "line": {
              "color": "white"
             }
            },
            "type": "table"
           }
          ]
         },
         "layout": {
          "annotationdefaults": {
           "arrowcolor": "#2a3f5f",
           "arrowhead": 0,
           "arrowwidth": 1
          },
          "autotypenumbers": "strict",
          "coloraxis": {
           "colorbar": {
            "outlinewidth": 0,
            "ticks": ""
           }
          },
          "colorscale": {
           "diverging": [
            [
             0,
             "#8e0152"
            ],
            [
             0.1,
             "#c51b7d"
            ],
            [
             0.2,
             "#de77ae"
            ],
            [
             0.3,
             "#f1b6da"
            ],
            [
             0.4,
             "#fde0ef"
            ],
            [
             0.5,
             "#f7f7f7"
            ],
            [
             0.6,
             "#e6f5d0"
            ],
            [
             0.7,
             "#b8e186"
            ],
            [
             0.8,
             "#7fbc41"
            ],
            [
             0.9,
             "#4d9221"
            ],
            [
             1,
             "#276419"
            ]
           ],
           "sequential": [
            [
             0,
             "#0d0887"
            ],
            [
             0.1111111111111111,
             "#46039f"
            ],
            [
             0.2222222222222222,
             "#7201a8"
            ],
            [
             0.3333333333333333,
             "#9c179e"
            ],
            [
             0.4444444444444444,
             "#bd3786"
            ],
            [
             0.5555555555555556,
             "#d8576b"
            ],
            [
             0.6666666666666666,
             "#ed7953"
            ],
            [
             0.7777777777777778,
             "#fb9f3a"
            ],
            [
             0.8888888888888888,
             "#fdca26"
            ],
            [
             1,
             "#f0f921"
            ]
           ],
           "sequentialminus": [
            [
             0,
             "#0d0887"
            ],
            [
             0.1111111111111111,
             "#46039f"
            ],
            [
             0.2222222222222222,
             "#7201a8"
            ],
            [
             0.3333333333333333,
             "#9c179e"
            ],
            [
             0.4444444444444444,
             "#bd3786"
            ],
            [
             0.5555555555555556,
             "#d8576b"
            ],
            [
             0.6666666666666666,
             "#ed7953"
            ],
            [
             0.7777777777777778,
             "#fb9f3a"
            ],
            [
             0.8888888888888888,
             "#fdca26"
            ],
            [
             1,
             "#f0f921"
            ]
           ]
          },
          "colorway": [
           "#636efa",
           "#EF553B",
           "#00cc96",
           "#ab63fa",
           "#FFA15A",
           "#19d3f3",
           "#FF6692",
           "#B6E880",
           "#FF97FF",
           "#FECB52"
          ],
          "font": {
           "color": "#2a3f5f"
          },
          "geo": {
           "bgcolor": "white",
           "lakecolor": "white",
           "landcolor": "#E5ECF6",
           "showlakes": true,
           "showland": true,
           "subunitcolor": "white"
          },
          "hoverlabel": {
           "align": "left"
          },
          "hovermode": "closest",
          "mapbox": {
           "style": "light"
          },
          "paper_bgcolor": "white",
          "plot_bgcolor": "#E5ECF6",
          "polar": {
           "angularaxis": {
            "gridcolor": "white",
            "linecolor": "white",
            "ticks": ""
           },
           "bgcolor": "#E5ECF6",
           "radialaxis": {
            "gridcolor": "white",
            "linecolor": "white",
            "ticks": ""
           }
          },
          "scene": {
           "xaxis": {
            "backgroundcolor": "#E5ECF6",
            "gridcolor": "white",
            "gridwidth": 2,
            "linecolor": "white",
            "showbackground": true,
            "ticks": "",
            "zerolinecolor": "white"
           },
           "yaxis": {
            "backgroundcolor": "#E5ECF6",
            "gridcolor": "white",
            "gridwidth": 2,
            "linecolor": "white",
            "showbackground": true,
            "ticks": "",
            "zerolinecolor": "white"
           },
           "zaxis": {
            "backgroundcolor": "#E5ECF6",
            "gridcolor": "white",
            "gridwidth": 2,
            "linecolor": "white",
            "showbackground": true,
            "ticks": "",
            "zerolinecolor": "white"
           }
          },
          "shapedefaults": {
           "line": {
            "color": "#2a3f5f"
           }
          },
          "ternary": {
           "aaxis": {
            "gridcolor": "white",
            "linecolor": "white",
            "ticks": ""
           },
           "baxis": {
            "gridcolor": "white",
            "linecolor": "white",
            "ticks": ""
           },
           "bgcolor": "#E5ECF6",
           "caxis": {
            "gridcolor": "white",
            "linecolor": "white",
            "ticks": ""
           }
          },
          "title": {
           "x": 0.05
          },
          "xaxis": {
           "automargin": true,
           "gridcolor": "white",
           "linecolor": "white",
           "ticks": "",
           "title": {
            "standoff": 15
           },
           "zerolinecolor": "white",
           "zerolinewidth": 2
          },
          "yaxis": {
           "automargin": true,
           "gridcolor": "white",
           "linecolor": "white",
           "ticks": "",
           "title": {
            "standoff": 15
           },
           "zerolinecolor": "white",
           "zerolinewidth": 2
          }
         }
        }
       }
      },
      "text/html": [
       "<div>                            <div id=\"0790eecc-0eba-4937-94fb-2f105d08538a\" class=\"plotly-graph-div\" style=\"height:525px; width:100%;\"></div>            <script type=\"text/javascript\">                require([\"plotly\"], function(Plotly) {                    window.PLOTLYENV=window.PLOTLYENV || {};                                    if (document.getElementById(\"0790eecc-0eba-4937-94fb-2f105d08538a\")) {                    Plotly.newPlot(                        \"0790eecc-0eba-4937-94fb-2f105d08538a\",                        [{\"name\":\"A\",\"textinfo\":\"value+percent previous\",\"x\":[2604,1685,782,833],\"y\":[\"login\",\"product_page\",\"product_cart\",\"purchase\"],\"type\":\"funnel\"},{\"name\":\"B\",\"orientation\":\"h\",\"textinfo\":\"value+percent previous\",\"textposition\":\"inside\",\"x\":[654,367,184,191],\"y\":[\"login\",\"product_page\",\"product_cart\",\"purchase\"],\"type\":\"funnel\"}],                        {\"template\":{\"data\":{\"histogram2dcontour\":[{\"type\":\"histogram2dcontour\",\"colorbar\":{\"outlinewidth\":0,\"ticks\":\"\"},\"colorscale\":[[0.0,\"#0d0887\"],[0.1111111111111111,\"#46039f\"],[0.2222222222222222,\"#7201a8\"],[0.3333333333333333,\"#9c179e\"],[0.4444444444444444,\"#bd3786\"],[0.5555555555555556,\"#d8576b\"],[0.6666666666666666,\"#ed7953\"],[0.7777777777777778,\"#fb9f3a\"],[0.8888888888888888,\"#fdca26\"],[1.0,\"#f0f921\"]]}],\"choropleth\":[{\"type\":\"choropleth\",\"colorbar\":{\"outlinewidth\":0,\"ticks\":\"\"}}],\"histogram2d\":[{\"type\":\"histogram2d\",\"colorbar\":{\"outlinewidth\":0,\"ticks\":\"\"},\"colorscale\":[[0.0,\"#0d0887\"],[0.1111111111111111,\"#46039f\"],[0.2222222222222222,\"#7201a8\"],[0.3333333333333333,\"#9c179e\"],[0.4444444444444444,\"#bd3786\"],[0.5555555555555556,\"#d8576b\"],[0.6666666666666666,\"#ed7953\"],[0.7777777777777778,\"#fb9f3a\"],[0.8888888888888888,\"#fdca26\"],[1.0,\"#f0f921\"]]}],\"heatmap\":[{\"type\":\"heatmap\",\"colorbar\":{\"outlinewidth\":0,\"ticks\":\"\"},\"colorscale\":[[0.0,\"#0d0887\"],[0.1111111111111111,\"#46039f\"],[0.2222222222222222,\"#7201a8\"],[0.3333333333333333,\"#9c179e\"],[0.4444444444444444,\"#bd3786\"],[0.5555555555555556,\"#d8576b\"],[0.6666666666666666,\"#ed7953\"],[0.7777777777777778,\"#fb9f3a\"],[0.8888888888888888,\"#fdca26\"],[1.0,\"#f0f921\"]]}],\"heatmapgl\":[{\"type\":\"heatmapgl\",\"colorbar\":{\"outlinewidth\":0,\"ticks\":\"\"},\"colorscale\":[[0.0,\"#0d0887\"],[0.1111111111111111,\"#46039f\"],[0.2222222222222222,\"#7201a8\"],[0.3333333333333333,\"#9c179e\"],[0.4444444444444444,\"#bd3786\"],[0.5555555555555556,\"#d8576b\"],[0.6666666666666666,\"#ed7953\"],[0.7777777777777778,\"#fb9f3a\"],[0.8888888888888888,\"#fdca26\"],[1.0,\"#f0f921\"]]}],\"contourcarpet\":[{\"type\":\"contourcarpet\",\"colorbar\":{\"outlinewidth\":0,\"ticks\":\"\"}}],\"contour\":[{\"type\":\"contour\",\"colorbar\":{\"outlinewidth\":0,\"ticks\":\"\"},\"colorscale\":[[0.0,\"#0d0887\"],[0.1111111111111111,\"#46039f\"],[0.2222222222222222,\"#7201a8\"],[0.3333333333333333,\"#9c179e\"],[0.4444444444444444,\"#bd3786\"],[0.5555555555555556,\"#d8576b\"],[0.6666666666666666,\"#ed7953\"],[0.7777777777777778,\"#fb9f3a\"],[0.8888888888888888,\"#fdca26\"],[1.0,\"#f0f921\"]]}],\"surface\":[{\"type\":\"surface\",\"colorbar\":{\"outlinewidth\":0,\"ticks\":\"\"},\"colorscale\":[[0.0,\"#0d0887\"],[0.1111111111111111,\"#46039f\"],[0.2222222222222222,\"#7201a8\"],[0.3333333333333333,\"#9c179e\"],[0.4444444444444444,\"#bd3786\"],[0.5555555555555556,\"#d8576b\"],[0.6666666666666666,\"#ed7953\"],[0.7777777777777778,\"#fb9f3a\"],[0.8888888888888888,\"#fdca26\"],[1.0,\"#f0f921\"]]}],\"mesh3d\":[{\"type\":\"mesh3d\",\"colorbar\":{\"outlinewidth\":0,\"ticks\":\"\"}}],\"scatter\":[{\"fillpattern\":{\"fillmode\":\"overlay\",\"size\":10,\"solidity\":0.2},\"type\":\"scatter\"}],\"parcoords\":[{\"type\":\"parcoords\",\"line\":{\"colorbar\":{\"outlinewidth\":0,\"ticks\":\"\"}}}],\"scatterpolargl\":[{\"type\":\"scatterpolargl\",\"marker\":{\"colorbar\":{\"outlinewidth\":0,\"ticks\":\"\"}}}],\"bar\":[{\"error_x\":{\"color\":\"#2a3f5f\"},\"error_y\":{\"color\":\"#2a3f5f\"},\"marker\":{\"line\":{\"color\":\"#E5ECF6\",\"width\":0.5},\"pattern\":{\"fillmode\":\"overlay\",\"size\":10,\"solidity\":0.2}},\"type\":\"bar\"}],\"scattergeo\":[{\"type\":\"scattergeo\",\"marker\":{\"colorbar\":{\"outlinewidth\":0,\"ticks\":\"\"}}}],\"scatterpolar\":[{\"type\":\"scatterpolar\",\"marker\":{\"colorbar\":{\"outlinewidth\":0,\"ticks\":\"\"}}}],\"histogram\":[{\"marker\":{\"pattern\":{\"fillmode\":\"overlay\",\"size\":10,\"solidity\":0.2}},\"type\":\"histogram\"}],\"scattergl\":[{\"type\":\"scattergl\",\"marker\":{\"colorbar\":{\"outlinewidth\":0,\"ticks\":\"\"}}}],\"scatter3d\":[{\"type\":\"scatter3d\",\"line\":{\"colorbar\":{\"outlinewidth\":0,\"ticks\":\"\"}},\"marker\":{\"colorbar\":{\"outlinewidth\":0,\"ticks\":\"\"}}}],\"scattermapbox\":[{\"type\":\"scattermapbox\",\"marker\":{\"colorbar\":{\"outlinewidth\":0,\"ticks\":\"\"}}}],\"scatterternary\":[{\"type\":\"scatterternary\",\"marker\":{\"colorbar\":{\"outlinewidth\":0,\"ticks\":\"\"}}}],\"scattercarpet\":[{\"type\":\"scattercarpet\",\"marker\":{\"colorbar\":{\"outlinewidth\":0,\"ticks\":\"\"}}}],\"carpet\":[{\"aaxis\":{\"endlinecolor\":\"#2a3f5f\",\"gridcolor\":\"white\",\"linecolor\":\"white\",\"minorgridcolor\":\"white\",\"startlinecolor\":\"#2a3f5f\"},\"baxis\":{\"endlinecolor\":\"#2a3f5f\",\"gridcolor\":\"white\",\"linecolor\":\"white\",\"minorgridcolor\":\"white\",\"startlinecolor\":\"#2a3f5f\"},\"type\":\"carpet\"}],\"table\":[{\"cells\":{\"fill\":{\"color\":\"#EBF0F8\"},\"line\":{\"color\":\"white\"}},\"header\":{\"fill\":{\"color\":\"#C8D4E3\"},\"line\":{\"color\":\"white\"}},\"type\":\"table\"}],\"barpolar\":[{\"marker\":{\"line\":{\"color\":\"#E5ECF6\",\"width\":0.5},\"pattern\":{\"fillmode\":\"overlay\",\"size\":10,\"solidity\":0.2}},\"type\":\"barpolar\"}],\"pie\":[{\"automargin\":true,\"type\":\"pie\"}]},\"layout\":{\"autotypenumbers\":\"strict\",\"colorway\":[\"#636efa\",\"#EF553B\",\"#00cc96\",\"#ab63fa\",\"#FFA15A\",\"#19d3f3\",\"#FF6692\",\"#B6E880\",\"#FF97FF\",\"#FECB52\"],\"font\":{\"color\":\"#2a3f5f\"},\"hovermode\":\"closest\",\"hoverlabel\":{\"align\":\"left\"},\"paper_bgcolor\":\"white\",\"plot_bgcolor\":\"#E5ECF6\",\"polar\":{\"bgcolor\":\"#E5ECF6\",\"angularaxis\":{\"gridcolor\":\"white\",\"linecolor\":\"white\",\"ticks\":\"\"},\"radialaxis\":{\"gridcolor\":\"white\",\"linecolor\":\"white\",\"ticks\":\"\"}},\"ternary\":{\"bgcolor\":\"#E5ECF6\",\"aaxis\":{\"gridcolor\":\"white\",\"linecolor\":\"white\",\"ticks\":\"\"},\"baxis\":{\"gridcolor\":\"white\",\"linecolor\":\"white\",\"ticks\":\"\"},\"caxis\":{\"gridcolor\":\"white\",\"linecolor\":\"white\",\"ticks\":\"\"}},\"coloraxis\":{\"colorbar\":{\"outlinewidth\":0,\"ticks\":\"\"}},\"colorscale\":{\"sequential\":[[0.0,\"#0d0887\"],[0.1111111111111111,\"#46039f\"],[0.2222222222222222,\"#7201a8\"],[0.3333333333333333,\"#9c179e\"],[0.4444444444444444,\"#bd3786\"],[0.5555555555555556,\"#d8576b\"],[0.6666666666666666,\"#ed7953\"],[0.7777777777777778,\"#fb9f3a\"],[0.8888888888888888,\"#fdca26\"],[1.0,\"#f0f921\"]],\"sequentialminus\":[[0.0,\"#0d0887\"],[0.1111111111111111,\"#46039f\"],[0.2222222222222222,\"#7201a8\"],[0.3333333333333333,\"#9c179e\"],[0.4444444444444444,\"#bd3786\"],[0.5555555555555556,\"#d8576b\"],[0.6666666666666666,\"#ed7953\"],[0.7777777777777778,\"#fb9f3a\"],[0.8888888888888888,\"#fdca26\"],[1.0,\"#f0f921\"]],\"diverging\":[[0,\"#8e0152\"],[0.1,\"#c51b7d\"],[0.2,\"#de77ae\"],[0.3,\"#f1b6da\"],[0.4,\"#fde0ef\"],[0.5,\"#f7f7f7\"],[0.6,\"#e6f5d0\"],[0.7,\"#b8e186\"],[0.8,\"#7fbc41\"],[0.9,\"#4d9221\"],[1,\"#276419\"]]},\"xaxis\":{\"gridcolor\":\"white\",\"linecolor\":\"white\",\"ticks\":\"\",\"title\":{\"standoff\":15},\"zerolinecolor\":\"white\",\"automargin\":true,\"zerolinewidth\":2},\"yaxis\":{\"gridcolor\":\"white\",\"linecolor\":\"white\",\"ticks\":\"\",\"title\":{\"standoff\":15},\"zerolinecolor\":\"white\",\"automargin\":true,\"zerolinewidth\":2},\"scene\":{\"xaxis\":{\"backgroundcolor\":\"#E5ECF6\",\"gridcolor\":\"white\",\"linecolor\":\"white\",\"showbackground\":true,\"ticks\":\"\",\"zerolinecolor\":\"white\",\"gridwidth\":2},\"yaxis\":{\"backgroundcolor\":\"#E5ECF6\",\"gridcolor\":\"white\",\"linecolor\":\"white\",\"showbackground\":true,\"ticks\":\"\",\"zerolinecolor\":\"white\",\"gridwidth\":2},\"zaxis\":{\"backgroundcolor\":\"#E5ECF6\",\"gridcolor\":\"white\",\"linecolor\":\"white\",\"showbackground\":true,\"ticks\":\"\",\"zerolinecolor\":\"white\",\"gridwidth\":2}},\"shapedefaults\":{\"line\":{\"color\":\"#2a3f5f\"}},\"annotationdefaults\":{\"arrowcolor\":\"#2a3f5f\",\"arrowhead\":0,\"arrowwidth\":1},\"geo\":{\"bgcolor\":\"white\",\"landcolor\":\"#E5ECF6\",\"subunitcolor\":\"white\",\"showland\":true,\"showlakes\":true,\"lakecolor\":\"white\"},\"title\":{\"x\":0.05},\"mapbox\":{\"style\":\"light\"}}}},                        {\"responsive\": true}                    ).then(function(){\n",
       "                            \n",
       "var gd = document.getElementById('0790eecc-0eba-4937-94fb-2f105d08538a');\n",
       "var x = new MutationObserver(function (mutations, observer) {{\n",
       "        var display = window.getComputedStyle(gd).display;\n",
       "        if (!display || display === 'none') {{\n",
       "            console.log([gd, 'removed!']);\n",
       "            Plotly.purge(gd);\n",
       "            observer.disconnect();\n",
       "        }}\n",
       "}});\n",
       "\n",
       "// Listen for the removal of the full notebook cells\n",
       "var notebookContainer = gd.closest('#notebook-container');\n",
       "if (notebookContainer) {{\n",
       "    x.observe(notebookContainer, {childList: true});\n",
       "}}\n",
       "\n",
       "// Listen for the clearing of the current output cell\n",
       "var outputEl = gd.closest('.output');\n",
       "if (outputEl) {{\n",
       "    x.observe(outputEl, {childList: true});\n",
       "}}\n",
       "\n",
       "                        })                };                });            </script>        </div>"
      ]
     },
     "metadata": {},
     "output_type": "display_data"
    }
   ],
   "source": [
    "# воронка событий \n",
    "\n",
    "fig = go.Figure()\n",
    "\n",
    "fig.add_trace(go.Funnel(\n",
    "    name = 'A',\n",
    "    y = final_pivot_event['event_name'],\n",
    "    x = final_pivot_event['A'],\n",
    "    textinfo = \"value+percent previous\"))\n",
    "\n",
    "fig.add_trace(go.Funnel(\n",
    "    name = 'B',\n",
    "    orientation = \"h\",\n",
    "    y = final_pivot_event['event_name'],\n",
    "    x = final_pivot_event['B'],\n",
    "    textposition = \"inside\",\n",
    "    textinfo = \"value+percent previous\"))\n",
    "\n",
    "fig.show()"
   ]
  },
  {
   "cell_type": "markdown",
   "id": "3ef2dd30",
   "metadata": {},
   "source": [
    "На графике воронки событий отображено какой процент пользователей проходит на следующий этап.\n",
    "\n",
    "- Исходя из воронки и количества покупок, можем сделать вывод что у приложения есть функция покупки в один клик, без перехода в корзину. Это объясняет почему на последнем этапе воронки количество пользователей больше чем на предыдущем.\n",
    "- Больше всего пользователей `теряется на 3 шаге`, то есть после просмотра карточки товара при переходе в корзину товара.\n",
    "- Конверсия для группы А выше чем для группы В, на всех этапах кроме перехода от просмотра карточки к просмотру корзины(здесь на 3% меньше)\n",
    "- Конверсия в покупку выше у группы А"
   ]
  },
  {
   "cell_type": "markdown",
   "id": "edb9ea1d",
   "metadata": {},
   "source": [
    "### Особенности данных"
   ]
  },
  {
   "cell_type": "markdown",
   "id": "5f1615cc",
   "metadata": {},
   "source": [
    "Нужно учесть:\n",
    "- количество участников в группах теста сильно отличается\n",
    "- общее количество участников не соответствует ТЗ 3259 вместо 6000 из-за того, что присутствуют пользователи, которые после регистрации не совершали никаких действий.\n",
    "- тест был остановлен накануне 31 декабря то есть раньше, чем по ТЗ(4 января) на 5 дней\n",
    "- присутствуют достаточно много пользователей участвующих в двух тестах одновременно, ТЗ на второй тест мы не знаем и нет возможности полностью установить как это повлияет на наше исследование"
   ]
  },
  {
   "cell_type": "markdown",
   "id": "5077aa74",
   "metadata": {},
   "source": [
    "## Оценка результатов A/B-тестирования"
   ]
  },
  {
   "cell_type": "markdown",
   "id": "7c883f62",
   "metadata": {},
   "source": [
    "### Результаты А/B теста"
   ]
  },
  {
   "cell_type": "markdown",
   "id": "b8904ccd",
   "metadata": {},
   "source": [
    "#### Кумулятивные графики"
   ]
  },
  {
   "cell_type": "markdown",
   "id": "fcf3bccb",
   "metadata": {},
   "source": [
    "Выделим из датасета пользователей, которые только совершали покупку, чтобы корректо посчитать выручку"
   ]
  },
  {
   "cell_type": "code",
   "execution_count": 155,
   "id": "a32fae95",
   "metadata": {},
   "outputs": [
    {
     "data": {
      "text/html": [
       "<div>\n",
       "<style scoped>\n",
       "    .dataframe tbody tr th:only-of-type {\n",
       "        vertical-align: middle;\n",
       "    }\n",
       "\n",
       "    .dataframe tbody tr th {\n",
       "        vertical-align: top;\n",
       "    }\n",
       "\n",
       "    .dataframe thead th {\n",
       "        text-align: right;\n",
       "    }\n",
       "</style>\n",
       "<table border=\"1\" class=\"dataframe\">\n",
       "  <thead>\n",
       "    <tr style=\"text-align: right;\">\n",
       "      <th></th>\n",
       "      <th>user_id</th>\n",
       "      <th>event_dt</th>\n",
       "      <th>event_name</th>\n",
       "      <th>details</th>\n",
       "      <th>group</th>\n",
       "      <th>first_date</th>\n",
       "      <th>device</th>\n",
       "      <th>lifetime</th>\n",
       "      <th>dt</th>\n",
       "    </tr>\n",
       "  </thead>\n",
       "  <tbody>\n",
       "    <tr>\n",
       "      <th>0</th>\n",
       "      <td>831887FE7F2D6CBA</td>\n",
       "      <td>2020-12-07 06:50:29</td>\n",
       "      <td>purchase</td>\n",
       "      <td>4.99</td>\n",
       "      <td>A</td>\n",
       "      <td>2020-12-07</td>\n",
       "      <td>Android</td>\n",
       "      <td>0</td>\n",
       "      <td>2020-12-07</td>\n",
       "    </tr>\n",
       "    <tr>\n",
       "      <th>1</th>\n",
       "      <td>831887FE7F2D6CBA</td>\n",
       "      <td>2020-12-09 02:19:17</td>\n",
       "      <td>purchase</td>\n",
       "      <td>99.99</td>\n",
       "      <td>A</td>\n",
       "      <td>2020-12-07</td>\n",
       "      <td>Android</td>\n",
       "      <td>2</td>\n",
       "      <td>2020-12-09</td>\n",
       "    </tr>\n",
       "    <tr>\n",
       "      <th>8</th>\n",
       "      <td>3C5DD0288AC4FE23</td>\n",
       "      <td>2020-12-07 19:42:40</td>\n",
       "      <td>purchase</td>\n",
       "      <td>4.99</td>\n",
       "      <td>A</td>\n",
       "      <td>2020-12-07</td>\n",
       "      <td>PC</td>\n",
       "      <td>0</td>\n",
       "      <td>2020-12-07</td>\n",
       "    </tr>\n",
       "    <tr>\n",
       "      <th>11</th>\n",
       "      <td>49EA242586C87836</td>\n",
       "      <td>2020-12-07 06:31:24</td>\n",
       "      <td>purchase</td>\n",
       "      <td>99.99</td>\n",
       "      <td>B</td>\n",
       "      <td>2020-12-07</td>\n",
       "      <td>iPhone</td>\n",
       "      <td>0</td>\n",
       "      <td>2020-12-07</td>\n",
       "    </tr>\n",
       "    <tr>\n",
       "      <th>12</th>\n",
       "      <td>49EA242586C87836</td>\n",
       "      <td>2020-12-09 15:39:47</td>\n",
       "      <td>purchase</td>\n",
       "      <td>9.99</td>\n",
       "      <td>B</td>\n",
       "      <td>2020-12-07</td>\n",
       "      <td>iPhone</td>\n",
       "      <td>2</td>\n",
       "      <td>2020-12-09</td>\n",
       "    </tr>\n",
       "  </tbody>\n",
       "</table>\n",
       "</div>"
      ],
      "text/plain": [
       "             user_id            event_dt event_name  details group first_date  \\\n",
       "0   831887FE7F2D6CBA 2020-12-07 06:50:29   purchase     4.99     A 2020-12-07   \n",
       "1   831887FE7F2D6CBA 2020-12-09 02:19:17   purchase    99.99     A 2020-12-07   \n",
       "8   3C5DD0288AC4FE23 2020-12-07 19:42:40   purchase     4.99     A 2020-12-07   \n",
       "11  49EA242586C87836 2020-12-07 06:31:24   purchase    99.99     B 2020-12-07   \n",
       "12  49EA242586C87836 2020-12-09 15:39:47   purchase     9.99     B 2020-12-07   \n",
       "\n",
       "     device  lifetime          dt  \n",
       "0   Android         0  2020-12-07  \n",
       "1   Android         2  2020-12-09  \n",
       "8        PC         0  2020-12-07  \n",
       "11   iPhone         0  2020-12-07  \n",
       "12   iPhone         2  2020-12-09  "
      ]
     },
     "execution_count": 155,
     "metadata": {},
     "output_type": "execute_result"
    }
   ],
   "source": [
    "# выделим датасета\n",
    "final_df_purchase = final_df.loc[final_df['event_name']=='purchase']\n",
    "final_df_purchase.head()"
   ]
  },
  {
   "cell_type": "code",
   "execution_count": 156,
   "id": "4204f10b",
   "metadata": {},
   "outputs": [
    {
     "data": {
      "text/html": [
       "<div>\n",
       "<style scoped>\n",
       "    .dataframe tbody tr th:only-of-type {\n",
       "        vertical-align: middle;\n",
       "    }\n",
       "\n",
       "    .dataframe tbody tr th {\n",
       "        vertical-align: top;\n",
       "    }\n",
       "\n",
       "    .dataframe thead th {\n",
       "        text-align: right;\n",
       "    }\n",
       "</style>\n",
       "<table border=\"1\" class=\"dataframe\">\n",
       "  <thead>\n",
       "    <tr style=\"text-align: right;\">\n",
       "      <th></th>\n",
       "      <th>dt</th>\n",
       "      <th>group</th>\n",
       "      <th>visitors</th>\n",
       "    </tr>\n",
       "  </thead>\n",
       "  <tbody>\n",
       "    <tr>\n",
       "      <th>0</th>\n",
       "      <td>2020-12-07</td>\n",
       "      <td>A</td>\n",
       "      <td>148</td>\n",
       "    </tr>\n",
       "    <tr>\n",
       "      <th>1</th>\n",
       "      <td>2020-12-07</td>\n",
       "      <td>B</td>\n",
       "      <td>119</td>\n",
       "    </tr>\n",
       "    <tr>\n",
       "      <th>2</th>\n",
       "      <td>2020-12-08</td>\n",
       "      <td>A</td>\n",
       "      <td>147</td>\n",
       "    </tr>\n",
       "    <tr>\n",
       "      <th>3</th>\n",
       "      <td>2020-12-08</td>\n",
       "      <td>B</td>\n",
       "      <td>82</td>\n",
       "    </tr>\n",
       "    <tr>\n",
       "      <th>4</th>\n",
       "      <td>2020-12-09</td>\n",
       "      <td>A</td>\n",
       "      <td>171</td>\n",
       "    </tr>\n",
       "  </tbody>\n",
       "</table>\n",
       "</div>"
      ],
      "text/plain": [
       "           dt group  visitors\n",
       "0  2020-12-07     A       148\n",
       "1  2020-12-07     B       119\n",
       "2  2020-12-08     A       147\n",
       "3  2020-12-08     B        82\n",
       "4  2020-12-09     A       171"
      ]
     },
     "execution_count": 156,
     "metadata": {},
     "output_type": "execute_result"
    }
   ],
   "source": [
    "# создадим для удобства датасет с количеством уникальных пользователей в каждый день\n",
    "visitors = (\n",
    "    final_df\n",
    "    .groupby(['dt','group'])\n",
    "    .agg({'user_id':'nunique'})\n",
    "    .rename(columns={'user_id':'visitors'})\n",
    "    .reset_index()\n",
    ")\n",
    "visitors.head()"
   ]
  },
  {
   "cell_type": "code",
   "execution_count": 157,
   "id": "7abaac94",
   "metadata": {},
   "outputs": [],
   "source": [
    "# расчет кумулятивной выручки по группам\n",
    "\n",
    "# массив уникальных пар значений дат и групп теста\n",
    "datesGroups = final_df_purchase[['dt', 'group']].drop_duplicates()\n",
    "\n",
    "# агрегированные кумулятивные по дням данные о покупках\n",
    "ordersAggregated = datesGroups.apply(\n",
    "    lambda x: final_df_purchase[\n",
    "        np.logical_and(\n",
    "            final_df_purchase['dt'] <= x['dt'], final_df_purchase['group'] == x['group']\n",
    "        )\n",
    "    ].agg(\n",
    "        {\n",
    "            'dt': 'max',\n",
    "            'group': 'max',\n",
    "            'event_dt': 'nunique',\n",
    "            'user_id': 'nunique',\n",
    "            'details': 'sum',\n",
    "        }\n",
    "    ),\n",
    "    axis=1,\n",
    ").sort_values(by=['dt', 'group'])\n",
    "\n",
    "# агрегированные кумулятивные по дням данные о пользователях\n",
    "visitorsAggregated = datesGroups.apply(\n",
    "    lambda x: visitors[\n",
    "        np.logical_and(\n",
    "            visitors['dt'] <= x['dt'], visitors['group'] == x['group']\n",
    "        )\n",
    "    ].agg({'dt': 'max', 'group': 'max', 'visitors': 'sum'}),\n",
    "    axis=1,\n",
    ").sort_values(by=['dt', 'group'])"
   ]
  },
  {
   "cell_type": "code",
   "execution_count": 158,
   "id": "19fd276e",
   "metadata": {},
   "outputs": [],
   "source": [
    "# объединяем кумулятивные данные в одной таблице и присваиваем ее столбцам понятные названия\n",
    "\n",
    "cumulativeData = ordersAggregated.merge(\n",
    "    visitorsAggregated, left_on=['dt', 'group'], right_on=['dt', 'group']\n",
    ")\n",
    "cumulativeData.columns = [\n",
    "    'date',\n",
    "    'group',\n",
    "    'purchases',\n",
    "    'buyers',\n",
    "    'revenue',\n",
    "    'visitors',\n",
    "]\n",
    "\n",
    "# датафреймы с кумулятивным количеством покупок и кумулятивной выручкой по дням в группе А и В\n",
    "cumulativeRevenueA = cumulativeData[cumulativeData['group']=='A'][['date', 'revenue', 'purchases']]\n",
    "cumulativeRevenueB = cumulativeData[cumulativeData['group']=='B'][['date', 'revenue', 'purchases']]"
   ]
  },
  {
   "cell_type": "code",
   "execution_count": 159,
   "id": "86b6e259",
   "metadata": {},
   "outputs": [
    {
     "data": {
      "text/html": [
       "<div>\n",
       "<style scoped>\n",
       "    .dataframe tbody tr th:only-of-type {\n",
       "        vertical-align: middle;\n",
       "    }\n",
       "\n",
       "    .dataframe tbody tr th {\n",
       "        vertical-align: top;\n",
       "    }\n",
       "\n",
       "    .dataframe thead th {\n",
       "        text-align: right;\n",
       "    }\n",
       "</style>\n",
       "<table border=\"1\" class=\"dataframe\">\n",
       "  <thead>\n",
       "    <tr style=\"text-align: right;\">\n",
       "      <th></th>\n",
       "      <th>date</th>\n",
       "      <th>group</th>\n",
       "      <th>purchases</th>\n",
       "      <th>buyers</th>\n",
       "      <th>revenue</th>\n",
       "      <th>visitors</th>\n",
       "    </tr>\n",
       "  </thead>\n",
       "  <tbody>\n",
       "    <tr>\n",
       "      <th>0</th>\n",
       "      <td>2020-12-07</td>\n",
       "      <td>A</td>\n",
       "      <td>42</td>\n",
       "      <td>43</td>\n",
       "      <td>1104.57</td>\n",
       "      <td>148</td>\n",
       "    </tr>\n",
       "    <tr>\n",
       "      <th>1</th>\n",
       "      <td>2020-12-07</td>\n",
       "      <td>B</td>\n",
       "      <td>47</td>\n",
       "      <td>47</td>\n",
       "      <td>639.53</td>\n",
       "      <td>119</td>\n",
       "    </tr>\n",
       "    <tr>\n",
       "      <th>2</th>\n",
       "      <td>2020-12-08</td>\n",
       "      <td>A</td>\n",
       "      <td>75</td>\n",
       "      <td>65</td>\n",
       "      <td>1859.24</td>\n",
       "      <td>295</td>\n",
       "    </tr>\n",
       "    <tr>\n",
       "      <th>3</th>\n",
       "      <td>2020-12-08</td>\n",
       "      <td>B</td>\n",
       "      <td>71</td>\n",
       "      <td>52</td>\n",
       "      <td>974.29</td>\n",
       "      <td>201</td>\n",
       "    </tr>\n",
       "    <tr>\n",
       "      <th>4</th>\n",
       "      <td>2020-12-09</td>\n",
       "      <td>A</td>\n",
       "      <td>122</td>\n",
       "      <td>88</td>\n",
       "      <td>2618.77</td>\n",
       "      <td>466</td>\n",
       "    </tr>\n",
       "  </tbody>\n",
       "</table>\n",
       "</div>"
      ],
      "text/plain": [
       "         date group  purchases  buyers  revenue  visitors\n",
       "0  2020-12-07     A         42      43  1104.57       148\n",
       "1  2020-12-07     B         47      47   639.53       119\n",
       "2  2020-12-08     A         75      65  1859.24       295\n",
       "3  2020-12-08     B         71      52   974.29       201\n",
       "4  2020-12-09     A        122      88  2618.77       466"
      ]
     },
     "execution_count": 159,
     "metadata": {},
     "output_type": "execute_result"
    }
   ],
   "source": [
    "# проверка полученного датасета с кумулятивными данными\n",
    "cumulativeData.head()"
   ]
  },
  {
   "cell_type": "code",
   "execution_count": 160,
   "id": "b3f09d38",
   "metadata": {},
   "outputs": [
    {
     "data": {
      "image/png": "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\n",
      "text/plain": [
       "<Figure size 1008x432 with 1 Axes>"
      ]
     },
     "metadata": {
      "needs_background": "light"
     },
     "output_type": "display_data"
    }
   ],
   "source": [
    "# график кумулятивной выручки по группам\n",
    "plt.figure(figsize=(14, 6))\n",
    "plt.plot(cumulativeRevenueA['date'], cumulativeRevenueA['revenue'], label='A')\n",
    "plt.plot(cumulativeRevenueB['date'], cumulativeRevenueB['revenue'], label='B')\n",
    "plt.legend()\n",
    "plt.title('Кумулятивная выручка')\n",
    "plt.xlabel('Дата')\n",
    "plt.ylabel('Выручка')\n",
    "plt.show()"
   ]
  },
  {
   "cell_type": "markdown",
   "id": "545790cc",
   "metadata": {},
   "source": [
    "Из графика видно, что до 13 числа выручка в группе А была выше, но ненамного чем в группе В. После 13 числа, за счет добавления большого количества пользователей в группу А и не добавления в группу В, пошел резкий рост выручки в группе А.<br>\n",
    "Итоговая разница - вырчука группы А примерно в 5 раз выше выручки в группе В."
   ]
  },
  {
   "cell_type": "code",
   "execution_count": 161,
   "id": "2fbda63c",
   "metadata": {},
   "outputs": [
    {
     "data": {
      "image/png": "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\n",
      "text/plain": [
       "<Figure size 1008x432 with 1 Axes>"
      ]
     },
     "metadata": {
      "needs_background": "light"
     },
     "output_type": "display_data"
    }
   ],
   "source": [
    "# график кумулятивного среднего чека по группам\n",
    "\n",
    "plt.figure(figsize=(14, 6))\n",
    "plt.plot(cumulativeRevenueA['date'], cumulativeRevenueA['revenue']/cumulativeRevenueA['purchases'], label='A')\n",
    "plt.plot(cumulativeRevenueB['date'], cumulativeRevenueB['revenue']/cumulativeRevenueB['purchases'], label='B')\n",
    "plt.legend()\n",
    "plt.title('Кумулятивный средний чек')\n",
    "plt.xlabel('Дата')\n",
    "plt.ylabel('Стоимость заказа')\n",
    "plt.show()"
   ]
  },
  {
   "cell_type": "markdown",
   "id": "be91537e",
   "metadata": {},
   "source": [
    "На графике среднего чека совсем другая картина:\n",
    "- Для группы А средний чек за первые дни теста снизился с 26 до 22 долларов, а потом держался на одном уровне до конца теста.\n",
    "- Для группы В средний чек вырос с 14 до 21-22 долларов за время теста и пока не остановился на этой величине. То есть практически сравнялся с группой А.\n"
   ]
  },
  {
   "cell_type": "code",
   "execution_count": 162,
   "id": "7246f1bf",
   "metadata": {},
   "outputs": [
    {
     "data": {
      "image/png": "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\n",
      "text/plain": [
       "<Figure size 1008x432 with 1 Axes>"
      ]
     },
     "metadata": {
      "needs_background": "light"
     },
     "output_type": "display_data"
    }
   ],
   "source": [
    "# график относительного изменения кумулятивного среднего чека группы B к группе A\n",
    "\n",
    "# собираем данные в одном датафрейме\n",
    "mergedCumulativeRevenue = cumulativeRevenueA.merge(\n",
    "    cumulativeRevenueB, left_on='date', right_on='date', how='left', suffixes=['A', 'B']\n",
    ")\n",
    "\n",
    "# cтроим отношение средних чеков\n",
    "plt.figure(figsize=(14, 6))\n",
    "plt.plot(\n",
    "    mergedCumulativeRevenue['date'], \n",
    "    (mergedCumulativeRevenue['revenueB']/mergedCumulativeRevenue['purchasesB'])/\n",
    "    (mergedCumulativeRevenue['revenueA']/mergedCumulativeRevenue['purchasesA'])-1\n",
    ")\n",
    "\n",
    "# добавляем ось X\n",
    "plt.axhline(y=0, color='black', linestyle='--')\n",
    "plt.title('Относительное изменение кумулятивного среднего чека группы B к группе A')\n",
    "plt.xlabel('Дата')\n",
    "plt.ylabel('Относительное изменение')\n",
    "plt.show()"
   ]
  },
  {
   "cell_type": "markdown",
   "id": "e487a0b9",
   "metadata": {},
   "source": [
    "По графику видно, как растет средний чек группы В"
   ]
  },
  {
   "cell_type": "code",
   "execution_count": 163,
   "id": "30db914e",
   "metadata": {},
   "outputs": [],
   "source": [
    "# кумулятивная конверсия в покукпку по группам\n",
    "\n",
    "# считаем кумулятивную конверсию\n",
    "cumulativeData['conversion'] = cumulativeData['purchases']/cumulativeData['visitors']\n",
    "\n",
    "# отделяем данные по группе A\n",
    "cumulativeDataA = cumulativeData[cumulativeData['group']=='A']\n",
    "\n",
    "# отделяем данные по группе B\n",
    "cumulativeDataB = cumulativeData[cumulativeData['group']=='B']"
   ]
  },
  {
   "cell_type": "code",
   "execution_count": 164,
   "id": "ed2a24f5",
   "metadata": {},
   "outputs": [
    {
     "data": {
      "image/png": "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\n",
      "text/plain": [
       "<Figure size 1008x432 with 1 Axes>"
      ]
     },
     "metadata": {
      "needs_background": "light"
     },
     "output_type": "display_data"
    }
   ],
   "source": [
    "# графики кумулятивной конверсии в покупку по группам\n",
    "\n",
    "plt.figure(figsize=(14, 6))\n",
    "plt.plot(cumulativeDataA['date'], cumulativeDataA['conversion'], label='A')\n",
    "plt.plot(cumulativeDataB['date'], cumulativeDataB['conversion'], label='B')\n",
    "plt.legend()\n",
    "plt.title('Кумулятивная конверсия в покупку')\n",
    "plt.xlabel('Дата')\n",
    "plt.ylabel('Конверсия')\n",
    "plt.show()"
   ]
  },
  {
   "cell_type": "markdown",
   "id": "c01f6568",
   "metadata": {},
   "source": [
    "- Конверсия для группы В изначально была очень сильно выше группы А, но со временем она упала до 0.28 и зафиксировалась в районе этой величины.\n",
    "- Конверсия для группы А после 13 числа начала расти и дошла до 0.30.\n",
    "- Конверсия группы В стала хуже чем у группы А после 15 числа.\n",
    "- Опять же видим влияние резкого увеличения числа пользователей для группы А"
   ]
  },
  {
   "cell_type": "code",
   "execution_count": 165,
   "id": "f5cbc490",
   "metadata": {},
   "outputs": [
    {
     "data": {
      "image/png": "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\n",
      "text/plain": [
       "<Figure size 1008x432 with 1 Axes>"
      ]
     },
     "metadata": {
      "needs_background": "light"
     },
     "output_type": "display_data"
    }
   ],
   "source": [
    "# график относительного изменения кумулятивной конверсии в покупку группы B к группе A\n",
    "\n",
    "mergedCumulativeConversions = cumulativeDataA[['date','conversion']].merge(cumulativeDataB[['date','conversion']], left_on='date', right_on='date', how='left', suffixes=['A', 'B'])\n",
    "\n",
    "plt.figure(figsize=(14, 6))\n",
    "plt.plot(\n",
    "    mergedCumulativeConversions['date'], \n",
    "    mergedCumulativeConversions['conversionB']/mergedCumulativeConversions['conversionA']-1, \n",
    "    label=\"Относительный прирост конверсии группы B относительно группы A\"\n",
    ")\n",
    "plt.legend()\n",
    "\n",
    "plt.axhline(y=0, color='black', linestyle='--')\n",
    "plt.title('Относительное изменение кумулятивной конверсии в покупку группы B к группе A')\n",
    "plt.xlabel('Дата')\n",
    "plt.ylabel('Относительное изменение')\n",
    "plt.show()"
   ]
  },
  {
   "cell_type": "markdown",
   "id": "3d1ceb03",
   "metadata": {},
   "source": [
    "Как видим из графика в начале теста конверсия была лучше у группы В, но она постоянно падала. После 15 числа она стала хежу конверсии В и остановился на определенном уровне начиная с 20 числа.\n",
    "\n",
    "По этим данным тест можно заканчивать и признать его неудачным, так как группа А предпочтительней. Но теперь нужно проанализировать данные на выбросы, возможно картина измениться."
   ]
  },
  {
   "cell_type": "markdown",
   "id": "2a55eeee",
   "metadata": {},
   "source": [
    "### Проверка статистической разницы"
   ]
  },
  {
   "cell_type": "markdown",
   "id": "c54fee01",
   "metadata": {},
   "source": [
    "Чтобы определить, находят ли статистические критерии разницу между группами A и B, проверим гипотезы на равенство долей пользователей совершивших событие.\n",
    "\n",
    "Напишем для этого функцию для проверки равенства долей событий между группами.<br>\n",
    "\n",
    "Также с помощью онлайн-калькулятора вычислим показатель мощности событий. То есть вероятность насколько мы уверены в том, что приняли нулевую гипотезу, когда на самом деле верна альтернативная гипотеза."
   ]
  },
  {
   "cell_type": "code",
   "execution_count": 166,
   "id": "e2fdaaff",
   "metadata": {},
   "outputs": [
    {
     "data": {
      "text/html": [
       "<div>\n",
       "<style scoped>\n",
       "    .dataframe tbody tr th:only-of-type {\n",
       "        vertical-align: middle;\n",
       "    }\n",
       "\n",
       "    .dataframe tbody tr th {\n",
       "        vertical-align: top;\n",
       "    }\n",
       "\n",
       "    .dataframe thead th {\n",
       "        text-align: right;\n",
       "    }\n",
       "</style>\n",
       "<table border=\"1\" class=\"dataframe\">\n",
       "  <thead>\n",
       "    <tr style=\"text-align: right;\">\n",
       "      <th></th>\n",
       "      <th></th>\n",
       "      <th>user_id</th>\n",
       "    </tr>\n",
       "    <tr>\n",
       "      <th>group</th>\n",
       "      <th>event_name</th>\n",
       "      <th></th>\n",
       "    </tr>\n",
       "  </thead>\n",
       "  <tbody>\n",
       "    <tr>\n",
       "      <th rowspan=\"4\" valign=\"top\">A</th>\n",
       "      <th>login</th>\n",
       "      <td>2604</td>\n",
       "    </tr>\n",
       "    <tr>\n",
       "      <th>product_page</th>\n",
       "      <td>1685</td>\n",
       "    </tr>\n",
       "    <tr>\n",
       "      <th>purchase</th>\n",
       "      <td>833</td>\n",
       "    </tr>\n",
       "    <tr>\n",
       "      <th>product_cart</th>\n",
       "      <td>782</td>\n",
       "    </tr>\n",
       "    <tr>\n",
       "      <th rowspan=\"4\" valign=\"top\">B</th>\n",
       "      <th>login</th>\n",
       "      <td>654</td>\n",
       "    </tr>\n",
       "    <tr>\n",
       "      <th>product_page</th>\n",
       "      <td>367</td>\n",
       "    </tr>\n",
       "    <tr>\n",
       "      <th>purchase</th>\n",
       "      <td>191</td>\n",
       "    </tr>\n",
       "    <tr>\n",
       "      <th>product_cart</th>\n",
       "      <td>184</td>\n",
       "    </tr>\n",
       "  </tbody>\n",
       "</table>\n",
       "</div>"
      ],
      "text/plain": [
       "                    user_id\n",
       "group event_name           \n",
       "A     login            2604\n",
       "      product_page     1685\n",
       "      purchase          833\n",
       "      product_cart      782\n",
       "B     login             654\n",
       "      product_page      367\n",
       "      purchase          191\n",
       "      product_cart      184"
      ]
     },
     "execution_count": 166,
     "metadata": {},
     "output_type": "execute_result"
    }
   ],
   "source": [
    "# определим количество пользователей совершивших события для каждой группы\n",
    "user_count_event = (\n",
    "    final_df.groupby(['group','event_name'])\n",
    "    .agg({'user_id':'nunique'})\n",
    "    .sort_values(['group','user_id'], ascending=[True, False])\n",
    ")\n",
    "user_count_event"
   ]
  },
  {
   "cell_type": "code",
   "execution_count": 167,
   "id": "6c73d2f4",
   "metadata": {},
   "outputs": [
    {
     "data": {
      "text/html": [
       "<div>\n",
       "<style scoped>\n",
       "    .dataframe tbody tr th:only-of-type {\n",
       "        vertical-align: middle;\n",
       "    }\n",
       "\n",
       "    .dataframe tbody tr th {\n",
       "        vertical-align: top;\n",
       "    }\n",
       "\n",
       "    .dataframe thead th {\n",
       "        text-align: right;\n",
       "    }\n",
       "</style>\n",
       "<table border=\"1\" class=\"dataframe\">\n",
       "  <thead>\n",
       "    <tr style=\"text-align: right;\">\n",
       "      <th></th>\n",
       "      <th>user_id</th>\n",
       "    </tr>\n",
       "    <tr>\n",
       "      <th>group</th>\n",
       "      <th></th>\n",
       "    </tr>\n",
       "  </thead>\n",
       "  <tbody>\n",
       "    <tr>\n",
       "      <th>A</th>\n",
       "      <td>2604</td>\n",
       "    </tr>\n",
       "    <tr>\n",
       "      <th>B</th>\n",
       "      <td>655</td>\n",
       "    </tr>\n",
       "  </tbody>\n",
       "</table>\n",
       "</div>"
      ],
      "text/plain": [
       "       user_id\n",
       "group         \n",
       "A         2604\n",
       "B          655"
      ]
     },
     "execution_count": 167,
     "metadata": {},
     "output_type": "execute_result"
    }
   ],
   "source": [
    "# количество уникальных пользователей в разных группам A/B теста\n",
    "user_count = final_df.groupby('group').agg({'user_id':'nunique'})\n",
    "user_count"
   ]
  },
  {
   "cell_type": "code",
   "execution_count": 168,
   "id": "becf73eb",
   "metadata": {},
   "outputs": [],
   "source": [
    "# функция для проверки равенста долей событий, будет ли отличие между контрольными группами статистически достоверным\n",
    "def event_equals(successes_value1, successes_value2, trials_value1, trials_value2, alpha):\n",
    "    alpha = alpha # критический уровень статистической значимости\n",
    "\n",
    "    successes = np.array([successes_value1, successes_value2])\n",
    "    trials = np.array([trials_value1, trials_value2])\n",
    "\n",
    "    # пропорция успехов в первой группе:\n",
    "    p1 = successes[0]/trials[0]\n",
    "\n",
    "    # пропорция успехов во второй группе:\n",
    "    p2 = successes[1]/trials[1]\n",
    "\n",
    "    # пропорция успехов в комбинированном датасете:\n",
    "    p_combined = (successes[0] + successes[1]) / (trials[0] + trials[1])\n",
    "\n",
    "    # разница пропорций в датасетах\n",
    "    difference = p1 - p2 \n",
    "\n",
    "    # считаем статистику в ст.отклонениях стандартного нормального распределения\n",
    "    z_value = difference / mth.sqrt(p_combined * (1 - p_combined) * (1/trials[0] + 1/trials[1]))\n",
    "\n",
    "    # задаем стандартное нормальное распределение (среднее 0, ст.отклонение 1)\n",
    "    distr = st.norm(0, 1)  \n",
    "\n",
    "    # считаем статистику в ст.отклонениях стандартного нормального распределения\n",
    "    z_value = difference / mth.sqrt(\n",
    "        p_combined * (1 - p_combined) * (1 / trials[0] + 1 / trials[1])\n",
    "    )\n",
    "\n",
    "    # задаем стандартное нормальное распределение (среднее 0, ст.отклонение 1)\n",
    "    distr = st.norm(0, 1)\n",
    "\n",
    "    p_value = (1 - distr.cdf(abs(z_value))) * 2\n",
    "\n",
    "    print('p-значение: ', p_value)\n",
    "\n",
    "    if p_value < alpha:\n",
    "        return print('Отвергаем нулевую гипотезу: между долями есть значимая разница')\n",
    "    else:\n",
    "        return print(\n",
    "            'Не получилось отвергнуть нулевую гипотезу, нет оснований считать доли разными'\n",
    "        ) "
   ]
  },
  {
   "cell_type": "markdown",
   "id": "4f242355",
   "metadata": {},
   "source": [
    "Сформулируем гипотезы\n",
    "\n",
    "- H0: между долями пользователей для события из разных групп нет значимой разницы.\n",
    "- H1: между долями пользователей для события из разных групп есть значимая разница.\n",
    "\n",
    "Уровень значимости установим в 0.05."
   ]
  },
  {
   "cell_type": "code",
   "execution_count": 169,
   "id": "30113143",
   "metadata": {},
   "outputs": [
    {
     "name": "stdout",
     "output_type": "stream",
     "text": [
      "p-значение:  [3.94054107e-05]\n",
      "Отвергаем нулевую гипотезу: между долями есть значимая разница\n"
     ]
    }
   ],
   "source": [
    "# вызов функции для проверки гипотезы равенства долей для события product_page\n",
    "event_equals(user_count_event.loc[('A','product_page')], \n",
    "             user_count_event.loc[('B','product_page')], \n",
    "             user_count.loc[('A')], \n",
    "             user_count.loc[('B')],\n",
    "            .05)"
   ]
  },
  {
   "cell_type": "code",
   "execution_count": 170,
   "id": "8d4cb0f8",
   "metadata": {},
   "outputs": [
    {
     "name": "stdout",
     "output_type": "stream",
     "text": [
      "p-значение:  [0.16326348]\n",
      "Не получилось отвергнуть нулевую гипотезу, нет оснований считать доли разными\n"
     ]
    }
   ],
   "source": [
    "# вызов функции для проверки гипотезы равенства долей для события purchase\n",
    "event_equals(user_count_event.loc[('A','purchase')], \n",
    "             user_count_event.loc[('B','purchase')], \n",
    "             user_count.loc[('A')], \n",
    "             user_count.loc[('B')],\n",
    "            .05)"
   ]
  },
  {
   "cell_type": "markdown",
   "id": "737f5f76",
   "metadata": {},
   "source": []
  },
  {
   "cell_type": "markdown",
   "id": "933d96e7",
   "metadata": {},
   "source": [
    "Мощность равна 22% - это означает, что есть очень большая вероятность(78%), что различие между группами на самом деле есть. Просто будем это учитывать."
   ]
  },
  {
   "cell_type": "code",
   "execution_count": 171,
   "id": "6a07975e",
   "metadata": {},
   "outputs": [
    {
     "name": "stdout",
     "output_type": "stream",
     "text": [
      "p-значение:  [0.33135016]\n",
      "Не получилось отвергнуть нулевую гипотезу, нет оснований считать доли разными\n"
     ]
    }
   ],
   "source": [
    "# вызов функции для проверки гипотезы равенства долей для события product_cart\n",
    "event_equals(user_count_event.loc[('A','product_cart')], \n",
    "             user_count_event.loc[('B','product_cart')], \n",
    "             user_count.loc[('A')], \n",
    "             user_count.loc[('B')],\n",
    "            .05)"
   ]
  },
  {
   "cell_type": "markdown",
   "id": "d28bade9",
   "metadata": {},
   "source": [
    "Мощность равна 4% - шансы ошибиться стремятся к 100%"
   ]
  },
  {
   "cell_type": "markdown",
   "id": "2660c8ea",
   "metadata": {},
   "source": [
    "Вывод:\n",
    "- для событий `purchase` и `product_cart` нет значимой разницы в количестве пользователей между группами теста, но мощность 22% и 4% соотевтственно, что категорически мало"
   ]
  },
  {
   "cell_type": "markdown",
   "id": "7ca6a37e",
   "metadata": {},
   "source": [
    "## Выводы"
   ]
  },
  {
   "cell_type": "markdown",
   "id": "ee6764d4",
   "metadata": {},
   "source": [
    "**Основные выводы**"
   ]
  },
  {
   "cell_type": "markdown",
   "id": "19fda83f",
   "metadata": {},
   "source": [
    "- По ряду пунктов данные не соответствуют ТЗ, а именно:\n",
    "    - количество участников теста отличается о того, что заявлено в ТЗ, вместо 6000 имеются 3200. Это произошло потому, что есть 3000 пользователей зарегестрировавшихся, но не совершавших никаких действий.\n",
    "    - тест прекратился раньше установленной даты 30 декабря вместо 4 января\n",
    "    - пользователи за 14 дней с момента регистрации не показали улучшение конверсий в события на 10%, наоборот наблюдается ухудшение эти показателей\n",
    "- Участников в группе В сильно меньше чем в группе А, 2600 против 650. Такой перекос произошел в том числе, из-за того что после 13 декабря в группе А перестали присоединяться пользователи, которые не совершали действий. В итоге из 6400 зарегестрировавшихся участников, 3000 не совершали действия и из этих 3000 к группе В принадлежат 1800 человек.\n",
    "- Кумулятивный средний чек для группы В увеличивался день ко дню. Кумулятивная конверсия у группы В хуже чем у группы А, эти результаты можно признать правдивыми, так как между долями конверсии в покупку нет значимой разницы для разных групп теста.\n",
    "- Результаты по вычислению конверсии в другие события следующие:\n",
    "    - для события `product_page` между долями есть значимая разница, результаты нельзя принимать во внимание\n",
    "    - для события `product_cart` между долями нет значимой разницы, результаты конверсии можно считать достоверными"
   ]
  },
  {
   "cell_type": "markdown",
   "id": "9f4574d5",
   "metadata": {},
   "source": [
    "**Главный вывод** - результаты статистической проверки позволяют нам сказать, что новая рекомендательная система не показала должных изменений и следует признать тест неудачным. Но нужно учитывать мощность статистического теста, что вероятность ошибиться из-за количества пользователей, крайне велика."
   ]
  }
 ],
 "metadata": {
  "ExecuteTimeLog": [
   {
    "duration": 2694,
    "start_time": "2022-08-26T05:47:31.595Z"
   },
   {
    "duration": 1655,
    "start_time": "2022-08-26T05:47:34.291Z"
   },
   {
    "duration": 83,
    "start_time": "2022-08-26T05:47:35.949Z"
   },
   {
    "duration": 38,
    "start_time": "2022-08-26T05:47:36.034Z"
   },
   {
    "duration": 81,
    "start_time": "2022-08-26T05:47:36.074Z"
   },
   {
    "duration": 147,
    "start_time": "2022-08-26T05:47:36.157Z"
   },
   {
    "duration": 201,
    "start_time": "2022-08-26T05:47:36.309Z"
   },
   {
    "duration": 6,
    "start_time": "2022-08-26T05:47:36.511Z"
   },
   {
    "duration": 18,
    "start_time": "2022-08-26T05:47:36.518Z"
   },
   {
    "duration": 38,
    "start_time": "2022-08-26T05:47:36.539Z"
   },
   {
    "duration": 31,
    "start_time": "2022-08-26T05:47:36.579Z"
   },
   {
    "duration": 11,
    "start_time": "2022-08-26T05:47:36.612Z"
   },
   {
    "duration": 7,
    "start_time": "2022-08-26T05:47:36.624Z"
   },
   {
    "duration": 6,
    "start_time": "2022-08-26T05:47:36.633Z"
   },
   {
    "duration": 13,
    "start_time": "2022-08-26T05:47:36.641Z"
   },
   {
    "duration": 11,
    "start_time": "2022-08-26T05:47:36.656Z"
   },
   {
    "duration": 46,
    "start_time": "2022-08-26T05:47:36.668Z"
   },
   {
    "duration": 43,
    "start_time": "2022-08-26T05:47:36.716Z"
   },
   {
    "duration": 55,
    "start_time": "2022-08-26T05:47:36.761Z"
   },
   {
    "duration": 5,
    "start_time": "2022-08-26T05:47:36.818Z"
   },
   {
    "duration": 11,
    "start_time": "2022-08-26T05:47:36.825Z"
   },
   {
    "duration": 19,
    "start_time": "2022-08-26T05:47:36.838Z"
   },
   {
    "duration": 6,
    "start_time": "2022-08-26T05:47:36.859Z"
   },
   {
    "duration": 150,
    "start_time": "2022-08-26T05:47:36.867Z"
   },
   {
    "duration": 9,
    "start_time": "2022-08-26T05:47:37.019Z"
   },
   {
    "duration": 53,
    "start_time": "2022-08-26T05:47:37.030Z"
   },
   {
    "duration": 35,
    "start_time": "2022-08-26T05:47:37.085Z"
   },
   {
    "duration": 19,
    "start_time": "2022-08-26T05:47:37.125Z"
   },
   {
    "duration": 447,
    "start_time": "2022-08-26T05:47:37.146Z"
   },
   {
    "duration": 393,
    "start_time": "2022-08-26T05:47:37.595Z"
   },
   {
    "duration": 362,
    "start_time": "2022-08-26T05:47:37.990Z"
   },
   {
    "duration": 9,
    "start_time": "2022-08-26T05:47:38.354Z"
   },
   {
    "duration": 15,
    "start_time": "2022-08-26T05:47:38.365Z"
   },
   {
    "duration": 50,
    "start_time": "2022-08-26T05:47:38.382Z"
   },
   {
    "duration": 19,
    "start_time": "2022-08-26T05:47:38.434Z"
   },
   {
    "duration": 5,
    "start_time": "2022-08-26T05:47:38.455Z"
   },
   {
    "duration": 23,
    "start_time": "2022-08-26T05:47:38.461Z"
   },
   {
    "duration": 11,
    "start_time": "2022-08-26T05:47:38.509Z"
   },
   {
    "duration": 37,
    "start_time": "2022-08-26T05:47:38.521Z"
   },
   {
    "duration": 16,
    "start_time": "2022-08-26T05:47:38.560Z"
   },
   {
    "duration": 7,
    "start_time": "2022-08-26T05:47:38.577Z"
   },
   {
    "duration": 32,
    "start_time": "2022-08-26T05:47:38.585Z"
   },
   {
    "duration": 23,
    "start_time": "2022-08-26T05:47:38.619Z"
   },
   {
    "duration": 21,
    "start_time": "2022-08-26T05:47:38.644Z"
   },
   {
    "duration": 42,
    "start_time": "2022-08-26T05:47:38.667Z"
   },
   {
    "duration": 15,
    "start_time": "2022-08-26T05:47:38.710Z"
   },
   {
    "duration": 27,
    "start_time": "2022-08-26T05:47:38.727Z"
   },
   {
    "duration": 642,
    "start_time": "2022-08-26T05:47:38.756Z"
   },
   {
    "duration": 28,
    "start_time": "2022-08-26T05:47:39.399Z"
   },
   {
    "duration": 627,
    "start_time": "2022-08-26T05:47:39.429Z"
   },
   {
    "duration": 155,
    "start_time": "2022-08-26T05:47:40.058Z"
   },
   {
    "duration": 28,
    "start_time": "2022-08-26T05:47:40.214Z"
   },
   {
    "duration": 19,
    "start_time": "2022-08-26T05:47:40.244Z"
   },
   {
    "duration": 52,
    "start_time": "2022-08-26T05:47:40.265Z"
   },
   {
    "duration": 722,
    "start_time": "2022-08-26T05:47:40.319Z"
   },
   {
    "duration": 360,
    "start_time": "2022-08-26T05:47:41.043Z"
   },
   {
    "duration": 17,
    "start_time": "2022-08-26T05:47:41.405Z"
   },
   {
    "duration": 34,
    "start_time": "2022-08-26T05:47:41.424Z"
   },
   {
    "duration": 260,
    "start_time": "2022-08-26T05:47:41.460Z"
   },
   {
    "duration": 12,
    "start_time": "2022-08-26T05:47:41.723Z"
   },
   {
    "duration": 17,
    "start_time": "2022-08-26T05:47:41.737Z"
   },
   {
    "duration": 207,
    "start_time": "2022-08-26T05:47:41.756Z"
   },
   {
    "duration": 201,
    "start_time": "2022-08-26T05:47:41.965Z"
   },
   {
    "duration": 294,
    "start_time": "2022-08-26T05:47:42.167Z"
   },
   {
    "duration": 6,
    "start_time": "2022-08-26T05:47:42.463Z"
   },
   {
    "duration": 204,
    "start_time": "2022-08-26T05:47:42.470Z"
   },
   {
    "duration": 338,
    "start_time": "2022-08-26T05:47:42.675Z"
   },
   {
    "duration": 18,
    "start_time": "2022-08-26T05:47:43.015Z"
   },
   {
    "duration": 12,
    "start_time": "2022-08-26T05:47:43.035Z"
   },
   {
    "duration": 6,
    "start_time": "2022-08-26T05:47:43.049Z"
   },
   {
    "duration": 17,
    "start_time": "2022-08-26T05:47:43.057Z"
   },
   {
    "duration": 34,
    "start_time": "2022-08-26T05:47:43.075Z"
   },
   {
    "duration": 13,
    "start_time": "2022-08-26T05:47:43.111Z"
   },
   {
    "duration": 1716,
    "start_time": "2022-08-26T08:29:25.461Z"
   },
   {
    "duration": 1837,
    "start_time": "2022-08-26T08:29:27.179Z"
   },
   {
    "duration": 55,
    "start_time": "2022-08-26T08:29:29.018Z"
   },
   {
    "duration": 38,
    "start_time": "2022-08-26T08:29:29.075Z"
   },
   {
    "duration": 58,
    "start_time": "2022-08-26T08:29:29.114Z"
   },
   {
    "duration": 138,
    "start_time": "2022-08-26T08:29:29.174Z"
   },
   {
    "duration": 213,
    "start_time": "2022-08-26T08:29:29.314Z"
   },
   {
    "duration": 5,
    "start_time": "2022-08-26T08:29:29.529Z"
   },
   {
    "duration": 16,
    "start_time": "2022-08-26T08:29:29.535Z"
   },
   {
    "duration": 33,
    "start_time": "2022-08-26T08:29:29.553Z"
   },
   {
    "duration": 8,
    "start_time": "2022-08-26T08:29:29.588Z"
   },
   {
    "duration": 7,
    "start_time": "2022-08-26T08:29:29.605Z"
   },
   {
    "duration": 7,
    "start_time": "2022-08-26T08:29:29.614Z"
   },
   {
    "duration": 5,
    "start_time": "2022-08-26T08:29:29.623Z"
   },
   {
    "duration": 12,
    "start_time": "2022-08-26T08:29:29.629Z"
   },
   {
    "duration": 22,
    "start_time": "2022-08-26T08:29:29.642Z"
   },
   {
    "duration": 8,
    "start_time": "2022-08-26T08:29:29.666Z"
   },
   {
    "duration": 37,
    "start_time": "2022-08-26T08:29:29.676Z"
   },
   {
    "duration": 46,
    "start_time": "2022-08-26T08:29:29.715Z"
   },
   {
    "duration": 46,
    "start_time": "2022-08-26T08:29:29.763Z"
   },
   {
    "duration": 9,
    "start_time": "2022-08-26T08:29:29.810Z"
   },
   {
    "duration": 16,
    "start_time": "2022-08-26T08:29:29.821Z"
   },
   {
    "duration": 4,
    "start_time": "2022-08-26T08:29:29.839Z"
   },
   {
    "duration": 218,
    "start_time": "2022-08-26T08:29:29.844Z"
   },
   {
    "duration": 8,
    "start_time": "2022-08-26T08:29:30.064Z"
   },
   {
    "duration": 56,
    "start_time": "2022-08-26T08:29:30.073Z"
   },
   {
    "duration": 14,
    "start_time": "2022-08-26T08:29:30.130Z"
   },
   {
    "duration": 42,
    "start_time": "2022-08-26T08:29:30.146Z"
   },
   {
    "duration": 523,
    "start_time": "2022-08-26T08:29:30.189Z"
   },
   {
    "duration": 402,
    "start_time": "2022-08-26T08:29:30.714Z"
   },
   {
    "duration": 319,
    "start_time": "2022-08-26T08:29:31.118Z"
   },
   {
    "duration": 10,
    "start_time": "2022-08-26T08:29:31.439Z"
   },
   {
    "duration": 20,
    "start_time": "2022-08-26T08:29:31.450Z"
   },
   {
    "duration": 11,
    "start_time": "2022-08-26T08:29:55.496Z"
   },
   {
    "duration": 19,
    "start_time": "2022-08-26T08:30:23.482Z"
   },
   {
    "duration": 105,
    "start_time": "2022-08-26T08:31:57.546Z"
   },
   {
    "duration": 18,
    "start_time": "2022-08-26T08:33:20.747Z"
   },
   {
    "duration": 558,
    "start_time": "2022-08-26T08:33:37.630Z"
   },
   {
    "duration": 512,
    "start_time": "2022-08-26T08:36:38.463Z"
   }
  ],
  "kernelspec": {
   "display_name": "Python 3 (ipykernel)",
   "language": "python",
   "name": "python3"
  },
  "language_info": {
   "codemirror_mode": {
    "name": "ipython",
    "version": 3
   },
   "file_extension": ".py",
   "mimetype": "text/x-python",
   "name": "python",
   "nbconvert_exporter": "python",
   "pygments_lexer": "ipython3",
   "version": "3.9.7"
  },
  "toc": {
   "base_numbering": 1,
   "nav_menu": {},
   "number_sections": true,
   "sideBar": true,
   "skip_h1_title": true,
   "title_cell": "Table of Contents",
   "title_sidebar": "Contents",
   "toc_cell": true,
   "toc_position": {},
   "toc_section_display": true,
   "toc_window_display": false
  }
 },
 "nbformat": 4,
 "nbformat_minor": 5
}
