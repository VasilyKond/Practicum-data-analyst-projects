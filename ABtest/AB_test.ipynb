{
 "cells": [
  {
   "cell_type": "markdown",
   "id": "5a042519",
   "metadata": {
    "toc": true
   },
   "source": [
    "<h1>Table of Contents<span class=\"tocSkip\"></span></h1>\n",
    "<div class=\"toc\"><ul class=\"toc-item\"><li><span><a href=\"#Загрузка-и-обзор-данных\" data-toc-modified-id=\"Загрузка-и-обзор-данных-1\"><span class=\"toc-item-num\">1&nbsp;&nbsp;</span>Загрузка и обзор данных</a></span></li><li><span><a href=\"#Предобработка-данных\" data-toc-modified-id=\"Предобработка-данных-2\"><span class=\"toc-item-num\">2&nbsp;&nbsp;</span>Предобработка данных</a></span></li><li><span><a href=\"#Корректность-проведения-теста\" data-toc-modified-id=\"Корректность-проведения-теста-3\"><span class=\"toc-item-num\">3&nbsp;&nbsp;</span>Корректность проведения теста</a></span><ul class=\"toc-item\"><li><span><a href=\"#Соответствие-данных-требованиям-ТЗ\" data-toc-modified-id=\"Соответствие-данных-требованиям-ТЗ-3.1\"><span class=\"toc-item-num\">3.1&nbsp;&nbsp;</span>Соответствие данных требованиям ТЗ</a></span></li><li><span><a href=\"#Время-проведения-теста\" data-toc-modified-id=\"Время-проведения-теста-3.2\"><span class=\"toc-item-num\">3.2&nbsp;&nbsp;</span>Время проведения теста</a></span></li><li><span><a href=\"#Аудитория\" data-toc-modified-id=\"Аудитория-3.3\"><span class=\"toc-item-num\">3.3&nbsp;&nbsp;</span>Аудитория</a></span></li><li><span><a href=\"#Проверка-пункта-ТЗ-про-конверсию\" data-toc-modified-id=\"Проверка-пункта-ТЗ-про-конверсию-3.4\"><span class=\"toc-item-num\">3.4&nbsp;&nbsp;</span>Проверка пункта ТЗ про конверсию</a></span></li></ul></li><li><span><a href=\"#Исследовательский-анализ-данных\" data-toc-modified-id=\"Исследовательский-анализ-данных-4\"><span class=\"toc-item-num\">4&nbsp;&nbsp;</span>Исследовательский анализ данных</a></span><ul class=\"toc-item\"><li><span><a href=\"#Количество-событий\" data-toc-modified-id=\"Количество-событий-4.1\"><span class=\"toc-item-num\">4.1&nbsp;&nbsp;</span>Количество событий</a></span></li><li><span><a href=\"#Распределение-событий-по-дням\" data-toc-modified-id=\"Распределение-событий-по-дням-4.2\"><span class=\"toc-item-num\">4.2&nbsp;&nbsp;</span>Распределение событий по дням</a></span></li><li><span><a href=\"#Конверсия-в-воронке-событий\" data-toc-modified-id=\"Конверсия-в-воронке-событий-4.3\"><span class=\"toc-item-num\">4.3&nbsp;&nbsp;</span>Конверсия в воронке событий</a></span></li><li><span><a href=\"#Особенности-данных\" data-toc-modified-id=\"Особенности-данных-4.4\"><span class=\"toc-item-num\">4.4&nbsp;&nbsp;</span>Особенности данных</a></span></li></ul></li><li><span><a href=\"#Оценка-результатов-A/B-тестирования\" data-toc-modified-id=\"Оценка-результатов-A/B-тестирования-5\"><span class=\"toc-item-num\">5&nbsp;&nbsp;</span>Оценка результатов A/B-тестирования</a></span><ul class=\"toc-item\"><li><span><a href=\"#Результаты-А/B-теста\" data-toc-modified-id=\"Результаты-А/B-теста-5.1\"><span class=\"toc-item-num\">5.1&nbsp;&nbsp;</span>Результаты А/B теста</a></span><ul class=\"toc-item\"><li><span><a href=\"#Кумулятивные-графики\" data-toc-modified-id=\"Кумулятивные-графики-5.1.1\"><span class=\"toc-item-num\">5.1.1&nbsp;&nbsp;</span>Кумулятивные графики</a></span></li></ul></li><li><span><a href=\"#Проверка-статистической-разницы\" data-toc-modified-id=\"Проверка-статистической-разницы-5.2\"><span class=\"toc-item-num\">5.2&nbsp;&nbsp;</span>Проверка статистической разницы</a></span></li></ul></li><li><span><a href=\"#Выводы\" data-toc-modified-id=\"Выводы-6\"><span class=\"toc-item-num\">6&nbsp;&nbsp;</span>Выводы</a></span></li></ul></div>"
   ]
  },
  {
   "cell_type": "markdown",
   "id": "f27b5c9e",
   "metadata": {},
   "source": [
    "# A/B-тестирование"
   ]
  },
  {
   "cell_type": "markdown",
   "id": "fa23c0f2",
   "metadata": {},
   "source": [
    "**Шаги исследования**\n",
    "\n",
    "- *Загрузка и обзор данных*\n",
    "- *Предобработка данных*\n",
    "- *Корректность проведения теста*\n",
    "- *Исследовательский анализ данных*\n",
    "- *Оценка результатов A/B-тестирования*\n",
    "- *Выводы*"
   ]
  },
  {
   "cell_type": "markdown",
   "id": "27ab351c",
   "metadata": {},
   "source": [
    "**Цель исследования**\n",
    "\n",
    "Провести оценку результатов A/B-теста"
   ]
  },
  {
   "cell_type": "markdown",
   "id": "fa6c2599",
   "metadata": {},
   "source": [
    "## Загрузка и обзор данных"
   ]
  },
  {
   "cell_type": "code",
   "execution_count": 82,
   "id": "5a3b9258",
   "metadata": {},
   "outputs": [],
   "source": [
    "# импортируем библиотеки необходимые для работы\n",
    "import pandas as pd\n",
    "import matplotlib.pyplot as plt\n",
    "import seaborn as sns\n",
    "import numpy as np\n",
    "import datetime as dt\n",
    "from datetime import datetime, timedelta\n",
    "import math as mth\n",
    "import plotly.express as px\n",
    "import plotly.graph_objects as go\n",
    "from sklearn.preprocessing import StandardScaler\n",
    "from scipy import stats as st\n",
    "import scipy.stats as stats"
   ]
  },
  {
   "cell_type": "code",
   "execution_count": 83,
   "id": "d4760bda",
   "metadata": {},
   "outputs": [
    {
     "data": {
      "text/html": [
       "<div>\n",
       "<style scoped>\n",
       "    .dataframe tbody tr th:only-of-type {\n",
       "        vertical-align: middle;\n",
       "    }\n",
       "\n",
       "    .dataframe tbody tr th {\n",
       "        vertical-align: top;\n",
       "    }\n",
       "\n",
       "    .dataframe thead th {\n",
       "        text-align: right;\n",
       "    }\n",
       "</style>\n",
       "<table border=\"1\" class=\"dataframe\">\n",
       "  <thead>\n",
       "    <tr style=\"text-align: right;\">\n",
       "      <th></th>\n",
       "      <th>name</th>\n",
       "      <th>regions</th>\n",
       "      <th>start_dt</th>\n",
       "      <th>finish_dt</th>\n",
       "    </tr>\n",
       "  </thead>\n",
       "  <tbody>\n",
       "    <tr>\n",
       "      <th>0</th>\n",
       "      <td>Christmas&amp;New Year Promo</td>\n",
       "      <td>EU, N.America</td>\n",
       "      <td>2020-12-25</td>\n",
       "      <td>2021-01-03</td>\n",
       "    </tr>\n",
       "    <tr>\n",
       "      <th>1</th>\n",
       "      <td>St. Valentine's Day Giveaway</td>\n",
       "      <td>EU, CIS, APAC, N.America</td>\n",
       "      <td>2020-02-14</td>\n",
       "      <td>2020-02-16</td>\n",
       "    </tr>\n",
       "    <tr>\n",
       "      <th>2</th>\n",
       "      <td>St. Patric's Day Promo</td>\n",
       "      <td>EU, N.America</td>\n",
       "      <td>2020-03-17</td>\n",
       "      <td>2020-03-19</td>\n",
       "    </tr>\n",
       "    <tr>\n",
       "      <th>3</th>\n",
       "      <td>Easter Promo</td>\n",
       "      <td>EU, CIS, APAC, N.America</td>\n",
       "      <td>2020-04-12</td>\n",
       "      <td>2020-04-19</td>\n",
       "    </tr>\n",
       "    <tr>\n",
       "      <th>4</th>\n",
       "      <td>4th of July Promo</td>\n",
       "      <td>N.America</td>\n",
       "      <td>2020-07-04</td>\n",
       "      <td>2020-07-11</td>\n",
       "    </tr>\n",
       "  </tbody>\n",
       "</table>\n",
       "</div>"
      ],
      "text/plain": [
       "                           name                   regions    start_dt  \\\n",
       "0      Christmas&New Year Promo             EU, N.America  2020-12-25   \n",
       "1  St. Valentine's Day Giveaway  EU, CIS, APAC, N.America  2020-02-14   \n",
       "2        St. Patric's Day Promo             EU, N.America  2020-03-17   \n",
       "3                  Easter Promo  EU, CIS, APAC, N.America  2020-04-12   \n",
       "4             4th of July Promo                 N.America  2020-07-04   \n",
       "\n",
       "    finish_dt  \n",
       "0  2021-01-03  \n",
       "1  2020-02-16  \n",
       "2  2020-03-19  \n",
       "3  2020-04-19  \n",
       "4  2020-07-11  "
      ]
     },
     "metadata": {},
     "output_type": "display_data"
    },
    {
     "name": "stdout",
     "output_type": "stream",
     "text": [
      "<class 'pandas.core.frame.DataFrame'>\n",
      "RangeIndex: 14 entries, 0 to 13\n",
      "Data columns (total 4 columns):\n",
      " #   Column     Non-Null Count  Dtype \n",
      "---  ------     --------------  ----- \n",
      " 0   name       14 non-null     object\n",
      " 1   regions    14 non-null     object\n",
      " 2   start_dt   14 non-null     object\n",
      " 3   finish_dt  14 non-null     object\n",
      "dtypes: object(4)\n",
      "memory usage: 576.0+ bytes\n",
      "None\n"
     ]
    },
    {
     "data": {
      "text/html": [
       "<div>\n",
       "<style scoped>\n",
       "    .dataframe tbody tr th:only-of-type {\n",
       "        vertical-align: middle;\n",
       "    }\n",
       "\n",
       "    .dataframe tbody tr th {\n",
       "        vertical-align: top;\n",
       "    }\n",
       "\n",
       "    .dataframe thead th {\n",
       "        text-align: right;\n",
       "    }\n",
       "</style>\n",
       "<table border=\"1\" class=\"dataframe\">\n",
       "  <thead>\n",
       "    <tr style=\"text-align: right;\">\n",
       "      <th></th>\n",
       "      <th>user_id</th>\n",
       "      <th>first_date</th>\n",
       "      <th>region</th>\n",
       "      <th>device</th>\n",
       "    </tr>\n",
       "  </thead>\n",
       "  <tbody>\n",
       "    <tr>\n",
       "      <th>0</th>\n",
       "      <td>D72A72121175D8BE</td>\n",
       "      <td>2020-12-07</td>\n",
       "      <td>EU</td>\n",
       "      <td>PC</td>\n",
       "    </tr>\n",
       "    <tr>\n",
       "      <th>1</th>\n",
       "      <td>F1C668619DFE6E65</td>\n",
       "      <td>2020-12-07</td>\n",
       "      <td>N.America</td>\n",
       "      <td>Android</td>\n",
       "    </tr>\n",
       "    <tr>\n",
       "      <th>2</th>\n",
       "      <td>2E1BF1D4C37EA01F</td>\n",
       "      <td>2020-12-07</td>\n",
       "      <td>EU</td>\n",
       "      <td>PC</td>\n",
       "    </tr>\n",
       "    <tr>\n",
       "      <th>3</th>\n",
       "      <td>50734A22C0C63768</td>\n",
       "      <td>2020-12-07</td>\n",
       "      <td>EU</td>\n",
       "      <td>iPhone</td>\n",
       "    </tr>\n",
       "    <tr>\n",
       "      <th>4</th>\n",
       "      <td>E1BDDCE0DAFA2679</td>\n",
       "      <td>2020-12-07</td>\n",
       "      <td>N.America</td>\n",
       "      <td>iPhone</td>\n",
       "    </tr>\n",
       "  </tbody>\n",
       "</table>\n",
       "</div>"
      ],
      "text/plain": [
       "            user_id  first_date     region   device\n",
       "0  D72A72121175D8BE  2020-12-07         EU       PC\n",
       "1  F1C668619DFE6E65  2020-12-07  N.America  Android\n",
       "2  2E1BF1D4C37EA01F  2020-12-07         EU       PC\n",
       "3  50734A22C0C63768  2020-12-07         EU   iPhone\n",
       "4  E1BDDCE0DAFA2679  2020-12-07  N.America   iPhone"
      ]
     },
     "metadata": {},
     "output_type": "display_data"
    },
    {
     "name": "stdout",
     "output_type": "stream",
     "text": [
      "<class 'pandas.core.frame.DataFrame'>\n",
      "RangeIndex: 61733 entries, 0 to 61732\n",
      "Data columns (total 4 columns):\n",
      " #   Column      Non-Null Count  Dtype \n",
      "---  ------      --------------  ----- \n",
      " 0   user_id     61733 non-null  object\n",
      " 1   first_date  61733 non-null  object\n",
      " 2   region      61733 non-null  object\n",
      " 3   device      61733 non-null  object\n",
      "dtypes: object(4)\n",
      "memory usage: 1.9+ MB\n",
      "None\n"
     ]
    },
    {
     "data": {
      "text/html": [
       "<div>\n",
       "<style scoped>\n",
       "    .dataframe tbody tr th:only-of-type {\n",
       "        vertical-align: middle;\n",
       "    }\n",
       "\n",
       "    .dataframe tbody tr th {\n",
       "        vertical-align: top;\n",
       "    }\n",
       "\n",
       "    .dataframe thead th {\n",
       "        text-align: right;\n",
       "    }\n",
       "</style>\n",
       "<table border=\"1\" class=\"dataframe\">\n",
       "  <thead>\n",
       "    <tr style=\"text-align: right;\">\n",
       "      <th></th>\n",
       "      <th>user_id</th>\n",
       "      <th>event_dt</th>\n",
       "      <th>event_name</th>\n",
       "      <th>details</th>\n",
       "    </tr>\n",
       "  </thead>\n",
       "  <tbody>\n",
       "    <tr>\n",
       "      <th>0</th>\n",
       "      <td>E1BDDCE0DAFA2679</td>\n",
       "      <td>2020-12-07 20:22:03</td>\n",
       "      <td>purchase</td>\n",
       "      <td>99.99</td>\n",
       "    </tr>\n",
       "    <tr>\n",
       "      <th>1</th>\n",
       "      <td>7B6452F081F49504</td>\n",
       "      <td>2020-12-07 09:22:53</td>\n",
       "      <td>purchase</td>\n",
       "      <td>9.99</td>\n",
       "    </tr>\n",
       "    <tr>\n",
       "      <th>2</th>\n",
       "      <td>9CD9F34546DF254C</td>\n",
       "      <td>2020-12-07 12:59:29</td>\n",
       "      <td>purchase</td>\n",
       "      <td>4.99</td>\n",
       "    </tr>\n",
       "    <tr>\n",
       "      <th>3</th>\n",
       "      <td>96F27A054B191457</td>\n",
       "      <td>2020-12-07 04:02:40</td>\n",
       "      <td>purchase</td>\n",
       "      <td>4.99</td>\n",
       "    </tr>\n",
       "    <tr>\n",
       "      <th>4</th>\n",
       "      <td>1FD7660FDF94CA1F</td>\n",
       "      <td>2020-12-07 10:15:09</td>\n",
       "      <td>purchase</td>\n",
       "      <td>4.99</td>\n",
       "    </tr>\n",
       "  </tbody>\n",
       "</table>\n",
       "</div>"
      ],
      "text/plain": [
       "            user_id             event_dt event_name  details\n",
       "0  E1BDDCE0DAFA2679  2020-12-07 20:22:03   purchase    99.99\n",
       "1  7B6452F081F49504  2020-12-07 09:22:53   purchase     9.99\n",
       "2  9CD9F34546DF254C  2020-12-07 12:59:29   purchase     4.99\n",
       "3  96F27A054B191457  2020-12-07 04:02:40   purchase     4.99\n",
       "4  1FD7660FDF94CA1F  2020-12-07 10:15:09   purchase     4.99"
      ]
     },
     "metadata": {},
     "output_type": "display_data"
    },
    {
     "name": "stdout",
     "output_type": "stream",
     "text": [
      "<class 'pandas.core.frame.DataFrame'>\n",
      "RangeIndex: 440317 entries, 0 to 440316\n",
      "Data columns (total 4 columns):\n",
      " #   Column      Non-Null Count   Dtype  \n",
      "---  ------      --------------   -----  \n",
      " 0   user_id     440317 non-null  object \n",
      " 1   event_dt    440317 non-null  object \n",
      " 2   event_name  440317 non-null  object \n",
      " 3   details     62740 non-null   float64\n",
      "dtypes: float64(1), object(3)\n",
      "memory usage: 13.4+ MB\n",
      "None\n"
     ]
    },
    {
     "data": {
      "text/html": [
       "<div>\n",
       "<style scoped>\n",
       "    .dataframe tbody tr th:only-of-type {\n",
       "        vertical-align: middle;\n",
       "    }\n",
       "\n",
       "    .dataframe tbody tr th {\n",
       "        vertical-align: top;\n",
       "    }\n",
       "\n",
       "    .dataframe thead th {\n",
       "        text-align: right;\n",
       "    }\n",
       "</style>\n",
       "<table border=\"1\" class=\"dataframe\">\n",
       "  <thead>\n",
       "    <tr style=\"text-align: right;\">\n",
       "      <th></th>\n",
       "      <th>user_id</th>\n",
       "      <th>group</th>\n",
       "      <th>ab_test</th>\n",
       "    </tr>\n",
       "  </thead>\n",
       "  <tbody>\n",
       "    <tr>\n",
       "      <th>0</th>\n",
       "      <td>D1ABA3E2887B6A73</td>\n",
       "      <td>A</td>\n",
       "      <td>recommender_system_test</td>\n",
       "    </tr>\n",
       "    <tr>\n",
       "      <th>1</th>\n",
       "      <td>A7A3664BD6242119</td>\n",
       "      <td>A</td>\n",
       "      <td>recommender_system_test</td>\n",
       "    </tr>\n",
       "    <tr>\n",
       "      <th>2</th>\n",
       "      <td>DABC14FDDFADD29E</td>\n",
       "      <td>A</td>\n",
       "      <td>recommender_system_test</td>\n",
       "    </tr>\n",
       "    <tr>\n",
       "      <th>3</th>\n",
       "      <td>04988C5DF189632E</td>\n",
       "      <td>A</td>\n",
       "      <td>recommender_system_test</td>\n",
       "    </tr>\n",
       "    <tr>\n",
       "      <th>4</th>\n",
       "      <td>482F14783456D21B</td>\n",
       "      <td>B</td>\n",
       "      <td>recommender_system_test</td>\n",
       "    </tr>\n",
       "  </tbody>\n",
       "</table>\n",
       "</div>"
      ],
      "text/plain": [
       "            user_id group                  ab_test\n",
       "0  D1ABA3E2887B6A73     A  recommender_system_test\n",
       "1  A7A3664BD6242119     A  recommender_system_test\n",
       "2  DABC14FDDFADD29E     A  recommender_system_test\n",
       "3  04988C5DF189632E     A  recommender_system_test\n",
       "4  482F14783456D21B     B  recommender_system_test"
      ]
     },
     "metadata": {},
     "output_type": "display_data"
    },
    {
     "name": "stdout",
     "output_type": "stream",
     "text": [
      "<class 'pandas.core.frame.DataFrame'>\n",
      "RangeIndex: 18268 entries, 0 to 18267\n",
      "Data columns (total 3 columns):\n",
      " #   Column   Non-Null Count  Dtype \n",
      "---  ------   --------------  ----- \n",
      " 0   user_id  18268 non-null  object\n",
      " 1   group    18268 non-null  object\n",
      " 2   ab_test  18268 non-null  object\n",
      "dtypes: object(3)\n",
      "memory usage: 428.3+ KB\n",
      "None\n"
     ]
    }
   ],
   "source": [
    "# выгрузка данных из файлов, вывод на экран информации о датафреймах и первых 5 строках\n",
    "\n",
    "final_ab_events = pd.read_csv('final_ab_events.csv')\n",
    "ab_project_marketing_events = pd.read_csv('ab_project_marketing_events.csv') \n",
    "final_ab_new_users = pd.read_csv('final_ab_new_users.csv') \n",
    "final_ab_participants = pd.read_csv('final_ab_participants.csv') \n",
    "\n",
    "    \n",
    "for df in [ab_project_marketing_events, final_ab_new_users, final_ab_events, final_ab_participants]:\n",
    "    display(df.head())\n",
    "    print(df.info())"
   ]
  },
  {
   "cell_type": "markdown",
   "id": "2bc67672",
   "metadata": {},
   "source": [
    "## Предобработка данных"
   ]
  },
  {
   "cell_type": "markdown",
   "id": "50f8ff0b",
   "metadata": {},
   "source": [
    "**Пропуски**"
   ]
  },
  {
   "cell_type": "markdown",
   "id": "e4421cc7",
   "metadata": {},
   "source": [
    "Пропуски присутствуют только в одном датасете `final_ab_new_users` изучим их подробнее"
   ]
  },
  {
   "cell_type": "code",
   "execution_count": 84,
   "id": "cdc89ee6",
   "metadata": {},
   "outputs": [
    {
     "name": "stdout",
     "output_type": "stream",
     "text": [
      "user_id            0\n",
      "event_dt           0\n",
      "event_name         0\n",
      "details       377577\n",
      "dtype: int64\n"
     ]
    },
    {
     "data": {
      "text/html": [
       "<div>\n",
       "<style scoped>\n",
       "    .dataframe tbody tr th:only-of-type {\n",
       "        vertical-align: middle;\n",
       "    }\n",
       "\n",
       "    .dataframe tbody tr th {\n",
       "        vertical-align: top;\n",
       "    }\n",
       "\n",
       "    .dataframe thead th {\n",
       "        text-align: right;\n",
       "    }\n",
       "</style>\n",
       "<table border=\"1\" class=\"dataframe\">\n",
       "  <thead>\n",
       "    <tr style=\"text-align: right;\">\n",
       "      <th></th>\n",
       "      <th>user_id</th>\n",
       "      <th>event_dt</th>\n",
       "      <th>event_name</th>\n",
       "      <th>details</th>\n",
       "    </tr>\n",
       "  </thead>\n",
       "  <tbody>\n",
       "    <tr>\n",
       "      <th>0</th>\n",
       "      <td>E1BDDCE0DAFA2679</td>\n",
       "      <td>2020-12-07 20:22:03</td>\n",
       "      <td>purchase</td>\n",
       "      <td>99.99</td>\n",
       "    </tr>\n",
       "    <tr>\n",
       "      <th>1</th>\n",
       "      <td>7B6452F081F49504</td>\n",
       "      <td>2020-12-07 09:22:53</td>\n",
       "      <td>purchase</td>\n",
       "      <td>9.99</td>\n",
       "    </tr>\n",
       "    <tr>\n",
       "      <th>2</th>\n",
       "      <td>9CD9F34546DF254C</td>\n",
       "      <td>2020-12-07 12:59:29</td>\n",
       "      <td>purchase</td>\n",
       "      <td>4.99</td>\n",
       "    </tr>\n",
       "    <tr>\n",
       "      <th>3</th>\n",
       "      <td>96F27A054B191457</td>\n",
       "      <td>2020-12-07 04:02:40</td>\n",
       "      <td>purchase</td>\n",
       "      <td>4.99</td>\n",
       "    </tr>\n",
       "    <tr>\n",
       "      <th>4</th>\n",
       "      <td>1FD7660FDF94CA1F</td>\n",
       "      <td>2020-12-07 10:15:09</td>\n",
       "      <td>purchase</td>\n",
       "      <td>4.99</td>\n",
       "    </tr>\n",
       "  </tbody>\n",
       "</table>\n",
       "</div>"
      ],
      "text/plain": [
       "            user_id             event_dt event_name  details\n",
       "0  E1BDDCE0DAFA2679  2020-12-07 20:22:03   purchase    99.99\n",
       "1  7B6452F081F49504  2020-12-07 09:22:53   purchase     9.99\n",
       "2  9CD9F34546DF254C  2020-12-07 12:59:29   purchase     4.99\n",
       "3  96F27A054B191457  2020-12-07 04:02:40   purchase     4.99\n",
       "4  1FD7660FDF94CA1F  2020-12-07 10:15:09   purchase     4.99"
      ]
     },
     "execution_count": 84,
     "metadata": {},
     "output_type": "execute_result"
    }
   ],
   "source": [
    "# подсчет пропусков в столбцах\n",
    "print(final_ab_events.isna().sum())\n",
    "final_ab_events.head()"
   ]
  },
  {
   "cell_type": "markdown",
   "id": "fda44a8b",
   "metadata": {},
   "source": [
    "В описании сказано, что в дополнительных данных о событии, например, для покупок(purchase), в этом поле хранится стоимость покупки в долларах. Проверим для каких событий есть пропуски."
   ]
  },
  {
   "cell_type": "code",
   "execution_count": 85,
   "id": "6735e9d4",
   "metadata": {},
   "outputs": [
    {
     "data": {
      "text/plain": [
       "login           189552\n",
       "product_page    125563\n",
       "purchase         62740\n",
       "product_cart     62462\n",
       "Name: event_name, dtype: int64"
      ]
     },
     "execution_count": 85,
     "metadata": {},
     "output_type": "execute_result"
    }
   ],
   "source": [
    "# количество событий \n",
    "final_ab_events['event_name'].value_counts()"
   ]
  },
  {
   "cell_type": "code",
   "execution_count": 86,
   "id": "95d68fed",
   "metadata": {},
   "outputs": [
    {
     "data": {
      "text/plain": [
       "login           189552\n",
       "product_page    125563\n",
       "product_cart     62462\n",
       "Name: event_name, dtype: int64"
      ]
     },
     "execution_count": 86,
     "metadata": {},
     "output_type": "execute_result"
    }
   ],
   "source": [
    "# количество событий с пропуском в деталях\n",
    "final_ab_events.loc[final_ab_events['details'].isna()]['event_name'].value_counts()"
   ]
  },
  {
   "cell_type": "markdown",
   "id": "e4beb150",
   "metadata": {},
   "source": [
    "Как видим значения в столбце `details` присутстввует только для покупок.<br>\n",
    "Исключить строки с пропусками из анализа мы не можем из-за их большого количества. Оставим пропуски без изменения."
   ]
  },
  {
   "cell_type": "markdown",
   "id": "43d787a0",
   "metadata": {},
   "source": [
    "**Изменение типов данных и переименование столцов**"
   ]
  },
  {
   "cell_type": "code",
   "execution_count": 87,
   "id": "857f15e3",
   "metadata": {},
   "outputs": [
    {
     "name": "stdout",
     "output_type": "stream",
     "text": [
      "name                 object\n",
      "regions              object\n",
      "start_dt     datetime64[ns]\n",
      "finish_dt    datetime64[ns]\n",
      "dtype: object\n",
      "user_id               object\n",
      "first_date    datetime64[ns]\n",
      "region                object\n",
      "device                object\n",
      "dtype: object\n",
      "user_id               object\n",
      "event_dt      datetime64[ns]\n",
      "event_name            object\n",
      "details              float64\n",
      "dtype: object\n"
     ]
    }
   ],
   "source": [
    "# изменение типов данных с object на datetime64 в столбцах с датой\n",
    "ab_project_marketing_events['start_dt'] = pd.to_datetime(ab_project_marketing_events['start_dt']).astype('datetime64[s]')\n",
    "ab_project_marketing_events['finish_dt'] = pd.to_datetime(ab_project_marketing_events['finish_dt']).astype('datetime64[s]')\n",
    "final_ab_new_users['first_date'] = pd.to_datetime(final_ab_new_users['first_date']).astype('datetime64[s]')\n",
    "final_ab_events['event_dt'] = pd.to_datetime(final_ab_events['event_dt']).astype('datetime64[s]')\n",
    "\n",
    "for df in [ab_project_marketing_events, \n",
    "           final_ab_new_users,\n",
    "           final_ab_events]:\n",
    "    print(df.dtypes)"
   ]
  },
  {
   "cell_type": "markdown",
   "id": "c01333ca",
   "metadata": {},
   "source": [
    "**Дубликаты**"
   ]
  },
  {
   "cell_type": "code",
   "execution_count": 88,
   "id": "8ee0bb83",
   "metadata": {},
   "outputs": [
    {
     "name": "stdout",
     "output_type": "stream",
     "text": [
      "Количество строк-дубликатов - 0\n",
      "Количество строк-дубликатов - 0\n",
      "Количество строк-дубликатов - 0\n",
      "Количество строк-дубликатов - 0\n"
     ]
    }
   ],
   "source": [
    "# подсчет дубликатов в датасетах\n",
    "for df in [ab_project_marketing_events, final_ab_new_users, final_ab_events, final_ab_participants]:\n",
    "    print('Количество строк-дубликатов - {}'.format(df.duplicated().sum()))"
   ]
  },
  {
   "cell_type": "markdown",
   "id": "8bde1e24",
   "metadata": {},
   "source": [
    "Явные дубликаты отсутствуют"
   ]
  },
  {
   "cell_type": "code",
   "execution_count": 89,
   "id": "7545d865",
   "metadata": {},
   "outputs": [
    {
     "data": {
      "text/plain": [
       "APAC                        4\n",
       "EU, CIS, APAC, N.America    3\n",
       "EU, N.America               2\n",
       "EU, CIS, APAC               2\n",
       "CIS                         2\n",
       "N.America                   1\n",
       "Name: regions, dtype: int64"
      ]
     },
     "execution_count": 89,
     "metadata": {},
     "output_type": "execute_result"
    }
   ],
   "source": [
    "# регионы рекламных компаний\n",
    "ab_project_marketing_events['regions'].value_counts()"
   ]
  },
  {
   "cell_type": "code",
   "execution_count": 90,
   "id": "587c0c52",
   "metadata": {},
   "outputs": [
    {
     "name": "stdout",
     "output_type": "stream",
     "text": [
      "EU           46270\n",
      "N.America     9155\n",
      "CIS           3155\n",
      "APAC          3153\n",
      "Name: region, dtype: int64 \n",
      "\n",
      "Android    27520\n",
      "PC         15599\n",
      "iPhone     12530\n",
      "Mac         6084\n",
      "Name: device, dtype: int64 \n",
      "\n"
     ]
    }
   ],
   "source": [
    "# количество регионов и устройств\n",
    "for column in ['region', 'device']:\n",
    "    print(final_ab_new_users[column].value_counts(), '\\n')"
   ]
  },
  {
   "cell_type": "code",
   "execution_count": 91,
   "id": "de075d50",
   "metadata": {},
   "outputs": [
    {
     "data": {
      "text/plain": [
       "login           189552\n",
       "product_page    125563\n",
       "purchase         62740\n",
       "product_cart     62462\n",
       "Name: event_name, dtype: int64"
      ]
     },
     "execution_count": 91,
     "metadata": {},
     "output_type": "execute_result"
    }
   ],
   "source": [
    "# количество событий\n",
    "final_ab_events['event_name'].value_counts()"
   ]
  },
  {
   "cell_type": "code",
   "execution_count": 92,
   "id": "46f1df86",
   "metadata": {},
   "outputs": [
    {
     "name": "stdout",
     "output_type": "stream",
     "text": [
      "A    9655\n",
      "B    8613\n",
      "Name: group, dtype: int64 \n",
      "\n",
      "interface_eu_test          11567\n",
      "recommender_system_test     6701\n",
      "Name: ab_test, dtype: int64 \n",
      "\n"
     ]
    }
   ],
   "source": [
    "# группы тестов и названия тестов\n",
    "for column in ['group', 'ab_test']:\n",
    "    print(final_ab_participants[column].value_counts(), '\\n')"
   ]
  },
  {
   "cell_type": "markdown",
   "id": "a6e60e8c",
   "metadata": {},
   "source": [
    "Неявные дубликаты отсутствуют"
   ]
  },
  {
   "cell_type": "markdown",
   "id": "ef0a0124",
   "metadata": {},
   "source": [
    "**Выводы**"
   ]
  },
  {
   "cell_type": "markdown",
   "id": "13017378",
   "metadata": {},
   "source": [
    "На этапе предобработки данных:\n",
    "- выявлены и оставлены без изменений 377577 пропусков в датасете `final_ab_new_users` столбце `details`\n",
    "- изменены типы данных столбцов с датой с `object` на `datetime64`\n",
    "- дубликаты в датасетах отсутствуют\n",
    "- в `final_ab_participants` присутствуют данные пользователи из двух разных тестов"
   ]
  },
  {
   "cell_type": "markdown",
   "id": "fdb706b3",
   "metadata": {},
   "source": [
    "## Корректность проведения теста"
   ]
  },
  {
   "cell_type": "markdown",
   "id": "9bf7f087",
   "metadata": {},
   "source": [
    "### Соответствие данных требованиям ТЗ"
   ]
  },
  {
   "cell_type": "markdown",
   "id": "ad7b587a",
   "metadata": {},
   "source": [
    "**Название теста**"
   ]
  },
  {
   "cell_type": "markdown",
   "id": "027ee5d3",
   "metadata": {},
   "source": [
    "На этапе предобработки было выявлено наличие данных о двух тестах в датасете `final_ab_participants`. Оставим данные только для теста `recommender_system_test`."
   ]
  },
  {
   "cell_type": "code",
   "execution_count": 93,
   "id": "697c736b",
   "metadata": {},
   "outputs": [
    {
     "name": "stdout",
     "output_type": "stream",
     "text": [
      "Размер датасета - (6701, 3)\n"
     ]
    },
    {
     "data": {
      "text/plain": [
       "array(['recommender_system_test'], dtype=object)"
      ]
     },
     "execution_count": 93,
     "metadata": {},
     "output_type": "execute_result"
    }
   ],
   "source": [
    "# фильтрация по названию теста и проверка\n",
    "final_ab_participants_system = final_ab_participants.loc[final_ab_participants['ab_test']=='recommender_system_test']\n",
    "print('Размер датасета - {}'.format(final_ab_participants_system.shape))\n",
    "final_ab_participants_system['ab_test'].unique()"
   ]
  },
  {
   "cell_type": "markdown",
   "id": "69df023d",
   "metadata": {},
   "source": [
    "**Группы**"
   ]
  },
  {
   "cell_type": "code",
   "execution_count": 94,
   "id": "c588ff7f",
   "metadata": {},
   "outputs": [
    {
     "data": {
      "text/plain": [
       "A    3824\n",
       "B    2877\n",
       "Name: group, dtype: int64"
      ]
     },
     "execution_count": 94,
     "metadata": {},
     "output_type": "execute_result"
    }
   ],
   "source": [
    "# количество групп\n",
    "final_ab_participants_system['group'].value_counts()"
   ]
  },
  {
   "cell_type": "markdown",
   "id": "f505e101",
   "metadata": {},
   "source": [
    "Названия групп соответствуют ТЗ"
   ]
  },
  {
   "cell_type": "markdown",
   "id": "f551c5bf",
   "metadata": {},
   "source": [
    "**Даты запуска и остановки теста и дата остановки набора пользователей**"
   ]
  },
  {
   "cell_type": "code",
   "execution_count": 95,
   "id": "250fdd45",
   "metadata": {},
   "outputs": [
    {
     "data": {
      "text/plain": [
       "Timestamp('2020-12-23 00:00:00')"
      ]
     },
     "execution_count": 95,
     "metadata": {},
     "output_type": "execute_result"
    }
   ],
   "source": [
    "# дата остановки набора пользователей новых\n",
    "final_ab_new_users['first_date'].max()"
   ]
  },
  {
   "cell_type": "markdown",
   "id": "2a5a2f78",
   "metadata": {},
   "source": [
    "Дата остановки набора не соответствует ТЗ. Отбросим пользователей после 2020-12-21."
   ]
  },
  {
   "cell_type": "code",
   "execution_count": 96,
   "id": "d1ff2bbd",
   "metadata": {
    "scrolled": true
   },
   "outputs": [
    {
     "name": "stdout",
     "output_type": "stream",
     "text": [
      "количество пользователей до исключения -  61733\n",
      "количество пользователей после исключения -  56470\n"
     ]
    },
    {
     "data": {
      "text/plain": [
       "Timestamp('2020-12-21 00:00:00')"
      ]
     },
     "execution_count": 96,
     "metadata": {},
     "output_type": "execute_result"
    }
   ],
   "source": [
    "# исключение новых пользователей после 2020-12-21\n",
    "print('количество пользователей до исключения - ',len(final_ab_new_users))\n",
    "final_ab_new_users = final_ab_new_users.loc[final_ab_new_users['first_date']<='2020-12-21'].reset_index(drop=True)\n",
    "print('количество пользователей после исключения - ',len(final_ab_new_users))\n",
    "final_ab_new_users['first_date'].max()"
   ]
  },
  {
   "cell_type": "markdown",
   "id": "c97102c9",
   "metadata": {},
   "source": [
    "Избавились от 5000 лишних пользователей"
   ]
  },
  {
   "cell_type": "code",
   "execution_count": 97,
   "id": "6e0a4821",
   "metadata": {},
   "outputs": [
    {
     "data": {
      "text/html": [
       "<div>\n",
       "<style scoped>\n",
       "    .dataframe tbody tr th:only-of-type {\n",
       "        vertical-align: middle;\n",
       "    }\n",
       "\n",
       "    .dataframe tbody tr th {\n",
       "        vertical-align: top;\n",
       "    }\n",
       "\n",
       "    .dataframe thead th {\n",
       "        text-align: right;\n",
       "    }\n",
       "</style>\n",
       "<table border=\"1\" class=\"dataframe\">\n",
       "  <thead>\n",
       "    <tr style=\"text-align: right;\">\n",
       "      <th></th>\n",
       "      <th>event_dt</th>\n",
       "    </tr>\n",
       "  </thead>\n",
       "  <tbody>\n",
       "    <tr>\n",
       "      <th>min</th>\n",
       "      <td>2020-12-07 00:00:33</td>\n",
       "    </tr>\n",
       "    <tr>\n",
       "      <th>max</th>\n",
       "      <td>2020-12-30 23:36:33</td>\n",
       "    </tr>\n",
       "  </tbody>\n",
       "</table>\n",
       "</div>"
      ],
      "text/plain": [
       "               event_dt\n",
       "min 2020-12-07 00:00:33\n",
       "max 2020-12-30 23:36:33"
      ]
     },
     "execution_count": 97,
     "metadata": {},
     "output_type": "execute_result"
    }
   ],
   "source": [
    "# даты первого и последнего события пользователей\n",
    "final_ab_events.agg({'event_dt': ['min', 'max']})"
   ]
  },
  {
   "cell_type": "markdown",
   "id": "f3afdf64",
   "metadata": {},
   "source": [
    "Эти даты отличаются от обозначенных в ТЗ. Получается с 23:36:33 30 декабря и до 4 января событий не происходило. \n",
    "\n",
    "Дата 4 января была выбрана исходя из того, что регистрация пользователй кончалась 21 декабря и планировалось, чтобы у всех был двухнедельный лайфтайм. Но тест закончили на 5 дней раньше. Мы недосчитаемся событий пользователей при проверке улучшения конверсии, в расчеты не попадут события тех кто присоединился позже 16 декабря."
   ]
  },
  {
   "cell_type": "markdown",
   "id": "cd346673",
   "metadata": {},
   "source": [
    "**Аудитория**"
   ]
  },
  {
   "cell_type": "code",
   "execution_count": 98,
   "id": "d7d4f119",
   "metadata": {},
   "outputs": [
    {
     "data": {
      "text/plain": [
       "EU           42340\n",
       "N.America     8347\n",
       "CIS           2900\n",
       "APAC          2883\n",
       "Name: region, dtype: int64"
      ]
     },
     "execution_count": 98,
     "metadata": {},
     "output_type": "execute_result"
    }
   ],
   "source": [
    "# распределение новых пользователей по странам\n",
    "final_ab_new_users['region'].value_counts()"
   ]
  },
  {
   "cell_type": "code",
   "execution_count": 99,
   "id": "75138bcc",
   "metadata": {},
   "outputs": [
    {
     "data": {
      "text/plain": [
       "74.98"
      ]
     },
     "execution_count": 99,
     "metadata": {},
     "output_type": "execute_result"
    }
   ],
   "source": [
    "# процент пользователе из Европы \n",
    "round(100*final_ab_new_users.loc[final_ab_new_users['region']=='EU']['user_id'].nunique() / \n",
    "      final_ab_new_users['user_id'].nunique(), 2)"
   ]
  },
  {
   "cell_type": "code",
   "execution_count": 100,
   "id": "6084ba62",
   "metadata": {},
   "outputs": [
    {
     "data": {
      "text/html": [
       "<div>\n",
       "<style scoped>\n",
       "    .dataframe tbody tr th:only-of-type {\n",
       "        vertical-align: middle;\n",
       "    }\n",
       "\n",
       "    .dataframe tbody tr th {\n",
       "        vertical-align: top;\n",
       "    }\n",
       "\n",
       "    .dataframe thead th {\n",
       "        text-align: right;\n",
       "    }\n",
       "</style>\n",
       "<table border=\"1\" class=\"dataframe\">\n",
       "  <thead>\n",
       "    <tr style=\"text-align: right;\">\n",
       "      <th></th>\n",
       "      <th>user_id</th>\n",
       "      <th>group</th>\n",
       "      <th>ab_test</th>\n",
       "      <th>first_date</th>\n",
       "      <th>region</th>\n",
       "      <th>device</th>\n",
       "    </tr>\n",
       "  </thead>\n",
       "  <tbody>\n",
       "    <tr>\n",
       "      <th>0</th>\n",
       "      <td>D1ABA3E2887B6A73</td>\n",
       "      <td>A</td>\n",
       "      <td>recommender_system_test</td>\n",
       "      <td>2020-12-07</td>\n",
       "      <td>EU</td>\n",
       "      <td>PC</td>\n",
       "    </tr>\n",
       "    <tr>\n",
       "      <th>1</th>\n",
       "      <td>A7A3664BD6242119</td>\n",
       "      <td>A</td>\n",
       "      <td>recommender_system_test</td>\n",
       "      <td>2020-12-20</td>\n",
       "      <td>EU</td>\n",
       "      <td>iPhone</td>\n",
       "    </tr>\n",
       "    <tr>\n",
       "      <th>2</th>\n",
       "      <td>DABC14FDDFADD29E</td>\n",
       "      <td>A</td>\n",
       "      <td>recommender_system_test</td>\n",
       "      <td>2020-12-08</td>\n",
       "      <td>EU</td>\n",
       "      <td>Mac</td>\n",
       "    </tr>\n",
       "    <tr>\n",
       "      <th>3</th>\n",
       "      <td>04988C5DF189632E</td>\n",
       "      <td>A</td>\n",
       "      <td>recommender_system_test</td>\n",
       "      <td>2020-12-14</td>\n",
       "      <td>EU</td>\n",
       "      <td>iPhone</td>\n",
       "    </tr>\n",
       "    <tr>\n",
       "      <th>4</th>\n",
       "      <td>482F14783456D21B</td>\n",
       "      <td>B</td>\n",
       "      <td>recommender_system_test</td>\n",
       "      <td>2020-12-14</td>\n",
       "      <td>EU</td>\n",
       "      <td>PC</td>\n",
       "    </tr>\n",
       "  </tbody>\n",
       "</table>\n",
       "</div>"
      ],
      "text/plain": [
       "            user_id group                  ab_test first_date region  device\n",
       "0  D1ABA3E2887B6A73     A  recommender_system_test 2020-12-07     EU      PC\n",
       "1  A7A3664BD6242119     A  recommender_system_test 2020-12-20     EU  iPhone\n",
       "2  DABC14FDDFADD29E     A  recommender_system_test 2020-12-08     EU     Mac\n",
       "3  04988C5DF189632E     A  recommender_system_test 2020-12-14     EU  iPhone\n",
       "4  482F14783456D21B     B  recommender_system_test 2020-12-14     EU      PC"
      ]
     },
     "metadata": {},
     "output_type": "display_data"
    },
    {
     "name": "stdout",
     "output_type": "stream",
     "text": [
      "<class 'pandas.core.frame.DataFrame'>\n",
      "Int64Index: 6701 entries, 0 to 6700\n",
      "Data columns (total 6 columns):\n",
      " #   Column      Non-Null Count  Dtype         \n",
      "---  ------      --------------  -----         \n",
      " 0   user_id     6701 non-null   object        \n",
      " 1   group       6701 non-null   object        \n",
      " 2   ab_test     6701 non-null   object        \n",
      " 3   first_date  6701 non-null   datetime64[ns]\n",
      " 4   region      6701 non-null   object        \n",
      " 5   device      6701 non-null   object        \n",
      "dtypes: datetime64[ns](1), object(5)\n",
      "memory usage: 366.5+ KB\n"
     ]
    }
   ],
   "source": [
    "# объединение датасетов с новыми пользователями с участниками теста по user_id\n",
    "final_ab_participants_system = final_ab_participants_system.merge(\n",
    "    final_ab_new_users,\n",
    "    on=['user_id'],\n",
    "    how='left',\n",
    ")\n",
    "display(final_ab_participants_system.head())\n",
    "final_ab_participants_system.info()"
   ]
  },
  {
   "cell_type": "code",
   "execution_count": 101,
   "id": "e9362834",
   "metadata": {},
   "outputs": [
    {
     "data": {
      "text/plain": [
       "EU           6351\n",
       "N.America     223\n",
       "APAC           72\n",
       "CIS            55\n",
       "Name: region, dtype: int64"
      ]
     },
     "execution_count": 101,
     "metadata": {},
     "output_type": "execute_result"
    }
   ],
   "source": [
    "# распределение участников по регионам\n",
    "final_ab_participants_system['region'].value_counts()"
   ]
  },
  {
   "cell_type": "markdown",
   "id": "2d93db1e",
   "metadata": {},
   "source": [
    "По ТЗ аудитирия должна быть 15% пользователей из Европы, следовательно оставим в датасете только участников из EU"
   ]
  },
  {
   "cell_type": "code",
   "execution_count": 102,
   "id": "a056c42e",
   "metadata": {},
   "outputs": [
    {
     "data": {
      "text/plain": [
       "EU    6351\n",
       "Name: region, dtype: int64"
      ]
     },
     "execution_count": 102,
     "metadata": {},
     "output_type": "execute_result"
    }
   ],
   "source": [
    "# оставляем только участников из EU\n",
    "final_ab_participants_system = final_ab_participants_system.loc[final_ab_participants_system['region']=='EU']\n",
    "final_ab_participants_system['region'].value_counts()"
   ]
  },
  {
   "cell_type": "code",
   "execution_count": 103,
   "id": "9efa4c8c",
   "metadata": {},
   "outputs": [
    {
     "data": {
      "text/plain": [
       "15.0"
      ]
     },
     "execution_count": 103,
     "metadata": {},
     "output_type": "execute_result"
    }
   ],
   "source": [
    "# процент пользователей из Европы \n",
    "round(100*final_ab_participants_system['user_id'].nunique() / \n",
    "      final_ab_new_users.loc[final_ab_new_users['region']=='EU']['user_id'].nunique(), 2)"
   ]
  },
  {
   "cell_type": "markdown",
   "id": "d5e8e95a",
   "metadata": {},
   "source": [
    "В тесте участвуют ровно 15% от всех пользователей из Европы"
   ]
  },
  {
   "cell_type": "markdown",
   "id": "e9a84a75",
   "metadata": {},
   "source": [
    "**Количество участников теста**"
   ]
  },
  {
   "cell_type": "code",
   "execution_count": 104,
   "id": "0fcc448a",
   "metadata": {},
   "outputs": [
    {
     "data": {
      "text/plain": [
       "6351"
      ]
     },
     "execution_count": 104,
     "metadata": {},
     "output_type": "execute_result"
    }
   ],
   "source": [
    "# подсчет количества участников теста\n",
    "final_ab_participants_system['user_id'].nunique()"
   ]
  },
  {
   "cell_type": "markdown",
   "id": "ac8b5e1c",
   "metadata": {},
   "source": [
    "В ТЗ говорится о 6000 участников, что примерно так и есть"
   ]
  },
  {
   "cell_type": "markdown",
   "id": "ba33529c",
   "metadata": {},
   "source": [
    "**Улучшение метрик**"
   ]
  },
  {
   "cell_type": "code",
   "execution_count": 105,
   "id": "bc6ec79c",
   "metadata": {},
   "outputs": [
    {
     "data": {
      "text/html": [
       "<div>\n",
       "<style scoped>\n",
       "    .dataframe tbody tr th:only-of-type {\n",
       "        vertical-align: middle;\n",
       "    }\n",
       "\n",
       "    .dataframe tbody tr th {\n",
       "        vertical-align: top;\n",
       "    }\n",
       "\n",
       "    .dataframe thead th {\n",
       "        text-align: right;\n",
       "    }\n",
       "</style>\n",
       "<table border=\"1\" class=\"dataframe\">\n",
       "  <thead>\n",
       "    <tr style=\"text-align: right;\">\n",
       "      <th></th>\n",
       "      <th>user_id</th>\n",
       "      <th>event_dt</th>\n",
       "      <th>event_name</th>\n",
       "      <th>details</th>\n",
       "      <th>group</th>\n",
       "      <th>ab_test</th>\n",
       "      <th>first_date</th>\n",
       "      <th>region</th>\n",
       "      <th>device</th>\n",
       "    </tr>\n",
       "  </thead>\n",
       "  <tbody>\n",
       "    <tr>\n",
       "      <th>0</th>\n",
       "      <td>831887FE7F2D6CBA</td>\n",
       "      <td>2020-12-07 06:50:29</td>\n",
       "      <td>purchase</td>\n",
       "      <td>4.99</td>\n",
       "      <td>A</td>\n",
       "      <td>recommender_system_test</td>\n",
       "      <td>2020-12-07</td>\n",
       "      <td>EU</td>\n",
       "      <td>Android</td>\n",
       "    </tr>\n",
       "    <tr>\n",
       "      <th>1</th>\n",
       "      <td>831887FE7F2D6CBA</td>\n",
       "      <td>2020-12-09 02:19:17</td>\n",
       "      <td>purchase</td>\n",
       "      <td>99.99</td>\n",
       "      <td>A</td>\n",
       "      <td>recommender_system_test</td>\n",
       "      <td>2020-12-07</td>\n",
       "      <td>EU</td>\n",
       "      <td>Android</td>\n",
       "    </tr>\n",
       "    <tr>\n",
       "      <th>2</th>\n",
       "      <td>831887FE7F2D6CBA</td>\n",
       "      <td>2020-12-07 06:50:30</td>\n",
       "      <td>product_cart</td>\n",
       "      <td>NaN</td>\n",
       "      <td>A</td>\n",
       "      <td>recommender_system_test</td>\n",
       "      <td>2020-12-07</td>\n",
       "      <td>EU</td>\n",
       "      <td>Android</td>\n",
       "    </tr>\n",
       "    <tr>\n",
       "      <th>3</th>\n",
       "      <td>831887FE7F2D6CBA</td>\n",
       "      <td>2020-12-08 10:52:27</td>\n",
       "      <td>product_cart</td>\n",
       "      <td>NaN</td>\n",
       "      <td>A</td>\n",
       "      <td>recommender_system_test</td>\n",
       "      <td>2020-12-07</td>\n",
       "      <td>EU</td>\n",
       "      <td>Android</td>\n",
       "    </tr>\n",
       "    <tr>\n",
       "      <th>4</th>\n",
       "      <td>831887FE7F2D6CBA</td>\n",
       "      <td>2020-12-09 02:19:17</td>\n",
       "      <td>product_cart</td>\n",
       "      <td>NaN</td>\n",
       "      <td>A</td>\n",
       "      <td>recommender_system_test</td>\n",
       "      <td>2020-12-07</td>\n",
       "      <td>EU</td>\n",
       "      <td>Android</td>\n",
       "    </tr>\n",
       "  </tbody>\n",
       "</table>\n",
       "</div>"
      ],
      "text/plain": [
       "            user_id            event_dt    event_name  details group  \\\n",
       "0  831887FE7F2D6CBA 2020-12-07 06:50:29      purchase     4.99     A   \n",
       "1  831887FE7F2D6CBA 2020-12-09 02:19:17      purchase    99.99     A   \n",
       "2  831887FE7F2D6CBA 2020-12-07 06:50:30  product_cart      NaN     A   \n",
       "3  831887FE7F2D6CBA 2020-12-08 10:52:27  product_cart      NaN     A   \n",
       "4  831887FE7F2D6CBA 2020-12-09 02:19:17  product_cart      NaN     A   \n",
       "\n",
       "                   ab_test first_date region   device  \n",
       "0  recommender_system_test 2020-12-07     EU  Android  \n",
       "1  recommender_system_test 2020-12-07     EU  Android  \n",
       "2  recommender_system_test 2020-12-07     EU  Android  \n",
       "3  recommender_system_test 2020-12-07     EU  Android  \n",
       "4  recommender_system_test 2020-12-07     EU  Android  "
      ]
     },
     "metadata": {},
     "output_type": "display_data"
    },
    {
     "name": "stdout",
     "output_type": "stream",
     "text": [
      "<class 'pandas.core.frame.DataFrame'>\n",
      "Int64Index: 23420 entries, 0 to 23419\n",
      "Data columns (total 9 columns):\n",
      " #   Column      Non-Null Count  Dtype         \n",
      "---  ------      --------------  -----         \n",
      " 0   user_id     23420 non-null  object        \n",
      " 1   event_dt    23420 non-null  datetime64[ns]\n",
      " 2   event_name  23420 non-null  object        \n",
      " 3   details     3196 non-null   float64       \n",
      " 4   group       23420 non-null  object        \n",
      " 5   ab_test     23420 non-null  object        \n",
      " 6   first_date  23420 non-null  datetime64[ns]\n",
      " 7   region      23420 non-null  object        \n",
      " 8   device      23420 non-null  object        \n",
      "dtypes: datetime64[ns](2), float64(1), object(6)\n",
      "memory usage: 1.8+ MB\n"
     ]
    }
   ],
   "source": [
    "# объединение датасета с событиями и датасета с участниками теста по user_id\n",
    "final_df = final_ab_events.merge(\n",
    "    final_ab_participants_system,\n",
    "    on=['user_id'],\n",
    "    how='inner',\n",
    ")\n",
    "display(final_df.head())\n",
    "final_df.info()"
   ]
  },
  {
   "cell_type": "code",
   "execution_count": 106,
   "id": "9065ea47",
   "metadata": {},
   "outputs": [
    {
     "data": {
      "text/plain": [
       "3481"
      ]
     },
     "execution_count": 106,
     "metadata": {},
     "output_type": "execute_result"
    }
   ],
   "source": [
    "# количество уникальных пользователей, данные о событиях которых мы имеем\n",
    "final_df['user_id'].nunique()"
   ]
  },
  {
   "cell_type": "markdown",
   "id": "13f23d36",
   "metadata": {},
   "source": [
    "После объединения зарегестрировавшихся пользователей и пользователей совершивших хотя бы одно событие, отсеилось порядка 3000 человек. То есть существуют 3000 пользователей, которые не совершают никаких действий после регистрации. Посмортим на их распределение по группам теста."
   ]
  },
  {
   "cell_type": "code",
   "execution_count": 107,
   "id": "d593f46e",
   "metadata": {},
   "outputs": [
    {
     "data": {
      "text/plain": [
       "58703"
      ]
     },
     "execution_count": 107,
     "metadata": {},
     "output_type": "execute_result"
    }
   ],
   "source": [
    "# уникальные пользователи из датасеа с событиями\n",
    "users_do_event = final_ab_events['user_id'].unique()\n",
    "len(users_do_event)"
   ]
  },
  {
   "cell_type": "code",
   "execution_count": 108,
   "id": "abf2eacb",
   "metadata": {},
   "outputs": [
    {
     "data": {
      "text/plain": [
       "2870"
      ]
     },
     "execution_count": 108,
     "metadata": {},
     "output_type": "execute_result"
    }
   ],
   "source": [
    "# пользователи не совершившие не одного действия\n",
    "users_without_event = final_ab_participants_system.loc[~final_ab_participants_system['user_id'].isin(users_do_event)]\n",
    "len(users_without_event)"
   ]
  },
  {
   "cell_type": "code",
   "execution_count": 109,
   "id": "ae87e603",
   "metadata": {},
   "outputs": [
    {
     "data": {
      "text/plain": [
       "B    1840\n",
       "A    1030\n",
       "Name: group, dtype: int64"
      ]
     },
     "execution_count": 109,
     "metadata": {},
     "output_type": "execute_result"
    }
   ],
   "source": [
    "# количество пользователей из разных групп\n",
    "users_without_event['group'].value_counts()"
   ]
  },
  {
   "cell_type": "code",
   "execution_count": 110,
   "id": "04a21377",
   "metadata": {},
   "outputs": [
    {
     "data": {
      "image/png": "[encoded data removed]",
      "text/plain": [
       "<Figure size 1152x432 with 1 Axes>"
      ]
     },
     "metadata": {
      "needs_background": "light"
     },
     "output_type": "display_data"
    }
   ],
   "source": [
    "# распределение количества пользователей не совершавших событий по датам\n",
    "plt.figure(figsize=(16,6))\n",
    "sns.histplot(users_without_event, x=\"first_date\", hue='group', multiple=\"dodge\", palette=\"pastel\", edgecolor=\".6\")\n",
    "plt.show()"
   ]
  },
  {
   "cell_type": "markdown",
   "id": "caf2cfe8",
   "metadata": {},
   "source": [
    "После 13 числа все пользователи попавшие в группу А совершали события, а в группе В так и осталась тенденция к присоединению пользователей без событий, отсюда и разница в 800 человек. Что-то произошло 13 декабря.<br>\n",
    "Посмотри теперь на точно такое же распределение только для пользователей теста которые совершали какие-то события."
   ]
  },
  {
   "cell_type": "code",
   "execution_count": 111,
   "id": "e7a58401",
   "metadata": {},
   "outputs": [
    {
     "data": {
      "image/png": "[encoded data removed]",
      "text/plain": [
       "<Figure size 1152x432 with 1 Axes>"
      ]
     },
     "metadata": {
      "needs_background": "light"
     },
     "output_type": "display_data"
    }
   ],
   "source": [
    "# распределение количества пользователей совершавших события по датам\n",
    "plt.figure(figsize=(16,6))\n",
    "sns.histplot(final_df, x=\"first_date\", hue='group', multiple=\"dodge\", palette=\"pastel\", edgecolor=\".6\")\n",
    "plt.show()"
   ]
  },
  {
   "cell_type": "markdown",
   "id": "57971c1e",
   "metadata": {},
   "source": [
    "Как видим из графиков:\n",
    "- количество пользователей для группы А резко возрасло в тот день, когда пропали пользователи без событий. Можно сделать вывод, что они все просто начали пользоваться продуктом.\n",
    "- также заметна зависимоть чем меньше пользователей в определенную дату не совершали события тем больше их совершали.\n",
    "- для группы А пофиксили какую-то проблему начиная с 14 числа, а для группы В нет"
   ]
  },
  {
   "cell_type": "markdown",
   "id": "62030e3d",
   "metadata": {},
   "source": [
    "Может проблема не совершения событий решилась и для В группы, но для каких-то устройств, проверим это."
   ]
  },
  {
   "cell_type": "code",
   "execution_count": 112,
   "id": "7a8b5457",
   "metadata": {},
   "outputs": [
    {
     "data": {
      "image/png": "[encoded data removed]",
      "text/plain": [
       "<Figure size 1152x432 with 1 Axes>"
      ]
     },
     "metadata": {
      "needs_background": "light"
     },
     "output_type": "display_data"
    }
   ],
   "source": [
    "# распределение количества пользователей группы В не совершавших событий по датам разделенных по устройствам\n",
    "plt.figure(figsize=(16,6))\n",
    "sns.histplot(users_without_event.loc[users_without_event['group']=='B'], x=\"first_date\", \n",
    "             hue='device', multiple=\"dodge\", \n",
    "             palette=\"pastel\", edgecolor=\".6\")\n",
    "plt.show()"
   ]
  },
  {
   "cell_type": "markdown",
   "id": "a051f579",
   "metadata": {},
   "source": [
    "Из распределения видно, что нету связи с каким-либо видом устройства, проблема не в этом."
   ]
  },
  {
   "cell_type": "markdown",
   "id": "49eb45bf",
   "metadata": {},
   "source": [
    "Пункт ТЗ об увеличении конверсии проверим, после изучения дат маркетинговых компаний и аудитории."
   ]
  },
  {
   "cell_type": "markdown",
   "id": "36351bfe",
   "metadata": {},
   "source": [
    "### Время проведения теста"
   ]
  },
  {
   "cell_type": "markdown",
   "id": "9fc77e81",
   "metadata": {},
   "source": [
    "Если время проведения рекламных компаний будут совпадать с временем проведения теста, то это может повлиять на поведение пользователей."
   ]
  },
  {
   "cell_type": "code",
   "execution_count": 113,
   "id": "cfa99061",
   "metadata": {},
   "outputs": [
    {
     "data": {
      "text/html": [
       "<div>\n",
       "<style scoped>\n",
       "    .dataframe tbody tr th:only-of-type {\n",
       "        vertical-align: middle;\n",
       "    }\n",
       "\n",
       "    .dataframe tbody tr th {\n",
       "        vertical-align: top;\n",
       "    }\n",
       "\n",
       "    .dataframe thead th {\n",
       "        text-align: right;\n",
       "    }\n",
       "</style>\n",
       "<table border=\"1\" class=\"dataframe\">\n",
       "  <thead>\n",
       "    <tr style=\"text-align: right;\">\n",
       "      <th></th>\n",
       "      <th>name</th>\n",
       "      <th>regions</th>\n",
       "      <th>start_dt</th>\n",
       "      <th>finish_dt</th>\n",
       "    </tr>\n",
       "  </thead>\n",
       "  <tbody>\n",
       "    <tr>\n",
       "      <th>0</th>\n",
       "      <td>Christmas&amp;New Year Promo</td>\n",
       "      <td>EU, N.America</td>\n",
       "      <td>2020-12-25</td>\n",
       "      <td>2021-01-03</td>\n",
       "    </tr>\n",
       "    <tr>\n",
       "      <th>1</th>\n",
       "      <td>St. Valentine's Day Giveaway</td>\n",
       "      <td>EU, CIS, APAC, N.America</td>\n",
       "      <td>2020-02-14</td>\n",
       "      <td>2020-02-16</td>\n",
       "    </tr>\n",
       "    <tr>\n",
       "      <th>2</th>\n",
       "      <td>St. Patric's Day Promo</td>\n",
       "      <td>EU, N.America</td>\n",
       "      <td>2020-03-17</td>\n",
       "      <td>2020-03-19</td>\n",
       "    </tr>\n",
       "    <tr>\n",
       "      <th>3</th>\n",
       "      <td>Easter Promo</td>\n",
       "      <td>EU, CIS, APAC, N.America</td>\n",
       "      <td>2020-04-12</td>\n",
       "      <td>2020-04-19</td>\n",
       "    </tr>\n",
       "    <tr>\n",
       "      <th>4</th>\n",
       "      <td>4th of July Promo</td>\n",
       "      <td>N.America</td>\n",
       "      <td>2020-07-04</td>\n",
       "      <td>2020-07-11</td>\n",
       "    </tr>\n",
       "    <tr>\n",
       "      <th>5</th>\n",
       "      <td>Black Friday Ads Campaign</td>\n",
       "      <td>EU, CIS, APAC, N.America</td>\n",
       "      <td>2020-11-26</td>\n",
       "      <td>2020-12-01</td>\n",
       "    </tr>\n",
       "    <tr>\n",
       "      <th>6</th>\n",
       "      <td>Chinese New Year Promo</td>\n",
       "      <td>APAC</td>\n",
       "      <td>2020-01-25</td>\n",
       "      <td>2020-02-07</td>\n",
       "    </tr>\n",
       "    <tr>\n",
       "      <th>7</th>\n",
       "      <td>Labor day (May 1st) Ads Campaign</td>\n",
       "      <td>EU, CIS, APAC</td>\n",
       "      <td>2020-05-01</td>\n",
       "      <td>2020-05-03</td>\n",
       "    </tr>\n",
       "    <tr>\n",
       "      <th>8</th>\n",
       "      <td>International Women's Day Promo</td>\n",
       "      <td>EU, CIS, APAC</td>\n",
       "      <td>2020-03-08</td>\n",
       "      <td>2020-03-10</td>\n",
       "    </tr>\n",
       "    <tr>\n",
       "      <th>9</th>\n",
       "      <td>Victory Day CIS (May 9th) Event</td>\n",
       "      <td>CIS</td>\n",
       "      <td>2020-05-09</td>\n",
       "      <td>2020-05-11</td>\n",
       "    </tr>\n",
       "    <tr>\n",
       "      <th>10</th>\n",
       "      <td>CIS New Year Gift Lottery</td>\n",
       "      <td>CIS</td>\n",
       "      <td>2020-12-30</td>\n",
       "      <td>2021-01-07</td>\n",
       "    </tr>\n",
       "    <tr>\n",
       "      <th>11</th>\n",
       "      <td>Dragon Boat Festival Giveaway</td>\n",
       "      <td>APAC</td>\n",
       "      <td>2020-06-25</td>\n",
       "      <td>2020-07-01</td>\n",
       "    </tr>\n",
       "    <tr>\n",
       "      <th>12</th>\n",
       "      <td>Single's Day Gift Promo</td>\n",
       "      <td>APAC</td>\n",
       "      <td>2020-11-11</td>\n",
       "      <td>2020-11-12</td>\n",
       "    </tr>\n",
       "    <tr>\n",
       "      <th>13</th>\n",
       "      <td>Chinese Moon Festival</td>\n",
       "      <td>APAC</td>\n",
       "      <td>2020-10-01</td>\n",
       "      <td>2020-10-07</td>\n",
       "    </tr>\n",
       "  </tbody>\n",
       "</table>\n",
       "</div>"
      ],
      "text/plain": [
       "                                name                   regions   start_dt  \\\n",
       "0           Christmas&New Year Promo             EU, N.America 2020-12-25   \n",
       "1       St. Valentine's Day Giveaway  EU, CIS, APAC, N.America 2020-02-14   \n",
       "2             St. Patric's Day Promo             EU, N.America 2020-03-17   \n",
       "3                       Easter Promo  EU, CIS, APAC, N.America 2020-04-12   \n",
       "4                  4th of July Promo                 N.America 2020-07-04   \n",
       "5          Black Friday Ads Campaign  EU, CIS, APAC, N.America 2020-11-26   \n",
       "6             Chinese New Year Promo                      APAC 2020-01-25   \n",
       "7   Labor day (May 1st) Ads Campaign             EU, CIS, APAC 2020-05-01   \n",
       "8    International Women's Day Promo             EU, CIS, APAC 2020-03-08   \n",
       "9    Victory Day CIS (May 9th) Event                       CIS 2020-05-09   \n",
       "10         CIS New Year Gift Lottery                       CIS 2020-12-30   \n",
       "11     Dragon Boat Festival Giveaway                      APAC 2020-06-25   \n",
       "12           Single's Day Gift Promo                      APAC 2020-11-11   \n",
       "13             Chinese Moon Festival                      APAC 2020-10-01   \n",
       "\n",
       "    finish_dt  \n",
       "0  2021-01-03  \n",
       "1  2020-02-16  \n",
       "2  2020-03-19  \n",
       "3  2020-04-19  \n",
       "4  2020-07-11  \n",
       "5  2020-12-01  \n",
       "6  2020-02-07  \n",
       "7  2020-05-03  \n",
       "8  2020-03-10  \n",
       "9  2020-05-11  \n",
       "10 2021-01-07  \n",
       "11 2020-07-01  \n",
       "12 2020-11-12  \n",
       "13 2020-10-07  "
      ]
     },
     "execution_count": 113,
     "metadata": {},
     "output_type": "execute_result"
    }
   ],
   "source": [
    "# проверим время проведения маркетинговых компаний\n",
    "ab_project_marketing_events"
   ]
  },
  {
   "cell_type": "code",
   "execution_count": 114,
   "id": "45870fb0",
   "metadata": {},
   "outputs": [
    {
     "data": {
      "text/html": [
       "<div>\n",
       "<style scoped>\n",
       "    .dataframe tbody tr th:only-of-type {\n",
       "        vertical-align: middle;\n",
       "    }\n",
       "\n",
       "    .dataframe tbody tr th {\n",
       "        vertical-align: top;\n",
       "    }\n",
       "\n",
       "    .dataframe thead th {\n",
       "        text-align: right;\n",
       "    }\n",
       "</style>\n",
       "<table border=\"1\" class=\"dataframe\">\n",
       "  <thead>\n",
       "    <tr style=\"text-align: right;\">\n",
       "      <th></th>\n",
       "      <th>name</th>\n",
       "      <th>regions</th>\n",
       "      <th>start_dt</th>\n",
       "      <th>finish_dt</th>\n",
       "    </tr>\n",
       "  </thead>\n",
       "  <tbody>\n",
       "    <tr>\n",
       "      <th>0</th>\n",
       "      <td>Christmas&amp;New Year Promo</td>\n",
       "      <td>EU, N.America</td>\n",
       "      <td>2020-12-25</td>\n",
       "      <td>2021-01-03</td>\n",
       "    </tr>\n",
       "    <tr>\n",
       "      <th>10</th>\n",
       "      <td>CIS New Year Gift Lottery</td>\n",
       "      <td>CIS</td>\n",
       "      <td>2020-12-30</td>\n",
       "      <td>2021-01-07</td>\n",
       "    </tr>\n",
       "  </tbody>\n",
       "</table>\n",
       "</div>"
      ],
      "text/plain": [
       "                         name        regions   start_dt  finish_dt\n",
       "0    Christmas&New Year Promo  EU, N.America 2020-12-25 2021-01-03\n",
       "10  CIS New Year Gift Lottery            CIS 2020-12-30 2021-01-07"
      ]
     },
     "execution_count": 114,
     "metadata": {},
     "output_type": "execute_result"
    }
   ],
   "source": [
    "# маркетинговые компании, которые могут повлиять на тест\n",
    "ab_project_marketing_events[(ab_project_marketing_events['start_dt']<='2020-01-04') |\n",
    "                           (ab_project_marketing_events['finish_dt']>='2020-12-07')]"
   ]
  },
  {
   "cell_type": "markdown",
   "id": "85935401",
   "metadata": {},
   "source": [
    "Как видим время проведении компании `Christmas&New Year Promo` совпадает с временем проведения нашего теста начиная от 25 декабря. Чтобы не получить ложные результаты, проверим распределение событий в двух группах в эти числа. Если не будет перекоса в какой-либо из групп, значит данная компания одинаковая влияла на обе группы и нет причин исключать эти события из анализа.<br>\n",
    "`CIS New Year Gift Lottery` тоже захватывает дни событий из нашего датасета, но эта компания проводится для региона CIS, а у нас пользователи только из EU, поэтому на их действиях это не скажется."
   ]
  },
  {
   "cell_type": "code",
   "execution_count": 115,
   "id": "9f8904a2",
   "metadata": {},
   "outputs": [
    {
     "data": {
      "text/html": [
       "<div>\n",
       "<style scoped>\n",
       "    .dataframe tbody tr th:only-of-type {\n",
       "        vertical-align: middle;\n",
       "    }\n",
       "\n",
       "    .dataframe tbody tr th {\n",
       "        vertical-align: top;\n",
       "    }\n",
       "\n",
       "    .dataframe thead th {\n",
       "        text-align: right;\n",
       "    }\n",
       "</style>\n",
       "<table border=\"1\" class=\"dataframe\">\n",
       "  <thead>\n",
       "    <tr style=\"text-align: right;\">\n",
       "      <th></th>\n",
       "      <th>group</th>\n",
       "      <th>user_id</th>\n",
       "      <th>event_name</th>\n",
       "      <th>event_dt</th>\n",
       "    </tr>\n",
       "  </thead>\n",
       "  <tbody>\n",
       "    <tr>\n",
       "      <th>0</th>\n",
       "      <td>A</td>\n",
       "      <td>003DF44D7589BBD4</td>\n",
       "      <td>login</td>\n",
       "      <td>1</td>\n",
       "    </tr>\n",
       "    <tr>\n",
       "      <th>1</th>\n",
       "      <td>A</td>\n",
       "      <td>003DF44D7589BBD4</td>\n",
       "      <td>product_cart</td>\n",
       "      <td>1</td>\n",
       "    </tr>\n",
       "    <tr>\n",
       "      <th>2</th>\n",
       "      <td>A</td>\n",
       "      <td>003DF44D7589BBD4</td>\n",
       "      <td>product_page</td>\n",
       "      <td>1</td>\n",
       "    </tr>\n",
       "    <tr>\n",
       "      <th>3</th>\n",
       "      <td>A</td>\n",
       "      <td>00C1F5175586DFCF</td>\n",
       "      <td>login</td>\n",
       "      <td>1</td>\n",
       "    </tr>\n",
       "    <tr>\n",
       "      <th>4</th>\n",
       "      <td>A</td>\n",
       "      <td>00C1F5175586DFCF</td>\n",
       "      <td>product_page</td>\n",
       "      <td>1</td>\n",
       "    </tr>\n",
       "  </tbody>\n",
       "</table>\n",
       "</div>"
      ],
      "text/plain": [
       "  group           user_id    event_name  event_dt\n",
       "0     A  003DF44D7589BBD4         login         1\n",
       "1     A  003DF44D7589BBD4  product_cart         1\n",
       "2     A  003DF44D7589BBD4  product_page         1\n",
       "3     A  00C1F5175586DFCF         login         1\n",
       "4     A  00C1F5175586DFCF  product_page         1"
      ]
     },
     "execution_count": 115,
     "metadata": {},
     "output_type": "execute_result"
    }
   ],
   "source": [
    "# подсчет количества каждого события для пользователя в разных группах после 25 декабря\n",
    "event_count_users = (\n",
    "    final_df.loc[final_df['event_dt']>'2020-12-25']\n",
    "    .pivot_table(index=['group', 'user_id', 'event_name'],\n",
    "                values='event_dt', \n",
    "                aggfunc='count')\n",
    "    .reset_index()\n",
    ")\n",
    "event_count_users.head()"
   ]
  },
  {
   "cell_type": "code",
   "execution_count": 116,
   "id": "980fc64c",
   "metadata": {},
   "outputs": [
    {
     "data": {
      "image/png": "[encoded data removed]",
      "text/plain": [
       "<Figure size 942.875x360 with 1 Axes>"
      ]
     },
     "metadata": {
      "needs_background": "light"
     },
     "output_type": "display_data"
    }
   ],
   "source": [
    "# количество каждого события для пользователей разных групп после 25 декабря\n",
    "sns.catplot(data=event_count_users, \n",
    "            x=\"event_name\", y='event_dt', \n",
    "            hue=\"group\", \n",
    "            kind='bar', \n",
    "            palette=\"pastel\", edgecolor=\".6\",\n",
    "            height=5, aspect=2.5)\n",
    "plt.title('Частота каждого события для групп пользователей после 25 декабря')\n",
    "plt.xlabel('Название события')\n",
    "plt.ylabel('Частота события')\n",
    "plt.show()"
   ]
  },
  {
   "cell_type": "markdown",
   "id": "fe8ca335",
   "metadata": {},
   "source": [
    "Из распределения частоты событий нельзя заключить, что маркетинговая компания повлияла на какую-то из групп больше, чем на другую. Не будем исключать данные по событиям после 25 декабря из дальнейшего анализа. "
   ]
  },
  {
   "cell_type": "markdown",
   "id": "be6ac0cf",
   "metadata": {},
   "source": [
    "### Аудитория"
   ]
  },
  {
   "cell_type": "markdown",
   "id": "3400d2c9",
   "metadata": {},
   "source": [
    "**Пересекающиеся пользователи теста**"
   ]
  },
  {
   "cell_type": "markdown",
   "id": "897134c4",
   "metadata": {},
   "source": [
    "Если один и тот же пользователей попадет сразу в две группы это может исказить результаты теста."
   ]
  },
  {
   "cell_type": "code",
   "execution_count": 117,
   "id": "fc4b8bf6",
   "metadata": {},
   "outputs": [
    {
     "data": {
      "text/html": [
       "<div>\n",
       "<style scoped>\n",
       "    .dataframe tbody tr th:only-of-type {\n",
       "        vertical-align: middle;\n",
       "    }\n",
       "\n",
       "    .dataframe tbody tr th {\n",
       "        vertical-align: top;\n",
       "    }\n",
       "\n",
       "    .dataframe thead th {\n",
       "        text-align: right;\n",
       "    }\n",
       "</style>\n",
       "<table border=\"1\" class=\"dataframe\">\n",
       "  <thead>\n",
       "    <tr style=\"text-align: right;\">\n",
       "      <th></th>\n",
       "      <th>user_id</th>\n",
       "      <th>event_dt</th>\n",
       "      <th>event_name</th>\n",
       "      <th>details</th>\n",
       "      <th>group</th>\n",
       "      <th>ab_test</th>\n",
       "      <th>first_date</th>\n",
       "      <th>region</th>\n",
       "      <th>device</th>\n",
       "    </tr>\n",
       "  </thead>\n",
       "  <tbody>\n",
       "  </tbody>\n",
       "</table>\n",
       "</div>"
      ],
      "text/plain": [
       "Empty DataFrame\n",
       "Columns: [user_id, event_dt, event_name, details, group, ab_test, first_date, region, device]\n",
       "Index: []"
      ]
     },
     "metadata": {},
     "output_type": "display_data"
    },
    {
     "name": "stdout",
     "output_type": "stream",
     "text": [
      "Количество пересекающихся пользователей - 0\n"
     ]
    }
   ],
   "source": [
    "# найдем пользователей, которые попали в две группы(A и B) сразу \n",
    "group_A_visitor = final_df.loc[final_df['group']=='A', 'user_id']\n",
    "group_B_visitor = final_df.loc[final_df['group']=='B', 'user_id']\n",
    "\n",
    "visitor_AB = final_df.loc[\n",
    "    (final_df['user_id'].isin(group_A_visitor)) & (final_df['user_id'].isin(group_B_visitor))\n",
    "]\n",
    "\n",
    "display(visitor_AB.sort_values('user_id').head(10))\n",
    "print('Количество пересекающихся пользователей -', visitor_AB['user_id'].nunique())"
   ]
  },
  {
   "cell_type": "markdown",
   "id": "feccb298",
   "metadata": {},
   "source": [
    "**Пересечение аудитории с конкурирующим тестом**"
   ]
  },
  {
   "cell_type": "code",
   "execution_count": 118,
   "id": "98eaae4b",
   "metadata": {},
   "outputs": [
    {
     "data": {
      "text/plain": [
       "array(['recommender_system_test', 'interface_eu_test'], dtype=object)"
      ]
     },
     "execution_count": 118,
     "metadata": {},
     "output_type": "execute_result"
    }
   ],
   "source": [
    "# названия тестов\n",
    "final_ab_participants['ab_test'].unique()"
   ]
  },
  {
   "cell_type": "code",
   "execution_count": 119,
   "id": "be965fdf",
   "metadata": {},
   "outputs": [
    {
     "data": {
      "text/html": [
       "<div>\n",
       "<style scoped>\n",
       "    .dataframe tbody tr th:only-of-type {\n",
       "        vertical-align: middle;\n",
       "    }\n",
       "\n",
       "    .dataframe tbody tr th {\n",
       "        vertical-align: top;\n",
       "    }\n",
       "\n",
       "    .dataframe thead th {\n",
       "        text-align: right;\n",
       "    }\n",
       "</style>\n",
       "<table border=\"1\" class=\"dataframe\">\n",
       "  <thead>\n",
       "    <tr style=\"text-align: right;\">\n",
       "      <th></th>\n",
       "      <th>user_id</th>\n",
       "      <th>group</th>\n",
       "      <th>ab_test</th>\n",
       "    </tr>\n",
       "  </thead>\n",
       "  <tbody>\n",
       "    <tr>\n",
       "      <th>17892</th>\n",
       "      <td>001064FEAAB631A1</td>\n",
       "      <td>B</td>\n",
       "      <td>interface_eu_test</td>\n",
       "    </tr>\n",
       "    <tr>\n",
       "      <th>235</th>\n",
       "      <td>001064FEAAB631A1</td>\n",
       "      <td>B</td>\n",
       "      <td>recommender_system_test</td>\n",
       "    </tr>\n",
       "    <tr>\n",
       "      <th>16961</th>\n",
       "      <td>00341D8401F0F665</td>\n",
       "      <td>A</td>\n",
       "      <td>interface_eu_test</td>\n",
       "    </tr>\n",
       "    <tr>\n",
       "      <th>2137</th>\n",
       "      <td>00341D8401F0F665</td>\n",
       "      <td>A</td>\n",
       "      <td>recommender_system_test</td>\n",
       "    </tr>\n",
       "    <tr>\n",
       "      <th>8143</th>\n",
       "      <td>003B6786B4FF5B03</td>\n",
       "      <td>A</td>\n",
       "      <td>interface_eu_test</td>\n",
       "    </tr>\n",
       "    <tr>\n",
       "      <th>3156</th>\n",
       "      <td>003B6786B4FF5B03</td>\n",
       "      <td>A</td>\n",
       "      <td>recommender_system_test</td>\n",
       "    </tr>\n",
       "    <tr>\n",
       "      <th>4768</th>\n",
       "      <td>0082295A41A867B5</td>\n",
       "      <td>A</td>\n",
       "      <td>recommender_system_test</td>\n",
       "    </tr>\n",
       "    <tr>\n",
       "      <th>14161</th>\n",
       "      <td>0082295A41A867B5</td>\n",
       "      <td>B</td>\n",
       "      <td>interface_eu_test</td>\n",
       "    </tr>\n",
       "    <tr>\n",
       "      <th>15562</th>\n",
       "      <td>00E68F103C66C1F7</td>\n",
       "      <td>B</td>\n",
       "      <td>interface_eu_test</td>\n",
       "    </tr>\n",
       "    <tr>\n",
       "      <th>4074</th>\n",
       "      <td>00E68F103C66C1F7</td>\n",
       "      <td>A</td>\n",
       "      <td>recommender_system_test</td>\n",
       "    </tr>\n",
       "  </tbody>\n",
       "</table>\n",
       "</div>"
      ],
      "text/plain": [
       "                user_id group                  ab_test\n",
       "17892  001064FEAAB631A1     B        interface_eu_test\n",
       "235    001064FEAAB631A1     B  recommender_system_test\n",
       "16961  00341D8401F0F665     A        interface_eu_test\n",
       "2137   00341D8401F0F665     A  recommender_system_test\n",
       "8143   003B6786B4FF5B03     A        interface_eu_test\n",
       "3156   003B6786B4FF5B03     A  recommender_system_test\n",
       "4768   0082295A41A867B5     A  recommender_system_test\n",
       "14161  0082295A41A867B5     B        interface_eu_test\n",
       "15562  00E68F103C66C1F7     B        interface_eu_test\n",
       "4074   00E68F103C66C1F7     A  recommender_system_test"
      ]
     },
     "metadata": {},
     "output_type": "display_data"
    },
    {
     "name": "stdout",
     "output_type": "stream",
     "text": [
      "Количество пересекающихся пользователей - 1602\n"
     ]
    }
   ],
   "source": [
    "# подсчет количества пересекающихся между тестами пользователей\n",
    "test_1_visitor = final_ab_participants.loc[final_ab_participants['ab_test']=='recommender_system_test', 'user_id']\n",
    "test_2_visitor = final_ab_participants.loc[final_ab_participants['ab_test']=='interface_eu_test', 'user_id']\n",
    "\n",
    "visitor_12 = final_ab_participants.loc[\n",
    "    (final_ab_participants['user_id'].isin(test_1_visitor)) & (final_ab_participants['user_id'].isin(test_2_visitor))\n",
    "]\n",
    "\n",
    "display(visitor_12.sort_values('user_id').head(10))\n",
    "print('Количество пересекающихся пользователей -', visitor_12['user_id'].nunique())"
   ]
  },
  {
   "cell_type": "markdown",
   "id": "bd054236",
   "metadata": {},
   "source": [
    "1602 пользователя участвовали в двух тестах. Данных и ТЗ о втором тесте у нас нет, поэтому мы не можем знать каким образом пересекающиеся пользователи могли(если могли) повлиять на результаты нашего первого теста.<br>\n",
    "Если пользователи из теста 1 были в группе В теста 2, то это теоретически могло повлиять на результаты теста 1, найдем таких пользователей."
   ]
  },
  {
   "cell_type": "code",
   "execution_count": 120,
   "id": "c5dcba71",
   "metadata": {},
   "outputs": [
    {
     "name": "stdout",
     "output_type": "stream",
     "text": [
      "количество пользователей теста 2 группы В - 681\n"
     ]
    },
    {
     "data": {
      "text/plain": [
       "25    EAFB9027A27D510C\n",
       "29    5D5E6EE92AF6E9E0\n",
       "34    C758C53D624AD1AC\n",
       "35    8C478EE1AE7C98A4\n",
       "53    952D1EEBF552BC95\n",
       "Name: user_id, dtype: object"
      ]
     },
     "execution_count": 120,
     "metadata": {},
     "output_type": "execute_result"
    }
   ],
   "source": [
    "# отфильтруем пользователей из теста 2 группы В\n",
    "users_test2_B = visitor_12.loc[(visitor_12['ab_test']=='recommender_system_test') & \n",
    "               (visitor_12['group']=='B'), 'user_id']\n",
    "print('количество пользователей теста 2 группы В -', users_test2_B.nunique())\n",
    "users_test2_B.head()"
   ]
  },
  {
   "cell_type": "markdown",
   "id": "f0f44e8d",
   "metadata": {},
   "source": [
    "Найден 681 пользователь, удалим тех из них, по которым у нас есть данные в итоговом датасете"
   ]
  },
  {
   "cell_type": "code",
   "execution_count": 121,
   "id": "2c67c783",
   "metadata": {},
   "outputs": [
    {
     "name": "stdout",
     "output_type": "stream",
     "text": [
      "количество событий до удаления - 23420\n",
      "количество пользователей до удаления - 3481\n",
      "количество событий после удаления - 22093\n",
      "количество пользователей после удаления - 3259\n"
     ]
    }
   ],
   "source": [
    "print('количество событий до удаления -',len(final_df))\n",
    "print('количество пользователей до удаления -', final_df['user_id'].nunique())\n",
    "final_df = final_df.drop(final_df.loc[final_df['user_id'].isin(users_test2_B)].index).reset_index(drop=True)\n",
    "print('количество событий после удаления -',len(final_df))\n",
    "print('количество пользователей после удаления -', final_df['user_id'].nunique())"
   ]
  },
  {
   "cell_type": "markdown",
   "id": "a775c520",
   "metadata": {},
   "source": [
    "В итоге мы избавились еще от порядка 200 пользователей"
   ]
  },
  {
   "cell_type": "markdown",
   "id": "3ad29a0b",
   "metadata": {},
   "source": [
    "### Проверка пункта ТЗ про конверсию"
   ]
  },
  {
   "cell_type": "code",
   "execution_count": 122,
   "id": "a80ddfce",
   "metadata": {},
   "outputs": [
    {
     "name": "stdout",
     "output_type": "stream",
     "text": [
      "размер датасета - (22093, 10)\n"
     ]
    },
    {
     "data": {
      "text/html": [
       "<div>\n",
       "<style scoped>\n",
       "    .dataframe tbody tr th:only-of-type {\n",
       "        vertical-align: middle;\n",
       "    }\n",
       "\n",
       "    .dataframe tbody tr th {\n",
       "        vertical-align: top;\n",
       "    }\n",
       "\n",
       "    .dataframe thead th {\n",
       "        text-align: right;\n",
       "    }\n",
       "</style>\n",
       "<table border=\"1\" class=\"dataframe\">\n",
       "  <thead>\n",
       "    <tr style=\"text-align: right;\">\n",
       "      <th></th>\n",
       "      <th>user_id</th>\n",
       "      <th>event_dt</th>\n",
       "      <th>event_name</th>\n",
       "      <th>details</th>\n",
       "      <th>group</th>\n",
       "      <th>ab_test</th>\n",
       "      <th>first_date</th>\n",
       "      <th>region</th>\n",
       "      <th>device</th>\n",
       "      <th>lifetime</th>\n",
       "    </tr>\n",
       "  </thead>\n",
       "  <tbody>\n",
       "    <tr>\n",
       "      <th>0</th>\n",
       "      <td>831887FE7F2D6CBA</td>\n",
       "      <td>2020-12-07 06:50:29</td>\n",
       "      <td>purchase</td>\n",
       "      <td>4.99</td>\n",
       "      <td>A</td>\n",
       "      <td>recommender_system_test</td>\n",
       "      <td>2020-12-07</td>\n",
       "      <td>EU</td>\n",
       "      <td>Android</td>\n",
       "      <td>0</td>\n",
       "    </tr>\n",
       "    <tr>\n",
       "      <th>1</th>\n",
       "      <td>831887FE7F2D6CBA</td>\n",
       "      <td>2020-12-09 02:19:17</td>\n",
       "      <td>purchase</td>\n",
       "      <td>99.99</td>\n",
       "      <td>A</td>\n",
       "      <td>recommender_system_test</td>\n",
       "      <td>2020-12-07</td>\n",
       "      <td>EU</td>\n",
       "      <td>Android</td>\n",
       "      <td>2</td>\n",
       "    </tr>\n",
       "    <tr>\n",
       "      <th>2</th>\n",
       "      <td>831887FE7F2D6CBA</td>\n",
       "      <td>2020-12-07 06:50:30</td>\n",
       "      <td>product_cart</td>\n",
       "      <td>NaN</td>\n",
       "      <td>A</td>\n",
       "      <td>recommender_system_test</td>\n",
       "      <td>2020-12-07</td>\n",
       "      <td>EU</td>\n",
       "      <td>Android</td>\n",
       "      <td>0</td>\n",
       "    </tr>\n",
       "    <tr>\n",
       "      <th>3</th>\n",
       "      <td>831887FE7F2D6CBA</td>\n",
       "      <td>2020-12-08 10:52:27</td>\n",
       "      <td>product_cart</td>\n",
       "      <td>NaN</td>\n",
       "      <td>A</td>\n",
       "      <td>recommender_system_test</td>\n",
       "      <td>2020-12-07</td>\n",
       "      <td>EU</td>\n",
       "      <td>Android</td>\n",
       "      <td>1</td>\n",
       "    </tr>\n",
       "    <tr>\n",
       "      <th>4</th>\n",
       "      <td>831887FE7F2D6CBA</td>\n",
       "      <td>2020-12-09 02:19:17</td>\n",
       "      <td>product_cart</td>\n",
       "      <td>NaN</td>\n",
       "      <td>A</td>\n",
       "      <td>recommender_system_test</td>\n",
       "      <td>2020-12-07</td>\n",
       "      <td>EU</td>\n",
       "      <td>Android</td>\n",
       "      <td>2</td>\n",
       "    </tr>\n",
       "  </tbody>\n",
       "</table>\n",
       "</div>"
      ],
      "text/plain": [
       "            user_id            event_dt    event_name  details group  \\\n",
       "0  831887FE7F2D6CBA 2020-12-07 06:50:29      purchase     4.99     A   \n",
       "1  831887FE7F2D6CBA 2020-12-09 02:19:17      purchase    99.99     A   \n",
       "2  831887FE7F2D6CBA 2020-12-07 06:50:30  product_cart      NaN     A   \n",
       "3  831887FE7F2D6CBA 2020-12-08 10:52:27  product_cart      NaN     A   \n",
       "4  831887FE7F2D6CBA 2020-12-09 02:19:17  product_cart      NaN     A   \n",
       "\n",
       "                   ab_test first_date region   device  lifetime  \n",
       "0  recommender_system_test 2020-12-07     EU  Android         0  \n",
       "1  recommender_system_test 2020-12-07     EU  Android         2  \n",
       "2  recommender_system_test 2020-12-07     EU  Android         0  \n",
       "3  recommender_system_test 2020-12-07     EU  Android         1  \n",
       "4  recommender_system_test 2020-12-07     EU  Android         2  "
      ]
     },
     "execution_count": 122,
     "metadata": {},
     "output_type": "execute_result"
    }
   ],
   "source": [
    "# создадим столбец с количеством дней с момента первого события\n",
    "final_df['lifetime'] = (final_df['event_dt'] - final_df['first_date']).dt.days\n",
    "print('размер датасета - {}'.format(final_df.shape))\n",
    "final_df.head()"
   ]
  },
  {
   "cell_type": "markdown",
   "id": "26236dbb",
   "metadata": {},
   "source": [
    "Помня, что не все пользователи имеют необходимый лайфтайм в 2 недели, проверим частоту событий в зависимости от дня пользвоания приложением"
   ]
  },
  {
   "cell_type": "code",
   "execution_count": 123,
   "id": "1430e858",
   "metadata": {},
   "outputs": [
    {
     "data": {
      "image/png": "[encoded data removed]",
      "text/plain": [
       "<Figure size 1080x360 with 1 Axes>"
      ]
     },
     "metadata": {
      "needs_background": "light"
     },
     "output_type": "display_data"
    }
   ],
   "source": [
    "# количество событий распределеннных в зависимости от лайфтайма пользователя\n",
    "sns.displot(final_df, x=\"lifetime\", \n",
    "            multiple=\"dodge\",\n",
    "            height=5, aspect=3)\n",
    "plt.show()"
   ]
  },
  {
   "cell_type": "markdown",
   "id": "6d5364b7",
   "metadata": {},
   "source": [
    "Так как в основном все события совершаются в первые дни после регистрации, то не будем удалять пользователей, у которых нет 14 дней участия в тесте, это не повлияет на результаты. Оставим в данных только события пользователей за 14 дней с момента их регистрации."
   ]
  },
  {
   "cell_type": "code",
   "execution_count": 124,
   "id": "500e4fa6",
   "metadata": {},
   "outputs": [
    {
     "name": "stdout",
     "output_type": "stream",
     "text": [
      "размер датасета - (21575, 10)\n",
      "максимальный lifetime - 14\n"
     ]
    }
   ],
   "source": [
    "# отфильтруем датасет по двухнедельному лайфтайму как по ТЗ\n",
    "final_df = final_df.loc[final_df['lifetime']<=14]\n",
    "print('размер датасета - {}'.format(final_df.shape))\n",
    "print('максимальный lifetime - {}'.format(final_df['lifetime'].max()))"
   ]
  },
  {
   "cell_type": "markdown",
   "id": "fc8d0bba",
   "metadata": {},
   "source": [
    "Отсеилось порядка 500 строк с событиями"
   ]
  },
  {
   "cell_type": "code",
   "execution_count": 125,
   "id": "49e395f3",
   "metadata": {},
   "outputs": [
    {
     "data": {
      "text/plain": [
       "group\n",
       "A    2604\n",
       "B     655\n",
       "Name: user_id, dtype: int64"
      ]
     },
     "execution_count": 125,
     "metadata": {},
     "output_type": "execute_result"
    }
   ],
   "source": [
    "# количество уникальных пользователей\n",
    "final_df.groupby('group')['user_id'].nunique()"
   ]
  },
  {
   "cell_type": "code",
   "execution_count": 126,
   "id": "97659b21",
   "metadata": {},
   "outputs": [
    {
     "data": {
      "text/html": [
       "<div>\n",
       "<style scoped>\n",
       "    .dataframe tbody tr th:only-of-type {\n",
       "        vertical-align: middle;\n",
       "    }\n",
       "\n",
       "    .dataframe tbody tr th {\n",
       "        vertical-align: top;\n",
       "    }\n",
       "\n",
       "    .dataframe thead th {\n",
       "        text-align: right;\n",
       "    }\n",
       "</style>\n",
       "<table border=\"1\" class=\"dataframe\">\n",
       "  <thead>\n",
       "    <tr style=\"text-align: right;\">\n",
       "      <th>group</th>\n",
       "      <th>event_name</th>\n",
       "      <th>A</th>\n",
       "      <th>B</th>\n",
       "    </tr>\n",
       "  </thead>\n",
       "  <tbody>\n",
       "    <tr>\n",
       "      <th>0</th>\n",
       "      <td>login</td>\n",
       "      <td>2604</td>\n",
       "      <td>654</td>\n",
       "    </tr>\n",
       "    <tr>\n",
       "      <th>1</th>\n",
       "      <td>product_cart</td>\n",
       "      <td>782</td>\n",
       "      <td>184</td>\n",
       "    </tr>\n",
       "    <tr>\n",
       "      <th>2</th>\n",
       "      <td>product_page</td>\n",
       "      <td>1685</td>\n",
       "      <td>367</td>\n",
       "    </tr>\n",
       "    <tr>\n",
       "      <th>3</th>\n",
       "      <td>purchase</td>\n",
       "      <td>833</td>\n",
       "      <td>191</td>\n",
       "    </tr>\n",
       "  </tbody>\n",
       "</table>\n",
       "</div>"
      ],
      "text/plain": [
       "group    event_name     A    B\n",
       "0             login  2604  654\n",
       "1      product_cart   782  184\n",
       "2      product_page  1685  367\n",
       "3          purchase   833  191"
      ]
     },
     "execution_count": 126,
     "metadata": {},
     "output_type": "execute_result"
    }
   ],
   "source": [
    "# сводная таблица с количеством пользователей для каждого события двух тестовых групп\n",
    "final_pivot_event = (\n",
    "    final_df\n",
    "    .pivot_table(index='event_name',\n",
    "                columns='group',\n",
    "                values='user_id', \n",
    "                aggfunc='nunique')\n",
    "    .reset_index()\n",
    ")\n",
    "\n",
    "final_pivot_event"
   ]
  },
  {
   "cell_type": "code",
   "execution_count": 127,
   "id": "886c29ce",
   "metadata": {},
   "outputs": [
    {
     "data": {
      "text/html": [
       "<div>\n",
       "<style scoped>\n",
       "    .dataframe tbody tr th:only-of-type {\n",
       "        vertical-align: middle;\n",
       "    }\n",
       "\n",
       "    .dataframe tbody tr th {\n",
       "        vertical-align: top;\n",
       "    }\n",
       "\n",
       "    .dataframe thead th {\n",
       "        text-align: right;\n",
       "    }\n",
       "</style>\n",
       "<table border=\"1\" class=\"dataframe\">\n",
       "  <thead>\n",
       "    <tr style=\"text-align: right;\">\n",
       "      <th>group</th>\n",
       "      <th>event_name</th>\n",
       "      <th>A</th>\n",
       "      <th>B</th>\n",
       "      <th>conversion_A</th>\n",
       "      <th>conversion_B</th>\n",
       "      <th>difference</th>\n",
       "    </tr>\n",
       "  </thead>\n",
       "  <tbody>\n",
       "    <tr>\n",
       "      <th>0</th>\n",
       "      <td>login</td>\n",
       "      <td>2604</td>\n",
       "      <td>654</td>\n",
       "      <td>100.00</td>\n",
       "      <td>99.85</td>\n",
       "      <td>-0.15</td>\n",
       "    </tr>\n",
       "    <tr>\n",
       "      <th>1</th>\n",
       "      <td>product_cart</td>\n",
       "      <td>782</td>\n",
       "      <td>184</td>\n",
       "      <td>30.03</td>\n",
       "      <td>28.09</td>\n",
       "      <td>-1.94</td>\n",
       "    </tr>\n",
       "    <tr>\n",
       "      <th>2</th>\n",
       "      <td>product_page</td>\n",
       "      <td>1685</td>\n",
       "      <td>367</td>\n",
       "      <td>64.71</td>\n",
       "      <td>56.03</td>\n",
       "      <td>-8.68</td>\n",
       "    </tr>\n",
       "    <tr>\n",
       "      <th>3</th>\n",
       "      <td>purchase</td>\n",
       "      <td>833</td>\n",
       "      <td>191</td>\n",
       "      <td>31.99</td>\n",
       "      <td>29.16</td>\n",
       "      <td>-2.83</td>\n",
       "    </tr>\n",
       "  </tbody>\n",
       "</table>\n",
       "</div>"
      ],
      "text/plain": [
       "group    event_name     A    B  conversion_A  conversion_B  difference\n",
       "0             login  2604  654        100.00         99.85       -0.15\n",
       "1      product_cart   782  184         30.03         28.09       -1.94\n",
       "2      product_page  1685  367         64.71         56.03       -8.68\n",
       "3          purchase   833  191         31.99         29.16       -2.83"
      ]
     },
     "execution_count": 127,
     "metadata": {},
     "output_type": "execute_result"
    }
   ],
   "source": [
    "# вычисление конверсии для группы А и В и расчет разницы конверсий группы В относительно А\n",
    "final_pivot_event['conversion_A'] = (\n",
    "    round(100 * final_pivot_event['A'] / final_df.loc[final_df['group']=='A']['user_id'].nunique(), 2)\n",
    ")\n",
    "final_pivot_event['conversion_B'] = (\n",
    "    round(100 * final_pivot_event['B'] / final_df.loc[final_df['group']=='B']['user_id'].nunique(), 2)\n",
    ")\n",
    "\n",
    "final_pivot_event['difference'] = final_pivot_event['conversion_B'] - final_pivot_event['conversion_A']\n",
    "\n",
    "final_pivot_event"
   ]
  },
  {
   "cell_type": "code",
   "execution_count": 128,
   "id": "ed6a1674",
   "metadata": {},
   "outputs": [
    {
     "data": {
      "text/html": [
       "<div>\n",
       "<style scoped>\n",
       "    .dataframe tbody tr th:only-of-type {\n",
       "        vertical-align: middle;\n",
       "    }\n",
       "\n",
       "    .dataframe tbody tr th {\n",
       "        vertical-align: top;\n",
       "    }\n",
       "\n",
       "    .dataframe thead th {\n",
       "        text-align: right;\n",
       "    }\n",
       "</style>\n",
       "<table border=\"1\" class=\"dataframe\">\n",
       "  <thead>\n",
       "    <tr style=\"text-align: right;\">\n",
       "      <th>group</th>\n",
       "      <th>event_name</th>\n",
       "      <th>A</th>\n",
       "      <th>B</th>\n",
       "      <th>conversion_A</th>\n",
       "      <th>conversion_B</th>\n",
       "      <th>difference</th>\n",
       "    </tr>\n",
       "  </thead>\n",
       "  <tbody>\n",
       "    <tr>\n",
       "      <th>0</th>\n",
       "      <td>login</td>\n",
       "      <td>2604</td>\n",
       "      <td>654</td>\n",
       "      <td>100.00</td>\n",
       "      <td>99.85</td>\n",
       "      <td>-0.15</td>\n",
       "    </tr>\n",
       "    <tr>\n",
       "      <th>1</th>\n",
       "      <td>product_page</td>\n",
       "      <td>1685</td>\n",
       "      <td>367</td>\n",
       "      <td>64.71</td>\n",
       "      <td>56.03</td>\n",
       "      <td>-8.68</td>\n",
       "    </tr>\n",
       "    <tr>\n",
       "      <th>2</th>\n",
       "      <td>product_cart</td>\n",
       "      <td>782</td>\n",
       "      <td>184</td>\n",
       "      <td>30.03</td>\n",
       "      <td>28.09</td>\n",
       "      <td>-1.94</td>\n",
       "    </tr>\n",
       "    <tr>\n",
       "      <th>3</th>\n",
       "      <td>purchase</td>\n",
       "      <td>833</td>\n",
       "      <td>191</td>\n",
       "      <td>31.99</td>\n",
       "      <td>29.16</td>\n",
       "      <td>-2.83</td>\n",
       "    </tr>\n",
       "  </tbody>\n",
       "</table>\n",
       "</div>"
      ],
      "text/plain": [
       "group    event_name     A    B  conversion_A  conversion_B  difference\n",
       "0             login  2604  654        100.00         99.85       -0.15\n",
       "1      product_page  1685  367         64.71         56.03       -8.68\n",
       "2      product_cart   782  184         30.03         28.09       -1.94\n",
       "3          purchase   833  191         31.99         29.16       -2.83"
      ]
     },
     "execution_count": 128,
     "metadata": {},
     "output_type": "execute_result"
    }
   ],
   "source": [
    "# переставим строки в соответствии с воронкой событий\n",
    "final_pivot_event = final_pivot_event.reindex([0, 2, 1, 3]).reset_index(drop=True)\n",
    "final_pivot_event"
   ]
  },
  {
   "cell_type": "markdown",
   "id": "75e531ba",
   "metadata": {},
   "source": [
    "Отрицательные значения означают, что метрики не только не улучшились на ожидаемые 10%, но и ухудшились."
   ]
  },
  {
   "cell_type": "markdown",
   "id": "d49c2c6c",
   "metadata": {},
   "source": [
    "**Выводы**"
   ]
  },
  {
   "cell_type": "markdown",
   "id": "f2f49aa8",
   "metadata": {},
   "source": [
    "- у нас в распоряжении данные по двум А/В тестам: `interface_eu_test` с 11567 пользователями и `recommender_system_test` с 6701 пользователями. В датасет `final_ab_participants_system` записаны только данные пользователей из теста по ТЗ `recommender_system_test`\n",
    "- после 21 декабря зарегистрировались еще 5000 пользователей, исключили их из датасета\n",
    "- с 23:36:33 30 декабря и до 4 января событий не происходило, по ТЗ тест должен продолжаться до 4 января\n",
    "- из Европы в нашем датасете 6351 пользователь, что составляет 15% от общего числа пользователей\n",
    "- всего уникальных участников 6351, но в нашем распоряжении данные о 3259 пользователе, потому что другие не совершили ни одного события после регистрации. По ТЗ должно быть 6000 участников у нас почти в два раза меньше, нужно понять как это повлияет на конечный результат. Мы можем провести тест, посмотреть на результаты, а после этого оценить мощность теста.\n",
    "- есть пересекающиеся пользователи между тестами\n",
    "- есть порядка 3000 пользователей зарегестрировавшихся, но не совершивших после этого ни одного действия. До 13 числа это было характерно для двух групп, после 13 числа только для группы В. Это характерно для пользователей со всех типов устройств.\n",
    "- конверсия событий для группы В не соответствует заявленному по ТЗ улучшению на 10%. Даже наоборот она стала хуже по сравнению с группой А."
   ]
  },
  {
   "cell_type": "markdown",
   "id": "4b66443a",
   "metadata": {},
   "source": [
    "## Исследовательский анализ данных"
   ]
  },
  {
   "cell_type": "markdown",
   "id": "47a30788",
   "metadata": {},
   "source": [
    "Удалим из датасета столбцы `ab_test` и `region` они не несут никакой информации в себе, а только увеличивают датасет."
   ]
  },
  {
   "cell_type": "code",
   "execution_count": 129,
   "id": "96b2fa23",
   "metadata": {},
   "outputs": [
    {
     "data": {
      "text/html": [
       "<div>\n",
       "<style scoped>\n",
       "    .dataframe tbody tr th:only-of-type {\n",
       "        vertical-align: middle;\n",
       "    }\n",
       "\n",
       "    .dataframe tbody tr th {\n",
       "        vertical-align: top;\n",
       "    }\n",
       "\n",
       "    .dataframe thead th {\n",
       "        text-align: right;\n",
       "    }\n",
       "</style>\n",
       "<table border=\"1\" class=\"dataframe\">\n",
       "  <thead>\n",
       "    <tr style=\"text-align: right;\">\n",
       "      <th></th>\n",
       "      <th>user_id</th>\n",
       "      <th>event_dt</th>\n",
       "      <th>event_name</th>\n",
       "      <th>details</th>\n",
       "      <th>group</th>\n",
       "      <th>first_date</th>\n",
       "      <th>device</th>\n",
       "      <th>lifetime</th>\n",
       "    </tr>\n",
       "  </thead>\n",
       "  <tbody>\n",
       "    <tr>\n",
       "      <th>0</th>\n",
       "      <td>831887FE7F2D6CBA</td>\n",
       "      <td>2020-12-07 06:50:29</td>\n",
       "      <td>purchase</td>\n",
       "      <td>4.99</td>\n",
       "      <td>A</td>\n",
       "      <td>2020-12-07</td>\n",
       "      <td>Android</td>\n",
       "      <td>0</td>\n",
       "    </tr>\n",
       "    <tr>\n",
       "      <th>1</th>\n",
       "      <td>831887FE7F2D6CBA</td>\n",
       "      <td>2020-12-09 02:19:17</td>\n",
       "      <td>purchase</td>\n",
       "      <td>99.99</td>\n",
       "      <td>A</td>\n",
       "      <td>2020-12-07</td>\n",
       "      <td>Android</td>\n",
       "      <td>2</td>\n",
       "    </tr>\n",
       "    <tr>\n",
       "      <th>2</th>\n",
       "      <td>831887FE7F2D6CBA</td>\n",
       "      <td>2020-12-07 06:50:30</td>\n",
       "      <td>product_cart</td>\n",
       "      <td>NaN</td>\n",
       "      <td>A</td>\n",
       "      <td>2020-12-07</td>\n",
       "      <td>Android</td>\n",
       "      <td>0</td>\n",
       "    </tr>\n",
       "    <tr>\n",
       "      <th>3</th>\n",
       "      <td>831887FE7F2D6CBA</td>\n",
       "      <td>2020-12-08 10:52:27</td>\n",
       "      <td>product_cart</td>\n",
       "      <td>NaN</td>\n",
       "      <td>A</td>\n",
       "      <td>2020-12-07</td>\n",
       "      <td>Android</td>\n",
       "      <td>1</td>\n",
       "    </tr>\n",
       "    <tr>\n",
       "      <th>4</th>\n",
       "      <td>831887FE7F2D6CBA</td>\n",
       "      <td>2020-12-09 02:19:17</td>\n",
       "      <td>product_cart</td>\n",
       "      <td>NaN</td>\n",
       "      <td>A</td>\n",
       "      <td>2020-12-07</td>\n",
       "      <td>Android</td>\n",
       "      <td>2</td>\n",
       "    </tr>\n",
       "  </tbody>\n",
       "</table>\n",
       "</div>"
      ],
      "text/plain": [
       "            user_id            event_dt    event_name  details group  \\\n",
       "0  831887FE7F2D6CBA 2020-12-07 06:50:29      purchase     4.99     A   \n",
       "1  831887FE7F2D6CBA 2020-12-09 02:19:17      purchase    99.99     A   \n",
       "2  831887FE7F2D6CBA 2020-12-07 06:50:30  product_cart      NaN     A   \n",
       "3  831887FE7F2D6CBA 2020-12-08 10:52:27  product_cart      NaN     A   \n",
       "4  831887FE7F2D6CBA 2020-12-09 02:19:17  product_cart      NaN     A   \n",
       "\n",
       "  first_date   device  lifetime  \n",
       "0 2020-12-07  Android         0  \n",
       "1 2020-12-07  Android         2  \n",
       "2 2020-12-07  Android         0  \n",
       "3 2020-12-07  Android         1  \n",
       "4 2020-12-07  Android         2  "
      ]
     },
     "execution_count": 129,
     "metadata": {},
     "output_type": "execute_result"
    }
   ],
   "source": [
    "# удаление столбцов\n",
    "final_df = final_df.drop(['ab_test', 'region'], axis=1)\n",
    "final_df.head()"
   ]
  },
  {
   "cell_type": "markdown",
   "id": "8a5ba5a4",
   "metadata": {},
   "source": [
    "### Количество событий"
   ]
  },
  {
   "cell_type": "code",
   "execution_count": 130,
   "id": "3b588540",
   "metadata": {
    "scrolled": true
   },
   "outputs": [
    {
     "data": {
      "text/html": [
       "<div>\n",
       "<style scoped>\n",
       "    .dataframe tbody tr th:only-of-type {\n",
       "        vertical-align: middle;\n",
       "    }\n",
       "\n",
       "    .dataframe tbody tr th {\n",
       "        vertical-align: top;\n",
       "    }\n",
       "\n",
       "    .dataframe thead th {\n",
       "        text-align: right;\n",
       "    }\n",
       "</style>\n",
       "<table border=\"1\" class=\"dataframe\">\n",
       "  <thead>\n",
       "    <tr style=\"text-align: right;\">\n",
       "      <th></th>\n",
       "      <th>group</th>\n",
       "      <th>user_id</th>\n",
       "      <th>event_name</th>\n",
       "      <th>event_dt</th>\n",
       "    </tr>\n",
       "  </thead>\n",
       "  <tbody>\n",
       "    <tr>\n",
       "      <th>0</th>\n",
       "      <td>A</td>\n",
       "      <td>0010A1C096941592</td>\n",
       "      <td>login</td>\n",
       "      <td>4</td>\n",
       "    </tr>\n",
       "    <tr>\n",
       "      <th>1</th>\n",
       "      <td>A</td>\n",
       "      <td>0010A1C096941592</td>\n",
       "      <td>product_page</td>\n",
       "      <td>4</td>\n",
       "    </tr>\n",
       "    <tr>\n",
       "      <th>2</th>\n",
       "      <td>A</td>\n",
       "      <td>0010A1C096941592</td>\n",
       "      <td>purchase</td>\n",
       "      <td>4</td>\n",
       "    </tr>\n",
       "    <tr>\n",
       "      <th>3</th>\n",
       "      <td>A</td>\n",
       "      <td>00341D8401F0F665</td>\n",
       "      <td>login</td>\n",
       "      <td>2</td>\n",
       "    </tr>\n",
       "    <tr>\n",
       "      <th>4</th>\n",
       "      <td>A</td>\n",
       "      <td>003DF44D7589BBD4</td>\n",
       "      <td>login</td>\n",
       "      <td>5</td>\n",
       "    </tr>\n",
       "  </tbody>\n",
       "</table>\n",
       "</div>"
      ],
      "text/plain": [
       "  group           user_id    event_name  event_dt\n",
       "0     A  0010A1C096941592         login         4\n",
       "1     A  0010A1C096941592  product_page         4\n",
       "2     A  0010A1C096941592      purchase         4\n",
       "3     A  00341D8401F0F665         login         2\n",
       "4     A  003DF44D7589BBD4         login         5"
      ]
     },
     "execution_count": 130,
     "metadata": {},
     "output_type": "execute_result"
    }
   ],
   "source": [
    "# подсчет количества каждого события для пользователя в разных группах\n",
    "event_count_users = (\n",
    "    final_df\n",
    "    .pivot_table(index=['group', 'user_id', 'event_name'],\n",
    "                values='event_dt', \n",
    "                aggfunc='count')\n",
    "    .reset_index()\n",
    ")\n",
    "event_count_users.head()"
   ]
  },
  {
   "cell_type": "code",
   "execution_count": 131,
   "id": "082a7697",
   "metadata": {},
   "outputs": [
    {
     "data": {
      "image/png": "[encoded data removed]",
      "text/plain": [
       "<Figure size 942.875x360 with 1 Axes>"
      ]
     },
     "metadata": {
      "needs_background": "light"
     },
     "output_type": "display_data"
    }
   ],
   "source": [
    "# количество каждого события для пользователей разных групп\n",
    "sns.catplot(data=event_count_users, x=\"event_name\", y='event_dt', \n",
    "            hue=\"group\", \n",
    "            kind='bar', \n",
    "            palette=\"pastel\", edgecolor=\".6\",\n",
    "            height=5, aspect=2.5)\n",
    "plt.title('Частота каждого события для групп пользователей')\n",
    "plt.xlabel('Название события')\n",
    "plt.ylabel('Частота события')\n",
    "plt.show()"
   ]
  },
  {
   "cell_type": "markdown",
   "id": "cbadfcda",
   "metadata": {},
   "source": [
    "Из графика можно сделать вывод, что в группах А и В пользователи совершают одинаковое количество каждого события"
   ]
  },
  {
   "cell_type": "code",
   "execution_count": 132,
   "id": "558000de",
   "metadata": {},
   "outputs": [
    {
     "name": "stdout",
     "output_type": "stream",
     "text": [
      "(3259, 3)\n"
     ]
    },
    {
     "data": {
      "text/html": [
       "<div>\n",
       "<style scoped>\n",
       "    .dataframe tbody tr th:only-of-type {\n",
       "        vertical-align: middle;\n",
       "    }\n",
       "\n",
       "    .dataframe tbody tr th {\n",
       "        vertical-align: top;\n",
       "    }\n",
       "\n",
       "    .dataframe thead th {\n",
       "        text-align: right;\n",
       "    }\n",
       "</style>\n",
       "<table border=\"1\" class=\"dataframe\">\n",
       "  <thead>\n",
       "    <tr style=\"text-align: right;\">\n",
       "      <th></th>\n",
       "      <th>user_id</th>\n",
       "      <th>group</th>\n",
       "      <th>event_dt</th>\n",
       "    </tr>\n",
       "  </thead>\n",
       "  <tbody>\n",
       "    <tr>\n",
       "      <th>0</th>\n",
       "      <td>0010A1C096941592</td>\n",
       "      <td>A</td>\n",
       "      <td>12</td>\n",
       "    </tr>\n",
       "    <tr>\n",
       "      <th>1</th>\n",
       "      <td>00341D8401F0F665</td>\n",
       "      <td>A</td>\n",
       "      <td>2</td>\n",
       "    </tr>\n",
       "    <tr>\n",
       "      <th>2</th>\n",
       "      <td>003DF44D7589BBD4</td>\n",
       "      <td>A</td>\n",
       "      <td>15</td>\n",
       "    </tr>\n",
       "    <tr>\n",
       "      <th>3</th>\n",
       "      <td>00505E15A9D81546</td>\n",
       "      <td>A</td>\n",
       "      <td>5</td>\n",
       "    </tr>\n",
       "    <tr>\n",
       "      <th>4</th>\n",
       "      <td>005E096DBD379BCF</td>\n",
       "      <td>B</td>\n",
       "      <td>4</td>\n",
       "    </tr>\n",
       "  </tbody>\n",
       "</table>\n",
       "</div>"
      ],
      "text/plain": [
       "            user_id group  event_dt\n",
       "0  0010A1C096941592     A        12\n",
       "1  00341D8401F0F665     A         2\n",
       "2  003DF44D7589BBD4     A        15\n",
       "3  00505E15A9D81546     A         5\n",
       "4  005E096DBD379BCF     B         4"
      ]
     },
     "execution_count": 132,
     "metadata": {},
     "output_type": "execute_result"
    }
   ],
   "source": [
    "# сводная таблица количества событий на пользователя из разных групп\n",
    "\n",
    "all_event_count_users = (\n",
    "    final_df\n",
    "    .pivot_table(index=['user_id', 'group'],\n",
    "                values='event_dt', \n",
    "                aggfunc='count')\n",
    "    .reset_index()\n",
    ")\n",
    "\n",
    "print(all_event_count_users.shape)\n",
    "all_event_count_users.head()"
   ]
  },
  {
   "cell_type": "code",
   "execution_count": 133,
   "id": "23ade0e9",
   "metadata": {},
   "outputs": [
    {
     "data": {
      "image/png": "[encoded data removed]",
      "text/plain": [
       "<Figure size 1122.88x360 with 1 Axes>"
      ]
     },
     "metadata": {
      "needs_background": "light"
     },
     "output_type": "display_data"
    }
   ],
   "source": [
    "# распределение количества всех событий для пользователей разных групп\n",
    "sns.displot(all_event_count_users, x=\"event_dt\", hue='group', \n",
    "            kde=True, multiple=\"dodge\",\n",
    "            height=5, aspect=3)\n",
    "plt.show()"
   ]
  },
  {
   "cell_type": "code",
   "execution_count": 134,
   "id": "5af3b0d7",
   "metadata": {},
   "outputs": [
    {
     "data": {
      "image/png": "[encoded data removed]",
      "text/plain": [
       "<Figure size 1152x576 with 1 Axes>"
      ]
     },
     "metadata": {
      "needs_background": "light"
     },
     "output_type": "display_data"
    }
   ],
   "source": [
    "# диаграма размаха всех событий для пользователя\n",
    "plt.figure(figsize=(16,8))\n",
    "ax1 = sns.boxplot(\n",
    "    data=all_event_count_users, x='event_dt', y='group',\n",
    "    palette='pastel',\n",
    "    orient='h'\n",
    ")\n",
    "plt.title('Диаграмма размаха количества событий пользователя в зависимости от группы')\n",
    "plt.show()"
   ]
  },
  {
   "cell_type": "code",
   "execution_count": 135,
   "id": "a13611ff",
   "metadata": {},
   "outputs": [
    {
     "data": {
      "text/html": [
       "<div>\n",
       "<style scoped>\n",
       "    .dataframe tbody tr th:only-of-type {\n",
       "        vertical-align: middle;\n",
       "    }\n",
       "\n",
       "    .dataframe tbody tr th {\n",
       "        vertical-align: top;\n",
       "    }\n",
       "\n",
       "    .dataframe thead tr th {\n",
       "        text-align: left;\n",
       "    }\n",
       "\n",
       "    .dataframe thead tr:last-of-type th {\n",
       "        text-align: right;\n",
       "    }\n",
       "</style>\n",
       "<table border=\"1\" class=\"dataframe\">\n",
       "  <thead>\n",
       "    <tr>\n",
       "      <th></th>\n",
       "      <th colspan=\"8\" halign=\"left\">event_dt</th>\n",
       "    </tr>\n",
       "    <tr>\n",
       "      <th></th>\n",
       "      <th>count</th>\n",
       "      <th>mean</th>\n",
       "      <th>std</th>\n",
       "      <th>min</th>\n",
       "      <th>25%</th>\n",
       "      <th>50%</th>\n",
       "      <th>75%</th>\n",
       "      <th>max</th>\n",
       "    </tr>\n",
       "    <tr>\n",
       "      <th>group</th>\n",
       "      <th></th>\n",
       "      <th></th>\n",
       "      <th></th>\n",
       "      <th></th>\n",
       "      <th></th>\n",
       "      <th></th>\n",
       "      <th></th>\n",
       "      <th></th>\n",
       "    </tr>\n",
       "  </thead>\n",
       "  <tbody>\n",
       "    <tr>\n",
       "      <th>A</th>\n",
       "      <td>2604.0</td>\n",
       "      <td>6.90361</td>\n",
       "      <td>3.84470</td>\n",
       "      <td>1.0</td>\n",
       "      <td>4.0</td>\n",
       "      <td>6.0</td>\n",
       "      <td>9.0</td>\n",
       "      <td>24.0</td>\n",
       "    </tr>\n",
       "    <tr>\n",
       "      <th>B</th>\n",
       "      <td>655.0</td>\n",
       "      <td>5.49313</td>\n",
       "      <td>3.34822</td>\n",
       "      <td>1.0</td>\n",
       "      <td>3.0</td>\n",
       "      <td>4.0</td>\n",
       "      <td>7.5</td>\n",
       "      <td>24.0</td>\n",
       "    </tr>\n",
       "  </tbody>\n",
       "</table>\n",
       "</div>"
      ],
      "text/plain": [
       "      event_dt                                            \n",
       "         count     mean      std  min  25%  50%  75%   max\n",
       "group                                                     \n",
       "A       2604.0  6.90361  3.84470  1.0  4.0  6.0  9.0  24.0\n",
       "B        655.0  5.49313  3.34822  1.0  3.0  4.0  7.5  24.0"
      ]
     },
     "execution_count": 135,
     "metadata": {},
     "output_type": "execute_result"
    }
   ],
   "source": [
    "# числовое описание количества событий для пользователя\n",
    "all_event_count_users.groupby('group').describe()"
   ]
  },
  {
   "cell_type": "markdown",
   "id": "b9cbbc74",
   "metadata": {},
   "source": [
    "Для групп характерно:\n",
    "- распределение количества событий схоже, за исключением пиков для пользователей из группы А\n",
    "- для группы А среднее значение количества событий - 6, для группы В - 4"
   ]
  },
  {
   "cell_type": "markdown",
   "id": "927eedb3",
   "metadata": {},
   "source": [
    "### Распределение событий по дням"
   ]
  },
  {
   "cell_type": "markdown",
   "id": "69287eee",
   "metadata": {},
   "source": [
    "Добавим в датасет столбец с днем совершения события "
   ]
  },
  {
   "cell_type": "code",
   "execution_count": 136,
   "id": "0fd447fc",
   "metadata": {},
   "outputs": [
    {
     "data": {
      "text/html": [
       "<div>\n",
       "<style scoped>\n",
       "    .dataframe tbody tr th:only-of-type {\n",
       "        vertical-align: middle;\n",
       "    }\n",
       "\n",
       "    .dataframe tbody tr th {\n",
       "        vertical-align: top;\n",
       "    }\n",
       "\n",
       "    .dataframe thead th {\n",
       "        text-align: right;\n",
       "    }\n",
       "</style>\n",
       "<table border=\"1\" class=\"dataframe\">\n",
       "  <thead>\n",
       "    <tr style=\"text-align: right;\">\n",
       "      <th></th>\n",
       "      <th>user_id</th>\n",
       "      <th>event_dt</th>\n",
       "      <th>event_name</th>\n",
       "      <th>details</th>\n",
       "      <th>group</th>\n",
       "      <th>first_date</th>\n",
       "      <th>device</th>\n",
       "      <th>lifetime</th>\n",
       "      <th>dt</th>\n",
       "    </tr>\n",
       "  </thead>\n",
       "  <tbody>\n",
       "    <tr>\n",
       "      <th>0</th>\n",
       "      <td>831887FE7F2D6CBA</td>\n",
       "      <td>2020-12-07 06:50:29</td>\n",
       "      <td>purchase</td>\n",
       "      <td>4.99</td>\n",
       "      <td>A</td>\n",
       "      <td>2020-12-07</td>\n",
       "      <td>Android</td>\n",
       "      <td>0</td>\n",
       "      <td>2020-12-07</td>\n",
       "    </tr>\n",
       "    <tr>\n",
       "      <th>1</th>\n",
       "      <td>831887FE7F2D6CBA</td>\n",
       "      <td>2020-12-09 02:19:17</td>\n",
       "      <td>purchase</td>\n",
       "      <td>99.99</td>\n",
       "      <td>A</td>\n",
       "      <td>2020-12-07</td>\n",
       "      <td>Android</td>\n",
       "      <td>2</td>\n",
       "      <td>2020-12-09</td>\n",
       "    </tr>\n",
       "    <tr>\n",
       "      <th>2</th>\n",
       "      <td>831887FE7F2D6CBA</td>\n",
       "      <td>2020-12-07 06:50:30</td>\n",
       "      <td>product_cart</td>\n",
       "      <td>NaN</td>\n",
       "      <td>A</td>\n",
       "      <td>2020-12-07</td>\n",
       "      <td>Android</td>\n",
       "      <td>0</td>\n",
       "      <td>2020-12-07</td>\n",
       "    </tr>\n",
       "    <tr>\n",
       "      <th>3</th>\n",
       "      <td>831887FE7F2D6CBA</td>\n",
       "      <td>2020-12-08 10:52:27</td>\n",
       "      <td>product_cart</td>\n",
       "      <td>NaN</td>\n",
       "      <td>A</td>\n",
       "      <td>2020-12-07</td>\n",
       "      <td>Android</td>\n",
       "      <td>1</td>\n",
       "      <td>2020-12-08</td>\n",
       "    </tr>\n",
       "    <tr>\n",
       "      <th>4</th>\n",
       "      <td>831887FE7F2D6CBA</td>\n",
       "      <td>2020-12-09 02:19:17</td>\n",
       "      <td>product_cart</td>\n",
       "      <td>NaN</td>\n",
       "      <td>A</td>\n",
       "      <td>2020-12-07</td>\n",
       "      <td>Android</td>\n",
       "      <td>2</td>\n",
       "      <td>2020-12-09</td>\n",
       "    </tr>\n",
       "  </tbody>\n",
       "</table>\n",
       "</div>"
      ],
      "text/plain": [
       "            user_id            event_dt    event_name  details group  \\\n",
       "0  831887FE7F2D6CBA 2020-12-07 06:50:29      purchase     4.99     A   \n",
       "1  831887FE7F2D6CBA 2020-12-09 02:19:17      purchase    99.99     A   \n",
       "2  831887FE7F2D6CBA 2020-12-07 06:50:30  product_cart      NaN     A   \n",
       "3  831887FE7F2D6CBA 2020-12-08 10:52:27  product_cart      NaN     A   \n",
       "4  831887FE7F2D6CBA 2020-12-09 02:19:17  product_cart      NaN     A   \n",
       "\n",
       "  first_date   device  lifetime          dt  \n",
       "0 2020-12-07  Android         0  2020-12-07  \n",
       "1 2020-12-07  Android         2  2020-12-09  \n",
       "2 2020-12-07  Android         0  2020-12-07  \n",
       "3 2020-12-07  Android         1  2020-12-08  \n",
       "4 2020-12-07  Android         2  2020-12-09  "
      ]
     },
     "execution_count": 136,
     "metadata": {},
     "output_type": "execute_result"
    }
   ],
   "source": [
    "# добавляем столбец dt\n",
    "final_df['dt'] = final_df['event_dt'].dt.date\n",
    "final_df.head()"
   ]
  },
  {
   "cell_type": "code",
   "execution_count": 137,
   "id": "8b1b948a",
   "metadata": {
    "scrolled": true
   },
   "outputs": [
    {
     "name": "stdout",
     "output_type": "stream",
     "text": [
      "(46, 3)\n"
     ]
    },
    {
     "data": {
      "text/html": [
       "<div>\n",
       "<style scoped>\n",
       "    .dataframe tbody tr th:only-of-type {\n",
       "        vertical-align: middle;\n",
       "    }\n",
       "\n",
       "    .dataframe tbody tr th {\n",
       "        vertical-align: top;\n",
       "    }\n",
       "\n",
       "    .dataframe thead th {\n",
       "        text-align: right;\n",
       "    }\n",
       "</style>\n",
       "<table border=\"1\" class=\"dataframe\">\n",
       "  <thead>\n",
       "    <tr style=\"text-align: right;\">\n",
       "      <th></th>\n",
       "      <th>dt</th>\n",
       "      <th>group</th>\n",
       "      <th>event_name</th>\n",
       "    </tr>\n",
       "  </thead>\n",
       "  <tbody>\n",
       "    <tr>\n",
       "      <th>0</th>\n",
       "      <td>2020-12-07</td>\n",
       "      <td>A</td>\n",
       "      <td>318</td>\n",
       "    </tr>\n",
       "    <tr>\n",
       "      <th>1</th>\n",
       "      <td>2020-12-07</td>\n",
       "      <td>B</td>\n",
       "      <td>268</td>\n",
       "    </tr>\n",
       "    <tr>\n",
       "      <th>2</th>\n",
       "      <td>2020-12-08</td>\n",
       "      <td>A</td>\n",
       "      <td>313</td>\n",
       "    </tr>\n",
       "    <tr>\n",
       "      <th>3</th>\n",
       "      <td>2020-12-08</td>\n",
       "      <td>B</td>\n",
       "      <td>169</td>\n",
       "    </tr>\n",
       "    <tr>\n",
       "      <th>4</th>\n",
       "      <td>2020-12-09</td>\n",
       "      <td>A</td>\n",
       "      <td>371</td>\n",
       "    </tr>\n",
       "  </tbody>\n",
       "</table>\n",
       "</div>"
      ],
      "text/plain": [
       "           dt group  event_name\n",
       "0  2020-12-07     A         318\n",
       "1  2020-12-07     B         268\n",
       "2  2020-12-08     A         313\n",
       "3  2020-12-08     B         169\n",
       "4  2020-12-09     A         371"
      ]
     },
     "execution_count": 137,
     "metadata": {},
     "output_type": "execute_result"
    }
   ],
   "source": [
    "# сводная таблица количества событий на пользователя из разных групп\n",
    "event_count_days = (\n",
    "    final_df\n",
    "    .pivot_table(index=['dt', 'group'],\n",
    "                values='event_name', \n",
    "                aggfunc='count')\n",
    "    .reset_index()\n",
    ")\n",
    "\n",
    "print(event_count_days.shape)\n",
    "event_count_days.head()"
   ]
  },
  {
   "cell_type": "code",
   "execution_count": 138,
   "id": "ca0ca6c9",
   "metadata": {
    "scrolled": false
   },
   "outputs": [
    {
     "data": {
      "image/png": "[encoded data removed]",
      "text/plain": [
       "<Figure size 1194.88x576 with 1 Axes>"
      ]
     },
     "metadata": {
      "needs_background": "light"
     },
     "output_type": "display_data"
    }
   ],
   "source": [
    "# распределение событий по дням\n",
    "sns.catplot(x=\"dt\", y='event_name', hue='group', \n",
    "            kind=\"bar\", palette=\"pastel\", edgecolor=\".6\", \n",
    "            data=event_count_days, \n",
    "            height=8, aspect=2)\n",
    "plt.xlabel('Дата')\n",
    "plt.ylabel('Количество событий')\n",
    "plt.title('Распределение событий по дням')\n",
    "plt.show()"
   ]
  },
  {
   "cell_type": "markdown",
   "id": "b41a86fb",
   "metadata": {},
   "source": [
    "Из распределения видно: \n",
    "- в первые дни количество событий было одинаковым\n",
    "- до 13 числа разница в числе событий для групп была не так велика, потом для группы А резко увеличилось количество в 4-5 раз. Как ранее отмечалось это произошло из-за прибавления количества пользоватлей совершающих событие в группу А.\n",
    "- для группы А после 14 числа пошел резкий рост числа событий с пиком 21 числа\n",
    "- для группы В события распределены равномерно"
   ]
  },
  {
   "cell_type": "markdown",
   "id": "fb7cde63",
   "metadata": {},
   "source": [
    "Но так как наши группы несбалансированны по количеству участников, посмотрим еще на распределение среднего количества событий в день на пользователя"
   ]
  },
  {
   "cell_type": "code",
   "execution_count": 139,
   "id": "d824d1a7",
   "metadata": {},
   "outputs": [
    {
     "name": "stdout",
     "output_type": "stream",
     "text": [
      "(9706, 4)\n"
     ]
    },
    {
     "data": {
      "text/html": [
       "<div>\n",
       "<style scoped>\n",
       "    .dataframe tbody tr th:only-of-type {\n",
       "        vertical-align: middle;\n",
       "    }\n",
       "\n",
       "    .dataframe tbody tr th {\n",
       "        vertical-align: top;\n",
       "    }\n",
       "\n",
       "    .dataframe thead th {\n",
       "        text-align: right;\n",
       "    }\n",
       "</style>\n",
       "<table border=\"1\" class=\"dataframe\">\n",
       "  <thead>\n",
       "    <tr style=\"text-align: right;\">\n",
       "      <th></th>\n",
       "      <th>dt</th>\n",
       "      <th>group</th>\n",
       "      <th>user_id</th>\n",
       "      <th>event_name</th>\n",
       "    </tr>\n",
       "  </thead>\n",
       "  <tbody>\n",
       "    <tr>\n",
       "      <th>0</th>\n",
       "      <td>2020-12-07</td>\n",
       "      <td>A</td>\n",
       "      <td>021E3EC8A37EE2E3</td>\n",
       "      <td>2</td>\n",
       "    </tr>\n",
       "    <tr>\n",
       "      <th>1</th>\n",
       "      <td>2020-12-07</td>\n",
       "      <td>A</td>\n",
       "      <td>06D2B163CB560FAC</td>\n",
       "      <td>2</td>\n",
       "    </tr>\n",
       "    <tr>\n",
       "      <th>2</th>\n",
       "      <td>2020-12-07</td>\n",
       "      <td>A</td>\n",
       "      <td>08E17E11A2BD8CF9</td>\n",
       "      <td>3</td>\n",
       "    </tr>\n",
       "    <tr>\n",
       "      <th>3</th>\n",
       "      <td>2020-12-07</td>\n",
       "      <td>A</td>\n",
       "      <td>0D8941E6DC625B26</td>\n",
       "      <td>2</td>\n",
       "    </tr>\n",
       "    <tr>\n",
       "      <th>4</th>\n",
       "      <td>2020-12-07</td>\n",
       "      <td>A</td>\n",
       "      <td>0EA9AB1C2A159C77</td>\n",
       "      <td>3</td>\n",
       "    </tr>\n",
       "  </tbody>\n",
       "</table>\n",
       "</div>"
      ],
      "text/plain": [
       "           dt group           user_id  event_name\n",
       "0  2020-12-07     A  021E3EC8A37EE2E3           2\n",
       "1  2020-12-07     A  06D2B163CB560FAC           2\n",
       "2  2020-12-07     A  08E17E11A2BD8CF9           3\n",
       "3  2020-12-07     A  0D8941E6DC625B26           2\n",
       "4  2020-12-07     A  0EA9AB1C2A159C77           3"
      ]
     },
     "execution_count": 139,
     "metadata": {},
     "output_type": "execute_result"
    }
   ],
   "source": [
    "# сводная таблица количества событий на пользователя из разных групп\n",
    "event_count_days = (\n",
    "    final_df\n",
    "    .pivot_table(index=['dt', 'group','user_id'],\n",
    "                values='event_name', \n",
    "                aggfunc='count')\n",
    "    .reset_index()\n",
    ")\n",
    "\n",
    "print(event_count_days.shape)\n",
    "event_count_days.head()"
   ]
  },
  {
   "cell_type": "code",
   "execution_count": 140,
   "id": "29f485f1",
   "metadata": {},
   "outputs": [
    {
     "data": {
      "image/png": "[encoded data removed]",
      "text/plain": [
       "<Figure size 1425.28x432 with 1 Axes>"
      ]
     },
     "metadata": {
      "needs_background": "light"
     },
     "output_type": "display_data"
    }
   ],
   "source": [
    "# распределение среднего количества событий для пользователя по дням\n",
    "sns.catplot(x=\"dt\", y='event_name', hue='group', \n",
    "            kind=\"bar\", palette=\"pastel\", edgecolor=\".6\", \n",
    "            data=event_count_days, \n",
    "            height=6, aspect=3.2)\n",
    "plt.xlabel('Дата')\n",
    "plt.ylabel('Количество событий')\n",
    "plt.title('Распределение среднего количества событий для пользователя по дням')\n",
    "plt.show()"
   ]
  },
  {
   "cell_type": "markdown",
   "id": "716c31bb",
   "metadata": {},
   "source": [
    "После 13 числа заметна небольшая разница в увеличении событий для пользователя из группы А по сравнению с группой В."
   ]
  },
  {
   "cell_type": "markdown",
   "id": "faa61bb6",
   "metadata": {},
   "source": [
    "### Конверсия в воронке событий"
   ]
  },
  {
   "cell_type": "markdown",
   "id": "8ef6d42d",
   "metadata": {},
   "source": [
    "*События*:\n",
    "- login - вход в приложение,\n",
    "- product_page - просмотр карточек товаров,\n",
    "- product_cart - просмотры корзины,\n",
    "- purchase - покупки"
   ]
  },
  {
   "cell_type": "markdown",
   "id": "7175d370",
   "metadata": {},
   "source": [
    "Построим воронку событий для пользователей из разных групп теста"
   ]
  },
  {
   "cell_type": "code",
   "execution_count": 141,
   "id": "1b21490c",
   "metadata": {},
   "outputs": [
    {
     "data": {
      "application/vnd.plotly.v1+json": {
       "config": {
        "plotlyServerURL": "https://plot.ly"
       },
       "data": [
        {
         "name": "A",
         "textinfo": "value+percent previous",
         "type": "funnel",
         "x": [
          2604,
          1685,
          782,
          833
         ],
         "y": [
          "login",
          "product_page",
          "product_cart",
          "purchase"
         ]
        },
        {
         "name": "B",
         "orientation": "h",
         "textinfo": "value+percent previous",
         "textposition": "inside",
         "type": "funnel",
         "x": [
          654,
          367,
          184,
          191
         ],
         "y": [
          "login",
          "product_page",
          "product_cart",
          "purchase"
         ]
        }
       ],
       "layout": {
        "template": {
         "data": {
          "bar": [
           {
            "error_x": {
             "color": "#2a3f5f"
            },
            "error_y": {
             "color": "#2a3f5f"
            },
            "marker": {
             "line": {
              "color": "#E5ECF6",
              "width": 0.5
             },
             "pattern": {
              "fillmode": "overlay",
              "size": 10,
              "solidity": 0.2
             }
            },
            "type": "bar"
           }
          ],
          "barpolar": [
           {
            "marker": {
             "line": {
              "color": "#E5ECF6",
              "width": 0.5
             },
             "pattern": {
              "fillmode": "overlay",
              "size": 10,
              "solidity": 0.2
             }
            },
            "type": "barpolar"
           }
          ],
          "carpet": [
           {
            "aaxis": {
             "endlinecolor": "#2a3f5f",
             "gridcolor": "white",
             "linecolor": "white",
             "minorgridcolor": "white",
             "startlinecolor": "#2a3f5f"
            },
            "baxis": {
             "endlinecolor": "#2a3f5f",
             "gridcolor": "white",
             "linecolor": "white",
             "minorgridcolor": "white",
             "startlinecolor": "#2a3f5f"
            },
            "type": "carpet"
           }
          ],
          "choropleth": [
           {
            "colorbar": {
             "outlinewidth": 0,
             "ticks": ""
            },
            "type": "choropleth"
           }
          ],
          "contour": [
           {
            "colorbar": {
             "outlinewidth": 0,
             "ticks": ""
            },
            "colorscale": [
             [
              0,
              "#0d0887"
             ],
             [
              0.1111111111111111,
              "#46039f"
             ],
             [
              0.2222222222222222,
              "#7201a8"
             ],
             [
              0.3333333333333333,
              "#9c179e"
             ],
             [
              0.4444444444444444,
              "#bd3786"
             ],
             [
              0.5555555555555556,
              "#d8576b"
             ],
             [
              0.6666666666666666,
              "#ed7953"
             ],
             [
              0.7777777777777778,
              "#fb9f3a"
             ],
             [
              0.8888888888888888,
              "#fdca26"
             ],
             [
              1,
              "#f0f921"
             ]
            ],
            "type": "contour"
           }
          ],
          "contourcarpet": [
           {
            "colorbar": {
             "outlinewidth": 0,
             "ticks": ""
            },
            "type": "contourcarpet"
           }
          ],
          "heatmap": [
           {
            "colorbar": {
             "outlinewidth": 0,
             "ticks": ""
            },
            "colorscale": [
             [
              0,
              "#0d0887"
             ],
             [
              0.1111111111111111,
              "#46039f"
             ],
             [
              0.2222222222222222,
              "#7201a8"
             ],
             [
              0.3333333333333333,
              "#9c179e"
             ],
             [
              0.4444444444444444,
              "#bd3786"
             ],
             [
              0.5555555555555556,
              "#d8576b"
             ],
             [
              0.6666666666666666,
              "#ed7953"
             ],
             [
              0.7777777777777778,
              "#fb9f3a"
             ],
             [
              0.8888888888888888,
              "#fdca26"
             ],
             [
              1,
              "#f0f921"
             ]
            ],
            "type": "heatmap"
           }
          ],
          "heatmapgl": [
           {
            "colorbar": {
             "outlinewidth": 0,
             "ticks": ""
            },
            "colorscale": [
             [
              0,
              "#0d0887"
             ],
             [
              0.1111111111111111,
              "#46039f"
             ],
             [
              0.2222222222222222,
              "#7201a8"
             ],
             [
              0.3333333333333333,
              "#9c179e"
             ],
             [
              0.4444444444444444,
              "#bd3786"
             ],
             [
              0.5555555555555556,
              "#d8576b"
             ],
             [
              0.6666666666666666,
              "#ed7953"
             ],
             [
              0.7777777777777778,
              "#fb9f3a"
             ],
             [
              0.8888888888888888,
              "#fdca26"
             ],
             [
              1,
              "#f0f921"
             ]
            ],
            "type": "heatmapgl"
           }
          ],
          "histogram": [
           {
            "marker": {
             "pattern": {
              "fillmode": "overlay",
              "size": 10,
              "solidity": 0.2
             }
            },
            "type": "histogram"
           }
          ],
          "histogram2d": [
           {
            "colorbar": {
             "outlinewidth": 0,
             "ticks": ""
            },
            "colorscale": [
             [
              0,
              "#0d0887"
             ],
             [
              0.1111111111111111,
              "#46039f"
             ],
             [
              0.2222222222222222,
              "#7201a8"
             ],
             [
              0.3333333333333333,
              "#9c179e"
             ],
             [
              0.4444444444444444,
              "#bd3786"
             ],
             [
              0.5555555555555556,
              "#d8576b"
             ],
             [
              0.6666666666666666,
              "#ed7953"
             ],
             [
              0.7777777777777778,
              "#fb9f3a"
             ],
             [
              0.8888888888888888,
              "#fdca26"
             ],
             [
              1,
              "#f0f921"
             ]
            ],
            "type": "histogram2d"
           }
          ],
          "histogram2dcontour": [
           {
            "colorbar": {
             "outlinewidth": 0,
             "ticks": ""
            },
            "colorscale": [
             [
              0,
              "#0d0887"
             ],
             [
              0.1111111111111111,
              "#46039f"
             ],
             [
              0.2222222222222222,
              "#7201a8"
             ],
             [
              0.3333333333333333,
              "#9c179e"
             ],
             [
              0.4444444444444444,
              "#bd3786"
             ],
             [
              0.5555555555555556,
              "#d8576b"
             ],
             [
              0.6666666666666666,
              "#ed7953"
             ],
             [
              0.7777777777777778,
              "#fb9f3a"
             ],
             [
              0.8888888888888888,
              "#fdca26"
             ],
             [
              1,
              "#f0f921"
             ]
            ],
            "type": "histogram2dcontour"
           }
          ],
          "mesh3d": [
           {
            "colorbar": {
             "outlinewidth": 0,
             "ticks": ""
            },
            "type": "mesh3d"
           }
          ],
          "parcoords": [
           {
            "line": {
             "colorbar": {
              "outlinewidth": 0,
              "ticks": ""
             }
            },
            "type": "parcoords"
           }
          ],
          "pie": [
           {
            "automargin": true,
            "type": "pie"
           }
          ],
          "scatter": [
           {
            "fillpattern": {
             "fillmode": "overlay",
             "size": 10,
             "solidity": 0.2
            },
            "type": "scatter"
           }
          ],
          "scatter3d": [
           {
            "line": {
             "colorbar": {
              "outlinewidth": 0,
              "ticks": ""
             }
            },
            "marker": {
             "colorbar": {
              "outlinewidth": 0,
              "ticks": ""
             }
            },
            "type": "scatter3d"
           }
          ],
          "scattercarpet": [
           {
            "marker": {
             "colorbar": {
              "outlinewidth": 0,
              "ticks": ""
             }
            },
            "type": "scattercarpet"
           }
          ],
          "scattergeo": [
           {
            "marker": {
             "colorbar": {
              "outlinewidth": 0,
              "ticks": ""
             }
            },
            "type": "scattergeo"
           }
          ],
          "scattergl": [
           {
            "marker": {
             "colorbar": {
              "outlinewidth": 0,
              "ticks": ""
             }
            },
            "type": "scattergl"
           }
          ],
          "scattermapbox": [
           {
            "marker": {
             "colorbar": {
              "outlinewidth": 0,
              "ticks": ""
             }
            },
            "type": "scattermapbox"
           }
          ],
          "scatterpolar": [
           {
            "marker": {
             "colorbar": {
              "outlinewidth": 0,
              "ticks": ""
             }
            },
            "type": "scatterpolar"
           }
          ],
          "scatterpolargl": [
           {
            "marker": {
             "colorbar": {
              "outlinewidth": 0,
              "ticks": ""
             }
            },
            "type": "scatterpolargl"
           }
          ],
          "scatterternary": [
           {
            "marker": {
             "colorbar": {
              "outlinewidth": 0,
              "ticks": ""
             }
            },
            "type": "scatterternary"
           }
          ],
          "surface": [
           {
            "colorbar": {
             "outlinewidth": 0,
             "ticks": ""
            },
            "colorscale": [
             [
              0,
              "#0d0887"
             ],
             [
              0.1111111111111111,
              "#46039f"
             ],
             [
              0.2222222222222222,
              "#7201a8"
             ],
             [
              0.3333333333333333,
              "#9c179e"
             ],
             [
              0.4444444444444444,
              "#bd3786"
             ],
             [
              0.5555555555555556,
              "#d8576b"
             ],
             [
              0.6666666666666666,
              "#ed7953"
             ],
             [
              0.7777777777777778,
              "#fb9f3a"
             ],
             [
              0.8888888888888888,
              "#fdca26"
             ],
             [
              1,
              "#f0f921"
             ]
            ],
            "type": "surface"
           }
          ],
          "table": [
           {
            "cells": {
             "fill": {
              "color": "#EBF0F8"
             },
             "line": {
              "color": "white"
             }
            },
            "header": {
             "fill": {
              "color": "#C8D4E3"
             },
             "line": {
              "color": "white"
             }
            },
            "type": "table"
           }
          ]
         },
         "layout": {
          "annotationdefaults": {
           "arrowcolor": "#2a3f5f",
           "arrowhead": 0,
           "arrowwidth": 1
          },
          "autotypenumbers": "strict",
          "coloraxis": {
           "colorbar": {
            "outlinewidth": 0,
            "ticks": ""
           }
          },
          "colorscale": {
           "diverging": [
            [
             0,
             "#8e0152"
            ],
            [
             0.1,
             "#c51b7d"
            ],
            [
             0.2,
             "#de77ae"
            ],
            [
             0.3,
             "#f1b6da"
            ],
            [
             0.4,
             "#fde0ef"
            ],
            [
             0.5,
             "#f7f7f7"
            ],
            [
             0.6,
             "#e6f5d0"
            ],
            [
             0.7,
             "#b8e186"
            ],
            [
             0.8,
             "#7fbc41"
            ],
            [
             0.9,
             "#4d9221"
            ],
            [
             1,
             "#276419"
            ]
           ],
           "sequential": [
            [
             0,
             "#0d0887"
            ],
            [
             0.1111111111111111,
             "#46039f"
            ],
            [
             0.2222222222222222,
             "#7201a8"
            ],
            [
             0.3333333333333333,
             "#9c179e"
            ],
            [
             0.4444444444444444,
             "#bd3786"
            ],
            [
             0.5555555555555556,
             "#d8576b"
            ],
            [
             0.6666666666666666,
             "#ed7953"
            ],
            [
             0.7777777777777778,
             "#fb9f3a"
            ],
            [
             0.8888888888888888,
             "#fdca26"
            ],
            [
             1,
             "#f0f921"
            ]
           ],
           "sequentialminus": [
            [
             0,
             "#0d0887"
            ],
            [
             0.1111111111111111,
             "#46039f"
            ],
            [
             0.2222222222222222,
             "#7201a8"
            ],
            [
             0.3333333333333333,
             "#9c179e"
            ],
            [
             0.4444444444444444,
             "#bd3786"
            ],
            [
             0.5555555555555556,
             "#d8576b"
            ],
            [
             0.6666666666666666,
             "#ed7953"
            ],
            [
             0.7777777777777778,
             "#fb9f3a"
            ],
            [
             0.8888888888888888,
             "#fdca26"
            ],
            [
             1,
             "#f0f921"
            ]
           ]
          },
          "colorway": [
           "#636efa",
           "#EF553B",
           "#00cc96",
           "#ab63fa",
           "#FFA15A",
           "#19d3f3",
           "#FF6692",
           "#B6E880",
           "#FF97FF",
           "#FECB52"
          ],
          "font": {
           "color": "#2a3f5f"
          },
          "geo": {
           "bgcolor": "white",
           "lakecolor": "white",
           "landcolor": "#E5ECF6",
           "showlakes": true,
           "showland": true,
           "subunitcolor": "white"
          },
          "hoverlabel": {
           "align": "left"
          },
          "hovermode": "closest",
          "mapbox": {
           "style": "light"
          },
          "paper_bgcolor": "white",
          "plot_bgcolor": "#E5ECF6",
          "polar": {
           "angularaxis": {
            "gridcolor": "white",
            "linecolor": "white",
            "ticks": ""
           },
           "bgcolor": "#E5ECF6",
           "radialaxis": {
            "gridcolor": "white",
            "linecolor": "white",
            "ticks": ""
           }
          },
          "scene": {
           "xaxis": {
            "backgroundcolor": "#E5ECF6",
            "gridcolor": "white",
            "gridwidth": 2,
            "linecolor": "white",
            "showbackground": true,
            "ticks": "",
            "zerolinecolor": "white"
           },
           "yaxis": {
            "backgroundcolor": "#E5ECF6",
            "gridcolor": "white",
            "gridwidth": 2,
            "linecolor": "white",
            "showbackground": true,
            "ticks": "",
            "zerolinecolor": "white"
           },
           "zaxis": {
            "backgroundcolor": "#E5ECF6",
            "gridcolor": "white",
            "gridwidth": 2,
            "linecolor": "white",
            "showbackground": true,
            "ticks": "",
            "zerolinecolor": "white"
           }
          },
          "shapedefaults": {
           "line": {
            "color": "#2a3f5f"
           }
          },
          "ternary": {
           "aaxis": {
            "gridcolor": "white",
            "linecolor": "white",
            "ticks": ""
           },
           "baxis": {
            "gridcolor": "white",
            "linecolor": "white",
            "ticks": ""
           },
           "bgcolor": "#E5ECF6",
           "caxis": {
            "gridcolor": "white",
            "linecolor": "white",
            "ticks": ""
           }
          },
          "title": {
           "x": 0.05
          },
          "xaxis": {
           "automargin": true,
           "gridcolor": "white",
           "linecolor": "white",
           "ticks": "",
           "title": {
            "standoff": 15
           },
           "zerolinecolor": "white",
           "zerolinewidth": 2
          },
          "yaxis": {
           "automargin": true,
           "gridcolor": "white",
           "linecolor": "white",
           "ticks": "",
           "title": {
            "standoff": 15
           },
           "zerolinecolor": "white",
           "zerolinewidth": 2
          }
         }
        }
       }
      },
      "text/html": [
       "<div>                            <div id=\"930222e7-d39f-44bb-b95e-ac47c4d039fc\" class=\"plotly-graph-div\" style=\"height:525px; width:100%;\"></div>            <script type=\"text/javascript\">                require([\"plotly\"], function(Plotly) {                    window.PLOTLYENV=window.PLOTLYENV || {};                                    if (document.getElementById(\"930222e7-d39f-44bb-b95e-ac47c4d039fc\")) {                    Plotly.newPlot(                        \"930222e7-d39f-44bb-b95e-ac47c4d039fc\",                        [{\"name\":\"A\",\"textinfo\":\"value+percent previous\",\"x\":[2604,1685,782,833],\"y\":[\"login\",\"product_page\",\"product_cart\",\"purchase\"],\"type\":\"funnel\"},{\"name\":\"B\",\"orientation\":\"h\",\"textinfo\":\"value+percent previous\",\"textposition\":\"inside\",\"x\":[654,367,184,191],\"y\":[\"login\",\"product_page\",\"product_cart\",\"purchase\"],\"type\":\"funnel\"}],                        {\"template\":{\"data\":{\"histogram2dcontour\":[{\"type\":\"histogram2dcontour\",\"colorbar\":{\"outlinewidth\":0,\"ticks\":\"\"},\"colorscale\":[[0.0,\"#0d0887\"],[0.1111111111111111,\"#46039f\"],[0.2222222222222222,\"#7201a8\"],[0.3333333333333333,\"#9c179e\"],[0.4444444444444444,\"#bd3786\"],[0.5555555555555556,\"#d8576b\"],[0.6666666666666666,\"#ed7953\"],[0.7777777777777778,\"#fb9f3a\"],[0.8888888888888888,\"#fdca26\"],[1.0,\"#f0f921\"]]}],\"choropleth\":[{\"type\":\"choropleth\",\"colorbar\":{\"outlinewidth\":0,\"ticks\":\"\"}}],\"histogram2d\":[{\"type\":\"histogram2d\",\"colorbar\":{\"outlinewidth\":0,\"ticks\":\"\"},\"colorscale\":[[0.0,\"#0d0887\"],[0.1111111111111111,\"#46039f\"],[0.2222222222222222,\"#7201a8\"],[0.3333333333333333,\"#9c179e\"],[0.4444444444444444,\"#bd3786\"],[0.5555555555555556,\"#d8576b\"],[0.6666666666666666,\"#ed7953\"],[0.7777777777777778,\"#fb9f3a\"],[0.8888888888888888,\"#fdca26\"],[1.0,\"#f0f921\"]]}],\"heatmap\":[{\"type\":\"heatmap\",\"colorbar\":{\"outlinewidth\":0,\"ticks\":\"\"},\"colorscale\":[[0.0,\"#0d0887\"],[0.1111111111111111,\"#46039f\"],[0.2222222222222222,\"#7201a8\"],[0.3333333333333333,\"#9c179e\"],[0.4444444444444444,\"#bd3786\"],[0.5555555555555556,\"#d8576b\"],[0.6666666666666666,\"#ed7953\"],[0.7777777777777778,\"#fb9f3a\"],[0.8888888888888888,\"#fdca26\"],[1.0,\"#f0f921\"]]}],\"heatmapgl\":[{\"type\":\"heatmapgl\",\"colorbar\":{\"outlinewidth\":0,\"ticks\":\"\"},\"colorscale\":[[0.0,\"#0d0887\"],[0.1111111111111111,\"#46039f\"],[0.2222222222222222,\"#7201a8\"],[0.3333333333333333,\"#9c179e\"],[0.4444444444444444,\"#bd3786\"],[0.5555555555555556,\"#d8576b\"],[0.6666666666666666,\"#ed7953\"],[0.7777777777777778,\"#fb9f3a\"],[0.8888888888888888,\"#fdca26\"],[1.0,\"#f0f921\"]]}],\"contourcarpet\":[{\"type\":\"contourcarpet\",\"colorbar\":{\"outlinewidth\":0,\"ticks\":\"\"}}],\"contour\":[{\"type\":\"contour\",\"colorbar\":{\"outlinewidth\":0,\"ticks\":\"\"},\"colorscale\":[[0.0,\"#0d0887\"],[0.1111111111111111,\"#46039f\"],[0.2222222222222222,\"#7201a8\"],[0.3333333333333333,\"#9c179e\"],[0.4444444444444444,\"#bd3786\"],[0.5555555555555556,\"#d8576b\"],[0.6666666666666666,\"#ed7953\"],[0.7777777777777778,\"#fb9f3a\"],[0.8888888888888888,\"#fdca26\"],[1.0,\"#f0f921\"]]}],\"surface\":[{\"type\":\"surface\",\"colorbar\":{\"outlinewidth\":0,\"ticks\":\"\"},\"colorscale\":[[0.0,\"#0d0887\"],[0.1111111111111111,\"#46039f\"],[0.2222222222222222,\"#7201a8\"],[0.3333333333333333,\"#9c179e\"],[0.4444444444444444,\"#bd3786\"],[0.5555555555555556,\"#d8576b\"],[0.6666666666666666,\"#ed7953\"],[0.7777777777777778,\"#fb9f3a\"],[0.8888888888888888,\"#fdca26\"],[1.0,\"#f0f921\"]]}],\"mesh3d\":[{\"type\":\"mesh3d\",\"colorbar\":{\"outlinewidth\":0,\"ticks\":\"\"}}],\"scatter\":[{\"fillpattern\":{\"fillmode\":\"overlay\",\"size\":10,\"solidity\":0.2},\"type\":\"scatter\"}],\"parcoords\":[{\"type\":\"parcoords\",\"line\":{\"colorbar\":{\"outlinewidth\":0,\"ticks\":\"\"}}}],\"scatterpolargl\":[{\"type\":\"scatterpolargl\",\"marker\":{\"colorbar\":{\"outlinewidth\":0,\"ticks\":\"\"}}}],\"bar\":[{\"error_x\":{\"color\":\"#2a3f5f\"},\"error_y\":{\"color\":\"#2a3f5f\"},\"marker\":{\"line\":{\"color\":\"#E5ECF6\",\"width\":0.5},\"pattern\":{\"fillmode\":\"overlay\",\"size\":10,\"solidity\":0.2}},\"type\":\"bar\"}],\"scattergeo\":[{\"type\":\"scattergeo\",\"marker\":{\"colorbar\":{\"outlinewidth\":0,\"ticks\":\"\"}}}],\"scatterpolar\":[{\"type\":\"scatterpolar\",\"marker\":{\"colorbar\":{\"outlinewidth\":0,\"ticks\":\"\"}}}],\"histogram\":[{\"marker\":{\"pattern\":{\"fillmode\":\"overlay\",\"size\":10,\"solidity\":0.2}},\"type\":\"histogram\"}],\"scattergl\":[{\"type\":\"scattergl\",\"marker\":{\"colorbar\":{\"outlinewidth\":0,\"ticks\":\"\"}}}],\"scatter3d\":[{\"type\":\"scatter3d\",\"line\":{\"colorbar\":{\"outlinewidth\":0,\"ticks\":\"\"}},\"marker\":{\"colorbar\":{\"outlinewidth\":0,\"ticks\":\"\"}}}],\"scattermapbox\":[{\"type\":\"scattermapbox\",\"marker\":{\"colorbar\":{\"outlinewidth\":0,\"ticks\":\"\"}}}],\"scatterternary\":[{\"type\":\"scatterternary\",\"marker\":{\"colorbar\":{\"outlinewidth\":0,\"ticks\":\"\"}}}],\"scattercarpet\":[{\"type\":\"scattercarpet\",\"marker\":{\"colorbar\":{\"outlinewidth\":0,\"ticks\":\"\"}}}],\"carpet\":[{\"aaxis\":{\"endlinecolor\":\"#2a3f5f\",\"gridcolor\":\"white\",\"linecolor\":\"white\",\"minorgridcolor\":\"white\",\"startlinecolor\":\"#2a3f5f\"},\"baxis\":{\"endlinecolor\":\"#2a3f5f\",\"gridcolor\":\"white\",\"linecolor\":\"white\",\"minorgridcolor\":\"white\",\"startlinecolor\":\"#2a3f5f\"},\"type\":\"carpet\"}],\"table\":[{\"cells\":{\"fill\":{\"color\":\"#EBF0F8\"},\"line\":{\"color\":\"white\"}},\"header\":{\"fill\":{\"color\":\"#C8D4E3\"},\"line\":{\"color\":\"white\"}},\"type\":\"table\"}],\"barpolar\":[{\"marker\":{\"line\":{\"color\":\"#E5ECF6\",\"width\":0.5},\"pattern\":{\"fillmode\":\"overlay\",\"size\":10,\"solidity\":0.2}},\"type\":\"barpolar\"}],\"pie\":[{\"automargin\":true,\"type\":\"pie\"}]},\"layout\":{\"autotypenumbers\":\"strict\",\"colorway\":[\"#636efa\",\"#EF553B\",\"#00cc96\",\"#ab63fa\",\"#FFA15A\",\"#19d3f3\",\"#FF6692\",\"#B6E880\",\"#FF97FF\",\"#FECB52\"],\"font\":{\"color\":\"#2a3f5f\"},\"hovermode\":\"closest\",\"hoverlabel\":{\"align\":\"left\"},\"paper_bgcolor\":\"white\",\"plot_bgcolor\":\"#E5ECF6\",\"polar\":{\"bgcolor\":\"#E5ECF6\",\"angularaxis\":{\"gridcolor\":\"white\",\"linecolor\":\"white\",\"ticks\":\"\"},\"radialaxis\":{\"gridcolor\":\"white\",\"linecolor\":\"white\",\"ticks\":\"\"}},\"ternary\":{\"bgcolor\":\"#E5ECF6\",\"aaxis\":{\"gridcolor\":\"white\",\"linecolor\":\"white\",\"ticks\":\"\"},\"baxis\":{\"gridcolor\":\"white\",\"linecolor\":\"white\",\"ticks\":\"\"},\"caxis\":{\"gridcolor\":\"white\",\"linecolor\":\"white\",\"ticks\":\"\"}},\"coloraxis\":{\"colorbar\":{\"outlinewidth\":0,\"ticks\":\"\"}},\"colorscale\":{\"sequential\":[[0.0,\"#0d0887\"],[0.1111111111111111,\"#46039f\"],[0.2222222222222222,\"#7201a8\"],[0.3333333333333333,\"#9c179e\"],[0.4444444444444444,\"#bd3786\"],[0.5555555555555556,\"#d8576b\"],[0.6666666666666666,\"#ed7953\"],[0.7777777777777778,\"#fb9f3a\"],[0.8888888888888888,\"#fdca26\"],[1.0,\"#f0f921\"]],\"sequentialminus\":[[0.0,\"#0d0887\"],[0.1111111111111111,\"#46039f\"],[0.2222222222222222,\"#7201a8\"],[0.3333333333333333,\"#9c179e\"],[0.4444444444444444,\"#bd3786\"],[0.5555555555555556,\"#d8576b\"],[0.6666666666666666,\"#ed7953\"],[0.7777777777777778,\"#fb9f3a\"],[0.8888888888888888,\"#fdca26\"],[1.0,\"#f0f921\"]],\"diverging\":[[0,\"#8e0152\"],[0.1,\"#c51b7d\"],[0.2,\"#de77ae\"],[0.3,\"#f1b6da\"],[0.4,\"#fde0ef\"],[0.5,\"#f7f7f7\"],[0.6,\"#e6f5d0\"],[0.7,\"#b8e186\"],[0.8,\"#7fbc41\"],[0.9,\"#4d9221\"],[1,\"#276419\"]]},\"xaxis\":{\"gridcolor\":\"white\",\"linecolor\":\"white\",\"ticks\":\"\",\"title\":{\"standoff\":15},\"zerolinecolor\":\"white\",\"automargin\":true,\"zerolinewidth\":2},\"yaxis\":{\"gridcolor\":\"white\",\"linecolor\":\"white\",\"ticks\":\"\",\"title\":{\"standoff\":15},\"zerolinecolor\":\"white\",\"automargin\":true,\"zerolinewidth\":2},\"scene\":{\"xaxis\":{\"backgroundcolor\":\"#E5ECF6\",\"gridcolor\":\"white\",\"linecolor\":\"white\",\"showbackground\":true,\"ticks\":\"\",\"zerolinecolor\":\"white\",\"gridwidth\":2},\"yaxis\":{\"backgroundcolor\":\"#E5ECF6\",\"gridcolor\":\"white\",\"linecolor\":\"white\",\"showbackground\":true,\"ticks\":\"\",\"zerolinecolor\":\"white\",\"gridwidth\":2},\"zaxis\":{\"backgroundcolor\":\"#E5ECF6\",\"gridcolor\":\"white\",\"linecolor\":\"white\",\"showbackground\":true,\"ticks\":\"\",\"zerolinecolor\":\"white\",\"gridwidth\":2}},\"shapedefaults\":{\"line\":{\"color\":\"#2a3f5f\"}},\"annotationdefaults\":{\"arrowcolor\":\"#2a3f5f\",\"arrowhead\":0,\"arrowwidth\":1},\"geo\":{\"bgcolor\":\"white\",\"landcolor\":\"#E5ECF6\",\"subunitcolor\":\"white\",\"showland\":true,\"showlakes\":true,\"lakecolor\":\"white\"},\"title\":{\"x\":0.05},\"mapbox\":{\"style\":\"light\"}}}},                        {\"responsive\": true}                    ).then(function(){\n",
       "                            \n",
       "var gd = document.getElementById('930222e7-d39f-44bb-b95e-ac47c4d039fc');\n",
       "var x = new MutationObserver(function (mutations, observer) {{\n",
       "        var display = window.getComputedStyle(gd).display;\n",
       "        if (!display || display === 'none') {{\n",
       "            console.log([gd, 'removed!']);\n",
       "            Plotly.purge(gd);\n",
       "            observer.disconnect();\n",
       "        }}\n",
       "}});\n",
       "\n",
       "// Listen for the removal of the full notebook cells\n",
       "var notebookContainer = gd.closest('#notebook-container');\n",
       "if (notebookContainer) {{\n",
       "    x.observe(notebookContainer, {childList: true});\n",
       "}}\n",
       "\n",
       "// Listen for the clearing of the current output cell\n",
       "var outputEl = gd.closest('.output');\n",
       "if (outputEl) {{\n",
       "    x.observe(outputEl, {childList: true});\n",
       "}}\n",
       "\n",
       "                        })                };                });            </script>        </div>"
      ]
     },
     "metadata": {},
     "output_type": "display_data"
    }
   ],
   "source": [
    "# воронка событий \n",
    "\n",
    "fig = go.Figure()\n",
    "\n",
    "fig.add_trace(go.Funnel(\n",
    "    name = 'A',\n",
    "    y = final_pivot_event['event_name'],\n",
    "    x = final_pivot_event['A'],\n",
    "    textinfo = \"value+percent previous\"))\n",
    "\n",
    "fig.add_trace(go.Funnel(\n",
    "    name = 'B',\n",
    "    orientation = \"h\",\n",
    "    y = final_pivot_event['event_name'],\n",
    "    x = final_pivot_event['B'],\n",
    "    textposition = \"inside\",\n",
    "    textinfo = \"value+percent previous\"))\n",
    "\n",
    "fig.show()"
   ]
  },
  {
   "cell_type": "markdown",
   "id": "3ef2dd30",
   "metadata": {},
   "source": [
    "На графике воронки событий отображено какой процент пользователей проходит на следующий этап.\n",
    "\n",
    "- Исходя из воронки и количества покупок, можем сделать вывод что у приложения есть функция покупки в один клик, без перехода в корзину. Это объясняет почему на последнем этапе воронки количество пользователей больше чем на предыдущем.\n",
    "- Больше всего пользователей `теряется на 3 шаге`, то есть после просмотра карточки товара при переходе в корзину товара.\n",
    "- Конверсия для группы А выше чем для группы В, на всех этапах кроме перехода от просмотра карточки к просмотру корзины(здесь на 3% меньше)\n",
    "- Конверсия в покупку выше у группы А"
   ]
  },
  {
   "cell_type": "markdown",
   "id": "edb9ea1d",
   "metadata": {},
   "source": [
    "### Особенности данных"
   ]
  },
  {
   "cell_type": "markdown",
   "id": "5f1615cc",
   "metadata": {},
   "source": [
    "Нужно учесть:\n",
    "- количество участников в группах теста сильно отличается\n",
    "- общее количество участников не соответствует ТЗ 3259 вместо 6000 из-за того, что присутствуют пользователи, которые после регистрации не совершали никаких действий.\n",
    "- тест был остановлен накануне 31 декабря то есть раньше, чем по ТЗ(4 января) на 5 дней\n",
    "- присутствуют достаточно много пользователей участвующих в двух тестах одновременно, ТЗ на второй тест мы не знаем и нет возможности полностью установить как это повлияет на наше исследование"
   ]
  },
  {
   "cell_type": "markdown",
   "id": "5077aa74",
   "metadata": {},
   "source": [
    "## Оценка результатов A/B-тестирования"
   ]
  },
  {
   "cell_type": "markdown",
   "id": "7c883f62",
   "metadata": {},
   "source": [
    "### Результаты А/B теста"
   ]
  },
  {
   "cell_type": "markdown",
   "id": "b8904ccd",
   "metadata": {},
   "source": [
    "#### Кумулятивные графики"
   ]
  },
  {
   "cell_type": "markdown",
   "id": "fcf3bccb",
   "metadata": {},
   "source": [
    "Выделим из датасета пользователей, которые только совершали покупку, чтобы корректо посчитать выручку"
   ]
  },
  {
   "cell_type": "code",
   "execution_count": 142,
   "id": "a32fae95",
   "metadata": {},
   "outputs": [
    {
     "data": {
      "text/html": [
       "<div>\n",
       "<style scoped>\n",
       "    .dataframe tbody tr th:only-of-type {\n",
       "        vertical-align: middle;\n",
       "    }\n",
       "\n",
       "    .dataframe tbody tr th {\n",
       "        vertical-align: top;\n",
       "    }\n",
       "\n",
       "    .dataframe thead th {\n",
       "        text-align: right;\n",
       "    }\n",
       "</style>\n",
       "<table border=\"1\" class=\"dataframe\">\n",
       "  <thead>\n",
       "    <tr style=\"text-align: right;\">\n",
       "      <th></th>\n",
       "      <th>user_id</th>\n",
       "      <th>event_dt</th>\n",
       "      <th>event_name</th>\n",
       "      <th>details</th>\n",
       "      <th>group</th>\n",
       "      <th>first_date</th>\n",
       "      <th>device</th>\n",
       "      <th>lifetime</th>\n",
       "      <th>dt</th>\n",
       "    </tr>\n",
       "  </thead>\n",
       "  <tbody>\n",
       "    <tr>\n",
       "      <th>0</th>\n",
       "      <td>831887FE7F2D6CBA</td>\n",
       "      <td>2020-12-07 06:50:29</td>\n",
       "      <td>purchase</td>\n",
       "      <td>4.99</td>\n",
       "      <td>A</td>\n",
       "      <td>2020-12-07</td>\n",
       "      <td>Android</td>\n",
       "      <td>0</td>\n",
       "      <td>2020-12-07</td>\n",
       "    </tr>\n",
       "    <tr>\n",
       "      <th>1</th>\n",
       "      <td>831887FE7F2D6CBA</td>\n",
       "      <td>2020-12-09 02:19:17</td>\n",
       "      <td>purchase</td>\n",
       "      <td>99.99</td>\n",
       "      <td>A</td>\n",
       "      <td>2020-12-07</td>\n",
       "      <td>Android</td>\n",
       "      <td>2</td>\n",
       "      <td>2020-12-09</td>\n",
       "    </tr>\n",
       "    <tr>\n",
       "      <th>8</th>\n",
       "      <td>3C5DD0288AC4FE23</td>\n",
       "      <td>2020-12-07 19:42:40</td>\n",
       "      <td>purchase</td>\n",
       "      <td>4.99</td>\n",
       "      <td>A</td>\n",
       "      <td>2020-12-07</td>\n",
       "      <td>PC</td>\n",
       "      <td>0</td>\n",
       "      <td>2020-12-07</td>\n",
       "    </tr>\n",
       "    <tr>\n",
       "      <th>11</th>\n",
       "      <td>49EA242586C87836</td>\n",
       "      <td>2020-12-07 06:31:24</td>\n",
       "      <td>purchase</td>\n",
       "      <td>99.99</td>\n",
       "      <td>B</td>\n",
       "      <td>2020-12-07</td>\n",
       "      <td>iPhone</td>\n",
       "      <td>0</td>\n",
       "      <td>2020-12-07</td>\n",
       "    </tr>\n",
       "    <tr>\n",
       "      <th>12</th>\n",
       "      <td>49EA242586C87836</td>\n",
       "      <td>2020-12-09 15:39:47</td>\n",
       "      <td>purchase</td>\n",
       "      <td>9.99</td>\n",
       "      <td>B</td>\n",
       "      <td>2020-12-07</td>\n",
       "      <td>iPhone</td>\n",
       "      <td>2</td>\n",
       "      <td>2020-12-09</td>\n",
       "    </tr>\n",
       "  </tbody>\n",
       "</table>\n",
       "</div>"
      ],
      "text/plain": [
       "             user_id            event_dt event_name  details group first_date  \\\n",
       "0   831887FE7F2D6CBA 2020-12-07 06:50:29   purchase     4.99     A 2020-12-07   \n",
       "1   831887FE7F2D6CBA 2020-12-09 02:19:17   purchase    99.99     A 2020-12-07   \n",
       "8   3C5DD0288AC4FE23 2020-12-07 19:42:40   purchase     4.99     A 2020-12-07   \n",
       "11  49EA242586C87836 2020-12-07 06:31:24   purchase    99.99     B 2020-12-07   \n",
       "12  49EA242586C87836 2020-12-09 15:39:47   purchase     9.99     B 2020-12-07   \n",
       "\n",
       "     device  lifetime          dt  \n",
       "0   Android         0  2020-12-07  \n",
       "1   Android         2  2020-12-09  \n",
       "8        PC         0  2020-12-07  \n",
       "11   iPhone         0  2020-12-07  \n",
       "12   iPhone         2  2020-12-09  "
      ]
     },
     "execution_count": 142,
     "metadata": {},
     "output_type": "execute_result"
    }
   ],
   "source": [
    "# выделим датасета\n",
    "final_df_purchase = final_df.loc[final_df['event_name']=='purchase']\n",
    "final_df_purchase.head()"
   ]
  },
  {
   "cell_type": "code",
   "execution_count": 143,
   "id": "4204f10b",
   "metadata": {},
   "outputs": [
    {
     "data": {
      "text/html": [
       "<div>\n",
       "<style scoped>\n",
       "    .dataframe tbody tr th:only-of-type {\n",
       "        vertical-align: middle;\n",
       "    }\n",
       "\n",
       "    .dataframe tbody tr th {\n",
       "        vertical-align: top;\n",
       "    }\n",
       "\n",
       "    .dataframe thead th {\n",
       "        text-align: right;\n",
       "    }\n",
       "</style>\n",
       "<table border=\"1\" class=\"dataframe\">\n",
       "  <thead>\n",
       "    <tr style=\"text-align: right;\">\n",
       "      <th></th>\n",
       "      <th>dt</th>\n",
       "      <th>group</th>\n",
       "      <th>visitors</th>\n",
       "    </tr>\n",
       "  </thead>\n",
       "  <tbody>\n",
       "    <tr>\n",
       "      <th>0</th>\n",
       "      <td>2020-12-07</td>\n",
       "      <td>A</td>\n",
       "      <td>148</td>\n",
       "    </tr>\n",
       "    <tr>\n",
       "      <th>1</th>\n",
       "      <td>2020-12-07</td>\n",
       "      <td>B</td>\n",
       "      <td>119</td>\n",
       "    </tr>\n",
       "    <tr>\n",
       "      <th>2</th>\n",
       "      <td>2020-12-08</td>\n",
       "      <td>A</td>\n",
       "      <td>147</td>\n",
       "    </tr>\n",
       "    <tr>\n",
       "      <th>3</th>\n",
       "      <td>2020-12-08</td>\n",
       "      <td>B</td>\n",
       "      <td>82</td>\n",
       "    </tr>\n",
       "    <tr>\n",
       "      <th>4</th>\n",
       "      <td>2020-12-09</td>\n",
       "      <td>A</td>\n",
       "      <td>171</td>\n",
       "    </tr>\n",
       "  </tbody>\n",
       "</table>\n",
       "</div>"
      ],
      "text/plain": [
       "           dt group  visitors\n",
       "0  2020-12-07     A       148\n",
       "1  2020-12-07     B       119\n",
       "2  2020-12-08     A       147\n",
       "3  2020-12-08     B        82\n",
       "4  2020-12-09     A       171"
      ]
     },
     "execution_count": 143,
     "metadata": {},
     "output_type": "execute_result"
    }
   ],
   "source": [
    "# создадим для удобства датасет с количеством уникальных пользователей в каждый день\n",
    "visitors = (\n",
    "    final_df\n",
    "    .groupby(['dt','group'])\n",
    "    .agg({'user_id':'nunique'})\n",
    "    .rename(columns={'user_id':'visitors'})\n",
    "    .reset_index()\n",
    ")\n",
    "visitors.head()"
   ]
  },
  {
   "cell_type": "code",
   "execution_count": 144,
   "id": "7abaac94",
   "metadata": {},
   "outputs": [],
   "source": [
    "# расчет кумулятивной выручки по группам\n",
    "\n",
    "# массив уникальных пар значений дат и групп теста\n",
    "datesGroups = final_df_purchase[['dt', 'group']].drop_duplicates()\n",
    "\n",
    "# агрегированные кумулятивные по дням данные о покупках\n",
    "ordersAggregated = datesGroups.apply(\n",
    "    lambda x: final_df_purchase[\n",
    "        np.logical_and(\n",
    "            final_df_purchase['dt'] <= x['dt'], final_df_purchase['group'] == x['group']\n",
    "        )\n",
    "    ].agg(\n",
    "        {\n",
    "            'dt': 'max',\n",
    "            'group': 'max',\n",
    "            'event_dt': 'nunique',\n",
    "            'user_id': 'nunique',\n",
    "            'details': 'sum',\n",
    "        }\n",
    "    ),\n",
    "    axis=1,\n",
    ").sort_values(by=['dt', 'group'])\n",
    "\n",
    "# агрегированные кумулятивные по дням данные о пользователях\n",
    "visitorsAggregated = datesGroups.apply(\n",
    "    lambda x: visitors[\n",
    "        np.logical_and(\n",
    "            visitors['dt'] <= x['dt'], visitors['group'] == x['group']\n",
    "        )\n",
    "    ].agg({'dt': 'max', 'group': 'max', 'visitors': 'sum'}),\n",
    "    axis=1,\n",
    ").sort_values(by=['dt', 'group'])"
   ]
  },
  {
   "cell_type": "code",
   "execution_count": 145,
   "id": "19fd276e",
   "metadata": {},
   "outputs": [],
   "source": [
    "# объединяем кумулятивные данные в одной таблице и присваиваем ее столбцам понятные названия\n",
    "\n",
    "cumulativeData = ordersAggregated.merge(\n",
    "    visitorsAggregated, left_on=['dt', 'group'], right_on=['dt', 'group']\n",
    ")\n",
    "cumulativeData.columns = [\n",
    "    'date',\n",
    "    'group',\n",
    "    'purchases',\n",
    "    'buyers',\n",
    "    'revenue',\n",
    "    'visitors',\n",
    "]\n",
    "\n",
    "# датафреймы с кумулятивным количеством покупок и кумулятивной выручкой по дням в группе А и В\n",
    "cumulativeRevenueA = cumulativeData[cumulativeData['group']=='A'][['date', 'revenue', 'purchases']]\n",
    "cumulativeRevenueB = cumulativeData[cumulativeData['group']=='B'][['date', 'revenue', 'purchases']]"
   ]
  },
  {
   "cell_type": "code",
   "execution_count": 146,
   "id": "86b6e259",
   "metadata": {},
   "outputs": [
    {
     "data": {
      "text/html": [
       "<div>\n",
       "<style scoped>\n",
       "    .dataframe tbody tr th:only-of-type {\n",
       "        vertical-align: middle;\n",
       "    }\n",
       "\n",
       "    .dataframe tbody tr th {\n",
       "        vertical-align: top;\n",
       "    }\n",
       "\n",
       "    .dataframe thead th {\n",
       "        text-align: right;\n",
       "    }\n",
       "</style>\n",
       "<table border=\"1\" class=\"dataframe\">\n",
       "  <thead>\n",
       "    <tr style=\"text-align: right;\">\n",
       "      <th></th>\n",
       "      <th>date</th>\n",
       "      <th>group</th>\n",
       "      <th>purchases</th>\n",
       "      <th>buyers</th>\n",
       "      <th>revenue</th>\n",
       "      <th>visitors</th>\n",
       "    </tr>\n",
       "  </thead>\n",
       "  <tbody>\n",
       "    <tr>\n",
       "      <th>0</th>\n",
       "      <td>2020-12-07</td>\n",
       "      <td>A</td>\n",
       "      <td>42</td>\n",
       "      <td>43</td>\n",
       "      <td>1104.57</td>\n",
       "      <td>148</td>\n",
       "    </tr>\n",
       "    <tr>\n",
       "      <th>1</th>\n",
       "      <td>2020-12-07</td>\n",
       "      <td>B</td>\n",
       "      <td>47</td>\n",
       "      <td>47</td>\n",
       "      <td>639.53</td>\n",
       "      <td>119</td>\n",
       "    </tr>\n",
       "    <tr>\n",
       "      <th>2</th>\n",
       "      <td>2020-12-08</td>\n",
       "      <td>A</td>\n",
       "      <td>75</td>\n",
       "      <td>65</td>\n",
       "      <td>1859.24</td>\n",
       "      <td>295</td>\n",
       "    </tr>\n",
       "    <tr>\n",
       "      <th>3</th>\n",
       "      <td>2020-12-08</td>\n",
       "      <td>B</td>\n",
       "      <td>71</td>\n",
       "      <td>52</td>\n",
       "      <td>974.29</td>\n",
       "      <td>201</td>\n",
       "    </tr>\n",
       "    <tr>\n",
       "      <th>4</th>\n",
       "      <td>2020-12-09</td>\n",
       "      <td>A</td>\n",
       "      <td>122</td>\n",
       "      <td>88</td>\n",
       "      <td>2618.77</td>\n",
       "      <td>466</td>\n",
       "    </tr>\n",
       "  </tbody>\n",
       "</table>\n",
       "</div>"
      ],
      "text/plain": [
       "         date group  purchases  buyers  revenue  visitors\n",
       "0  2020-12-07     A         42      43  1104.57       148\n",
       "1  2020-12-07     B         47      47   639.53       119\n",
       "2  2020-12-08     A         75      65  1859.24       295\n",
       "3  2020-12-08     B         71      52   974.29       201\n",
       "4  2020-12-09     A        122      88  2618.77       466"
      ]
     },
     "execution_count": 146,
     "metadata": {},
     "output_type": "execute_result"
    }
   ],
   "source": [
    "# проверка полученного датасета с кумулятивными данными\n",
    "cumulativeData.head()"
   ]
  },
  {
   "cell_type": "code",
   "execution_count": 147,
   "id": "b3f09d38",
   "metadata": {},
   "outputs": [
    {
     "data": {
      "image/png": "[encoded data removed]",
      "text/plain": [
       "<Figure size 1008x432 with 1 Axes>"
      ]
     },
     "metadata": {
      "needs_background": "light"
     },
     "output_type": "display_data"
    }
   ],
   "source": [
    "# график кумулятивной выручки по группам\n",
    "plt.figure(figsize=(14, 6))\n",
    "plt.plot(cumulativeRevenueA['date'], cumulativeRevenueA['revenue'], label='A')\n",
    "plt.plot(cumulativeRevenueB['date'], cumulativeRevenueB['revenue'], label='B')\n",
    "plt.legend()\n",
    "plt.title('Кумулятивная выручка')\n",
    "plt.xlabel('Дата')\n",
    "plt.ylabel('Выручка')\n",
    "plt.show()"
   ]
  },
  {
   "cell_type": "markdown",
   "id": "545790cc",
   "metadata": {},
   "source": [
    "Из графика видно, что до 13 числа выручка в группе А была выше, но ненамного чем в группе В. После 13 числа, за счет добавления большого количества пользователей в группу А и не добавления в группу В, пошел резкий рост выручки в группе А.<br>\n",
    "Итоговая разница - вырчука группы А примерно в 5 раз выше выручки в группе В."
   ]
  },
  {
   "cell_type": "code",
   "execution_count": 148,
   "id": "2fbda63c",
   "metadata": {},
   "outputs": [
    {
     "data": {
      "image/png": "[encoded data removed]",
      "text/plain": [
       "<Figure size 1008x432 with 1 Axes>"
      ]
     },
     "metadata": {
      "needs_background": "light"
     },
     "output_type": "display_data"
    }
   ],
   "source": [
    "# график кумулятивного среднего чека по группам\n",
    "\n",
    "plt.figure(figsize=(14, 6))\n",
    "plt.plot(cumulativeRevenueA['date'], cumulativeRevenueA['revenue']/cumulativeRevenueA['purchases'], label='A')\n",
    "plt.plot(cumulativeRevenueB['date'], cumulativeRevenueB['revenue']/cumulativeRevenueB['purchases'], label='B')\n",
    "plt.legend()\n",
    "plt.title('Кумулятивный средний чек')\n",
    "plt.xlabel('Дата')\n",
    "plt.ylabel('Стоимость заказа')\n",
    "plt.show()"
   ]
  },
  {
   "cell_type": "markdown",
   "id": "be91537e",
   "metadata": {},
   "source": [
    "На графике среднего чека совсем другая картина:\n",
    "- Для группы А средний чек за первые дни теста снизился с 26 до 22 долларов, а потом держался на одном уровне до конца теста.\n",
    "- Для группы В средний чек вырос с 14 до 21-22 долларов за время теста и пока не остановился на этой величине. То есть практически сравнялся с группой А.\n"
   ]
  },
  {
   "cell_type": "code",
   "execution_count": 149,
   "id": "7246f1bf",
   "metadata": {},
   "outputs": [
    {
     "data": {
      "image/png": "[encoded data removed]",
      "text/plain": [
       "<Figure size 1008x432 with 1 Axes>"
      ]
     },
     "metadata": {
      "needs_background": "light"
     },
     "output_type": "display_data"
    }
   ],
   "source": [
    "# график относительного изменения кумулятивного среднего чека группы B к группе A\n",
    "\n",
    "# собираем данные в одном датафрейме\n",
    "mergedCumulativeRevenue = cumulativeRevenueA.merge(\n",
    "    cumulativeRevenueB, left_on='date', right_on='date', how='left', suffixes=['A', 'B']\n",
    ")\n",
    "\n",
    "# cтроим отношение средних чеков\n",
    "plt.figure(figsize=(14, 6))\n",
    "plt.plot(\n",
    "    mergedCumulativeRevenue['date'], \n",
    "    (mergedCumulativeRevenue['revenueB']/mergedCumulativeRevenue['purchasesB'])/\n",
    "    (mergedCumulativeRevenue['revenueA']/mergedCumulativeRevenue['purchasesA'])-1\n",
    ")\n",
    "\n",
    "# добавляем ось X\n",
    "plt.axhline(y=0, color='black', linestyle='--')\n",
    "plt.title('Относительное изменение кумулятивного среднего чека группы B к группе A')\n",
    "plt.xlabel('Дата')\n",
    "plt.ylabel('Относительное изменение')\n",
    "plt.show()"
   ]
  },
  {
   "cell_type": "markdown",
   "id": "e487a0b9",
   "metadata": {},
   "source": [
    "По графику видно, как растет средний чек группы В"
   ]
  },
  {
   "cell_type": "code",
   "execution_count": 150,
   "id": "30db914e",
   "metadata": {},
   "outputs": [],
   "source": [
    "# кумулятивная конверсия в покукпку по группам\n",
    "\n",
    "# считаем кумулятивную конверсию\n",
    "cumulativeData['conversion'] = cumulativeData['purchases']/cumulativeData['visitors']\n",
    "\n",
    "# отделяем данные по группе A\n",
    "cumulativeDataA = cumulativeData[cumulativeData['group']=='A']\n",
    "\n",
    "# отделяем данные по группе B\n",
    "cumulativeDataB = cumulativeData[cumulativeData['group']=='B']"
   ]
  },
  {
   "cell_type": "code",
   "execution_count": 151,
   "id": "ed2a24f5",
   "metadata": {},
   "outputs": [
    {
     "data": {
      "image/png": "[encoded data removed]",
      "text/plain": [
       "<Figure size 1008x432 with 1 Axes>"
      ]
     },
     "metadata": {
      "needs_background": "light"
     },
     "output_type": "display_data"
    }
   ],
   "source": [
    "# графики кумулятивной конверсии в покупку по группам\n",
    "\n",
    "plt.figure(figsize=(14, 6))\n",
    "plt.plot(cumulativeDataA['date'], cumulativeDataA['conversion'], label='A')\n",
    "plt.plot(cumulativeDataB['date'], cumulativeDataB['conversion'], label='B')\n",
    "plt.legend()\n",
    "plt.title('Кумулятивная конверсия в покупку')\n",
    "plt.xlabel('Дата')\n",
    "plt.ylabel('Конверсия')\n",
    "plt.show()"
   ]
  },
  {
   "cell_type": "markdown",
   "id": "c01f6568",
   "metadata": {},
   "source": [
    "- Конверсия для группы В изначально была очень сильно выше группы А, но со временем она упала до 0.28 и зафиксировалась в районе этой величины.\n",
    "- Конверсия для группы А после 13 числа начала расти и дошла до 0.30.\n",
    "- Конверсия группы В стала хуже чем у группы А после 15 числа.\n",
    "- Опять же видим влияние резкого увеличения числа пользователей для группы А"
   ]
  },
  {
   "cell_type": "code",
   "execution_count": 152,
   "id": "f5cbc490",
   "metadata": {},
   "outputs": [
    {
     "data": {
      "image/png": "[encoded data removed]",
      "text/plain": [
       "<Figure size 1008x432 with 1 Axes>"
      ]
     },
     "metadata": {
      "needs_background": "light"
     },
     "output_type": "display_data"
    }
   ],
   "source": [
    "# график относительного изменения кумулятивной конверсии в покупку группы B к группе A\n",
    "\n",
    "mergedCumulativeConversions = cumulativeDataA[['date','conversion']].merge(cumulativeDataB[['date','conversion']], left_on='date', right_on='date', how='left', suffixes=['A', 'B'])\n",
    "\n",
    "plt.figure(figsize=(14, 6))\n",
    "plt.plot(\n",
    "    mergedCumulativeConversions['date'], \n",
    "    mergedCumulativeConversions['conversionB']/mergedCumulativeConversions['conversionA']-1, \n",
    "    label=\"Относительный прирост конверсии группы B относительно группы A\"\n",
    ")\n",
    "plt.legend()\n",
    "\n",
    "plt.axhline(y=0, color='black', linestyle='--')\n",
    "plt.title('Относительное изменение кумулятивной конверсии в покупку группы B к группе A')\n",
    "plt.xlabel('Дата')\n",
    "plt.ylabel('Относительное изменение')\n",
    "plt.show()"
   ]
  },
  {
   "cell_type": "markdown",
   "id": "3d1ceb03",
   "metadata": {},
   "source": [
    "Как видим из графика в начале теста конверсия была лучше у группы В, но она постоянно падала. После 15 числа она стала хежу конверсии В и остановился на определенном уровне начиная с 20 числа.\n",
    "\n",
    "По этим данным тест можно заканчивать и признать его неудачным, так как группа А предпочтительней. Но теперь нужно проанализировать данные на выбросы, возможно картина измениться."
   ]
  },
  {
   "cell_type": "markdown",
   "id": "2a55eeee",
   "metadata": {},
   "source": [
    "### Проверка статистической разницы"
   ]
  },
  {
   "cell_type": "markdown",
   "id": "c54fee01",
   "metadata": {},
   "source": [
    "Чтобы определить, находят ли статистические критерии разницу между группами A и B, проверим гипотезы на равенство долей пользователей совершивших событие.\n",
    "\n",
    "Напишем для этого функцию для проверки равенства долей событий между группами.<br>\n",
    "\n",
    "Также с помощью онлайн-калькулятора вычислим показатель мощности событий. То есть вероятность насколько мы уверены в том, что приняли нулевую гипотезу, когда на самом деле верна альтернативная гипотеза."
   ]
  },
  {
   "cell_type": "code",
   "execution_count": 153,
   "id": "e2fdaaff",
   "metadata": {},
   "outputs": [
    {
     "data": {
      "text/html": [
       "<div>\n",
       "<style scoped>\n",
       "    .dataframe tbody tr th:only-of-type {\n",
       "        vertical-align: middle;\n",
       "    }\n",
       "\n",
       "    .dataframe tbody tr th {\n",
       "        vertical-align: top;\n",
       "    }\n",
       "\n",
       "    .dataframe thead th {\n",
       "        text-align: right;\n",
       "    }\n",
       "</style>\n",
       "<table border=\"1\" class=\"dataframe\">\n",
       "  <thead>\n",
       "    <tr style=\"text-align: right;\">\n",
       "      <th></th>\n",
       "      <th></th>\n",
       "      <th>user_id</th>\n",
       "    </tr>\n",
       "    <tr>\n",
       "      <th>group</th>\n",
       "      <th>event_name</th>\n",
       "      <th></th>\n",
       "    </tr>\n",
       "  </thead>\n",
       "  <tbody>\n",
       "    <tr>\n",
       "      <th rowspan=\"4\" valign=\"top\">A</th>\n",
       "      <th>login</th>\n",
       "      <td>2604</td>\n",
       "    </tr>\n",
       "    <tr>\n",
       "      <th>product_page</th>\n",
       "      <td>1685</td>\n",
       "    </tr>\n",
       "    <tr>\n",
       "      <th>purchase</th>\n",
       "      <td>833</td>\n",
       "    </tr>\n",
       "    <tr>\n",
       "      <th>product_cart</th>\n",
       "      <td>782</td>\n",
       "    </tr>\n",
       "    <tr>\n",
       "      <th rowspan=\"4\" valign=\"top\">B</th>\n",
       "      <th>login</th>\n",
       "      <td>654</td>\n",
       "    </tr>\n",
       "    <tr>\n",
       "      <th>product_page</th>\n",
       "      <td>367</td>\n",
       "    </tr>\n",
       "    <tr>\n",
       "      <th>purchase</th>\n",
       "      <td>191</td>\n",
       "    </tr>\n",
       "    <tr>\n",
       "      <th>product_cart</th>\n",
       "      <td>184</td>\n",
       "    </tr>\n",
       "  </tbody>\n",
       "</table>\n",
       "</div>"
      ],
      "text/plain": [
       "                    user_id\n",
       "group event_name           \n",
       "A     login            2604\n",
       "      product_page     1685\n",
       "      purchase          833\n",
       "      product_cart      782\n",
       "B     login             654\n",
       "      product_page      367\n",
       "      purchase          191\n",
       "      product_cart      184"
      ]
     },
     "execution_count": 153,
     "metadata": {},
     "output_type": "execute_result"
    }
   ],
   "source": [
    "# определим количество пользователей совершивших события для каждой группы\n",
    "user_count_event = (\n",
    "    final_df.groupby(['group','event_name'])\n",
    "    .agg({'user_id':'nunique'})\n",
    "    .sort_values(['group','user_id'], ascending=[True, False])\n",
    ")\n",
    "user_count_event"
   ]
  },
  {
   "cell_type": "code",
   "execution_count": 154,
   "id": "6c73d2f4",
   "metadata": {},
   "outputs": [
    {
     "data": {
      "text/html": [
       "<div>\n",
       "<style scoped>\n",
       "    .dataframe tbody tr th:only-of-type {\n",
       "        vertical-align: middle;\n",
       "    }\n",
       "\n",
       "    .dataframe tbody tr th {\n",
       "        vertical-align: top;\n",
       "    }\n",
       "\n",
       "    .dataframe thead th {\n",
       "        text-align: right;\n",
       "    }\n",
       "</style>\n",
       "<table border=\"1\" class=\"dataframe\">\n",
       "  <thead>\n",
       "    <tr style=\"text-align: right;\">\n",
       "      <th></th>\n",
       "      <th>user_id</th>\n",
       "    </tr>\n",
       "    <tr>\n",
       "      <th>group</th>\n",
       "      <th></th>\n",
       "    </tr>\n",
       "  </thead>\n",
       "  <tbody>\n",
       "    <tr>\n",
       "      <th>A</th>\n",
       "      <td>2604</td>\n",
       "    </tr>\n",
       "    <tr>\n",
       "      <th>B</th>\n",
       "      <td>655</td>\n",
       "    </tr>\n",
       "  </tbody>\n",
       "</table>\n",
       "</div>"
      ],
      "text/plain": [
       "       user_id\n",
       "group         \n",
       "A         2604\n",
       "B          655"
      ]
     },
     "execution_count": 154,
     "metadata": {},
     "output_type": "execute_result"
    }
   ],
   "source": [
    "# количество уникальных пользователей в разных группам A/B теста\n",
    "user_count = final_df.groupby('group').agg({'user_id':'nunique'})\n",
    "user_count"
   ]
  },
  {
   "cell_type": "code",
   "execution_count": 155,
   "id": "becf73eb",
   "metadata": {},
   "outputs": [],
   "source": [
    "# функция для проверки равенста долей событий, будет ли отличие между контрольными группами статистически достоверным\n",
    "def event_equals(successes_value1, successes_value2, trials_value1, trials_value2, alpha):\n",
    "    alpha = alpha # критический уровень статистической значимости\n",
    "\n",
    "    successes = np.array([successes_value1, successes_value2])\n",
    "    trials = np.array([trials_value1, trials_value2])\n",
    "\n",
    "    # пропорция успехов в первой группе:\n",
    "    p1 = successes[0]/trials[0]\n",
    "\n",
    "    # пропорция успехов во второй группе:\n",
    "    p2 = successes[1]/trials[1]\n",
    "\n",
    "    # пропорция успехов в комбинированном датасете:\n",
    "    p_combined = (successes[0] + successes[1]) / (trials[0] + trials[1])\n",
    "\n",
    "    # разница пропорций в датасетах\n",
    "    difference = p1 - p2 \n",
    "\n",
    "    # считаем статистику в ст.отклонениях стандартного нормального распределения\n",
    "    z_value = difference / mth.sqrt(p_combined * (1 - p_combined) * (1/trials[0] + 1/trials[1]))\n",
    "\n",
    "    # задаем стандартное нормальное распределение (среднее 0, ст.отклонение 1)\n",
    "    distr = st.norm(0, 1)  \n",
    "\n",
    "    # считаем статистику в ст.отклонениях стандартного нормального распределения\n",
    "    z_value = difference / mth.sqrt(\n",
    "        p_combined * (1 - p_combined) * (1 / trials[0] + 1 / trials[1])\n",
    "    )\n",
    "\n",
    "    # задаем стандартное нормальное распределение (среднее 0, ст.отклонение 1)\n",
    "    distr = st.norm(0, 1)\n",
    "\n",
    "    p_value = (1 - distr.cdf(abs(z_value))) * 2\n",
    "\n",
    "    print('p-значение: ', p_value)\n",
    "\n",
    "    if p_value < alpha:\n",
    "        return print('Отвергаем нулевую гипотезу: между долями есть значимая разница')\n",
    "    else:\n",
    "        return print(\n",
    "            'Не получилось отвергнуть нулевую гипотезу, нет оснований считать доли разными'\n",
    "        ) "
   ]
  },
  {
   "cell_type": "markdown",
   "id": "4f242355",
   "metadata": {},
   "source": [
    "Сформулируем гипотезы\n",
    "\n",
    "- H0: между долями пользователей для события из разных групп нет значимой разницы.\n",
    "- H1: между долями пользователей для события из разных групп есть значимая разница.\n",
    "\n",
    "Уровень значимости установим в 0.05."
   ]
  },
  {
   "cell_type": "code",
   "execution_count": 156,
   "id": "30113143",
   "metadata": {},
   "outputs": [
    {
     "name": "stdout",
     "output_type": "stream",
     "text": [
      "p-значение:  [3.94054107e-05]\n",
      "Отвергаем нулевую гипотезу: между долями есть значимая разница\n"
     ]
    }
   ],
   "source": [
    "# вызов функции для проверки гипотезы равенства долей для события product_page\n",
    "event_equals(user_count_event.loc[('A','product_page')], \n",
    "             user_count_event.loc[('B','product_page')], \n",
    "             user_count.loc[('A')], \n",
    "             user_count.loc[('B')],\n",
    "            .05)"
   ]
  },
  {
   "cell_type": "code",
   "execution_count": 157,
   "id": "8d4cb0f8",
   "metadata": {},
   "outputs": [
    {
     "name": "stdout",
     "output_type": "stream",
     "text": [
      "p-значение:  [0.16326348]\n",
      "Не получилось отвергнуть нулевую гипотезу, нет оснований считать доли разными\n"
     ]
    }
   ],
   "source": [
    "# вызов функции для проверки гипотезы равенства долей для события purchase\n",
    "event_equals(user_count_event.loc[('A','purchase')], \n",
    "             user_count_event.loc[('B','purchase')], \n",
    "             user_count.loc[('A')], \n",
    "             user_count.loc[('B')],\n",
    "            .05)"
   ]
  },
  {
   "cell_type": "markdown",
   "id": "737f5f76",
   "metadata": {},
   "source": []
  },
  {
   "cell_type": "markdown",
   "id": "933d96e7",
   "metadata": {},
   "source": [
    "Мощность равна 22% - это означает, что есть очень большая вероятность(78%), что различие между группами на самом деле есть. Просто будем это учитывать."
   ]
  },
  {
   "cell_type": "code",
   "execution_count": 158,
   "id": "6a07975e",
   "metadata": {},
   "outputs": [
    {
     "name": "stdout",
     "output_type": "stream",
     "text": [
      "p-значение:  [0.33135016]\n",
      "Не получилось отвергнуть нулевую гипотезу, нет оснований считать доли разными\n"
     ]
    }
   ],
   "source": [
    "# вызов функции для проверки гипотезы равенства долей для события product_cart\n",
    "event_equals(user_count_event.loc[('A','product_cart')], \n",
    "             user_count_event.loc[('B','product_cart')], \n",
    "             user_count.loc[('A')], \n",
    "             user_count.loc[('B')],\n",
    "            .05)"
   ]
  },
  {
   "cell_type": "markdown",
   "id": "d28bade9",
   "metadata": {},
   "source": [
    "Мощность равна 4% - шансы ошибиться стремятся к 100%"
   ]
  },
  {
   "cell_type": "markdown",
   "id": "2660c8ea",
   "metadata": {},
   "source": [
    "Вывод:\n",
    "- для событий `purchase` и `product_cart` нет значимой разницы в количестве пользователей между группами теста, но мощность 22% и 4% соотевтственно, что категорически мало"
   ]
  },
  {
   "cell_type": "markdown",
   "id": "7ca6a37e",
   "metadata": {},
   "source": [
    "## Выводы"
   ]
  },
  {
   "cell_type": "markdown",
   "id": "ee6764d4",
   "metadata": {},
   "source": [
    "**Основные выводы**"
   ]
  },
  {
   "cell_type": "markdown",
   "id": "19fda83f",
   "metadata": {},
   "source": [
    "- По ряду пунктов данные не соответствуют ТЗ, а именно:\n",
    "    - количество участников теста отличается о того, что заявлено в ТЗ, вместо 6000 имеются 3200. Это произошло потому, что есть 3000 пользователей зарегестрировавшихся, но не совершавших никаких действий.\n",
    "    - тест прекратился раньше установленной даты 30 декабря вместо 4 января\n",
    "    - пользователи за 14 дней с момента регистрации не показали улучшение конверсий в события на 10%, наоборот наблюдается ухудшение эти показателей\n",
    "- Участников в группе В сильно меньше чем в группе А, 2600 против 650. Такой перекос произошел в том числе, из-за того что после 13 декабря в группе А перестали присоединяться пользователи, которые не совершали действий. В итоге из 6400 зарегестрировавшихся участников, 3000 не совершали действия и из этих 3000 к группе В принадлежат 1800 человек.\n",
    "- Кумулятивный средний чек для группы В увеличивался день ко дню. Кумулятивная конверсия у группы В хуже чем у группы А, эти результаты можно признать правдивыми, так как между долями конверсии в покупку нет значимой разницы для разных групп теста.\n",
    "- Результаты по вычислению конверсии в другие события следующие:\n",
    "    - для события `product_page` между долями есть значимая разница, результаты нельзя принимать во внимание\n",
    "    - для события `product_cart` между долями нет значимой разницы, результаты конверсии можно считать достоверными"
   ]
  },
  {
   "cell_type": "markdown",
   "id": "9f4574d5",
   "metadata": {},
   "source": [
    "**Главный вывод** - результаты статистической проверки позволяют нам сказать, что новая рекомендательная система не показала должных изменений и следует признать тест неудачным. Но нужно учитывать мощность статистического теста, что вероятность ошибиться из-за количества пользователей, крайне велика."
   ]
  }
 ],
 "metadata": {
  "ExecuteTimeLog": [
   {
    "duration": 2694,
    "start_time": "2022-08-26T05:47:31.595Z"
   },
   {
    "duration": 1655,
    "start_time": "2022-08-26T05:47:34.291Z"
   },
   {
    "duration": 83,
    "start_time": "2022-08-26T05:47:35.949Z"
   },
   {
    "duration": 38,
    "start_time": "2022-08-26T05:47:36.034Z"
   },
   {
    "duration": 81,
    "start_time": "2022-08-26T05:47:36.074Z"
   },
   {
    "duration": 147,
    "start_time": "2022-08-26T05:47:36.157Z"
   },
   {
    "duration": 201,
    "start_time": "2022-08-26T05:47:36.309Z"
   },
   {
    "duration": 6,
    "start_time": "2022-08-26T05:47:36.511Z"
   },
   {
    "duration": 18,
    "start_time": "2022-08-26T05:47:36.518Z"
   },
   {
    "duration": 38,
    "start_time": "2022-08-26T05:47:36.539Z"
   },
   {
    "duration": 31,
    "start_time": "2022-08-26T05:47:36.579Z"
   },
   {
    "duration": 11,
    "start_time": "2022-08-26T05:47:36.612Z"
   },
   {
    "duration": 7,
    "start_time": "2022-08-26T05:47:36.624Z"
   },
   {
    "duration": 6,
    "start_time": "2022-08-26T05:47:36.633Z"
   },
   {
    "duration": 13,
    "start_time": "2022-08-26T05:47:36.641Z"
   },
   {
    "duration": 11,
    "start_time": "2022-08-26T05:47:36.656Z"
   },
   {
    "duration": 46,
    "start_time": "2022-08-26T05:47:36.668Z"
   },
   {
    "duration": 43,
    "start_time": "2022-08-26T05:47:36.716Z"
   },
   {
    "duration": 55,
    "start_time": "2022-08-26T05:47:36.761Z"
   },
   {
    "duration": 5,
    "start_time": "2022-08-26T05:47:36.818Z"
   },
   {
    "duration": 11,
    "start_time": "2022-08-26T05:47:36.825Z"
   },
   {
    "duration": 19,
    "start_time": "2022-08-26T05:47:36.838Z"
   },
   {
    "duration": 6,
    "start_time": "2022-08-26T05:47:36.859Z"
   },
   {
    "duration": 150,
    "start_time": "2022-08-26T05:47:36.867Z"
   },
   {
    "duration": 9,
    "start_time": "2022-08-26T05:47:37.019Z"
   },
   {
    "duration": 53,
    "start_time": "2022-08-26T05:47:37.030Z"
   },
   {
    "duration": 35,
    "start_time": "2022-08-26T05:47:37.085Z"
   },
   {
    "duration": 19,
    "start_time": "2022-08-26T05:47:37.125Z"
   },
   {
    "duration": 447,
    "start_time": "2022-08-26T05:47:37.146Z"
   },
   {
    "duration": 393,
    "start_time": "2022-08-26T05:47:37.595Z"
   },
   {
    "duration": 362,
    "start_time": "2022-08-26T05:47:37.990Z"
   },
   {
    "duration": 9,
    "start_time": "2022-08-26T05:47:38.354Z"
   },
   {
    "duration": 15,
    "start_time": "2022-08-26T05:47:38.365Z"
   },
   {
    "duration": 50,
    "start_time": "2022-08-26T05:47:38.382Z"
   },
   {
    "duration": 19,
    "start_time": "2022-08-26T05:47:38.434Z"
   },
   {
    "duration": 5,
    "start_time": "2022-08-26T05:47:38.455Z"
   },
   {
    "duration": 23,
    "start_time": "2022-08-26T05:47:38.461Z"
   },
   {
    "duration": 11,
    "start_time": "2022-08-26T05:47:38.509Z"
   },
   {
    "duration": 37,
    "start_time": "2022-08-26T05:47:38.521Z"
   },
   {
    "duration": 16,
    "start_time": "2022-08-26T05:47:38.560Z"
   },
   {
    "duration": 7,
    "start_time": "2022-08-26T05:47:38.577Z"
   },
   {
    "duration": 32,
    "start_time": "2022-08-26T05:47:38.585Z"
   },
   {
    "duration": 23,
    "start_time": "2022-08-26T05:47:38.619Z"
   },
   {
    "duration": 21,
    "start_time": "2022-08-26T05:47:38.644Z"
   },
   {
    "duration": 42,
    "start_time": "2022-08-26T05:47:38.667Z"
   },
   {
    "duration": 15,
    "start_time": "2022-08-26T05:47:38.710Z"
   },
   {
    "duration": 27,
    "start_time": "2022-08-26T05:47:38.727Z"
   },
   {
    "duration": 642,
    "start_time": "2022-08-26T05:47:38.756Z"
   },
   {
    "duration": 28,
    "start_time": "2022-08-26T05:47:39.399Z"
   },
   {
    "duration": 627,
    "start_time": "2022-08-26T05:47:39.429Z"
   },
   {
    "duration": 155,
    "start_time": "2022-08-26T05:47:40.058Z"
   },
   {
    "duration": 28,
    "start_time": "2022-08-26T05:47:40.214Z"
   },
   {
    "duration": 19,
    "start_time": "2022-08-26T05:47:40.244Z"
   },
   {
    "duration": 52,
    "start_time": "2022-08-26T05:47:40.265Z"
   },
   {
    "duration": 722,
    "start_time": "2022-08-26T05:47:40.319Z"
   },
   {
    "duration": 360,
    "start_time": "2022-08-26T05:47:41.043Z"
   },
   {
    "duration": 17,
    "start_time": "2022-08-26T05:47:41.405Z"
   },
   {
    "duration": 34,
    "start_time": "2022-08-26T05:47:41.424Z"
   },
   {
    "duration": 260,
    "start_time": "2022-08-26T05:47:41.460Z"
   },
   {
    "duration": 12,
    "start_time": "2022-08-26T05:47:41.723Z"
   },
   {
    "duration": 17,
    "start_time": "2022-08-26T05:47:41.737Z"
   },
   {
    "duration": 207,
    "start_time": "2022-08-26T05:47:41.756Z"
   },
   {
    "duration": 201,
    "start_time": "2022-08-26T05:47:41.965Z"
   },
   {
    "duration": 294,
    "start_time": "2022-08-26T05:47:42.167Z"
   },
   {
    "duration": 6,
    "start_time": "2022-08-26T05:47:42.463Z"
   },
   {
    "duration": 204,
    "start_time": "2022-08-26T05:47:42.470Z"
   },
   {
    "duration": 338,
    "start_time": "2022-08-26T05:47:42.675Z"
   },
   {
    "duration": 18,
    "start_time": "2022-08-26T05:47:43.015Z"
   },
   {
    "duration": 12,
    "start_time": "2022-08-26T05:47:43.035Z"
   },
   {
    "duration": 6,
    "start_time": "2022-08-26T05:47:43.049Z"
   },
   {
    "duration": 17,
    "start_time": "2022-08-26T05:47:43.057Z"
   },
   {
    "duration": 34,
    "start_time": "2022-08-26T05:47:43.075Z"
   },
   {
    "duration": 13,
    "start_time": "2022-08-26T05:47:43.111Z"
   },
   {
    "duration": 1716,
    "start_time": "2022-08-26T08:29:25.461Z"
   },
   {
    "duration": 1837,
    "start_time": "2022-08-26T08:29:27.179Z"
   },
   {
    "duration": 55,
    "start_time": "2022-08-26T08:29:29.018Z"
   },
   {
    "duration": 38,
    "start_time": "2022-08-26T08:29:29.075Z"
   },
   {
    "duration": 58,
    "start_time": "2022-08-26T08:29:29.114Z"
   },
   {
    "duration": 138,
    "start_time": "2022-08-26T08:29:29.174Z"
   },
   {
    "duration": 213,
    "start_time": "2022-08-26T08:29:29.314Z"
   },
   {
    "duration": 5,
    "start_time": "2022-08-26T08:29:29.529Z"
   },
   {
    "duration": 16,
    "start_time": "2022-08-26T08:29:29.535Z"
   },
   {
    "duration": 33,
    "start_time": "2022-08-26T08:29:29.553Z"
   },
   {
    "duration": 8,
    "start_time": "2022-08-26T08:29:29.588Z"
   },
   {
    "duration": 7,
    "start_time": "2022-08-26T08:29:29.605Z"
   },
   {
    "duration": 7,
    "start_time": "2022-08-26T08:29:29.614Z"
   },
   {
    "duration": 5,
    "start_time": "2022-08-26T08:29:29.623Z"
   },
   {
    "duration": 12,
    "start_time": "2022-08-26T08:29:29.629Z"
   },
   {
    "duration": 22,
    "start_time": "2022-08-26T08:29:29.642Z"
   },
   {
    "duration": 8,
    "start_time": "2022-08-26T08:29:29.666Z"
   },
   {
    "duration": 37,
    "start_time": "2022-08-26T08:29:29.676Z"
   },
   {
    "duration": 46,
    "start_time": "2022-08-26T08:29:29.715Z"
   },
   {
    "duration": 46,
    "start_time": "2022-08-26T08:29:29.763Z"
   },
   {
    "duration": 9,
    "start_time": "2022-08-26T08:29:29.810Z"
   },
   {
    "duration": 16,
    "start_time": "2022-08-26T08:29:29.821Z"
   },
   {
    "duration": 4,
    "start_time": "2022-08-26T08:29:29.839Z"
   },
   {
    "duration": 218,
    "start_time": "2022-08-26T08:29:29.844Z"
   },
   {
    "duration": 8,
    "start_time": "2022-08-26T08:29:30.064Z"
   },
   {
    "duration": 56,
    "start_time": "2022-08-26T08:29:30.073Z"
   },
   {
    "duration": 14,
    "start_time": "2022-08-26T08:29:30.130Z"
   },
   {
    "duration": 42,
    "start_time": "2022-08-26T08:29:30.146Z"
   },
   {
    "duration": 523,
    "start_time": "2022-08-26T08:29:30.189Z"
   },
   {
    "duration": 402,
    "start_time": "2022-08-26T08:29:30.714Z"
   },
   {
    "duration": 319,
    "start_time": "2022-08-26T08:29:31.118Z"
   },
   {
    "duration": 10,
    "start_time": "2022-08-26T08:29:31.439Z"
   },
   {
    "duration": 20,
    "start_time": "2022-08-26T08:29:31.450Z"
   },
   {
    "duration": 11,
    "start_time": "2022-08-26T08:29:55.496Z"
   },
   {
    "duration": 19,
    "start_time": "2022-08-26T08:30:23.482Z"
   },
   {
    "duration": 105,
    "start_time": "2022-08-26T08:31:57.546Z"
   },
   {
    "duration": 18,
    "start_time": "2022-08-26T08:33:20.747Z"
   },
   {
    "duration": 558,
    "start_time": "2022-08-26T08:33:37.630Z"
   },
   {
    "duration": 512,
    "start_time": "2022-08-26T08:36:38.463Z"
   }
  ],
  "kernelspec": {
   "display_name": "Python 3 (ipykernel)",
   "language": "python",
   "name": "python3"
  },
  "language_info": {
   "codemirror_mode": {
    "name": "ipython",
    "version": 3
   },
   "file_extension": ".py",
   "mimetype": "text/x-python",
   "name": "python",
   "nbconvert_exporter": "python",
   "pygments_lexer": "ipython3",
   "version": "3.9.7"
  },
  "toc": {
   "base_numbering": 1,
   "nav_menu": {},
   "number_sections": true,
   "sideBar": true,
   "skip_h1_title": true,
   "title_cell": "Table of Contents",
   "title_sidebar": "Contents",
   "toc_cell": true,
   "toc_position": {},
   "toc_section_display": true,
   "toc_window_display": false
  }
 },
 "nbformat": 4,
 "nbformat_minor": 5
}
